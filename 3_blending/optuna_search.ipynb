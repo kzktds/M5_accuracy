{
 "cells": [
  {
   "cell_type": "code",
   "execution_count": 23,
   "metadata": {},
   "outputs": [],
   "source": [
    "import pandas as pd\n",
    "from sklearn.linear_model import Ridge\n",
    "from scipy.sparse import csr_matrix\n",
    "import numpy as np\n",
    "import optuna"
   ]
  },
  {
   "cell_type": "code",
   "execution_count": 24,
   "metadata": {},
   "outputs": [],
   "source": [
    "SEED = 1\n",
    "TARGET = 'sales'\n",
    "\n",
    "BASE = '../data/preprocess/grid_part_1_update.pkl'\n",
    "DIRECT_RMSE = '../data/submit/Direct_rmse-20200628T030335Z-001/Direct_rmse/20200626_day_by_day_28model_rmse_'\n",
    "DIRECT_RMSE_ENSEMBLE = '../data/submit/Direct_rmse-20200628T030335Z-001/Direct_rmse/20200626_day_by_day_ensemble_28model_rmse_'\n",
    "DIRECT_WRMSSE = '../data/submit/Direct_wrmsse-20200628T030424Z-001/Direct_wrmsse/20200626_day_by_day_28model_wrmsse_'\n",
    "DIRECT_WRMSSE_ENSEMBLE = '../data/submit/Direct_wrmsse-20200628T030424Z-001/Direct_wrmsse/20200626_day_by_day_ensemble_28model_wrmsse_'\n",
    "DIRREC = '../data/submit/DirRec(多分ここだけF0から始まってるのに注意-20200628T042746Z-001\\DirRec(多分ここだけF0から始まってるのに注意/20200628_DirRec_'\n",
    "BASE_PRED = '../data/submit/Base/20200627_base_model_predict_rmse_'\n",
    "\n",
    "# WRMSSE計算用pklへのパス\n",
    "SW_DF    = '../data/master_data/sw_df_update.pkl'\n",
    "ROLL_MAT = '../data/master_data/roll_mat_df_update.pkl'\n",
    "EVALUATION   = '../data/raw/sales_train_evaluation.csv'\n",
    "CALENDAR_CSV = '../data/raw/calendar.csv'\n",
    "PRICE_CSV    = '../data/raw/sell_prices.csv'\n",
    "SAMPLE_CSV   = '../data/raw/sample_submission.csv'\n",
    "TRAIN_RANGE = [1858, 1941]\n",
    "VALID_RANGE = [1914, 1941]\n",
    "SPLIT_LIST = [[1858, 1885], [1886, 1913], [1914, 1941]]\n",
    "EVALUATE_RANGE = [1942, 1969]"
   ]
  },
  {
   "cell_type": "code",
   "execution_count": 25,
   "metadata": {},
   "outputs": [],
   "source": [
    "grid_df = pd.read_pickle(BASE)\n",
    "grid_df = grid_df[(grid_df['d'] >= SPLIT_LIST[0][0])]\n",
    "STORES_IDS = grid_df['store_id']\n",
    "STORES_IDS = list(STORES_IDS.unique())\n",
    "\n",
    "grid_df = grid_df[['id', 'd', 'sales']]"
   ]
  },
  {
   "cell_type": "code",
   "execution_count": 26,
   "metadata": {},
   "outputs": [
    {
     "name": "stdout",
     "output_type": "stream",
     "text": [
      "direct_rmse\n",
      "                              id     d  direct_rmse\n",
      "0  HOBBIES_1_001_CA_1_evaluation  1858     0.565942\n",
      "1  HOBBIES_1_002_CA_1_evaluation  1858     0.286879\n",
      "2  HOBBIES_1_003_CA_1_evaluation  1858     0.366413\n",
      "3  HOBBIES_1_004_CA_1_evaluation  1858     1.777381\n",
      "4  HOBBIES_1_005_CA_1_evaluation  1858     0.876924\n",
      "(853720, 3)\n",
      "                              id     d  direct_rmse\n",
      "0  HOBBIES_1_001_CA_1_evaluation  1886     1.002714\n",
      "1  HOBBIES_1_002_CA_1_evaluation  1886     0.269807\n",
      "2  HOBBIES_1_003_CA_1_evaluation  1886     0.474564\n",
      "3  HOBBIES_1_004_CA_1_evaluation  1886     1.843606\n",
      "4  HOBBIES_1_005_CA_1_evaluation  1886     0.931230\n",
      "(853720, 3)\n",
      "                              id     d  direct_rmse\n",
      "0  HOBBIES_1_001_CA_1_evaluation  1914     0.866332\n",
      "1  HOBBIES_1_002_CA_1_evaluation  1914     0.329256\n",
      "2  HOBBIES_1_003_CA_1_evaluation  1914     0.500765\n",
      "3  HOBBIES_1_004_CA_1_evaluation  1914     1.585723\n",
      "4  HOBBIES_1_005_CA_1_evaluation  1914     1.019994\n",
      "(853720, 3)\n",
      "shape:  (2561160, 3)\n",
      "direct_rmse_ensemble\n",
      "                              id     d  direct_rmse_ensemble\n",
      "0  HOBBIES_1_001_CA_1_evaluation  1858              0.708006\n",
      "1  HOBBIES_1_002_CA_1_evaluation  1858              0.292619\n",
      "2  HOBBIES_1_003_CA_1_evaluation  1858              0.444350\n",
      "3  HOBBIES_1_004_CA_1_evaluation  1858              1.729335\n",
      "4  HOBBIES_1_005_CA_1_evaluation  1858              0.975472\n",
      "(853720, 3)\n",
      "                              id     d  direct_rmse_ensemble\n",
      "0  HOBBIES_1_001_CA_1_evaluation  1886              0.823178\n",
      "1  HOBBIES_1_002_CA_1_evaluation  1886              0.270744\n",
      "2  HOBBIES_1_003_CA_1_evaluation  1886              0.490169\n",
      "3  HOBBIES_1_004_CA_1_evaluation  1886              1.734827\n",
      "4  HOBBIES_1_005_CA_1_evaluation  1886              1.052096\n",
      "(853720, 3)\n",
      "                              id     d  direct_rmse_ensemble\n",
      "0  HOBBIES_1_001_CA_1_evaluation  1914              0.787563\n",
      "1  HOBBIES_1_002_CA_1_evaluation  1914              0.264715\n",
      "2  HOBBIES_1_003_CA_1_evaluation  1914              0.447344\n",
      "3  HOBBIES_1_004_CA_1_evaluation  1914              1.700645\n",
      "4  HOBBIES_1_005_CA_1_evaluation  1914              1.068010\n",
      "(853720, 3)\n",
      "shape:  (2561160, 3)\n",
      "direct_wrmse\n",
      "                              id     d  direct_wrmse\n",
      "0  HOBBIES_1_001_CA_1_evaluation  1858      0.636699\n",
      "1  HOBBIES_1_002_CA_1_evaluation  1858      0.263533\n",
      "2  HOBBIES_1_003_CA_1_evaluation  1858      0.309666\n",
      "3  HOBBIES_1_004_CA_1_evaluation  1858      1.696449\n",
      "4  HOBBIES_1_005_CA_1_evaluation  1858      1.003239\n",
      "(853720, 3)\n",
      "                              id     d  direct_wrmse\n",
      "0  HOBBIES_1_001_CA_1_evaluation  1886      0.959809\n",
      "1  HOBBIES_1_002_CA_1_evaluation  1886      0.273592\n",
      "2  HOBBIES_1_003_CA_1_evaluation  1886      0.462094\n",
      "3  HOBBIES_1_004_CA_1_evaluation  1886      2.127271\n",
      "4  HOBBIES_1_005_CA_1_evaluation  1886      0.863190\n",
      "(853720, 3)\n",
      "                              id     d  direct_wrmse\n",
      "0  HOBBIES_1_001_CA_1_evaluation  1914      0.848737\n",
      "1  HOBBIES_1_002_CA_1_evaluation  1914      0.245628\n",
      "2  HOBBIES_1_003_CA_1_evaluation  1914      0.542227\n",
      "3  HOBBIES_1_004_CA_1_evaluation  1914      1.787474\n",
      "4  HOBBIES_1_005_CA_1_evaluation  1914      1.124157\n",
      "(853720, 3)\n",
      "shape:  (2561160, 3)\n",
      "direct_wrmse_ensemble\n",
      "                              id     d  direct_wrmse_ensemble\n",
      "0  HOBBIES_1_001_CA_1_evaluation  1858               0.713258\n",
      "1  HOBBIES_1_002_CA_1_evaluation  1858               0.278059\n",
      "2  HOBBIES_1_003_CA_1_evaluation  1858               0.446757\n",
      "3  HOBBIES_1_004_CA_1_evaluation  1858               1.767311\n",
      "4  HOBBIES_1_005_CA_1_evaluation  1858               1.004170\n",
      "(853720, 3)\n",
      "                              id     d  direct_wrmse_ensemble\n",
      "0  HOBBIES_1_001_CA_1_evaluation  1886               0.872779\n",
      "1  HOBBIES_1_002_CA_1_evaluation  1886               0.248699\n",
      "2  HOBBIES_1_003_CA_1_evaluation  1886               0.483838\n",
      "3  HOBBIES_1_004_CA_1_evaluation  1886               1.714347\n",
      "4  HOBBIES_1_005_CA_1_evaluation  1886               1.047389\n",
      "(853720, 3)\n",
      "                              id     d  direct_wrmse_ensemble\n",
      "0  HOBBIES_1_001_CA_1_evaluation  1914               0.824705\n",
      "1  HOBBIES_1_002_CA_1_evaluation  1914               0.236294\n",
      "2  HOBBIES_1_003_CA_1_evaluation  1914               0.433075\n",
      "3  HOBBIES_1_004_CA_1_evaluation  1914               1.744440\n",
      "4  HOBBIES_1_005_CA_1_evaluation  1914               1.079638\n",
      "(853720, 3)\n",
      "shape:  (2561160, 3)\n",
      "base_pred\n",
      "                              id     d  base_pred\n",
      "0  HOBBIES_1_001_CA_1_evaluation  1858   0.644864\n",
      "1  HOBBIES_1_002_CA_1_evaluation  1858   0.347659\n",
      "2  HOBBIES_1_003_CA_1_evaluation  1858   0.430145\n",
      "3  HOBBIES_1_004_CA_1_evaluation  1858   1.677954\n",
      "4  HOBBIES_1_005_CA_1_evaluation  1858   0.892836\n",
      "(853720, 3)\n",
      "                              id     d  base_pred\n",
      "0  HOBBIES_1_001_CA_1_evaluation  1886   0.771964\n",
      "1  HOBBIES_1_002_CA_1_evaluation  1886   0.287265\n",
      "2  HOBBIES_1_003_CA_1_evaluation  1886   0.384326\n",
      "3  HOBBIES_1_004_CA_1_evaluation  1886   1.830356\n",
      "4  HOBBIES_1_005_CA_1_evaluation  1886   0.995755\n",
      "(853720, 3)\n",
      "                              id     d  base_pred\n",
      "0  HOBBIES_1_001_CA_1_evaluation  1914   0.802949\n",
      "1  HOBBIES_1_002_CA_1_evaluation  1914   0.305050\n",
      "2  HOBBIES_1_003_CA_1_evaluation  1914   0.447459\n",
      "3  HOBBIES_1_004_CA_1_evaluation  1914   1.784803\n",
      "4  HOBBIES_1_005_CA_1_evaluation  1914   1.100366\n",
      "(853720, 3)\n",
      "shape:  (2561160, 3)\n"
     ]
    }
   ],
   "source": [
    "def load_stacking_features(grid_df, path, value_name):\n",
    "    df_tmp = pd.DataFrame()\n",
    "    print(value_name)\n",
    "    for val_range in SPLIT_LIST:\n",
    "        df_preds = pd.read_csv(f'{path}{val_range[0]}.csv')\n",
    "        df_preds = pd.melt(\n",
    "            df_preds, \n",
    "            id_vars = [\"id\"], \n",
    "            var_name = 'd', \n",
    "            value_name = value_name\n",
    "        )\n",
    "        df_preds[\"d\"] = df_preds[\"d\"].apply(lambda x : int(x.split(\"F\")[1]) + val_range[0] - 1)\n",
    "        print(df_preds.head())\n",
    "        print(df_preds.shape)\n",
    "        df_tmp = pd.concat([df_tmp, df_preds])\n",
    "    print(\"shape: \",df_tmp.shape)\n",
    "    grid_df = pd.merge(grid_df, df_tmp, on=[\"id\", \"d\"], how=\"left\")\n",
    "    \n",
    "    return grid_df\n",
    "\n",
    "grid_df = load_stacking_features(grid_df, DIRECT_RMSE, \"direct_rmse\")\n",
    "grid_df = load_stacking_features(grid_df, DIRECT_RMSE_ENSEMBLE, \"direct_rmse_ensemble\")\n",
    "grid_df = load_stacking_features(grid_df, DIRECT_WRMSSE, \"direct_wrmse\")\n",
    "grid_df = load_stacking_features(grid_df, DIRECT_WRMSSE_ENSEMBLE, \"direct_wrmse_ensemble\")\n",
    "grid_df = load_stacking_features(grid_df, BASE_PRED, \"base_pred\")\n",
    "#grid_df = pd.read_pickle(\"../data/submit/stacking_concat_data.pkl\")"
   ]
  },
  {
   "cell_type": "code",
   "execution_count": 27,
   "metadata": {},
   "outputs": [
    {
     "data": {
      "text/html": [
       "<div>\n",
       "<style scoped>\n",
       "    .dataframe tbody tr th:only-of-type {\n",
       "        vertical-align: middle;\n",
       "    }\n",
       "\n",
       "    .dataframe tbody tr th {\n",
       "        vertical-align: top;\n",
       "    }\n",
       "\n",
       "    .dataframe thead th {\n",
       "        text-align: right;\n",
       "    }\n",
       "</style>\n",
       "<table border=\"1\" class=\"dataframe\">\n",
       "  <thead>\n",
       "    <tr style=\"text-align: right;\">\n",
       "      <th></th>\n",
       "      <th>id</th>\n",
       "      <th>d</th>\n",
       "      <th>sales</th>\n",
       "      <th>direct_rmse</th>\n",
       "      <th>direct_rmse_ensemble</th>\n",
       "      <th>direct_wrmse</th>\n",
       "      <th>direct_wrmse_ensemble</th>\n",
       "      <th>base_pred</th>\n",
       "    </tr>\n",
       "  </thead>\n",
       "  <tbody>\n",
       "    <tr>\n",
       "      <th>0</th>\n",
       "      <td>HOBBIES_1_001_CA_1_evaluation</td>\n",
       "      <td>1858</td>\n",
       "      <td>0.0</td>\n",
       "      <td>0.565942</td>\n",
       "      <td>0.708006</td>\n",
       "      <td>0.636699</td>\n",
       "      <td>0.713258</td>\n",
       "      <td>0.644864</td>\n",
       "    </tr>\n",
       "    <tr>\n",
       "      <th>1</th>\n",
       "      <td>HOBBIES_1_002_CA_1_evaluation</td>\n",
       "      <td>1858</td>\n",
       "      <td>0.0</td>\n",
       "      <td>0.286879</td>\n",
       "      <td>0.292619</td>\n",
       "      <td>0.263533</td>\n",
       "      <td>0.278059</td>\n",
       "      <td>0.347659</td>\n",
       "    </tr>\n",
       "    <tr>\n",
       "      <th>2</th>\n",
       "      <td>HOBBIES_1_003_CA_1_evaluation</td>\n",
       "      <td>1858</td>\n",
       "      <td>0.0</td>\n",
       "      <td>0.366413</td>\n",
       "      <td>0.444350</td>\n",
       "      <td>0.309666</td>\n",
       "      <td>0.446757</td>\n",
       "      <td>0.430145</td>\n",
       "    </tr>\n",
       "    <tr>\n",
       "      <th>3</th>\n",
       "      <td>HOBBIES_1_004_CA_1_evaluation</td>\n",
       "      <td>1858</td>\n",
       "      <td>0.0</td>\n",
       "      <td>1.777381</td>\n",
       "      <td>1.729335</td>\n",
       "      <td>1.696449</td>\n",
       "      <td>1.767311</td>\n",
       "      <td>1.677954</td>\n",
       "    </tr>\n",
       "    <tr>\n",
       "      <th>4</th>\n",
       "      <td>HOBBIES_1_005_CA_1_evaluation</td>\n",
       "      <td>1858</td>\n",
       "      <td>1.0</td>\n",
       "      <td>0.876924</td>\n",
       "      <td>0.975472</td>\n",
       "      <td>1.003239</td>\n",
       "      <td>1.004170</td>\n",
       "      <td>0.892836</td>\n",
       "    </tr>\n",
       "  </tbody>\n",
       "</table>\n",
       "</div>"
      ],
      "text/plain": [
       "                              id     d  sales  direct_rmse  \\\n",
       "0  HOBBIES_1_001_CA_1_evaluation  1858    0.0     0.565942   \n",
       "1  HOBBIES_1_002_CA_1_evaluation  1858    0.0     0.286879   \n",
       "2  HOBBIES_1_003_CA_1_evaluation  1858    0.0     0.366413   \n",
       "3  HOBBIES_1_004_CA_1_evaluation  1858    0.0     1.777381   \n",
       "4  HOBBIES_1_005_CA_1_evaluation  1858    1.0     0.876924   \n",
       "\n",
       "   direct_rmse_ensemble  direct_wrmse  direct_wrmse_ensemble  base_pred  \n",
       "0              0.708006      0.636699               0.713258   0.644864  \n",
       "1              0.292619      0.263533               0.278059   0.347659  \n",
       "2              0.444350      0.309666               0.446757   0.430145  \n",
       "3              1.729335      1.696449               1.767311   1.677954  \n",
       "4              0.975472      1.003239               1.004170   0.892836  "
      ]
     },
     "execution_count": 27,
     "metadata": {},
     "output_type": "execute_result"
    }
   ],
   "source": [
    "grid_df.head()"
   ]
  },
  {
   "cell_type": "markdown",
   "metadata": {},
   "source": [
    "## WRMSSE計算の準備"
   ]
  },
  {
   "cell_type": "code",
   "execution_count": 28,
   "metadata": {},
   "outputs": [],
   "source": [
    "sw_df = pd.read_pickle(SW_DF)\n",
    "S = sw_df.s.values\n",
    "W = sw_df.w.values\n",
    "SW = sw_df.sw.values\n",
    "\n",
    "roll_mat_df = pd.read_pickle(ROLL_MAT)\n",
    "roll_index = roll_mat_df.index\n",
    "roll_mat_csr = csr_matrix(roll_mat_df.values)\n",
    "\n",
    "STORES_IDS = pd.read_csv(EVALUATION)['store_id']\n",
    "STORES_IDS = list(STORES_IDS.unique())\n",
    "\n",
    "# ★店舗別のSWを取得\n",
    "SW_store = {}\n",
    "for i, store_id in enumerate(STORES_IDS):\n",
    "    SW_store[store_id] = SW[pd.Index(np.arange(42840))[roll_index.map(lambda x: (x[0] in [2, 7, 8, 11]) and store_id in x[1])]]\n",
    "\n",
    "# ★店舗別のroll_matを取得\n",
    "roll_mat_csr_store = {}\n",
    "for i, store_id in enumerate(STORES_IDS):\n",
    "    roll_mat_csr_store[store_id] = roll_mat_csr[pd.Index(np.arange(42840))[roll_index.map(lambda x: (x[0] in [2, 7, 8, 11]) and store_id in x[1])], i*3049:(i+1)*3049]\n",
    "del roll_mat_df"
   ]
  },
  {
   "cell_type": "code",
   "execution_count": 29,
   "metadata": {},
   "outputs": [],
   "source": [
    "# ★★店舗別にWRMSSEをレベル別で算出する関数を返す関数\n",
    "def get_wrmsse_per_level_func(store_id, level=None):\n",
    "    def _wrmsse(preds, y_true, score_only=True, s = S, w = W, sw=SW_store):\n",
    "        # Function to do quick rollups:\n",
    "        def _rollup(v, store_id):\n",
    "            '''\n",
    "            v - np.array of size (30490 rows, n day columns)\n",
    "            v_rolledup - array of size (n, 42840)\n",
    "            '''\n",
    "            v = v.reshape(28, 3049).T\n",
    "            return roll_mat_csr_store[store_id]*v #(v.T*roll_mat_csr.T).T\n",
    "\n",
    "        '''\n",
    "        preds - Predictions: pd.DataFrame of size (30490 rows, N day columns)\n",
    "        y_true - True values: pd.DataFrame of size (30490 rows, N day columns)\n",
    "        sequence_length - np.array of size (42840,)\n",
    "        sales_weight - sales weights based on last 28 days: np.array (42840,)\n",
    "        '''\n",
    "\n",
    "        if score_only:\n",
    "            scores = np.sqrt(\n",
    "                        np.mean(\n",
    "                            np.square(_rollup(preds-y_true, store_id))\n",
    "                                ,axis=1)) * sw[store_id] #<-used to be mistake here\n",
    "            if level is None:\n",
    "                return np.sum(scores, axis=0)\n",
    "            \n",
    "            score_spans = [\n",
    "                (0, 1), (1, 4), (4, 11), (11, 3060)          \n",
    "            ]\n",
    "            score = np.sum(scores[score_spans[level][0]:score_spans[level][1]], axis=0)\n",
    "            return score\n",
    "        else: \n",
    "            score_matrix = (np.square(_rollup(preds-y_true)) * np.square(w)[:, None])/ s[:, None]\n",
    "            score = np.sum(np.sqrt(np.mean(score_matrix,axis=1)))/12 #<-used to be mistake here\n",
    "            return score, score_matrix\n",
    "\n",
    "    return _wrmsse\n",
    "\n",
    "def get_wrmsse_per_level_metric(store_id, level=None):\n",
    "    wrmsse = get_wrmsse_per_level_func(store_id, level=level)\n",
    "    def wrmsse_metric(preds, data):\n",
    "\n",
    "        # this function is calculate for last 28 days to consider the non-zero demand period\n",
    "\n",
    "        # actual obserbed values / 正解ラベル\n",
    "        y_true = data.get_label()\n",
    "        \n",
    "        if level is None:\n",
    "            return 'wrmsse-store', wrmsse(preds, y_true), False\n",
    "        \n",
    "        return 'wrmsse-level' + str(level), wrmsse(preds, y_true), False\n",
    "    return wrmsse_metric"
   ]
  },
  {
   "cell_type": "code",
   "execution_count": 30,
   "metadata": {},
   "outputs": [],
   "source": [
    "def rollup(v):\n",
    "    '''\n",
    "    v - np.array of size (30490 rows, n day columns)\n",
    "    v_rolledup - array of size (n, 42840)\n",
    "    '''\n",
    "    return roll_mat_csr*v #(v.T*roll_mat_csr.T).T\n",
    "\n",
    "# Function to calculate WRMSSE:\n",
    "def wrmsse_metric(preds, y_true, score_only=False, s = S, w = W, sw=SW, level=None):\n",
    "    '''\n",
    "    preds - Predictions: pd.DataFrame of size (30490 rows, N day columns)\n",
    "    y_true - True values: pd.DataFrame of size (30490 rows, N day columns)\n",
    "    sequence_length - np.array of size (42840,)\n",
    "    sales_weight - sales weights based on last 28 days: np.array (42840,)\n",
    "    '''\n",
    "    \n",
    "    if score_only:\n",
    "        scores = np.sqrt(\n",
    "                    np.mean(\n",
    "                        np.square(rollup(preds.values-y_true.values))\n",
    "                            ,axis=1)) * sw\n",
    "        if level is None:\n",
    "            return np.sum(scores)/12\n",
    "        \n",
    "        score_spans = [\n",
    "            (0, 1), (1, 4), (4, 14), (14, 17), (17, 24), (24, 33),\n",
    "            (33, 54), (54, 84), (84, 154), (154, 3203), (3203, 12350), (12350, 42840)           \n",
    "        ]\n",
    "        score = np.sum(scores[score_spans[level][0]:score_spans[level][1]], axis=0)/12\n",
    "        return score\n",
    "    else: \n",
    "        score_matrix = (np.square(rollup(preds.values-y_true.values)) * np.square(w)[:, None])/ s[:, None]\n",
    "        score = np.sum(np.sqrt(np.mean(score_matrix,axis=1)))/12 #<-used to be mistake here\n",
    "        return score, score_matrix"
   ]
  },
  {
   "cell_type": "code",
   "execution_count": 31,
   "metadata": {},
   "outputs": [],
   "source": [
    "NUM_ITEMS = 30490\n",
    "DAYS_PRED = 28\n",
    "def wrmsse(preds, data):\n",
    "    \n",
    "    # this function is calculate for last 28 days to consider the non-zero demand period\n",
    "    \n",
    "    # actual obserbed values / 正解ラベル\n",
    "    y_true = data.get_label()\n",
    "    \n",
    "    y_true = y_true[-(NUM_ITEMS * DAYS_PRED):]\n",
    "    preds = preds[-(NUM_ITEMS * DAYS_PRED):]\n",
    "    # number of columns\n",
    "    num_col = DAYS_PRED\n",
    "    \n",
    "    # reshape data to original array((NUM_ITEMS*num_col,1)->(NUM_ITEMS, num_col) ) / 推論の結果が 1 次元の配列になっているので直す\n",
    "    reshaped_preds = preds.reshape(num_col, NUM_ITEMS).T\n",
    "    reshaped_true = y_true.reshape(num_col, NUM_ITEMS).T\n",
    "    \n",
    "          \n",
    "    # train = weight_mat_csr*np.c_[reshaped_preds, reshaped_true]\n",
    "    train = roll_mat_csr*np.c_[reshaped_preds, reshaped_true]\n",
    "    \"\"\"\n",
    "    score = np.sum(\n",
    "                np.sqrt(\n",
    "                    np.mean( # ★ RMSSEの分子 1/h * SUM_t=n+1~n+h (Y_t - Y^_t)^2 に対応\n",
    "                        np.square(\n",
    "                            train[:,:num_col] - train[:,num_col:]) # ★ 予測誤差（Y_t - Y^_t）\n",
    "                        ,axis=1)\n",
    "                    \n",
    "                    / weight1) * weight2)\n",
    "    \"\"\"\n",
    "    score = np.sum(\n",
    "                np.sqrt(\n",
    "                    np.mean(\n",
    "                        np.square(rollup(train[:,:num_col] - train[:,num_col:]))\n",
    "                            ,axis=1)) * sw)/12 #<-used to be mistake here\n",
    "    return 'wrmsse', score, False"
   ]
  },
  {
   "cell_type": "markdown",
   "metadata": {},
   "source": [
    "## optuna"
   ]
  },
  {
   "cell_type": "code",
   "execution_count": 32,
   "metadata": {},
   "outputs": [],
   "source": [
    "def objective(trial):\n",
    "\n",
    "    direct_rmse = trial.suggest_uniform('direct_rmse', 0, 1)\n",
    "    direct_rmse_ensemble = trial.suggest_uniform('direct_rmse_ensemble', 0, 1)\n",
    "    direct_wrmse = trial.suggest_uniform('direct_wrmse', 0, 1)\n",
    "    direct_wrmse_ensemble = trial.suggest_uniform('direct_wrmse_ensemble', 0, 1)\n",
    "    base_pred = trial.suggest_uniform('base_pred', 0, 1)\n",
    "    \n",
    "    weight_sum = (\n",
    "        direct_rmse + \n",
    "        direct_rmse_ensemble + direct_wrmse + \n",
    "        direct_wrmse_ensemble + \n",
    "        base_pred\n",
    "    )\n",
    "    wrmsse_list = []\n",
    "    for val_range in SPLIT_LIST:\n",
    "        valid_mask = ((grid_df['d'] >= val_range[0]) & (grid_df['d'] <= val_range[1]))\n",
    "        valid_data = grid_df[valid_mask].drop([\"id\", \"d\", TARGET], axis=1)\n",
    "        pred = (\n",
    "            direct_rmse*valid_data[\"direct_rmse\"] + \n",
    "            direct_rmse_ensemble*valid_data[\"direct_rmse_ensemble\"] + \n",
    "            direct_wrmse*valid_data[\"direct_wrmse\"] + \n",
    "            direct_wrmse_ensemble*valid_data[\"direct_wrmse_ensemble\"] +\n",
    "            base_pred*valid_data[\"base_pred\"]\n",
    "        ) / weight_sum\n",
    "        \n",
    "        all_preds = pd.DataFrame()\n",
    "        valid_result_df = grid_df[valid_mask][[\"id\", \"d\"]]\n",
    "        valid_result_df[\"pred\"] = pred\n",
    "        for PREDICT_DAY in range(1, 28+1):\n",
    "            day_to_predict = val_range[0]-1+PREDICT_DAY\n",
    "            tmp = valid_result_df[valid_result_df[\"d\"]==day_to_predict].rename(columns={\"pred\":\"pred_\" + str(day_to_predict)})\n",
    "            tmp = tmp[[\"id\", \"pred_\" + str(day_to_predict)]]\n",
    "\n",
    "            if 'id' in list(all_preds):\n",
    "                all_preds = all_preds.merge(tmp, on=['id'], how='left')\n",
    "            else:\n",
    "                all_preds = tmp.copy()\n",
    "        # Predict\n",
    "        sales =  pd.read_csv(EVALUATION)\n",
    "        base_id_list = sales[\"id\"].to_list()\n",
    "        all_preds_val = pd.DataFrame({\"id\":base_id_list})\n",
    "        all_preds_val = pd.merge(all_preds_val, all_preds, on=\"id\", how=\"left\")\n",
    "        all_preds_val = all_preds_val.fillna(0)\n",
    "        # Ground truth:\n",
    "        dayCols = [\"d_{}\".format(i) for i in range(val_range[0], val_range[1]+1)]\n",
    "        y_true = sales[dayCols]\n",
    "        valid_preds = all_preds_val.drop(\"id\", axis=1)\n",
    "        score = wrmsse_metric(valid_preds, y_true, score_only=True)\n",
    "        wrmsse_list.append(score)\n",
    "        #print(\"validation : \"+str(val_range[0])+\" - \"+str(val_range[1]) + \" : \" +str(score))\n",
    "    print(wrmsse_list)\n",
    "    return np.mean(wrmsse_list)"
   ]
  },
  {
   "cell_type": "code",
   "execution_count": 104,
   "metadata": {},
   "outputs": [
    {
     "name": "stdout",
     "output_type": "stream",
     "text": [
      "[0.5961367997410177, 0.48874944110924096, 0.5463977919915414]\n"
     ]
    },
    {
     "name": "stderr",
     "output_type": "stream",
     "text": [
      "[I 2020-06-29 23:53:24,612] Finished trial#0 resulted in value: 0.5437613442806. Current best value is 0.5437613442806 with parameters: {'direct_rmse': 0.9129695275009985, 'direct_rmse_ensemble': 0.1162453505756772, 'direct_wrmse': 0.15628675144769366, 'direct_wrmse_ensemble': 0.7811088653738347, 'base_pred': 0.8663688903590022}.\n"
     ]
    },
    {
     "name": "stdout",
     "output_type": "stream",
     "text": [
      "[0.593182527945862, 0.4933046772209953, 0.5435163700304206]\n"
     ]
    },
    {
     "name": "stderr",
     "output_type": "stream",
     "text": [
      "[I 2020-06-29 23:53:36,977] Finished trial#1 resulted in value: 0.5433345250657593. Current best value is 0.5433345250657593 with parameters: {'direct_rmse': 0.8756688380294786, 'direct_rmse_ensemble': 0.4900179813078146, 'direct_wrmse': 0.9764127601260632, 'direct_wrmse_ensemble': 0.5696939397549384, 'base_pred': 0.4482439949096214}.\n"
     ]
    },
    {
     "name": "stdout",
     "output_type": "stream",
     "text": [
      "[0.5966340105845656, 0.48539490514754924, 0.5488751421549453]\n"
     ]
    },
    {
     "name": "stderr",
     "output_type": "stream",
     "text": [
      "[I 2020-06-29 23:53:49,716] Finished trial#2 resulted in value: 0.5436346859623534. Current best value is 0.5433345250657593 with parameters: {'direct_rmse': 0.8756688380294786, 'direct_rmse_ensemble': 0.4900179813078146, 'direct_wrmse': 0.9764127601260632, 'direct_wrmse_ensemble': 0.5696939397549384, 'base_pred': 0.4482439949096214}.\n"
     ]
    },
    {
     "name": "stdout",
     "output_type": "stream",
     "text": [
      "[0.5959597239555386, 0.4904268432546078, 0.5453329488997068]\n"
     ]
    },
    {
     "name": "stderr",
     "output_type": "stream",
     "text": [
      "[I 2020-06-29 23:54:02,068] Finished trial#3 resulted in value: 0.5439065053699511. Current best value is 0.5433345250657593 with parameters: {'direct_rmse': 0.8756688380294786, 'direct_rmse_ensemble': 0.4900179813078146, 'direct_wrmse': 0.9764127601260632, 'direct_wrmse_ensemble': 0.5696939397549384, 'base_pred': 0.4482439949096214}.\n"
     ]
    },
    {
     "name": "stdout",
     "output_type": "stream",
     "text": [
      "[0.6003543301414201, 0.48793188239339513, 0.5488526330674619]\n"
     ]
    },
    {
     "name": "stderr",
     "output_type": "stream",
     "text": [
      "[I 2020-06-29 23:54:14,449] Finished trial#4 resulted in value: 0.5457129485340924. Current best value is 0.5433345250657593 with parameters: {'direct_rmse': 0.8756688380294786, 'direct_rmse_ensemble': 0.4900179813078146, 'direct_wrmse': 0.9764127601260632, 'direct_wrmse_ensemble': 0.5696939397549384, 'base_pred': 0.4482439949096214}.\n"
     ]
    },
    {
     "name": "stdout",
     "output_type": "stream",
     "text": [
      "[0.5938761981920094, 0.48864133759031914, 0.5462382870307944]\n"
     ]
    },
    {
     "name": "stderr",
     "output_type": "stream",
     "text": [
      "[I 2020-06-29 23:54:26,885] Finished trial#5 resulted in value: 0.5429186076043743. Current best value is 0.5429186076043743 with parameters: {'direct_rmse': 0.37781516171527885, 'direct_rmse_ensemble': 0.48985012824236773, 'direct_wrmse': 0.9677790530092314, 'direct_wrmse_ensemble': 0.866748030113749, 'base_pred': 0.8187640052227921}.\n"
     ]
    },
    {
     "name": "stdout",
     "output_type": "stream",
     "text": [
      "[0.5952024015572593, 0.4899736044354779, 0.5455969625230958]\n"
     ]
    },
    {
     "name": "stderr",
     "output_type": "stream",
     "text": [
      "[I 2020-06-29 23:54:39,415] Finished trial#6 resulted in value: 0.5435909895052776. Current best value is 0.5429186076043743 with parameters: {'direct_rmse': 0.37781516171527885, 'direct_rmse_ensemble': 0.48985012824236773, 'direct_wrmse': 0.9677790530092314, 'direct_wrmse_ensemble': 0.866748030113749, 'base_pred': 0.8187640052227921}.\n"
     ]
    },
    {
     "name": "stdout",
     "output_type": "stream",
     "text": [
      "[0.5951228637010154, 0.4897384903509816, 0.5456802913694463]\n"
     ]
    },
    {
     "name": "stderr",
     "output_type": "stream",
     "text": [
      "[I 2020-06-29 23:54:52,012] Finished trial#7 resulted in value: 0.5435138818071478. Current best value is 0.5429186076043743 with parameters: {'direct_rmse': 0.37781516171527885, 'direct_rmse_ensemble': 0.48985012824236773, 'direct_wrmse': 0.9677790530092314, 'direct_wrmse_ensemble': 0.866748030113749, 'base_pred': 0.8187640052227921}.\n"
     ]
    },
    {
     "name": "stdout",
     "output_type": "stream",
     "text": [
      "[0.596456279623245, 0.4853205716579685, 0.548843517326521]\n"
     ]
    },
    {
     "name": "stderr",
     "output_type": "stream",
     "text": [
      "[I 2020-06-29 23:55:04,702] Finished trial#8 resulted in value: 0.5435401228692448. Current best value is 0.5429186076043743 with parameters: {'direct_rmse': 0.37781516171527885, 'direct_rmse_ensemble': 0.48985012824236773, 'direct_wrmse': 0.9677790530092314, 'direct_wrmse_ensemble': 0.866748030113749, 'base_pred': 0.8187640052227921}.\n"
     ]
    },
    {
     "name": "stdout",
     "output_type": "stream",
     "text": [
      "[0.5992489643096341, 0.4894898454939573, 0.5474928855280711]\n"
     ]
    },
    {
     "name": "stderr",
     "output_type": "stream",
     "text": [
      "[I 2020-06-29 23:55:16,991] Finished trial#9 resulted in value: 0.5454105651105542. Current best value is 0.5429186076043743 with parameters: {'direct_rmse': 0.37781516171527885, 'direct_rmse_ensemble': 0.48985012824236773, 'direct_wrmse': 0.9677790530092314, 'direct_wrmse_ensemble': 0.866748030113749, 'base_pred': 0.8187640052227921}.\n"
     ]
    },
    {
     "name": "stdout",
     "output_type": "stream",
     "text": [
      "[0.5947085983965713, 0.48869502811259835, 0.5459913768620825]\n"
     ]
    },
    {
     "name": "stderr",
     "output_type": "stream",
     "text": [
      "[I 2020-06-29 23:55:29,757] Finished trial#10 resulted in value: 0.5431316677904173. Current best value is 0.5429186076043743 with parameters: {'direct_rmse': 0.37781516171527885, 'direct_rmse_ensemble': 0.48985012824236773, 'direct_wrmse': 0.9677790530092314, 'direct_wrmse_ensemble': 0.866748030113749, 'base_pred': 0.8187640052227921}.\n"
     ]
    },
    {
     "name": "stdout",
     "output_type": "stream",
     "text": [
      "[0.591294101098858, 0.49358767492913996, 0.5445071347595479]\n"
     ]
    },
    {
     "name": "stderr",
     "output_type": "stream",
     "text": [
      "[I 2020-06-29 23:55:42,145] Finished trial#11 resulted in value: 0.5431296369291819. Current best value is 0.5429186076043743 with parameters: {'direct_rmse': 0.37781516171527885, 'direct_rmse_ensemble': 0.48985012824236773, 'direct_wrmse': 0.9677790530092314, 'direct_wrmse_ensemble': 0.866748030113749, 'base_pred': 0.8187640052227921}.\n"
     ]
    },
    {
     "name": "stdout",
     "output_type": "stream",
     "text": [
      "[0.5948396256887317, 0.487226970046224, 0.5472954263909687]\n"
     ]
    },
    {
     "name": "stderr",
     "output_type": "stream",
     "text": [
      "[I 2020-06-29 23:55:54,922] Finished trial#12 resulted in value: 0.5431206740419748. Current best value is 0.5429186076043743 with parameters: {'direct_rmse': 0.37781516171527885, 'direct_rmse_ensemble': 0.48985012824236773, 'direct_wrmse': 0.9677790530092314, 'direct_wrmse_ensemble': 0.866748030113749, 'base_pred': 0.8187640052227921}.\n"
     ]
    },
    {
     "name": "stdout",
     "output_type": "stream",
     "text": [
      "[0.5954774053039548, 0.48921942715530603, 0.5458210069516006]\n"
     ]
    },
    {
     "name": "stderr",
     "output_type": "stream",
     "text": [
      "[I 2020-06-29 23:56:07,661] Finished trial#13 resulted in value: 0.5435059464702872. Current best value is 0.5429186076043743 with parameters: {'direct_rmse': 0.37781516171527885, 'direct_rmse_ensemble': 0.48985012824236773, 'direct_wrmse': 0.9677790530092314, 'direct_wrmse_ensemble': 0.866748030113749, 'base_pred': 0.8187640052227921}.\n"
     ]
    },
    {
     "name": "stdout",
     "output_type": "stream",
     "text": [
      "[0.5926113230512612, 0.4904793739652549, 0.5461898126835695]\n"
     ]
    },
    {
     "name": "stderr",
     "output_type": "stream",
     "text": [
      "[I 2020-06-29 23:56:20,615] Finished trial#14 resulted in value: 0.5430935032333618. Current best value is 0.5429186076043743 with parameters: {'direct_rmse': 0.37781516171527885, 'direct_rmse_ensemble': 0.48985012824236773, 'direct_wrmse': 0.9677790530092314, 'direct_wrmse_ensemble': 0.866748030113749, 'base_pred': 0.8187640052227921}.\n"
     ]
    },
    {
     "name": "stdout",
     "output_type": "stream",
     "text": [
      "[0.5959354830555389, 0.48709167221277755, 0.5470605331509275]\n"
     ]
    },
    {
     "name": "stderr",
     "output_type": "stream",
     "text": [
      "[I 2020-06-29 23:56:33,160] Finished trial#15 resulted in value: 0.5433625628064146. Current best value is 0.5429186076043743 with parameters: {'direct_rmse': 0.37781516171527885, 'direct_rmse_ensemble': 0.48985012824236773, 'direct_wrmse': 0.9677790530092314, 'direct_wrmse_ensemble': 0.866748030113749, 'base_pred': 0.8187640052227921}.\n"
     ]
    },
    {
     "name": "stdout",
     "output_type": "stream",
     "text": [
      "[0.5923356435842619, 0.4916940102571614, 0.5450504368333581]\n"
     ]
    },
    {
     "name": "stderr",
     "output_type": "stream",
     "text": [
      "[I 2020-06-29 23:56:46,055] Finished trial#16 resulted in value: 0.5430266968915939. Current best value is 0.5429186076043743 with parameters: {'direct_rmse': 0.37781516171527885, 'direct_rmse_ensemble': 0.48985012824236773, 'direct_wrmse': 0.9677790530092314, 'direct_wrmse_ensemble': 0.866748030113749, 'base_pred': 0.8187640052227921}.\n"
     ]
    },
    {
     "name": "stdout",
     "output_type": "stream",
     "text": [
      "[0.5923078412658794, 0.49147954377693676, 0.5451311426970687]\n"
     ]
    },
    {
     "name": "stderr",
     "output_type": "stream",
     "text": [
      "[I 2020-06-29 23:56:58,183] Finished trial#17 resulted in value: 0.5429728425799616. Current best value is 0.5429186076043743 with parameters: {'direct_rmse': 0.37781516171527885, 'direct_rmse_ensemble': 0.48985012824236773, 'direct_wrmse': 0.9677790530092314, 'direct_wrmse_ensemble': 0.866748030113749, 'base_pred': 0.8187640052227921}.\n"
     ]
    },
    {
     "name": "stdout",
     "output_type": "stream",
     "text": [
      "[0.591674297957283, 0.4928780762928977, 0.5443628324247513]\n"
     ]
    },
    {
     "name": "stderr",
     "output_type": "stream",
     "text": [
      "[I 2020-06-29 23:57:10,872] Finished trial#18 resulted in value: 0.5429717355583107. Current best value is 0.5429186076043743 with parameters: {'direct_rmse': 0.37781516171527885, 'direct_rmse_ensemble': 0.48985012824236773, 'direct_wrmse': 0.9677790530092314, 'direct_wrmse_ensemble': 0.866748030113749, 'base_pred': 0.8187640052227921}.\n"
     ]
    },
    {
     "name": "stdout",
     "output_type": "stream",
     "text": [
      "[0.5912366005042594, 0.49349305568865653, 0.5441751236749398]\n"
     ]
    },
    {
     "name": "stderr",
     "output_type": "stream",
     "text": [
      "[I 2020-06-29 23:57:23,404] Finished trial#19 resulted in value: 0.5429682599559519. Current best value is 0.5429186076043743 with parameters: {'direct_rmse': 0.37781516171527885, 'direct_rmse_ensemble': 0.48985012824236773, 'direct_wrmse': 0.9677790530092314, 'direct_wrmse_ensemble': 0.866748030113749, 'base_pred': 0.8187640052227921}.\n"
     ]
    },
    {
     "name": "stdout",
     "output_type": "stream",
     "text": [
      "[0.5917279572171961, 0.4922824334403906, 0.544529383248604]\n"
     ]
    },
    {
     "name": "stderr",
     "output_type": "stream",
     "text": [
      "[I 2020-06-29 23:57:35,826] Finished trial#20 resulted in value: 0.5428465913020636. Current best value is 0.5428465913020636 with parameters: {'direct_rmse': 0.4428638460112102, 'direct_rmse_ensemble': 0.23297160336741154, 'direct_wrmse': 0.8726916944454115, 'direct_wrmse_ensemble': 0.878404813723712, 'base_pred': 0.24415241270705906}.\n"
     ]
    },
    {
     "name": "stdout",
     "output_type": "stream",
     "text": [
      "[0.5925068807017463, 0.491932393998512, 0.544241162773946]\n"
     ]
    },
    {
     "name": "stderr",
     "output_type": "stream",
     "text": [
      "[I 2020-06-29 23:57:47,950] Finished trial#21 resulted in value: 0.5428934791580681. Current best value is 0.5428465913020636 with parameters: {'direct_rmse': 0.4428638460112102, 'direct_rmse_ensemble': 0.23297160336741154, 'direct_wrmse': 0.8726916944454115, 'direct_wrmse_ensemble': 0.878404813723712, 'base_pred': 0.24415241270705906}.\n"
     ]
    },
    {
     "name": "stdout",
     "output_type": "stream",
     "text": [
      "[0.5923357534939319, 0.4920568377598873, 0.5442098404649133]\n"
     ]
    },
    {
     "name": "stderr",
     "output_type": "stream",
     "text": [
      "[I 2020-06-29 23:58:00,174] Finished trial#22 resulted in value: 0.5428674772395774. Current best value is 0.5428465913020636 with parameters: {'direct_rmse': 0.4428638460112102, 'direct_rmse_ensemble': 0.23297160336741154, 'direct_wrmse': 0.8726916944454115, 'direct_wrmse_ensemble': 0.878404813723712, 'base_pred': 0.24415241270705906}.\n"
     ]
    },
    {
     "name": "stdout",
     "output_type": "stream",
     "text": [
      "[0.5920480190685374, 0.49436631667027364, 0.543025321835317]\n"
     ]
    },
    {
     "name": "stderr",
     "output_type": "stream",
     "text": [
      "[I 2020-06-29 23:58:12,330] Finished trial#23 resulted in value: 0.5431465525247093. Current best value is 0.5428465913020636 with parameters: {'direct_rmse': 0.4428638460112102, 'direct_rmse_ensemble': 0.23297160336741154, 'direct_wrmse': 0.8726916944454115, 'direct_wrmse_ensemble': 0.878404813723712, 'base_pred': 0.24415241270705906}.\n"
     ]
    },
    {
     "name": "stdout",
     "output_type": "stream",
     "text": [
      "[0.5925950676205984, 0.49011304573003994, 0.545330186695067]\n"
     ]
    },
    {
     "name": "stderr",
     "output_type": "stream",
     "text": [
      "[I 2020-06-29 23:58:24,515] Finished trial#24 resulted in value: 0.5426794333485685. Current best value is 0.5426794333485685 with parameters: {'direct_rmse': 0.5773340193280917, 'direct_rmse_ensemble': 0.02831614628097262, 'direct_wrmse': 0.3412476844332663, 'direct_wrmse_ensemble': 0.9920881730752596, 'base_pred': 0.26592899375511314}.\n"
     ]
    },
    {
     "name": "stdout",
     "output_type": "stream",
     "text": [
      "[0.5925414582030526, 0.49139568390742033, 0.5444132054341487]\n"
     ]
    },
    {
     "name": "stderr",
     "output_type": "stream",
     "text": [
      "[I 2020-06-29 23:58:37,068] Finished trial#25 resulted in value: 0.5427834491815405. Current best value is 0.5426794333485685 with parameters: {'direct_rmse': 0.5773340193280917, 'direct_rmse_ensemble': 0.02831614628097262, 'direct_wrmse': 0.3412476844332663, 'direct_wrmse_ensemble': 0.9920881730752596, 'base_pred': 0.26592899375511314}.\n"
     ]
    },
    {
     "name": "stdout",
     "output_type": "stream",
     "text": [
      "[0.59247231362071, 0.493225668221811, 0.5434698626815403]\n"
     ]
    },
    {
     "name": "stderr",
     "output_type": "stream",
     "text": [
      "[I 2020-06-29 23:58:48,926] Finished trial#26 resulted in value: 0.543055948174687. Current best value is 0.5426794333485685 with parameters: {'direct_rmse': 0.5773340193280917, 'direct_rmse_ensemble': 0.02831614628097262, 'direct_wrmse': 0.3412476844332663, 'direct_wrmse_ensemble': 0.9920881730752596, 'base_pred': 0.26592899375511314}.\n"
     ]
    },
    {
     "name": "stdout",
     "output_type": "stream",
     "text": [
      "[0.5926310254611724, 0.4913286143801947, 0.5444193951138331]\n"
     ]
    },
    {
     "name": "stderr",
     "output_type": "stream",
     "text": [
      "[I 2020-06-29 23:59:01,227] Finished trial#27 resulted in value: 0.5427930116517334. Current best value is 0.5426794333485685 with parameters: {'direct_rmse': 0.5773340193280917, 'direct_rmse_ensemble': 0.02831614628097262, 'direct_wrmse': 0.3412476844332663, 'direct_wrmse_ensemble': 0.9920881730752596, 'base_pred': 0.26592899375511314}.\n"
     ]
    },
    {
     "name": "stdout",
     "output_type": "stream",
     "text": [
      "[0.5969686108804023, 0.5006412363096518, 0.5420239680476375]\n"
     ]
    },
    {
     "name": "stderr",
     "output_type": "stream",
     "text": [
      "[I 2020-06-29 23:59:13,491] Finished trial#28 resulted in value: 0.5465446050792305. Current best value is 0.5426794333485685 with parameters: {'direct_rmse': 0.5773340193280917, 'direct_rmse_ensemble': 0.02831614628097262, 'direct_wrmse': 0.3412476844332663, 'direct_wrmse_ensemble': 0.9920881730752596, 'base_pred': 0.26592899375511314}.\n"
     ]
    },
    {
     "name": "stdout",
     "output_type": "stream",
     "text": [
      "[0.5941772881615054, 0.4909566477168683, 0.5445691283831083]\n"
     ]
    },
    {
     "name": "stderr",
     "output_type": "stream",
     "text": [
      "[I 2020-06-29 23:59:25,757] Finished trial#29 resulted in value: 0.5432343547538273. Current best value is 0.5426794333485685 with parameters: {'direct_rmse': 0.5773340193280917, 'direct_rmse_ensemble': 0.02831614628097262, 'direct_wrmse': 0.3412476844332663, 'direct_wrmse_ensemble': 0.9920881730752596, 'base_pred': 0.26592899375511314}.\n"
     ]
    },
    {
     "name": "stdout",
     "output_type": "stream",
     "text": [
      "[0.5931778439054026, 0.4916501931237591, 0.5441832096864132]\n"
     ]
    },
    {
     "name": "stderr",
     "output_type": "stream",
     "text": [
      "[I 2020-06-29 23:59:38,446] Finished trial#30 resulted in value: 0.5430037489051917. Current best value is 0.5426794333485685 with parameters: {'direct_rmse': 0.5773340193280917, 'direct_rmse_ensemble': 0.02831614628097262, 'direct_wrmse': 0.3412476844332663, 'direct_wrmse_ensemble': 0.9920881730752596, 'base_pred': 0.26592899375511314}.\n"
     ]
    },
    {
     "name": "stdout",
     "output_type": "stream",
     "text": [
      "[0.5942123209584942, 0.4918113282927072, 0.5443150828665183]\n"
     ]
    },
    {
     "name": "stderr",
     "output_type": "stream",
     "text": [
      "[I 2020-06-29 23:59:50,710] Finished trial#31 resulted in value: 0.5434462440392399. Current best value is 0.5426794333485685 with parameters: {'direct_rmse': 0.5773340193280917, 'direct_rmse_ensemble': 0.02831614628097262, 'direct_wrmse': 0.3412476844332663, 'direct_wrmse_ensemble': 0.9920881730752596, 'base_pred': 0.26592899375511314}.\n"
     ]
    },
    {
     "name": "stdout",
     "output_type": "stream",
     "text": [
      "[0.5941042231814009, 0.4939706343689456, 0.5432215167125242]\n"
     ]
    },
    {
     "name": "stderr",
     "output_type": "stream",
     "text": [
      "[I 2020-06-30 00:00:03,048] Finished trial#32 resulted in value: 0.5437654580876236. Current best value is 0.5426794333485685 with parameters: {'direct_rmse': 0.5773340193280917, 'direct_rmse_ensemble': 0.02831614628097262, 'direct_wrmse': 0.3412476844332663, 'direct_wrmse_ensemble': 0.9920881730752596, 'base_pred': 0.26592899375511314}.\n"
     ]
    },
    {
     "name": "stdout",
     "output_type": "stream",
     "text": [
      "[0.5921711758903413, 0.49616007105819376, 0.5422454930365112]\n"
     ]
    },
    {
     "name": "stderr",
     "output_type": "stream",
     "text": [
      "[I 2020-06-30 00:00:15,380] Finished trial#33 resulted in value: 0.5435255799950154. Current best value is 0.5426794333485685 with parameters: {'direct_rmse': 0.5773340193280917, 'direct_rmse_ensemble': 0.02831614628097262, 'direct_wrmse': 0.3412476844332663, 'direct_wrmse_ensemble': 0.9920881730752596, 'base_pred': 0.26592899375511314}.\n"
     ]
    },
    {
     "name": "stdout",
     "output_type": "stream",
     "text": [
      "[0.5984136223339255, 0.4916718958410556, 0.5459551009447859]\n"
     ]
    },
    {
     "name": "stderr",
     "output_type": "stream",
     "text": [
      "[I 2020-06-30 00:00:27,781] Finished trial#34 resulted in value: 0.5453468730399224. Current best value is 0.5426794333485685 with parameters: {'direct_rmse': 0.5773340193280917, 'direct_rmse_ensemble': 0.02831614628097262, 'direct_wrmse': 0.3412476844332663, 'direct_wrmse_ensemble': 0.9920881730752596, 'base_pred': 0.26592899375511314}.\n"
     ]
    },
    {
     "name": "stdout",
     "output_type": "stream",
     "text": [
      "[0.5933556364816309, 0.492616624275084, 0.5437865137988215]\n"
     ]
    },
    {
     "name": "stderr",
     "output_type": "stream",
     "text": [
      "[I 2020-06-30 00:00:39,695] Finished trial#35 resulted in value: 0.5432529248518455. Current best value is 0.5426794333485685 with parameters: {'direct_rmse': 0.5773340193280917, 'direct_rmse_ensemble': 0.02831614628097262, 'direct_wrmse': 0.3412476844332663, 'direct_wrmse_ensemble': 0.9920881730752596, 'base_pred': 0.26592899375511314}.\n"
     ]
    },
    {
     "name": "stdout",
     "output_type": "stream",
     "text": [
      "[0.5938236596461828, 0.489954674512862, 0.5451159273038734]\n"
     ]
    },
    {
     "name": "stderr",
     "output_type": "stream",
     "text": [
      "[I 2020-06-30 00:00:51,719] Finished trial#36 resulted in value: 0.5429647538209728. Current best value is 0.5426794333485685 with parameters: {'direct_rmse': 0.5773340193280917, 'direct_rmse_ensemble': 0.02831614628097262, 'direct_wrmse': 0.3412476844332663, 'direct_wrmse_ensemble': 0.9920881730752596, 'base_pred': 0.26592899375511314}.\n"
     ]
    },
    {
     "name": "stdout",
     "output_type": "stream",
     "text": [
      "[0.5952991714043233, 0.49137200414764587, 0.5445505606949255]\n"
     ]
    },
    {
     "name": "stderr",
     "output_type": "stream",
     "text": [
      "[I 2020-06-30 00:01:03,899] Finished trial#37 resulted in value: 0.5437405787489649. Current best value is 0.5426794333485685 with parameters: {'direct_rmse': 0.5773340193280917, 'direct_rmse_ensemble': 0.02831614628097262, 'direct_wrmse': 0.3412476844332663, 'direct_wrmse_ensemble': 0.9920881730752596, 'base_pred': 0.26592899375511314}.\n"
     ]
    },
    {
     "name": "stdout",
     "output_type": "stream",
     "text": [
      "[0.5950348376524164, 0.48930200733708445, 0.5456090661498262]\n"
     ]
    },
    {
     "name": "stderr",
     "output_type": "stream",
     "text": [
      "[I 2020-06-30 00:01:15,891] Finished trial#38 resulted in value: 0.543315303713109. Current best value is 0.5426794333485685 with parameters: {'direct_rmse': 0.5773340193280917, 'direct_rmse_ensemble': 0.02831614628097262, 'direct_wrmse': 0.3412476844332663, 'direct_wrmse_ensemble': 0.9920881730752596, 'base_pred': 0.26592899375511314}.\n"
     ]
    },
    {
     "name": "stdout",
     "output_type": "stream",
     "text": [
      "[0.6025334009094206, 0.4907013411769461, 0.5487036420734872]\n"
     ]
    },
    {
     "name": "stderr",
     "output_type": "stream",
     "text": [
      "[I 2020-06-30 00:01:27,730] Finished trial#39 resulted in value: 0.5473127947199513. Current best value is 0.5426794333485685 with parameters: {'direct_rmse': 0.5773340193280917, 'direct_rmse_ensemble': 0.02831614628097262, 'direct_wrmse': 0.3412476844332663, 'direct_wrmse_ensemble': 0.9920881730752596, 'base_pred': 0.26592899375511314}.\n"
     ]
    },
    {
     "name": "stdout",
     "output_type": "stream",
     "text": [
      "[0.5929813531821622, 0.4914092594114128, 0.5444417062218702]\n"
     ]
    },
    {
     "name": "stderr",
     "output_type": "stream",
     "text": [
      "[I 2020-06-30 00:01:39,486] Finished trial#40 resulted in value: 0.5429441062718151. Current best value is 0.5426794333485685 with parameters: {'direct_rmse': 0.5773340193280917, 'direct_rmse_ensemble': 0.02831614628097262, 'direct_wrmse': 0.3412476844332663, 'direct_wrmse_ensemble': 0.9920881730752596, 'base_pred': 0.26592899375511314}.\n"
     ]
    },
    {
     "name": "stdout",
     "output_type": "stream",
     "text": [
      "[0.6002143918120395, 0.4850318426672621, 0.5509022458905225]\n"
     ]
    },
    {
     "name": "stderr",
     "output_type": "stream",
     "text": [
      "[I 2020-06-30 00:01:51,781] Finished trial#41 resulted in value: 0.5453828267899414. Current best value is 0.5426794333485685 with parameters: {'direct_rmse': 0.5773340193280917, 'direct_rmse_ensemble': 0.02831614628097262, 'direct_wrmse': 0.3412476844332663, 'direct_wrmse_ensemble': 0.9920881730752596, 'base_pred': 0.26592899375511314}.\n"
     ]
    },
    {
     "name": "stdout",
     "output_type": "stream",
     "text": [
      "[0.5960233696319741, 0.4873882971240999, 0.5470840573788064]\n"
     ]
    },
    {
     "name": "stderr",
     "output_type": "stream",
     "text": [
      "[I 2020-06-30 00:02:03,967] Finished trial#42 resulted in value: 0.5434985747116268. Current best value is 0.5426794333485685 with parameters: {'direct_rmse': 0.5773340193280917, 'direct_rmse_ensemble': 0.02831614628097262, 'direct_wrmse': 0.3412476844332663, 'direct_wrmse_ensemble': 0.9920881730752596, 'base_pred': 0.26592899375511314}.\n"
     ]
    },
    {
     "name": "stdout",
     "output_type": "stream",
     "text": [
      "[0.5951542796379499, 0.4901504062272075, 0.5451498951993513]\n"
     ]
    },
    {
     "name": "stderr",
     "output_type": "stream",
     "text": [
      "[I 2020-06-30 00:02:16,026] Finished trial#43 resulted in value: 0.5434848603548362. Current best value is 0.5426794333485685 with parameters: {'direct_rmse': 0.5773340193280917, 'direct_rmse_ensemble': 0.02831614628097262, 'direct_wrmse': 0.3412476844332663, 'direct_wrmse_ensemble': 0.9920881730752596, 'base_pred': 0.26592899375511314}.\n"
     ]
    },
    {
     "name": "stdout",
     "output_type": "stream",
     "text": [
      "[0.5930460827875624, 0.4900811216970373, 0.5450911842061991]\n"
     ]
    },
    {
     "name": "stderr",
     "output_type": "stream",
     "text": [
      "[I 2020-06-30 00:02:27,943] Finished trial#44 resulted in value: 0.5427394628969329. Current best value is 0.5426794333485685 with parameters: {'direct_rmse': 0.5773340193280917, 'direct_rmse_ensemble': 0.02831614628097262, 'direct_wrmse': 0.3412476844332663, 'direct_wrmse_ensemble': 0.9920881730752596, 'base_pred': 0.26592899375511314}.\n"
     ]
    },
    {
     "name": "stdout",
     "output_type": "stream",
     "text": [
      "[0.5957351971545787, 0.48749942904502164, 0.5469149462263837]\n"
     ]
    },
    {
     "name": "stderr",
     "output_type": "stream",
     "text": [
      "[I 2020-06-30 00:02:39,875] Finished trial#45 resulted in value: 0.5433831908086613. Current best value is 0.5426794333485685 with parameters: {'direct_rmse': 0.5773340193280917, 'direct_rmse_ensemble': 0.02831614628097262, 'direct_wrmse': 0.3412476844332663, 'direct_wrmse_ensemble': 0.9920881730752596, 'base_pred': 0.26592899375511314}.\n"
     ]
    },
    {
     "name": "stdout",
     "output_type": "stream",
     "text": [
      "[0.596157231140836, 0.48658441702179617, 0.547477880097727]\n"
     ]
    },
    {
     "name": "stderr",
     "output_type": "stream",
     "text": [
      "[I 2020-06-30 00:02:52,275] Finished trial#46 resulted in value: 0.5434065094201198. Current best value is 0.5426794333485685 with parameters: {'direct_rmse': 0.5773340193280917, 'direct_rmse_ensemble': 0.02831614628097262, 'direct_wrmse': 0.3412476844332663, 'direct_wrmse_ensemble': 0.9920881730752596, 'base_pred': 0.26592899375511314}.\n"
     ]
    },
    {
     "name": "stdout",
     "output_type": "stream",
     "text": [
      "[0.5952932531688734, 0.4880715034627494, 0.5465687661462869]\n"
     ]
    },
    {
     "name": "stderr",
     "output_type": "stream",
     "text": [
      "[I 2020-06-30 00:03:04,699] Finished trial#47 resulted in value: 0.5433111742593032. Current best value is 0.5426794333485685 with parameters: {'direct_rmse': 0.5773340193280917, 'direct_rmse_ensemble': 0.02831614628097262, 'direct_wrmse': 0.3412476844332663, 'direct_wrmse_ensemble': 0.9920881730752596, 'base_pred': 0.26592899375511314}.\n"
     ]
    },
    {
     "name": "stdout",
     "output_type": "stream",
     "text": [
      "[0.5934590787870747, 0.48973201158116236, 0.5454540826154173]\n"
     ]
    },
    {
     "name": "stderr",
     "output_type": "stream",
     "text": [
      "[I 2020-06-30 00:03:17,084] Finished trial#48 resulted in value: 0.5428817243278848. Current best value is 0.5426794333485685 with parameters: {'direct_rmse': 0.5773340193280917, 'direct_rmse_ensemble': 0.02831614628097262, 'direct_wrmse': 0.3412476844332663, 'direct_wrmse_ensemble': 0.9920881730752596, 'base_pred': 0.26592899375511314}.\n"
     ]
    },
    {
     "name": "stdout",
     "output_type": "stream",
     "text": [
      "[0.6017838176306137, 0.48868114558930986, 0.549799679295247]\n"
     ]
    },
    {
     "name": "stderr",
     "output_type": "stream",
     "text": [
      "[I 2020-06-30 00:03:29,262] Finished trial#49 resulted in value: 0.5467548808383902. Current best value is 0.5426794333485685 with parameters: {'direct_rmse': 0.5773340193280917, 'direct_rmse_ensemble': 0.02831614628097262, 'direct_wrmse': 0.3412476844332663, 'direct_wrmse_ensemble': 0.9920881730752596, 'base_pred': 0.26592899375511314}.\n"
     ]
    },
    {
     "name": "stdout",
     "output_type": "stream",
     "text": [
      "[0.5983299640509391, 0.4865504366129076, 0.5484733205101447]\n"
     ]
    },
    {
     "name": "stderr",
     "output_type": "stream",
     "text": [
      "[I 2020-06-30 00:03:41,158] Finished trial#50 resulted in value: 0.5444512403913304. Current best value is 0.5426794333485685 with parameters: {'direct_rmse': 0.5773340193280917, 'direct_rmse_ensemble': 0.02831614628097262, 'direct_wrmse': 0.3412476844332663, 'direct_wrmse_ensemble': 0.9920881730752596, 'base_pred': 0.26592899375511314}.\n"
     ]
    },
    {
     "name": "stdout",
     "output_type": "stream",
     "text": [
      "[0.5937433285412786, 0.4930118850270558, 0.5437580759034101]\n"
     ]
    },
    {
     "name": "stderr",
     "output_type": "stream",
     "text": [
      "[I 2020-06-30 00:03:53,377] Finished trial#51 resulted in value: 0.5435044298239148. Current best value is 0.5426794333485685 with parameters: {'direct_rmse': 0.5773340193280917, 'direct_rmse_ensemble': 0.02831614628097262, 'direct_wrmse': 0.3412476844332663, 'direct_wrmse_ensemble': 0.9920881730752596, 'base_pred': 0.26592899375511314}.\n"
     ]
    },
    {
     "name": "stdout",
     "output_type": "stream",
     "text": [
      "[0.5966441173344927, 0.4840614225160856, 0.549934960336984]\n"
     ]
    },
    {
     "name": "stderr",
     "output_type": "stream",
     "text": [
      "[I 2020-06-30 00:04:05,709] Finished trial#52 resulted in value: 0.5435468333958541. Current best value is 0.5426794333485685 with parameters: {'direct_rmse': 0.5773340193280917, 'direct_rmse_ensemble': 0.02831614628097262, 'direct_wrmse': 0.3412476844332663, 'direct_wrmse_ensemble': 0.9920881730752596, 'base_pred': 0.26592899375511314}.\n"
     ]
    },
    {
     "name": "stdout",
     "output_type": "stream",
     "text": [
      "[0.5937204933676762, 0.48798633501893524, 0.5464980490652646]\n"
     ]
    },
    {
     "name": "stderr",
     "output_type": "stream",
     "text": [
      "[I 2020-06-30 00:04:17,827] Finished trial#53 resulted in value: 0.5427349591506253. Current best value is 0.5426794333485685 with parameters: {'direct_rmse': 0.5773340193280917, 'direct_rmse_ensemble': 0.02831614628097262, 'direct_wrmse': 0.3412476844332663, 'direct_wrmse_ensemble': 0.9920881730752596, 'base_pred': 0.26592899375511314}.\n"
     ]
    },
    {
     "name": "stdout",
     "output_type": "stream",
     "text": [
      "[0.5957377174259926, 0.4868627166784954, 0.5471975781349817]\n"
     ]
    },
    {
     "name": "stderr",
     "output_type": "stream",
     "text": [
      "[I 2020-06-30 00:04:30,159] Finished trial#54 resulted in value: 0.5432660040798232. Current best value is 0.5426794333485685 with parameters: {'direct_rmse': 0.5773340193280917, 'direct_rmse_ensemble': 0.02831614628097262, 'direct_wrmse': 0.3412476844332663, 'direct_wrmse_ensemble': 0.9920881730752596, 'base_pred': 0.26592899375511314}.\n"
     ]
    },
    {
     "name": "stdout",
     "output_type": "stream",
     "text": [
      "[0.5959404875134066, 0.48507873731622103, 0.5495517393699761]\n"
     ]
    },
    {
     "name": "stderr",
     "output_type": "stream",
     "text": [
      "[I 2020-06-30 00:04:42,037] Finished trial#55 resulted in value: 0.5435236547332013. Current best value is 0.5426794333485685 with parameters: {'direct_rmse': 0.5773340193280917, 'direct_rmse_ensemble': 0.02831614628097262, 'direct_wrmse': 0.3412476844332663, 'direct_wrmse_ensemble': 0.9920881730752596, 'base_pred': 0.26592899375511314}.\n"
     ]
    },
    {
     "name": "stdout",
     "output_type": "stream",
     "text": [
      "[0.5976171056489898, 0.48446961646393727, 0.5496530073502767]\n"
     ]
    },
    {
     "name": "stderr",
     "output_type": "stream",
     "text": [
      "[I 2020-06-30 00:04:54,168] Finished trial#56 resulted in value: 0.5439132431544013. Current best value is 0.5426794333485685 with parameters: {'direct_rmse': 0.5773340193280917, 'direct_rmse_ensemble': 0.02831614628097262, 'direct_wrmse': 0.3412476844332663, 'direct_wrmse_ensemble': 0.9920881730752596, 'base_pred': 0.26592899375511314}.\n"
     ]
    },
    {
     "name": "stdout",
     "output_type": "stream",
     "text": [
      "[0.5949272145706531, 0.487820545685869, 0.5465910393528363]\n"
     ]
    },
    {
     "name": "stderr",
     "output_type": "stream",
     "text": [
      "[I 2020-06-30 00:05:06,263] Finished trial#57 resulted in value: 0.5431129332031195. Current best value is 0.5426794333485685 with parameters: {'direct_rmse': 0.5773340193280917, 'direct_rmse_ensemble': 0.02831614628097262, 'direct_wrmse': 0.3412476844332663, 'direct_wrmse_ensemble': 0.9920881730752596, 'base_pred': 0.26592899375511314}.\n"
     ]
    },
    {
     "name": "stdout",
     "output_type": "stream",
     "text": [
      "[0.5952270117474673, 0.48612925915533517, 0.5480397800474498]\n"
     ]
    },
    {
     "name": "stderr",
     "output_type": "stream",
     "text": [
      "[I 2020-06-30 00:05:17,910] Finished trial#58 resulted in value: 0.5431320169834174. Current best value is 0.5426794333485685 with parameters: {'direct_rmse': 0.5773340193280917, 'direct_rmse_ensemble': 0.02831614628097262, 'direct_wrmse': 0.3412476844332663, 'direct_wrmse_ensemble': 0.9920881730752596, 'base_pred': 0.26592899375511314}.\n"
     ]
    },
    {
     "name": "stdout",
     "output_type": "stream",
     "text": [
      "[0.5970266257537248, 0.4863863544800262, 0.5479346531201142]\n"
     ]
    },
    {
     "name": "stderr",
     "output_type": "stream",
     "text": [
      "[I 2020-06-30 00:05:30,313] Finished trial#59 resulted in value: 0.5437825444512884. Current best value is 0.5426794333485685 with parameters: {'direct_rmse': 0.5773340193280917, 'direct_rmse_ensemble': 0.02831614628097262, 'direct_wrmse': 0.3412476844332663, 'direct_wrmse_ensemble': 0.9920881730752596, 'base_pred': 0.26592899375511314}.\n"
     ]
    },
    {
     "name": "stdout",
     "output_type": "stream",
     "text": [
      "[0.5955155865343117, 0.49022797909294685, 0.5453257421714213]\n"
     ]
    },
    {
     "name": "stderr",
     "output_type": "stream",
     "text": [
      "[I 2020-06-30 00:05:42,436] Finished trial#60 resulted in value: 0.5436897692662266. Current best value is 0.5426794333485685 with parameters: {'direct_rmse': 0.5773340193280917, 'direct_rmse_ensemble': 0.02831614628097262, 'direct_wrmse': 0.3412476844332663, 'direct_wrmse_ensemble': 0.9920881730752596, 'base_pred': 0.26592899375511314}.\n"
     ]
    },
    {
     "name": "stdout",
     "output_type": "stream",
     "text": [
      "[0.5921673031653202, 0.49137721646794913, 0.5454467038705942]\n"
     ]
    },
    {
     "name": "stderr",
     "output_type": "stream",
     "text": [
      "[I 2020-06-30 00:05:54,542] Finished trial#61 resulted in value: 0.5429970745012879. Current best value is 0.5426794333485685 with parameters: {'direct_rmse': 0.5773340193280917, 'direct_rmse_ensemble': 0.02831614628097262, 'direct_wrmse': 0.3412476844332663, 'direct_wrmse_ensemble': 0.9920881730752596, 'base_pred': 0.26592899375511314}.\n"
     ]
    },
    {
     "name": "stdout",
     "output_type": "stream",
     "text": [
      "[0.5952908671285744, 0.48845481668788215, 0.5464060279119884]\n"
     ]
    },
    {
     "name": "stderr",
     "output_type": "stream",
     "text": [
      "[I 2020-06-30 00:06:06,703] Finished trial#62 resulted in value: 0.5433839039094817. Current best value is 0.5426794333485685 with parameters: {'direct_rmse': 0.5773340193280917, 'direct_rmse_ensemble': 0.02831614628097262, 'direct_wrmse': 0.3412476844332663, 'direct_wrmse_ensemble': 0.9920881730752596, 'base_pred': 0.26592899375511314}.\n"
     ]
    },
    {
     "name": "stdout",
     "output_type": "stream",
     "text": [
      "[0.5924860329285653, 0.4902545336781334, 0.5454190982334155]\n"
     ]
    },
    {
     "name": "stderr",
     "output_type": "stream",
     "text": [
      "[I 2020-06-30 00:06:18,942] Finished trial#63 resulted in value: 0.542719888280038. Current best value is 0.5426794333485685 with parameters: {'direct_rmse': 0.5773340193280917, 'direct_rmse_ensemble': 0.02831614628097262, 'direct_wrmse': 0.3412476844332663, 'direct_wrmse_ensemble': 0.9920881730752596, 'base_pred': 0.26592899375511314}.\n"
     ]
    },
    {
     "name": "stdout",
     "output_type": "stream",
     "text": [
      "[0.5910091432042149, 0.493452557415004, 0.544930924277533]\n"
     ]
    },
    {
     "name": "stderr",
     "output_type": "stream",
     "text": [
      "[I 2020-06-30 00:06:30,898] Finished trial#64 resulted in value: 0.543130874965584. Current best value is 0.5426794333485685 with parameters: {'direct_rmse': 0.5773340193280917, 'direct_rmse_ensemble': 0.02831614628097262, 'direct_wrmse': 0.3412476844332663, 'direct_wrmse_ensemble': 0.9920881730752596, 'base_pred': 0.26592899375511314}.\n"
     ]
    },
    {
     "name": "stdout",
     "output_type": "stream",
     "text": [
      "[0.5920221631066687, 0.491010836444364, 0.5455924038824425]\n"
     ]
    },
    {
     "name": "stderr",
     "output_type": "stream",
     "text": [
      "[I 2020-06-30 00:06:42,755] Finished trial#65 resulted in value: 0.542875134477825. Current best value is 0.5426794333485685 with parameters: {'direct_rmse': 0.5773340193280917, 'direct_rmse_ensemble': 0.02831614628097262, 'direct_wrmse': 0.3412476844332663, 'direct_wrmse_ensemble': 0.9920881730752596, 'base_pred': 0.26592899375511314}.\n"
     ]
    },
    {
     "name": "stdout",
     "output_type": "stream",
     "text": [
      "[0.5927348039520499, 0.48964566352522115, 0.5456126799903954]\n"
     ]
    },
    {
     "name": "stderr",
     "output_type": "stream",
     "text": [
      "[I 2020-06-30 00:06:54,840] Finished trial#66 resulted in value: 0.5426643824892222. Current best value is 0.5426643824892222 with parameters: {'direct_rmse': 0.5121793855987521, 'direct_rmse_ensemble': 0.0012430848573010793, 'direct_wrmse': 0.27385991136920584, 'direct_wrmse_ensemble': 0.9154675638609846, 'base_pred': 0.26640389633803596}.\n"
     ]
    },
    {
     "name": "stdout",
     "output_type": "stream",
     "text": [
      "[0.5923017979931738, 0.49104970259750685, 0.5453646786044438]\n"
     ]
    },
    {
     "name": "stderr",
     "output_type": "stream",
     "text": [
      "[I 2020-06-30 00:07:06,881] Finished trial#67 resulted in value: 0.5429053930650415. Current best value is 0.5426643824892222 with parameters: {'direct_rmse': 0.5121793855987521, 'direct_rmse_ensemble': 0.0012430848573010793, 'direct_wrmse': 0.27385991136920584, 'direct_wrmse_ensemble': 0.9154675638609846, 'base_pred': 0.26640389633803596}.\n"
     ]
    },
    {
     "name": "stdout",
     "output_type": "stream",
     "text": [
      "[0.5931656287276019, 0.49028541562940053, 0.5450073444927817]\n"
     ]
    },
    {
     "name": "stderr",
     "output_type": "stream",
     "text": [
      "[I 2020-06-30 00:07:19,660] Finished trial#68 resulted in value: 0.542819462949928. Current best value is 0.5426643824892222 with parameters: {'direct_rmse': 0.5121793855987521, 'direct_rmse_ensemble': 0.0012430848573010793, 'direct_wrmse': 0.27385991136920584, 'direct_wrmse_ensemble': 0.9154675638609846, 'base_pred': 0.26640389633803596}.\n"
     ]
    },
    {
     "name": "stdout",
     "output_type": "stream",
     "text": [
      "[0.5925420641627341, 0.4908314381578514, 0.5448016013617116]\n"
     ]
    },
    {
     "name": "stderr",
     "output_type": "stream",
     "text": [
      "[I 2020-06-30 00:07:32,497] Finished trial#69 resulted in value: 0.5427250345607657. Current best value is 0.5426643824892222 with parameters: {'direct_rmse': 0.5121793855987521, 'direct_rmse_ensemble': 0.0012430848573010793, 'direct_wrmse': 0.27385991136920584, 'direct_wrmse_ensemble': 0.9154675638609846, 'base_pred': 0.26640389633803596}.\n"
     ]
    },
    {
     "name": "stdout",
     "output_type": "stream",
     "text": [
      "[0.5940473090921742, 0.48775919061580614, 0.5465954005476252]\n"
     ]
    },
    {
     "name": "stderr",
     "output_type": "stream",
     "text": [
      "[I 2020-06-30 00:07:44,844] Finished trial#70 resulted in value: 0.5428006334185352. Current best value is 0.5426643824892222 with parameters: {'direct_rmse': 0.5121793855987521, 'direct_rmse_ensemble': 0.0012430848573010793, 'direct_wrmse': 0.27385991136920584, 'direct_wrmse_ensemble': 0.9154675638609846, 'base_pred': 0.26640389633803596}.\n"
     ]
    },
    {
     "name": "stdout",
     "output_type": "stream",
     "text": [
      "[0.5933928651081511, 0.4887093626412547, 0.5461675306924153]\n"
     ]
    },
    {
     "name": "stderr",
     "output_type": "stream",
     "text": [
      "[I 2020-06-30 00:07:56,978] Finished trial#71 resulted in value: 0.5427565861472737. Current best value is 0.5426643824892222 with parameters: {'direct_rmse': 0.5121793855987521, 'direct_rmse_ensemble': 0.0012430848573010793, 'direct_wrmse': 0.27385991136920584, 'direct_wrmse_ensemble': 0.9154675638609846, 'base_pred': 0.26640389633803596}.\n"
     ]
    },
    {
     "name": "stdout",
     "output_type": "stream",
     "text": [
      "[0.5931323320099133, 0.48866388402605093, 0.5464649141777697]\n"
     ]
    },
    {
     "name": "stderr",
     "output_type": "stream",
     "text": [
      "[I 2020-06-30 00:08:09,229] Finished trial#72 resulted in value: 0.5427537100712446. Current best value is 0.5426643824892222 with parameters: {'direct_rmse': 0.5121793855987521, 'direct_rmse_ensemble': 0.0012430848573010793, 'direct_wrmse': 0.27385991136920584, 'direct_wrmse_ensemble': 0.9154675638609846, 'base_pred': 0.26640389633803596}.\n"
     ]
    },
    {
     "name": "stdout",
     "output_type": "stream",
     "text": [
      "[0.5939933688282759, 0.4900928235992543, 0.5450125199660937]\n"
     ]
    },
    {
     "name": "stderr",
     "output_type": "stream",
     "text": [
      "[I 2020-06-30 00:08:21,200] Finished trial#73 resulted in value: 0.543032904131208. Current best value is 0.5426643824892222 with parameters: {'direct_rmse': 0.5121793855987521, 'direct_rmse_ensemble': 0.0012430848573010793, 'direct_wrmse': 0.27385991136920584, 'direct_wrmse_ensemble': 0.9154675638609846, 'base_pred': 0.26640389633803596}.\n"
     ]
    },
    {
     "name": "stdout",
     "output_type": "stream",
     "text": [
      "[0.593797432117157, 0.4886442868004906, 0.5461535041275426]\n"
     ]
    },
    {
     "name": "stderr",
     "output_type": "stream",
     "text": [
      "[I 2020-06-30 00:08:33,255] Finished trial#74 resulted in value: 0.5428650743483967. Current best value is 0.5426643824892222 with parameters: {'direct_rmse': 0.5121793855987521, 'direct_rmse_ensemble': 0.0012430848573010793, 'direct_wrmse': 0.27385991136920584, 'direct_wrmse_ensemble': 0.9154675638609846, 'base_pred': 0.26640389633803596}.\n"
     ]
    },
    {
     "name": "stdout",
     "output_type": "stream",
     "text": [
      "[0.593948263797555, 0.48844072758515705, 0.5461335304242634]\n"
     ]
    },
    {
     "name": "stderr",
     "output_type": "stream",
     "text": [
      "[I 2020-06-30 00:08:45,128] Finished trial#75 resulted in value: 0.5428408406023252. Current best value is 0.5426643824892222 with parameters: {'direct_rmse': 0.5121793855987521, 'direct_rmse_ensemble': 0.0012430848573010793, 'direct_wrmse': 0.27385991136920584, 'direct_wrmse_ensemble': 0.9154675638609846, 'base_pred': 0.26640389633803596}.\n"
     ]
    },
    {
     "name": "stdout",
     "output_type": "stream",
     "text": [
      "[0.5932161621946584, 0.48980745100587963, 0.5454685677939508]\n"
     ]
    },
    {
     "name": "stderr",
     "output_type": "stream",
     "text": [
      "[I 2020-06-30 00:08:57,090] Finished trial#76 resulted in value: 0.542830726998163. Current best value is 0.5426643824892222 with parameters: {'direct_rmse': 0.5121793855987521, 'direct_rmse_ensemble': 0.0012430848573010793, 'direct_wrmse': 0.27385991136920584, 'direct_wrmse_ensemble': 0.9154675638609846, 'base_pred': 0.26640389633803596}.\n"
     ]
    },
    {
     "name": "stdout",
     "output_type": "stream",
     "text": [
      "[0.5912986770696244, 0.4936764661037471, 0.5438590928072141]\n"
     ]
    },
    {
     "name": "stderr",
     "output_type": "stream",
     "text": [
      "[I 2020-06-30 00:09:09,255] Finished trial#77 resulted in value: 0.5429447453268619. Current best value is 0.5426643824892222 with parameters: {'direct_rmse': 0.5121793855987521, 'direct_rmse_ensemble': 0.0012430848573010793, 'direct_wrmse': 0.27385991136920584, 'direct_wrmse_ensemble': 0.9154675638609846, 'base_pred': 0.26640389633803596}.\n"
     ]
    },
    {
     "name": "stdout",
     "output_type": "stream",
     "text": [
      "[0.5938701181151181, 0.4881018336440402, 0.5464648115534113]\n"
     ]
    },
    {
     "name": "stderr",
     "output_type": "stream",
     "text": [
      "[I 2020-06-30 00:09:21,314] Finished trial#78 resulted in value: 0.5428122544375232. Current best value is 0.5426643824892222 with parameters: {'direct_rmse': 0.5121793855987521, 'direct_rmse_ensemble': 0.0012430848573010793, 'direct_wrmse': 0.27385991136920584, 'direct_wrmse_ensemble': 0.9154675638609846, 'base_pred': 0.26640389633803596}.\n"
     ]
    },
    {
     "name": "stdout",
     "output_type": "stream",
     "text": [
      "[0.5931461587092947, 0.48942579243160367, 0.5456344530480465]\n"
     ]
    },
    {
     "name": "stderr",
     "output_type": "stream",
     "text": [
      "[I 2020-06-30 00:09:33,733] Finished trial#79 resulted in value: 0.5427354680629816. Current best value is 0.5426643824892222 with parameters: {'direct_rmse': 0.5121793855987521, 'direct_rmse_ensemble': 0.0012430848573010793, 'direct_wrmse': 0.27385991136920584, 'direct_wrmse_ensemble': 0.9154675638609846, 'base_pred': 0.26640389633803596}.\n"
     ]
    },
    {
     "name": "stdout",
     "output_type": "stream",
     "text": [
      "[0.590637396557365, 0.49534566565062593, 0.5451613256821038]\n"
     ]
    },
    {
     "name": "stderr",
     "output_type": "stream",
     "text": [
      "[I 2020-06-30 00:09:45,577] Finished trial#80 resulted in value: 0.5437147959633649. Current best value is 0.5426643824892222 with parameters: {'direct_rmse': 0.5121793855987521, 'direct_rmse_ensemble': 0.0012430848573010793, 'direct_wrmse': 0.27385991136920584, 'direct_wrmse_ensemble': 0.9154675638609846, 'base_pred': 0.26640389633803596}.\n"
     ]
    },
    {
     "name": "stdout",
     "output_type": "stream",
     "text": [
      "[0.593667870509371, 0.4908135099311528, 0.5446746056052605]\n"
     ]
    },
    {
     "name": "stderr",
     "output_type": "stream",
     "text": [
      "[I 2020-06-30 00:09:57,550] Finished trial#81 resulted in value: 0.5430519953485947. Current best value is 0.5426643824892222 with parameters: {'direct_rmse': 0.5121793855987521, 'direct_rmse_ensemble': 0.0012430848573010793, 'direct_wrmse': 0.27385991136920584, 'direct_wrmse_ensemble': 0.9154675638609846, 'base_pred': 0.26640389633803596}.\n"
     ]
    },
    {
     "name": "stdout",
     "output_type": "stream",
     "text": [
      "[0.592498775587426, 0.49113736669008085, 0.5446521460495135]\n"
     ]
    },
    {
     "name": "stderr",
     "output_type": "stream",
     "text": [
      "[I 2020-06-30 00:10:09,647] Finished trial#82 resulted in value: 0.5427627627756735. Current best value is 0.5426643824892222 with parameters: {'direct_rmse': 0.5121793855987521, 'direct_rmse_ensemble': 0.0012430848573010793, 'direct_wrmse': 0.27385991136920584, 'direct_wrmse_ensemble': 0.9154675638609846, 'base_pred': 0.26640389633803596}.\n"
     ]
    },
    {
     "name": "stdout",
     "output_type": "stream",
     "text": [
      "[0.5933948844419776, 0.4921478148186667, 0.5439669322984295]\n"
     ]
    },
    {
     "name": "stderr",
     "output_type": "stream",
     "text": [
      "[I 2020-06-30 00:10:21,806] Finished trial#83 resulted in value: 0.5431698771863579. Current best value is 0.5426643824892222 with parameters: {'direct_rmse': 0.5121793855987521, 'direct_rmse_ensemble': 0.0012430848573010793, 'direct_wrmse': 0.27385991136920584, 'direct_wrmse_ensemble': 0.9154675638609846, 'base_pred': 0.26640389633803596}.\n"
     ]
    },
    {
     "name": "stdout",
     "output_type": "stream",
     "text": [
      "[0.5966379082308386, 0.4865276377876291, 0.5475449865028456]\n"
     ]
    },
    {
     "name": "stderr",
     "output_type": "stream",
     "text": [
      "[I 2020-06-30 00:10:34,371] Finished trial#84 resulted in value: 0.5435701775071045. Current best value is 0.5426643824892222 with parameters: {'direct_rmse': 0.5121793855987521, 'direct_rmse_ensemble': 0.0012430848573010793, 'direct_wrmse': 0.27385991136920584, 'direct_wrmse_ensemble': 0.9154675638609846, 'base_pred': 0.26640389633803596}.\n"
     ]
    },
    {
     "name": "stdout",
     "output_type": "stream",
     "text": [
      "[0.5945470755491881, 0.4945725347372712, 0.5431043249090923]\n"
     ]
    },
    {
     "name": "stderr",
     "output_type": "stream",
     "text": [
      "[I 2020-06-30 00:10:46,380] Finished trial#85 resulted in value: 0.5440746450651839. Current best value is 0.5426643824892222 with parameters: {'direct_rmse': 0.5121793855987521, 'direct_rmse_ensemble': 0.0012430848573010793, 'direct_wrmse': 0.27385991136920584, 'direct_wrmse_ensemble': 0.9154675638609846, 'base_pred': 0.26640389633803596}.\n"
     ]
    },
    {
     "name": "stdout",
     "output_type": "stream",
     "text": [
      "[0.5947976580886449, 0.48711979058909577, 0.5477855626422464]\n"
     ]
    },
    {
     "name": "stderr",
     "output_type": "stream",
     "text": [
      "[I 2020-06-30 00:10:58,458] Finished trial#86 resulted in value: 0.5432343371066625. Current best value is 0.5426643824892222 with parameters: {'direct_rmse': 0.5121793855987521, 'direct_rmse_ensemble': 0.0012430848573010793, 'direct_wrmse': 0.27385991136920584, 'direct_wrmse_ensemble': 0.9154675638609846, 'base_pred': 0.26640389633803596}.\n"
     ]
    },
    {
     "name": "stdout",
     "output_type": "stream",
     "text": [
      "[0.5924176159866641, 0.4915559137683772, 0.5445494294726694]\n"
     ]
    },
    {
     "name": "stderr",
     "output_type": "stream",
     "text": [
      "[I 2020-06-30 00:11:11,009] Finished trial#87 resulted in value: 0.5428409864092368. Current best value is 0.5426643824892222 with parameters: {'direct_rmse': 0.5121793855987521, 'direct_rmse_ensemble': 0.0012430848573010793, 'direct_wrmse': 0.27385991136920584, 'direct_wrmse_ensemble': 0.9154675638609846, 'base_pred': 0.26640389633803596}.\n"
     ]
    },
    {
     "name": "stdout",
     "output_type": "stream",
     "text": [
      "[0.5964941702960008, 0.4942984472508924, 0.5438272184633063]\n"
     ]
    },
    {
     "name": "stderr",
     "output_type": "stream",
     "text": [
      "[I 2020-06-30 00:11:23,029] Finished trial#88 resulted in value: 0.5448732786700665. Current best value is 0.5426643824892222 with parameters: {'direct_rmse': 0.5121793855987521, 'direct_rmse_ensemble': 0.0012430848573010793, 'direct_wrmse': 0.27385991136920584, 'direct_wrmse_ensemble': 0.9154675638609846, 'base_pred': 0.26640389633803596}.\n"
     ]
    },
    {
     "name": "stdout",
     "output_type": "stream",
     "text": [
      "[0.5963754524511116, 0.48977214275515557, 0.5456543060483984]\n"
     ]
    },
    {
     "name": "stderr",
     "output_type": "stream",
     "text": [
      "[I 2020-06-30 00:11:35,152] Finished trial#89 resulted in value: 0.5439339670848885. Current best value is 0.5426643824892222 with parameters: {'direct_rmse': 0.5121793855987521, 'direct_rmse_ensemble': 0.0012430848573010793, 'direct_wrmse': 0.27385991136920584, 'direct_wrmse_ensemble': 0.9154675638609846, 'base_pred': 0.26640389633803596}.\n"
     ]
    },
    {
     "name": "stdout",
     "output_type": "stream",
     "text": [
      "[0.591871154015507, 0.4932045973416703, 0.543691909527456]\n"
     ]
    },
    {
     "name": "stderr",
     "output_type": "stream",
     "text": [
      "[I 2020-06-30 00:11:47,290] Finished trial#90 resulted in value: 0.5429225536282112. Current best value is 0.5426643824892222 with parameters: {'direct_rmse': 0.5121793855987521, 'direct_rmse_ensemble': 0.0012430848573010793, 'direct_wrmse': 0.27385991136920584, 'direct_wrmse_ensemble': 0.9154675638609846, 'base_pred': 0.26640389633803596}.\n"
     ]
    },
    {
     "name": "stdout",
     "output_type": "stream",
     "text": [
      "[0.595058224331484, 0.4904444695753279, 0.5450586490481529]\n"
     ]
    },
    {
     "name": "stderr",
     "output_type": "stream",
     "text": [
      "[I 2020-06-30 00:11:59,235] Finished trial#91 resulted in value: 0.543520447651655. Current best value is 0.5426643824892222 with parameters: {'direct_rmse': 0.5121793855987521, 'direct_rmse_ensemble': 0.0012430848573010793, 'direct_wrmse': 0.27385991136920584, 'direct_wrmse_ensemble': 0.9154675638609846, 'base_pred': 0.26640389633803596}.\n"
     ]
    },
    {
     "name": "stdout",
     "output_type": "stream",
     "text": [
      "[0.5949363378285619, 0.48620366978108337, 0.5477557770075121]\n"
     ]
    },
    {
     "name": "stderr",
     "output_type": "stream",
     "text": [
      "[I 2020-06-30 00:12:11,137] Finished trial#92 resulted in value: 0.5429652615390524. Current best value is 0.5426643824892222 with parameters: {'direct_rmse': 0.5121793855987521, 'direct_rmse_ensemble': 0.0012430848573010793, 'direct_wrmse': 0.27385991136920584, 'direct_wrmse_ensemble': 0.9154675638609846, 'base_pred': 0.26640389633803596}.\n"
     ]
    },
    {
     "name": "stdout",
     "output_type": "stream",
     "text": [
      "[0.5966022079928993, 0.49395687825130574, 0.5439589181559753]\n"
     ]
    },
    {
     "name": "stderr",
     "output_type": "stream",
     "text": [
      "[I 2020-06-30 00:12:22,944] Finished trial#93 resulted in value: 0.5448393348000601. Current best value is 0.5426643824892222 with parameters: {'direct_rmse': 0.5121793855987521, 'direct_rmse_ensemble': 0.0012430848573010793, 'direct_wrmse': 0.27385991136920584, 'direct_wrmse_ensemble': 0.9154675638609846, 'base_pred': 0.26640389633803596}.\n"
     ]
    },
    {
     "name": "stdout",
     "output_type": "stream",
     "text": [
      "[0.5939648834492738, 0.4885660295742746, 0.5461865377408529]\n"
     ]
    },
    {
     "name": "stderr",
     "output_type": "stream",
     "text": [
      "[I 2020-06-30 00:12:35,260] Finished trial#94 resulted in value: 0.5429058169214671. Current best value is 0.5426643824892222 with parameters: {'direct_rmse': 0.5121793855987521, 'direct_rmse_ensemble': 0.0012430848573010793, 'direct_wrmse': 0.27385991136920584, 'direct_wrmse_ensemble': 0.9154675638609846, 'base_pred': 0.26640389633803596}.\n"
     ]
    },
    {
     "name": "stdout",
     "output_type": "stream",
     "text": [
      "[0.5949441071003563, 0.48568099621365673, 0.5486506044099493]\n"
     ]
    },
    {
     "name": "stderr",
     "output_type": "stream",
     "text": [
      "[I 2020-06-30 00:12:47,403] Finished trial#95 resulted in value: 0.5430919025746541. Current best value is 0.5426643824892222 with parameters: {'direct_rmse': 0.5121793855987521, 'direct_rmse_ensemble': 0.0012430848573010793, 'direct_wrmse': 0.27385991136920584, 'direct_wrmse_ensemble': 0.9154675638609846, 'base_pred': 0.26640389633803596}.\n"
     ]
    },
    {
     "name": "stdout",
     "output_type": "stream",
     "text": [
      "[0.593117863269895, 0.4904812688234765, 0.5449393510945328]\n"
     ]
    },
    {
     "name": "stderr",
     "output_type": "stream",
     "text": [
      "[I 2020-06-30 00:12:59,846] Finished trial#96 resulted in value: 0.5428461610626348. Current best value is 0.5426643824892222 with parameters: {'direct_rmse': 0.5121793855987521, 'direct_rmse_ensemble': 0.0012430848573010793, 'direct_wrmse': 0.27385991136920584, 'direct_wrmse_ensemble': 0.9154675638609846, 'base_pred': 0.26640389633803596}.\n"
     ]
    },
    {
     "name": "stdout",
     "output_type": "stream",
     "text": [
      "[0.5917683622750515, 0.4919383564366517, 0.5447489627253498]\n"
     ]
    },
    {
     "name": "stderr",
     "output_type": "stream",
     "text": [
      "[I 2020-06-30 00:13:12,297] Finished trial#97 resulted in value: 0.5428185604790176. Current best value is 0.5426643824892222 with parameters: {'direct_rmse': 0.5121793855987521, 'direct_rmse_ensemble': 0.0012430848573010793, 'direct_wrmse': 0.27385991136920584, 'direct_wrmse_ensemble': 0.9154675638609846, 'base_pred': 0.26640389633803596}.\n"
     ]
    },
    {
     "name": "stdout",
     "output_type": "stream",
     "text": [
      "[0.5928779123308027, 0.4914427950202686, 0.5447607771842992]\n"
     ]
    },
    {
     "name": "stderr",
     "output_type": "stream",
     "text": [
      "[I 2020-06-30 00:13:24,143] Finished trial#98 resulted in value: 0.5430271615117901. Current best value is 0.5426643824892222 with parameters: {'direct_rmse': 0.5121793855987521, 'direct_rmse_ensemble': 0.0012430848573010793, 'direct_wrmse': 0.27385991136920584, 'direct_wrmse_ensemble': 0.9154675638609846, 'base_pred': 0.26640389633803596}.\n"
     ]
    },
    {
     "name": "stdout",
     "output_type": "stream",
     "text": [
      "[0.5971536400495094, 0.4849895129131956, 0.5488773349582502]\n"
     ]
    },
    {
     "name": "stderr",
     "output_type": "stream",
     "text": [
      "[I 2020-06-30 00:13:36,361] Finished trial#99 resulted in value: 0.5436734959736517. Current best value is 0.5426643824892222 with parameters: {'direct_rmse': 0.5121793855987521, 'direct_rmse_ensemble': 0.0012430848573010793, 'direct_wrmse': 0.27385991136920584, 'direct_wrmse_ensemble': 0.9154675638609846, 'base_pred': 0.26640389633803596}.\n"
     ]
    },
    {
     "name": "stdout",
     "output_type": "stream",
     "text": [
      "[0.595754702850428, 0.4898042954605035, 0.5455145352624781]\n"
     ]
    },
    {
     "name": "stderr",
     "output_type": "stream",
     "text": [
      "[I 2020-06-30 00:13:48,272] Finished trial#100 resulted in value: 0.5436911778578032. Current best value is 0.5426643824892222 with parameters: {'direct_rmse': 0.5121793855987521, 'direct_rmse_ensemble': 0.0012430848573010793, 'direct_wrmse': 0.27385991136920584, 'direct_wrmse_ensemble': 0.9154675638609846, 'base_pred': 0.26640389633803596}.\n"
     ]
    },
    {
     "name": "stdout",
     "output_type": "stream",
     "text": [
      "[0.594439611302225, 0.4907857786461563, 0.5447067489371771]\n"
     ]
    },
    {
     "name": "stderr",
     "output_type": "stream",
     "text": [
      "[I 2020-06-30 00:14:00,173] Finished trial#101 resulted in value: 0.5433107129618527. Current best value is 0.5426643824892222 with parameters: {'direct_rmse': 0.5121793855987521, 'direct_rmse_ensemble': 0.0012430848573010793, 'direct_wrmse': 0.27385991136920584, 'direct_wrmse_ensemble': 0.9154675638609846, 'base_pred': 0.26640389633803596}.\n"
     ]
    },
    {
     "name": "stdout",
     "output_type": "stream",
     "text": [
      "[0.5960997601665607, 0.4876721668206438, 0.546708257527543]\n"
     ]
    },
    {
     "name": "stderr",
     "output_type": "stream",
     "text": [
      "[I 2020-06-30 00:14:12,312] Finished trial#102 resulted in value: 0.5434933948382492. Current best value is 0.5426643824892222 with parameters: {'direct_rmse': 0.5121793855987521, 'direct_rmse_ensemble': 0.0012430848573010793, 'direct_wrmse': 0.27385991136920584, 'direct_wrmse_ensemble': 0.9154675638609846, 'base_pred': 0.26640389633803596}.\n"
     ]
    },
    {
     "name": "stdout",
     "output_type": "stream",
     "text": [
      "[0.593918314887243, 0.48800584205308256, 0.5465086208721563]\n"
     ]
    },
    {
     "name": "stderr",
     "output_type": "stream",
     "text": [
      "[I 2020-06-30 00:14:24,360] Finished trial#103 resulted in value: 0.5428109259374939. Current best value is 0.5426643824892222 with parameters: {'direct_rmse': 0.5121793855987521, 'direct_rmse_ensemble': 0.0012430848573010793, 'direct_wrmse': 0.27385991136920584, 'direct_wrmse_ensemble': 0.9154675638609846, 'base_pred': 0.26640389633803596}.\n"
     ]
    },
    {
     "name": "stdout",
     "output_type": "stream",
     "text": [
      "[0.5925610315929657, 0.489672809414686, 0.5457292441466441]\n"
     ]
    },
    {
     "name": "stderr",
     "output_type": "stream",
     "text": [
      "[I 2020-06-30 00:14:36,290] Finished trial#104 resulted in value: 0.5426543617180987. Current best value is 0.5426543617180987 with parameters: {'direct_rmse': 0.43620693105558084, 'direct_rmse_ensemble': 0.00035695939630667195, 'direct_wrmse': 0.42979567152384984, 'direct_wrmse_ensemble': 0.8845383929960402, 'base_pred': 0.366715757652114}.\n"
     ]
    },
    {
     "name": "stdout",
     "output_type": "stream",
     "text": [
      "[0.5944303805673795, 0.4981336614392622, 0.542128643498026]\n"
     ]
    },
    {
     "name": "stderr",
     "output_type": "stream",
     "text": [
      "[I 2020-06-30 00:14:48,275] Finished trial#105 resulted in value: 0.5448975618348891. Current best value is 0.5426543617180987 with parameters: {'direct_rmse': 0.43620693105558084, 'direct_rmse_ensemble': 0.00035695939630667195, 'direct_wrmse': 0.42979567152384984, 'direct_wrmse_ensemble': 0.8845383929960402, 'base_pred': 0.366715757652114}.\n"
     ]
    },
    {
     "name": "stdout",
     "output_type": "stream",
     "text": [
      "[0.593198149432213, 0.4910837949657338, 0.5444840006282698]\n"
     ]
    },
    {
     "name": "stderr",
     "output_type": "stream",
     "text": [
      "[I 2020-06-30 00:15:00,380] Finished trial#106 resulted in value: 0.5429219816754055. Current best value is 0.5426543617180987 with parameters: {'direct_rmse': 0.43620693105558084, 'direct_rmse_ensemble': 0.00035695939630667195, 'direct_wrmse': 0.42979567152384984, 'direct_wrmse_ensemble': 0.8845383929960402, 'base_pred': 0.366715757652114}.\n"
     ]
    },
    {
     "name": "stdout",
     "output_type": "stream",
     "text": [
      "[0.5954989901182534, 0.48999681871541706, 0.5454450091990374]\n"
     ]
    },
    {
     "name": "stderr",
     "output_type": "stream",
     "text": [
      "[I 2020-06-30 00:15:12,533] Finished trial#107 resulted in value: 0.5436469393442359. Current best value is 0.5426543617180987 with parameters: {'direct_rmse': 0.43620693105558084, 'direct_rmse_ensemble': 0.00035695939630667195, 'direct_wrmse': 0.42979567152384984, 'direct_wrmse_ensemble': 0.8845383929960402, 'base_pred': 0.366715757652114}.\n"
     ]
    },
    {
     "name": "stdout",
     "output_type": "stream",
     "text": [
      "[0.5945295589354228, 0.4884260665210772, 0.5462073297151784]\n"
     ]
    },
    {
     "name": "stderr",
     "output_type": "stream",
     "text": [
      "[I 2020-06-30 00:15:24,532] Finished trial#108 resulted in value: 0.5430543183905595. Current best value is 0.5426543617180987 with parameters: {'direct_rmse': 0.43620693105558084, 'direct_rmse_ensemble': 0.00035695939630667195, 'direct_wrmse': 0.42979567152384984, 'direct_wrmse_ensemble': 0.8845383929960402, 'base_pred': 0.366715757652114}.\n"
     ]
    },
    {
     "name": "stdout",
     "output_type": "stream",
     "text": [
      "[0.5937508024929378, 0.49002990498546756, 0.545112191342851]\n"
     ]
    },
    {
     "name": "stderr",
     "output_type": "stream",
     "text": [
      "[I 2020-06-30 00:15:36,651] Finished trial#109 resulted in value: 0.5429642996070855. Current best value is 0.5426543617180987 with parameters: {'direct_rmse': 0.43620693105558084, 'direct_rmse_ensemble': 0.00035695939630667195, 'direct_wrmse': 0.42979567152384984, 'direct_wrmse_ensemble': 0.8845383929960402, 'base_pred': 0.366715757652114}.\n"
     ]
    },
    {
     "name": "stdout",
     "output_type": "stream",
     "text": [
      "[0.5949807434723234, 0.492685480823148, 0.5448796285644563]\n"
     ]
    },
    {
     "name": "stderr",
     "output_type": "stream",
     "text": [
      "[I 2020-06-30 00:15:48,481] Finished trial#110 resulted in value: 0.5441819509533093. Current best value is 0.5426543617180987 with parameters: {'direct_rmse': 0.43620693105558084, 'direct_rmse_ensemble': 0.00035695939630667195, 'direct_wrmse': 0.42979567152384984, 'direct_wrmse_ensemble': 0.8845383929960402, 'base_pred': 0.366715757652114}.\n"
     ]
    },
    {
     "name": "stdout",
     "output_type": "stream",
     "text": [
      "[0.5929602476853671, 0.4896084574592587, 0.5456293874010741]\n"
     ]
    },
    {
     "name": "stderr",
     "output_type": "stream",
     "text": [
      "[I 2020-06-30 00:16:00,285] Finished trial#111 resulted in value: 0.5427326975152332. Current best value is 0.5426543617180987 with parameters: {'direct_rmse': 0.43620693105558084, 'direct_rmse_ensemble': 0.00035695939630667195, 'direct_wrmse': 0.42979567152384984, 'direct_wrmse_ensemble': 0.8845383929960402, 'base_pred': 0.366715757652114}.\n"
     ]
    },
    {
     "name": "stdout",
     "output_type": "stream",
     "text": [
      "[0.592750399214347, 0.4899980169177607, 0.5453196819127347]\n"
     ]
    },
    {
     "name": "stderr",
     "output_type": "stream",
     "text": [
      "[I 2020-06-30 00:16:12,395] Finished trial#112 resulted in value: 0.5426893660149474. Current best value is 0.5426543617180987 with parameters: {'direct_rmse': 0.43620693105558084, 'direct_rmse_ensemble': 0.00035695939630667195, 'direct_wrmse': 0.42979567152384984, 'direct_wrmse_ensemble': 0.8845383929960402, 'base_pred': 0.366715757652114}.\n"
     ]
    },
    {
     "name": "stdout",
     "output_type": "stream",
     "text": [
      "[0.5944942406421212, 0.4895439858641765, 0.5454671758717469]\n"
     ]
    },
    {
     "name": "stderr",
     "output_type": "stream",
     "text": [
      "[I 2020-06-30 00:16:24,129] Finished trial#113 resulted in value: 0.5431684674593482. Current best value is 0.5426543617180987 with parameters: {'direct_rmse': 0.43620693105558084, 'direct_rmse_ensemble': 0.00035695939630667195, 'direct_wrmse': 0.42979567152384984, 'direct_wrmse_ensemble': 0.8845383929960402, 'base_pred': 0.366715757652114}.\n"
     ]
    },
    {
     "name": "stdout",
     "output_type": "stream",
     "text": [
      "[0.594560858778065, 0.4943420028473074, 0.5435005266461598]\n"
     ]
    },
    {
     "name": "stderr",
     "output_type": "stream",
     "text": [
      "[I 2020-06-30 00:16:36,758] Finished trial#114 resulted in value: 0.5441344627571775. Current best value is 0.5426543617180987 with parameters: {'direct_rmse': 0.43620693105558084, 'direct_rmse_ensemble': 0.00035695939630667195, 'direct_wrmse': 0.42979567152384984, 'direct_wrmse_ensemble': 0.8845383929960402, 'base_pred': 0.366715757652114}.\n"
     ]
    },
    {
     "name": "stdout",
     "output_type": "stream",
     "text": [
      "[0.5925782268141818, 0.48980114379590156, 0.5456016132780114]\n"
     ]
    },
    {
     "name": "stderr",
     "output_type": "stream",
     "text": [
      "[I 2020-06-30 00:16:48,703] Finished trial#115 resulted in value: 0.5426603279626984. Current best value is 0.5426543617180987 with parameters: {'direct_rmse': 0.43620693105558084, 'direct_rmse_ensemble': 0.00035695939630667195, 'direct_wrmse': 0.42979567152384984, 'direct_wrmse_ensemble': 0.8845383929960402, 'base_pred': 0.366715757652114}.\n"
     ]
    },
    {
     "name": "stdout",
     "output_type": "stream",
     "text": [
      "[0.5938749217408087, 0.48816555537923795, 0.546403898028731]\n"
     ]
    },
    {
     "name": "stderr",
     "output_type": "stream",
     "text": [
      "[I 2020-06-30 00:17:01,117] Finished trial#116 resulted in value: 0.5428147917162592. Current best value is 0.5426543617180987 with parameters: {'direct_rmse': 0.43620693105558084, 'direct_rmse_ensemble': 0.00035695939630667195, 'direct_wrmse': 0.42979567152384984, 'direct_wrmse_ensemble': 0.8845383929960402, 'base_pred': 0.366715757652114}.\n"
     ]
    },
    {
     "name": "stdout",
     "output_type": "stream",
     "text": [
      "[0.5931375976982666, 0.48855753059191426, 0.5470080488412383]\n"
     ]
    },
    {
     "name": "stderr",
     "output_type": "stream",
     "text": [
      "[I 2020-06-30 00:17:13,169] Finished trial#117 resulted in value: 0.5429010590438064. Current best value is 0.5426543617180987 with parameters: {'direct_rmse': 0.43620693105558084, 'direct_rmse_ensemble': 0.00035695939630667195, 'direct_wrmse': 0.42979567152384984, 'direct_wrmse_ensemble': 0.8845383929960402, 'base_pred': 0.366715757652114}.\n"
     ]
    },
    {
     "name": "stdout",
     "output_type": "stream",
     "text": [
      "[0.5935435108385778, 0.4890923479203236, 0.5460976709189646]\n"
     ]
    },
    {
     "name": "stderr",
     "output_type": "stream",
     "text": [
      "[I 2020-06-30 00:17:25,264] Finished trial#118 resulted in value: 0.5429111765592887. Current best value is 0.5426543617180987 with parameters: {'direct_rmse': 0.43620693105558084, 'direct_rmse_ensemble': 0.00035695939630667195, 'direct_wrmse': 0.42979567152384984, 'direct_wrmse_ensemble': 0.8845383929960402, 'base_pred': 0.366715757652114}.\n"
     ]
    },
    {
     "name": "stdout",
     "output_type": "stream",
     "text": [
      "[0.5949688401516654, 0.486002789633952, 0.5484893052720571]\n"
     ]
    },
    {
     "name": "stderr",
     "output_type": "stream",
     "text": [
      "[I 2020-06-30 00:17:37,328] Finished trial#119 resulted in value: 0.5431536450192248. Current best value is 0.5426543617180987 with parameters: {'direct_rmse': 0.43620693105558084, 'direct_rmse_ensemble': 0.00035695939630667195, 'direct_wrmse': 0.42979567152384984, 'direct_wrmse_ensemble': 0.8845383929960402, 'base_pred': 0.366715757652114}.\n"
     ]
    },
    {
     "name": "stdout",
     "output_type": "stream",
     "text": [
      "[0.5949126325344232, 0.48776969265343256, 0.5466419518529303]\n"
     ]
    },
    {
     "name": "stderr",
     "output_type": "stream",
     "text": [
      "[I 2020-06-30 00:17:49,189] Finished trial#120 resulted in value: 0.5431080923469286. Current best value is 0.5426543617180987 with parameters: {'direct_rmse': 0.43620693105558084, 'direct_rmse_ensemble': 0.00035695939630667195, 'direct_wrmse': 0.42979567152384984, 'direct_wrmse_ensemble': 0.8845383929960402, 'base_pred': 0.366715757652114}.\n"
     ]
    },
    {
     "name": "stdout",
     "output_type": "stream",
     "text": [
      "[0.5941868227830591, 0.4879735346369332, 0.5465565713667936]\n"
     ]
    },
    {
     "name": "stderr",
     "output_type": "stream",
     "text": [
      "[I 2020-06-30 00:18:01,405] Finished trial#121 resulted in value: 0.5429056429289286. Current best value is 0.5426543617180987 with parameters: {'direct_rmse': 0.43620693105558084, 'direct_rmse_ensemble': 0.00035695939630667195, 'direct_wrmse': 0.42979567152384984, 'direct_wrmse_ensemble': 0.8845383929960402, 'base_pred': 0.366715757652114}.\n"
     ]
    },
    {
     "name": "stdout",
     "output_type": "stream",
     "text": [
      "[0.5920335779572892, 0.4942812798247309, 0.5432640895868179]\n"
     ]
    },
    {
     "name": "stderr",
     "output_type": "stream",
     "text": [
      "[I 2020-06-30 00:18:13,065] Finished trial#122 resulted in value: 0.5431929824562793. Current best value is 0.5426543617180987 with parameters: {'direct_rmse': 0.43620693105558084, 'direct_rmse_ensemble': 0.00035695939630667195, 'direct_wrmse': 0.42979567152384984, 'direct_wrmse_ensemble': 0.8845383929960402, 'base_pred': 0.366715757652114}.\n"
     ]
    },
    {
     "name": "stdout",
     "output_type": "stream",
     "text": [
      "[0.5932714495936546, 0.49026012060983354, 0.545156605477161]\n"
     ]
    },
    {
     "name": "stderr",
     "output_type": "stream",
     "text": [
      "[I 2020-06-30 00:18:25,381] Finished trial#123 resulted in value: 0.5428960585602164. Current best value is 0.5426543617180987 with parameters: {'direct_rmse': 0.43620693105558084, 'direct_rmse_ensemble': 0.00035695939630667195, 'direct_wrmse': 0.42979567152384984, 'direct_wrmse_ensemble': 0.8845383929960402, 'base_pred': 0.366715757652114}.\n"
     ]
    },
    {
     "name": "stdout",
     "output_type": "stream",
     "text": [
      "[0.5926439974321943, 0.48978586874155666, 0.5456276263042753]\n"
     ]
    },
    {
     "name": "stderr",
     "output_type": "stream",
     "text": [
      "[I 2020-06-30 00:18:37,373] Finished trial#124 resulted in value: 0.5426858308260089. Current best value is 0.5426543617180987 with parameters: {'direct_rmse': 0.43620693105558084, 'direct_rmse_ensemble': 0.00035695939630667195, 'direct_wrmse': 0.42979567152384984, 'direct_wrmse_ensemble': 0.8845383929960402, 'base_pred': 0.366715757652114}.\n"
     ]
    },
    {
     "name": "stdout",
     "output_type": "stream",
     "text": [
      "[0.5923286420862598, 0.490894660530833, 0.5448369203632056]\n"
     ]
    },
    {
     "name": "stderr",
     "output_type": "stream",
     "text": [
      "[I 2020-06-30 00:18:49,711] Finished trial#125 resulted in value: 0.5426867409934327. Current best value is 0.5426543617180987 with parameters: {'direct_rmse': 0.43620693105558084, 'direct_rmse_ensemble': 0.00035695939630667195, 'direct_wrmse': 0.42979567152384984, 'direct_wrmse_ensemble': 0.8845383929960402, 'base_pred': 0.366715757652114}.\n"
     ]
    },
    {
     "name": "stdout",
     "output_type": "stream",
     "text": [
      "[0.5932198801248755, 0.48930256379201187, 0.5460758446993663]\n"
     ]
    },
    {
     "name": "stderr",
     "output_type": "stream",
     "text": [
      "[I 2020-06-30 00:19:02,054] Finished trial#126 resulted in value: 0.5428660962054178. Current best value is 0.5426543617180987 with parameters: {'direct_rmse': 0.43620693105558084, 'direct_rmse_ensemble': 0.00035695939630667195, 'direct_wrmse': 0.42979567152384984, 'direct_wrmse_ensemble': 0.8845383929960402, 'base_pred': 0.366715757652114}.\n"
     ]
    },
    {
     "name": "stdout",
     "output_type": "stream",
     "text": [
      "[0.5927347209480086, 0.4916936302446116, 0.5442283513260188]\n"
     ]
    },
    {
     "name": "stderr",
     "output_type": "stream",
     "text": [
      "[I 2020-06-30 00:19:14,456] Finished trial#127 resulted in value: 0.5428855675062131. Current best value is 0.5426543617180987 with parameters: {'direct_rmse': 0.43620693105558084, 'direct_rmse_ensemble': 0.00035695939630667195, 'direct_wrmse': 0.42979567152384984, 'direct_wrmse_ensemble': 0.8845383929960402, 'base_pred': 0.366715757652114}.\n"
     ]
    },
    {
     "name": "stdout",
     "output_type": "stream",
     "text": [
      "[0.5942361341353211, 0.48780778195000774, 0.5465664968626204]\n"
     ]
    },
    {
     "name": "stderr",
     "output_type": "stream",
     "text": [
      "[I 2020-06-30 00:19:26,692] Finished trial#128 resulted in value: 0.5428701376493165. Current best value is 0.5426543617180987 with parameters: {'direct_rmse': 0.43620693105558084, 'direct_rmse_ensemble': 0.00035695939630667195, 'direct_wrmse': 0.42979567152384984, 'direct_wrmse_ensemble': 0.8845383929960402, 'base_pred': 0.366715757652114}.\n"
     ]
    },
    {
     "name": "stdout",
     "output_type": "stream",
     "text": [
      "[0.594546019813844, 0.4891645799295134, 0.5457467728349604]\n"
     ]
    },
    {
     "name": "stderr",
     "output_type": "stream",
     "text": [
      "[I 2020-06-30 00:19:38,578] Finished trial#129 resulted in value: 0.543152457526106. Current best value is 0.5426543617180987 with parameters: {'direct_rmse': 0.43620693105558084, 'direct_rmse_ensemble': 0.00035695939630667195, 'direct_wrmse': 0.42979567152384984, 'direct_wrmse_ensemble': 0.8845383929960402, 'base_pred': 0.366715757652114}.\n"
     ]
    },
    {
     "name": "stdout",
     "output_type": "stream",
     "text": [
      "[0.5943941697201763, 0.49018835970568064, 0.5451324894708766]\n"
     ]
    },
    {
     "name": "stderr",
     "output_type": "stream",
     "text": [
      "[I 2020-06-30 00:19:50,711] Finished trial#130 resulted in value: 0.5432383396322445. Current best value is 0.5426543617180987 with parameters: {'direct_rmse': 0.43620693105558084, 'direct_rmse_ensemble': 0.00035695939630667195, 'direct_wrmse': 0.42979567152384984, 'direct_wrmse_ensemble': 0.8845383929960402, 'base_pred': 0.366715757652114}.\n"
     ]
    },
    {
     "name": "stdout",
     "output_type": "stream",
     "text": [
      "[0.5968011291743974, 0.4858462184290501, 0.5481790502094255]\n"
     ]
    },
    {
     "name": "stderr",
     "output_type": "stream",
     "text": [
      "[I 2020-06-30 00:20:02,890] Finished trial#131 resulted in value: 0.5436087992709576. Current best value is 0.5426543617180987 with parameters: {'direct_rmse': 0.43620693105558084, 'direct_rmse_ensemble': 0.00035695939630667195, 'direct_wrmse': 0.42979567152384984, 'direct_wrmse_ensemble': 0.8845383929960402, 'base_pred': 0.366715757652114}.\n"
     ]
    },
    {
     "name": "stdout",
     "output_type": "stream",
     "text": [
      "[0.5984402431798028, 0.48755011137060805, 0.5479624850980466]\n"
     ]
    },
    {
     "name": "stderr",
     "output_type": "stream",
     "text": [
      "[I 2020-06-30 00:20:14,714] Finished trial#132 resulted in value: 0.5446509465494858. Current best value is 0.5426543617180987 with parameters: {'direct_rmse': 0.43620693105558084, 'direct_rmse_ensemble': 0.00035695939630667195, 'direct_wrmse': 0.42979567152384984, 'direct_wrmse_ensemble': 0.8845383929960402, 'base_pred': 0.366715757652114}.\n"
     ]
    },
    {
     "name": "stdout",
     "output_type": "stream",
     "text": [
      "[0.5928621594462368, 0.48891387110743967, 0.5467938609755584]\n"
     ]
    },
    {
     "name": "stderr",
     "output_type": "stream",
     "text": [
      "[I 2020-06-30 00:20:26,787] Finished trial#133 resulted in value: 0.542856630509745. Current best value is 0.5426543617180987 with parameters: {'direct_rmse': 0.43620693105558084, 'direct_rmse_ensemble': 0.00035695939630667195, 'direct_wrmse': 0.42979567152384984, 'direct_wrmse_ensemble': 0.8845383929960402, 'base_pred': 0.366715757652114}.\n"
     ]
    },
    {
     "name": "stdout",
     "output_type": "stream",
     "text": [
      "[0.595239627605074, 0.4908566335139685, 0.5449886765216818]\n"
     ]
    },
    {
     "name": "stderr",
     "output_type": "stream",
     "text": [
      "[I 2020-06-30 00:20:39,013] Finished trial#134 resulted in value: 0.5436949792135748. Current best value is 0.5426543617180987 with parameters: {'direct_rmse': 0.43620693105558084, 'direct_rmse_ensemble': 0.00035695939630667195, 'direct_wrmse': 0.42979567152384984, 'direct_wrmse_ensemble': 0.8845383929960402, 'base_pred': 0.366715757652114}.\n"
     ]
    },
    {
     "name": "stdout",
     "output_type": "stream",
     "text": [
      "[0.5927517429000334, 0.4895224354714895, 0.5459041433736428]\n"
     ]
    },
    {
     "name": "stderr",
     "output_type": "stream",
     "text": [
      "[I 2020-06-30 00:20:50,998] Finished trial#135 resulted in value: 0.5427261072483885. Current best value is 0.5426543617180987 with parameters: {'direct_rmse': 0.43620693105558084, 'direct_rmse_ensemble': 0.00035695939630667195, 'direct_wrmse': 0.42979567152384984, 'direct_wrmse_ensemble': 0.8845383929960402, 'base_pred': 0.366715757652114}.\n"
     ]
    },
    {
     "name": "stdout",
     "output_type": "stream",
     "text": [
      "[0.5958408178513072, 0.48551092024835363, 0.5482795357525793]\n"
     ]
    },
    {
     "name": "stderr",
     "output_type": "stream",
     "text": [
      "[I 2020-06-30 00:21:03,438] Finished trial#136 resulted in value: 0.5432104246174133. Current best value is 0.5426543617180987 with parameters: {'direct_rmse': 0.43620693105558084, 'direct_rmse_ensemble': 0.00035695939630667195, 'direct_wrmse': 0.42979567152384984, 'direct_wrmse_ensemble': 0.8845383929960402, 'base_pred': 0.366715757652114}.\n"
     ]
    },
    {
     "name": "stdout",
     "output_type": "stream",
     "text": [
      "[0.594116639820406, 0.48902164959786787, 0.5458223969706473]\n"
     ]
    },
    {
     "name": "stderr",
     "output_type": "stream",
     "text": [
      "[I 2020-06-30 00:21:15,386] Finished trial#137 resulted in value: 0.5429868954629736. Current best value is 0.5426543617180987 with parameters: {'direct_rmse': 0.43620693105558084, 'direct_rmse_ensemble': 0.00035695939630667195, 'direct_wrmse': 0.42979567152384984, 'direct_wrmse_ensemble': 0.8845383929960402, 'base_pred': 0.366715757652114}.\n"
     ]
    },
    {
     "name": "stdout",
     "output_type": "stream",
     "text": [
      "[0.590994252354003, 0.49363991073265145, 0.5446165243211613]\n"
     ]
    },
    {
     "name": "stderr",
     "output_type": "stream",
     "text": [
      "[I 2020-06-30 00:21:27,337] Finished trial#138 resulted in value: 0.5430835624692719. Current best value is 0.5426543617180987 with parameters: {'direct_rmse': 0.43620693105558084, 'direct_rmse_ensemble': 0.00035695939630667195, 'direct_wrmse': 0.42979567152384984, 'direct_wrmse_ensemble': 0.8845383929960402, 'base_pred': 0.366715757652114}.\n"
     ]
    },
    {
     "name": "stdout",
     "output_type": "stream",
     "text": [
      "[0.5937063269300945, 0.4886429714171427, 0.5461500215833638]\n"
     ]
    },
    {
     "name": "stderr",
     "output_type": "stream",
     "text": [
      "[I 2020-06-30 00:21:39,652] Finished trial#139 resulted in value: 0.5428331066435336. Current best value is 0.5426543617180987 with parameters: {'direct_rmse': 0.43620693105558084, 'direct_rmse_ensemble': 0.00035695939630667195, 'direct_wrmse': 0.42979567152384984, 'direct_wrmse_ensemble': 0.8845383929960402, 'base_pred': 0.366715757652114}.\n"
     ]
    },
    {
     "name": "stdout",
     "output_type": "stream",
     "text": [
      "[0.5932082767314327, 0.48865193104812005, 0.5464600646138856]\n"
     ]
    },
    {
     "name": "stderr",
     "output_type": "stream",
     "text": [
      "[I 2020-06-30 00:21:51,801] Finished trial#140 resulted in value: 0.5427734241311462. Current best value is 0.5426543617180987 with parameters: {'direct_rmse': 0.43620693105558084, 'direct_rmse_ensemble': 0.00035695939630667195, 'direct_wrmse': 0.42979567152384984, 'direct_wrmse_ensemble': 0.8845383929960402, 'base_pred': 0.366715757652114}.\n"
     ]
    },
    {
     "name": "stdout",
     "output_type": "stream",
     "text": [
      "[0.594225695721592, 0.49837825687002457, 0.5419399074159233]\n"
     ]
    },
    {
     "name": "stderr",
     "output_type": "stream",
     "text": [
      "[I 2020-06-30 00:22:03,885] Finished trial#141 resulted in value: 0.5448479533358467. Current best value is 0.5426543617180987 with parameters: {'direct_rmse': 0.43620693105558084, 'direct_rmse_ensemble': 0.00035695939630667195, 'direct_wrmse': 0.42979567152384984, 'direct_wrmse_ensemble': 0.8845383929960402, 'base_pred': 0.366715757652114}.\n"
     ]
    },
    {
     "name": "stdout",
     "output_type": "stream",
     "text": [
      "[0.594207889853376, 0.4940136656959988, 0.5434143712193115]\n"
     ]
    },
    {
     "name": "stderr",
     "output_type": "stream",
     "text": [
      "[I 2020-06-30 00:22:15,965] Finished trial#142 resulted in value: 0.5438786422562288. Current best value is 0.5426543617180987 with parameters: {'direct_rmse': 0.43620693105558084, 'direct_rmse_ensemble': 0.00035695939630667195, 'direct_wrmse': 0.42979567152384984, 'direct_wrmse_ensemble': 0.8845383929960402, 'base_pred': 0.366715757652114}.\n"
     ]
    },
    {
     "name": "stdout",
     "output_type": "stream",
     "text": [
      "[0.5921425826616312, 0.49756552365299256, 0.5418700538746497]\n"
     ]
    },
    {
     "name": "stderr",
     "output_type": "stream",
     "text": [
      "[I 2020-06-30 00:22:28,184] Finished trial#143 resulted in value: 0.5438593867297578. Current best value is 0.5426543617180987 with parameters: {'direct_rmse': 0.43620693105558084, 'direct_rmse_ensemble': 0.00035695939630667195, 'direct_wrmse': 0.42979567152384984, 'direct_wrmse_ensemble': 0.8845383929960402, 'base_pred': 0.366715757652114}.\n"
     ]
    },
    {
     "name": "stdout",
     "output_type": "stream",
     "text": [
      "[0.5931561788861291, 0.4898551722264964, 0.5453996770252578]\n"
     ]
    },
    {
     "name": "stderr",
     "output_type": "stream",
     "text": [
      "[I 2020-06-30 00:22:40,262] Finished trial#144 resulted in value: 0.5428036760459611. Current best value is 0.5426543617180987 with parameters: {'direct_rmse': 0.43620693105558084, 'direct_rmse_ensemble': 0.00035695939630667195, 'direct_wrmse': 0.42979567152384984, 'direct_wrmse_ensemble': 0.8845383929960402, 'base_pred': 0.366715757652114}.\n"
     ]
    },
    {
     "name": "stdout",
     "output_type": "stream",
     "text": [
      "[0.593005172076552, 0.48986460797691406, 0.5452933777615561]\n"
     ]
    },
    {
     "name": "stderr",
     "output_type": "stream",
     "text": [
      "[I 2020-06-30 00:22:52,561] Finished trial#145 resulted in value: 0.5427210526050074. Current best value is 0.5426543617180987 with parameters: {'direct_rmse': 0.43620693105558084, 'direct_rmse_ensemble': 0.00035695939630667195, 'direct_wrmse': 0.42979567152384984, 'direct_wrmse_ensemble': 0.8845383929960402, 'base_pred': 0.366715757652114}.\n"
     ]
    },
    {
     "name": "stdout",
     "output_type": "stream",
     "text": [
      "[0.5918169957513303, 0.49164578151293686, 0.5449192110378408]\n"
     ]
    },
    {
     "name": "stderr",
     "output_type": "stream",
     "text": [
      "[I 2020-06-30 00:23:04,820] Finished trial#146 resulted in value: 0.5427939961007026. Current best value is 0.5426543617180987 with parameters: {'direct_rmse': 0.43620693105558084, 'direct_rmse_ensemble': 0.00035695939630667195, 'direct_wrmse': 0.42979567152384984, 'direct_wrmse_ensemble': 0.8845383929960402, 'base_pred': 0.366715757652114}.\n"
     ]
    },
    {
     "name": "stdout",
     "output_type": "stream",
     "text": [
      "[0.5954254213822759, 0.4872143045600587, 0.5471322465762677]\n"
     ]
    },
    {
     "name": "stderr",
     "output_type": "stream",
     "text": [
      "[I 2020-06-30 00:23:16,646] Finished trial#147 resulted in value: 0.5432573241728674. Current best value is 0.5426543617180987 with parameters: {'direct_rmse': 0.43620693105558084, 'direct_rmse_ensemble': 0.00035695939630667195, 'direct_wrmse': 0.42979567152384984, 'direct_wrmse_ensemble': 0.8845383929960402, 'base_pred': 0.366715757652114}.\n"
     ]
    },
    {
     "name": "stdout",
     "output_type": "stream",
     "text": [
      "[0.5929929169822975, 0.4897955817914033, 0.5454436820369549]\n"
     ]
    },
    {
     "name": "stderr",
     "output_type": "stream",
     "text": [
      "[I 2020-06-30 00:23:28,426] Finished trial#148 resulted in value: 0.5427440602702186. Current best value is 0.5426543617180987 with parameters: {'direct_rmse': 0.43620693105558084, 'direct_rmse_ensemble': 0.00035695939630667195, 'direct_wrmse': 0.42979567152384984, 'direct_wrmse_ensemble': 0.8845383929960402, 'base_pred': 0.366715757652114}.\n"
     ]
    },
    {
     "name": "stdout",
     "output_type": "stream",
     "text": [
      "[0.5927392356970586, 0.49131968840479856, 0.5444215216084984]\n"
     ]
    },
    {
     "name": "stderr",
     "output_type": "stream",
     "text": [
      "[I 2020-06-30 00:23:40,591] Finished trial#149 resulted in value: 0.5428268152367851. Current best value is 0.5426543617180987 with parameters: {'direct_rmse': 0.43620693105558084, 'direct_rmse_ensemble': 0.00035695939630667195, 'direct_wrmse': 0.42979567152384984, 'direct_wrmse_ensemble': 0.8845383929960402, 'base_pred': 0.366715757652114}.\n"
     ]
    },
    {
     "name": "stdout",
     "output_type": "stream",
     "text": [
      "[0.5933090274594218, 0.48915911705023146, 0.5457323960885808]\n"
     ]
    },
    {
     "name": "stderr",
     "output_type": "stream",
     "text": [
      "[I 2020-06-30 00:23:52,575] Finished trial#150 resulted in value: 0.5427335135327448. Current best value is 0.5426543617180987 with parameters: {'direct_rmse': 0.43620693105558084, 'direct_rmse_ensemble': 0.00035695939630667195, 'direct_wrmse': 0.42979567152384984, 'direct_wrmse_ensemble': 0.8845383929960402, 'base_pred': 0.366715757652114}.\n"
     ]
    },
    {
     "name": "stdout",
     "output_type": "stream",
     "text": [
      "[0.5935612958968314, 0.48774874989349687, 0.5468944687230934]\n"
     ]
    },
    {
     "name": "stderr",
     "output_type": "stream",
     "text": [
      "[I 2020-06-30 00:24:04,609] Finished trial#151 resulted in value: 0.5427348381711405. Current best value is 0.5426543617180987 with parameters: {'direct_rmse': 0.43620693105558084, 'direct_rmse_ensemble': 0.00035695939630667195, 'direct_wrmse': 0.42979567152384984, 'direct_wrmse_ensemble': 0.8845383929960402, 'base_pred': 0.366715757652114}.\n"
     ]
    },
    {
     "name": "stdout",
     "output_type": "stream",
     "text": [
      "[0.5924485072478359, 0.49175682975397267, 0.5442073441733074]\n"
     ]
    },
    {
     "name": "stderr",
     "output_type": "stream",
     "text": [
      "[I 2020-06-30 00:24:16,647] Finished trial#152 resulted in value: 0.542804227058372. Current best value is 0.5426543617180987 with parameters: {'direct_rmse': 0.43620693105558084, 'direct_rmse_ensemble': 0.00035695939630667195, 'direct_wrmse': 0.42979567152384984, 'direct_wrmse_ensemble': 0.8845383929960402, 'base_pred': 0.366715757652114}.\n"
     ]
    },
    {
     "name": "stdout",
     "output_type": "stream",
     "text": [
      "[0.5943124667128996, 0.48690491783581114, 0.5473710832758593]\n"
     ]
    },
    {
     "name": "stderr",
     "output_type": "stream",
     "text": [
      "[I 2020-06-30 00:24:28,821] Finished trial#153 resulted in value: 0.54286282260819. Current best value is 0.5426543617180987 with parameters: {'direct_rmse': 0.43620693105558084, 'direct_rmse_ensemble': 0.00035695939630667195, 'direct_wrmse': 0.42979567152384984, 'direct_wrmse_ensemble': 0.8845383929960402, 'base_pred': 0.366715757652114}.\n"
     ]
    },
    {
     "name": "stdout",
     "output_type": "stream",
     "text": [
      "[0.5929711941626944, 0.4892656572913343, 0.5459684882107886]\n"
     ]
    },
    {
     "name": "stderr",
     "output_type": "stream",
     "text": [
      "[I 2020-06-30 00:24:40,923] Finished trial#154 resulted in value: 0.5427351132216057. Current best value is 0.5426543617180987 with parameters: {'direct_rmse': 0.43620693105558084, 'direct_rmse_ensemble': 0.00035695939630667195, 'direct_wrmse': 0.42979567152384984, 'direct_wrmse_ensemble': 0.8845383929960402, 'base_pred': 0.366715757652114}.\n"
     ]
    },
    {
     "name": "stdout",
     "output_type": "stream",
     "text": [
      "[0.5922802781035289, 0.49214906869177905, 0.5443650844592738]\n"
     ]
    },
    {
     "name": "stderr",
     "output_type": "stream",
     "text": [
      "[I 2020-06-30 00:24:53,358] Finished trial#155 resulted in value: 0.5429314770848606. Current best value is 0.5426543617180987 with parameters: {'direct_rmse': 0.43620693105558084, 'direct_rmse_ensemble': 0.00035695939630667195, 'direct_wrmse': 0.42979567152384984, 'direct_wrmse_ensemble': 0.8845383929960402, 'base_pred': 0.366715757652114}.\n"
     ]
    },
    {
     "name": "stdout",
     "output_type": "stream",
     "text": [
      "[0.5926299215416787, 0.49023349405572697, 0.5451902984421612]\n"
     ]
    },
    {
     "name": "stderr",
     "output_type": "stream",
     "text": [
      "[I 2020-06-30 00:25:05,299] Finished trial#156 resulted in value: 0.5426845713465224. Current best value is 0.5426543617180987 with parameters: {'direct_rmse': 0.43620693105558084, 'direct_rmse_ensemble': 0.00035695939630667195, 'direct_wrmse': 0.42979567152384984, 'direct_wrmse_ensemble': 0.8845383929960402, 'base_pred': 0.366715757652114}.\n"
     ]
    },
    {
     "name": "stdout",
     "output_type": "stream",
     "text": [
      "[0.5927693178173259, 0.48963889109405295, 0.5455611845196554]\n"
     ]
    },
    {
     "name": "stderr",
     "output_type": "stream",
     "text": [
      "[I 2020-06-30 00:25:17,369] Finished trial#157 resulted in value: 0.5426564644770114. Current best value is 0.5426543617180987 with parameters: {'direct_rmse': 0.43620693105558084, 'direct_rmse_ensemble': 0.00035695939630667195, 'direct_wrmse': 0.42979567152384984, 'direct_wrmse_ensemble': 0.8845383929960402, 'base_pred': 0.366715757652114}.\n"
     ]
    },
    {
     "name": "stdout",
     "output_type": "stream",
     "text": [
      "[0.5924187547776697, 0.49062667501934804, 0.5450086710528711]\n"
     ]
    },
    {
     "name": "stderr",
     "output_type": "stream",
     "text": [
      "[I 2020-06-30 00:25:29,729] Finished trial#158 resulted in value: 0.5426847002832963. Current best value is 0.5426543617180987 with parameters: {'direct_rmse': 0.43620693105558084, 'direct_rmse_ensemble': 0.00035695939630667195, 'direct_wrmse': 0.42979567152384984, 'direct_wrmse_ensemble': 0.8845383929960402, 'base_pred': 0.366715757652114}.\n"
     ]
    },
    {
     "name": "stdout",
     "output_type": "stream",
     "text": [
      "[0.5941969174710174, 0.4869969381949813, 0.5473939965852833]\n"
     ]
    },
    {
     "name": "stderr",
     "output_type": "stream",
     "text": [
      "[I 2020-06-30 00:25:41,730] Finished trial#159 resulted in value: 0.542862617417094. Current best value is 0.5426543617180987 with parameters: {'direct_rmse': 0.43620693105558084, 'direct_rmse_ensemble': 0.00035695939630667195, 'direct_wrmse': 0.42979567152384984, 'direct_wrmse_ensemble': 0.8845383929960402, 'base_pred': 0.366715757652114}.\n"
     ]
    },
    {
     "name": "stdout",
     "output_type": "stream",
     "text": [
      "[0.5929689941321884, 0.490840238164604, 0.5446798228776094]\n"
     ]
    },
    {
     "name": "stderr",
     "output_type": "stream",
     "text": [
      "[I 2020-06-30 00:25:53,723] Finished trial#160 resulted in value: 0.542829685058134. Current best value is 0.5426543617180987 with parameters: {'direct_rmse': 0.43620693105558084, 'direct_rmse_ensemble': 0.00035695939630667195, 'direct_wrmse': 0.42979567152384984, 'direct_wrmse_ensemble': 0.8845383929960402, 'base_pred': 0.366715757652114}.\n"
     ]
    },
    {
     "name": "stdout",
     "output_type": "stream",
     "text": [
      "[0.5942487187248906, 0.48779149637709457, 0.5465745144020229]\n"
     ]
    },
    {
     "name": "stderr",
     "output_type": "stream",
     "text": [
      "[I 2020-06-30 00:26:06,274] Finished trial#161 resulted in value: 0.542871576501336. Current best value is 0.5426543617180987 with parameters: {'direct_rmse': 0.43620693105558084, 'direct_rmse_ensemble': 0.00035695939630667195, 'direct_wrmse': 0.42979567152384984, 'direct_wrmse_ensemble': 0.8845383929960402, 'base_pred': 0.366715757652114}.\n"
     ]
    },
    {
     "name": "stdout",
     "output_type": "stream",
     "text": [
      "[0.5951338832643684, 0.4883881315444454, 0.5461731688496166]\n"
     ]
    },
    {
     "name": "stderr",
     "output_type": "stream",
     "text": [
      "[I 2020-06-30 00:26:18,510] Finished trial#162 resulted in value: 0.5432317278861435. Current best value is 0.5426543617180987 with parameters: {'direct_rmse': 0.43620693105558084, 'direct_rmse_ensemble': 0.00035695939630667195, 'direct_wrmse': 0.42979567152384984, 'direct_wrmse_ensemble': 0.8845383929960402, 'base_pred': 0.366715757652114}.\n"
     ]
    },
    {
     "name": "stdout",
     "output_type": "stream",
     "text": [
      "[0.5940007460421756, 0.4958422459280088, 0.5428137249210391]\n"
     ]
    },
    {
     "name": "stderr",
     "output_type": "stream",
     "text": [
      "[I 2020-06-30 00:26:30,626] Finished trial#163 resulted in value: 0.5442189056304079. Current best value is 0.5426543617180987 with parameters: {'direct_rmse': 0.43620693105558084, 'direct_rmse_ensemble': 0.00035695939630667195, 'direct_wrmse': 0.42979567152384984, 'direct_wrmse_ensemble': 0.8845383929960402, 'base_pred': 0.366715757652114}.\n"
     ]
    },
    {
     "name": "stdout",
     "output_type": "stream",
     "text": [
      "[0.5931870076973161, 0.4897129221966245, 0.5454553272022239]\n"
     ]
    },
    {
     "name": "stderr",
     "output_type": "stream",
     "text": [
      "[I 2020-06-30 00:26:43,122] Finished trial#164 resulted in value: 0.5427850856987214. Current best value is 0.5426543617180987 with parameters: {'direct_rmse': 0.43620693105558084, 'direct_rmse_ensemble': 0.00035695939630667195, 'direct_wrmse': 0.42979567152384984, 'direct_wrmse_ensemble': 0.8845383929960402, 'base_pred': 0.366715757652114}.\n"
     ]
    },
    {
     "name": "stdout",
     "output_type": "stream",
     "text": [
      "[0.594508280304607, 0.48755618118828736, 0.5468090123270007]\n"
     ]
    },
    {
     "name": "stderr",
     "output_type": "stream",
     "text": [
      "[I 2020-06-30 00:26:55,380] Finished trial#165 resulted in value: 0.5429578246066318. Current best value is 0.5426543617180987 with parameters: {'direct_rmse': 0.43620693105558084, 'direct_rmse_ensemble': 0.00035695939630667195, 'direct_wrmse': 0.42979567152384984, 'direct_wrmse_ensemble': 0.8845383929960402, 'base_pred': 0.366715757652114}.\n"
     ]
    },
    {
     "name": "stdout",
     "output_type": "stream",
     "text": [
      "[0.5930835316363666, 0.4898437148172911, 0.5452750966387826]\n"
     ]
    },
    {
     "name": "stderr",
     "output_type": "stream",
     "text": [
      "[I 2020-06-30 00:27:07,539] Finished trial#166 resulted in value: 0.5427341143641468. Current best value is 0.5426543617180987 with parameters: {'direct_rmse': 0.43620693105558084, 'direct_rmse_ensemble': 0.00035695939630667195, 'direct_wrmse': 0.42979567152384984, 'direct_wrmse_ensemble': 0.8845383929960402, 'base_pred': 0.366715757652114}.\n"
     ]
    },
    {
     "name": "stdout",
     "output_type": "stream",
     "text": [
      "[0.5936547900179067, 0.48806704866177353, 0.5466105149248202]\n"
     ]
    },
    {
     "name": "stderr",
     "output_type": "stream",
     "text": [
      "[I 2020-06-30 00:27:19,995] Finished trial#167 resulted in value: 0.5427774512015001. Current best value is 0.5426543617180987 with parameters: {'direct_rmse': 0.43620693105558084, 'direct_rmse_ensemble': 0.00035695939630667195, 'direct_wrmse': 0.42979567152384984, 'direct_wrmse_ensemble': 0.8845383929960402, 'base_pred': 0.366715757652114}.\n"
     ]
    },
    {
     "name": "stdout",
     "output_type": "stream",
     "text": [
      "[0.594532775103567, 0.4887724072821915, 0.546263451162941]\n"
     ]
    },
    {
     "name": "stderr",
     "output_type": "stream",
     "text": [
      "[I 2020-06-30 00:27:32,278] Finished trial#168 resulted in value: 0.5431895445162331. Current best value is 0.5426543617180987 with parameters: {'direct_rmse': 0.43620693105558084, 'direct_rmse_ensemble': 0.00035695939630667195, 'direct_wrmse': 0.42979567152384984, 'direct_wrmse_ensemble': 0.8845383929960402, 'base_pred': 0.366715757652114}.\n"
     ]
    },
    {
     "name": "stdout",
     "output_type": "stream",
     "text": [
      "[0.5925485026892849, 0.49018973593021503, 0.545375193749274]\n"
     ]
    },
    {
     "name": "stderr",
     "output_type": "stream",
     "text": [
      "[I 2020-06-30 00:27:44,062] Finished trial#169 resulted in value: 0.542704477456258. Current best value is 0.5426543617180987 with parameters: {'direct_rmse': 0.43620693105558084, 'direct_rmse_ensemble': 0.00035695939630667195, 'direct_wrmse': 0.42979567152384984, 'direct_wrmse_ensemble': 0.8845383929960402, 'base_pred': 0.366715757652114}.\n"
     ]
    },
    {
     "name": "stdout",
     "output_type": "stream",
     "text": [
      "[0.5927213908238066, 0.4900764505250896, 0.5452449156869201]\n"
     ]
    },
    {
     "name": "stderr",
     "output_type": "stream",
     "text": [
      "[I 2020-06-30 00:27:56,154] Finished trial#170 resulted in value: 0.5426809190119387. Current best value is 0.5426543617180987 with parameters: {'direct_rmse': 0.43620693105558084, 'direct_rmse_ensemble': 0.00035695939630667195, 'direct_wrmse': 0.42979567152384984, 'direct_wrmse_ensemble': 0.8845383929960402, 'base_pred': 0.366715757652114}.\n"
     ]
    },
    {
     "name": "stdout",
     "output_type": "stream",
     "text": [
      "[0.5941676833969017, 0.4905501167818513, 0.5448145196557173]\n"
     ]
    },
    {
     "name": "stderr",
     "output_type": "stream",
     "text": [
      "[I 2020-06-30 00:28:07,993] Finished trial#171 resulted in value: 0.5431774399448234. Current best value is 0.5426543617180987 with parameters: {'direct_rmse': 0.43620693105558084, 'direct_rmse_ensemble': 0.00035695939630667195, 'direct_wrmse': 0.42979567152384984, 'direct_wrmse_ensemble': 0.8845383929960402, 'base_pred': 0.366715757652114}.\n"
     ]
    },
    {
     "name": "stdout",
     "output_type": "stream",
     "text": [
      "[0.5929909545419773, 0.49031795198824124, 0.5450688564110725]\n"
     ]
    },
    {
     "name": "stderr",
     "output_type": "stream",
     "text": [
      "[I 2020-06-30 00:28:20,504] Finished trial#172 resulted in value: 0.542792587647097. Current best value is 0.5426543617180987 with parameters: {'direct_rmse': 0.43620693105558084, 'direct_rmse_ensemble': 0.00035695939630667195, 'direct_wrmse': 0.42979567152384984, 'direct_wrmse_ensemble': 0.8845383929960402, 'base_pred': 0.366715757652114}.\n"
     ]
    },
    {
     "name": "stdout",
     "output_type": "stream",
     "text": [
      "[0.5939263463552426, 0.4870955993672055, 0.5474159222263265]\n"
     ]
    },
    {
     "name": "stderr",
     "output_type": "stream",
     "text": [
      "[I 2020-06-30 00:28:32,786] Finished trial#173 resulted in value: 0.5428126226495915. Current best value is 0.5426543617180987 with parameters: {'direct_rmse': 0.43620693105558084, 'direct_rmse_ensemble': 0.00035695939630667195, 'direct_wrmse': 0.42979567152384984, 'direct_wrmse_ensemble': 0.8845383929960402, 'base_pred': 0.366715757652114}.\n"
     ]
    },
    {
     "name": "stdout",
     "output_type": "stream",
     "text": [
      "[0.59366256886997, 0.4889372308928624, 0.5458004846388195]\n"
     ]
    },
    {
     "name": "stderr",
     "output_type": "stream",
     "text": [
      "[I 2020-06-30 00:28:45,130] Finished trial#174 resulted in value: 0.5428000948005507. Current best value is 0.5426543617180987 with parameters: {'direct_rmse': 0.43620693105558084, 'direct_rmse_ensemble': 0.00035695939630667195, 'direct_wrmse': 0.42979567152384984, 'direct_wrmse_ensemble': 0.8845383929960402, 'base_pred': 0.366715757652114}.\n"
     ]
    },
    {
     "name": "stdout",
     "output_type": "stream",
     "text": [
      "[0.594836324702618, 0.4901083562257869, 0.5452611728107936]\n"
     ]
    },
    {
     "name": "stderr",
     "output_type": "stream",
     "text": [
      "[I 2020-06-30 00:28:57,474] Finished trial#175 resulted in value: 0.5434019512463996. Current best value is 0.5426543617180987 with parameters: {'direct_rmse': 0.43620693105558084, 'direct_rmse_ensemble': 0.00035695939630667195, 'direct_wrmse': 0.42979567152384984, 'direct_wrmse_ensemble': 0.8845383929960402, 'base_pred': 0.366715757652114}.\n"
     ]
    },
    {
     "name": "stdout",
     "output_type": "stream",
     "text": [
      "[0.5953735598629494, 0.48552748144795393, 0.5485762240422876]\n"
     ]
    },
    {
     "name": "stderr",
     "output_type": "stream",
     "text": [
      "[I 2020-06-30 00:29:09,615] Finished trial#176 resulted in value: 0.5431590884510636. Current best value is 0.5426543617180987 with parameters: {'direct_rmse': 0.43620693105558084, 'direct_rmse_ensemble': 0.00035695939630667195, 'direct_wrmse': 0.42979567152384984, 'direct_wrmse_ensemble': 0.8845383929960402, 'base_pred': 0.366715757652114}.\n"
     ]
    },
    {
     "name": "stdout",
     "output_type": "stream",
     "text": [
      "[0.5915515916335182, 0.4946410683214979, 0.5431927567944891]\n"
     ]
    },
    {
     "name": "stderr",
     "output_type": "stream",
     "text": [
      "[I 2020-06-30 00:29:21,574] Finished trial#177 resulted in value: 0.5431284722498351. Current best value is 0.5426543617180987 with parameters: {'direct_rmse': 0.43620693105558084, 'direct_rmse_ensemble': 0.00035695939630667195, 'direct_wrmse': 0.42979567152384984, 'direct_wrmse_ensemble': 0.8845383929960402, 'base_pred': 0.366715757652114}.\n"
     ]
    },
    {
     "name": "stdout",
     "output_type": "stream",
     "text": [
      "[0.5945293784461393, 0.4882913871455488, 0.5463548304107909]\n"
     ]
    },
    {
     "name": "stderr",
     "output_type": "stream",
     "text": [
      "[I 2020-06-30 00:29:33,531] Finished trial#178 resulted in value: 0.5430585320008263. Current best value is 0.5426543617180987 with parameters: {'direct_rmse': 0.43620693105558084, 'direct_rmse_ensemble': 0.00035695939630667195, 'direct_wrmse': 0.42979567152384984, 'direct_wrmse_ensemble': 0.8845383929960402, 'base_pred': 0.366715757652114}.\n"
     ]
    },
    {
     "name": "stdout",
     "output_type": "stream",
     "text": [
      "[0.59188747662166, 0.4915624943986909, 0.5449134390146929]\n"
     ]
    },
    {
     "name": "stderr",
     "output_type": "stream",
     "text": [
      "[I 2020-06-30 00:29:45,821] Finished trial#179 resulted in value: 0.5427878033450146. Current best value is 0.5426543617180987 with parameters: {'direct_rmse': 0.43620693105558084, 'direct_rmse_ensemble': 0.00035695939630667195, 'direct_wrmse': 0.42979567152384984, 'direct_wrmse_ensemble': 0.8845383929960402, 'base_pred': 0.366715757652114}.\n"
     ]
    },
    {
     "name": "stdout",
     "output_type": "stream",
     "text": [
      "[0.5953742113817257, 0.48544163293022485, 0.548809423601735]\n"
     ]
    },
    {
     "name": "stderr",
     "output_type": "stream",
     "text": [
      "[I 2020-06-30 00:29:58,290] Finished trial#180 resulted in value: 0.5432084226378953. Current best value is 0.5426543617180987 with parameters: {'direct_rmse': 0.43620693105558084, 'direct_rmse_ensemble': 0.00035695939630667195, 'direct_wrmse': 0.42979567152384984, 'direct_wrmse_ensemble': 0.8845383929960402, 'base_pred': 0.366715757652114}.\n"
     ]
    },
    {
     "name": "stdout",
     "output_type": "stream",
     "text": [
      "[0.59222682304106, 0.49400545772933097, 0.5431514571742843]\n"
     ]
    },
    {
     "name": "stderr",
     "output_type": "stream",
     "text": [
      "[I 2020-06-30 00:30:10,775] Finished trial#181 resulted in value: 0.5431279126482251. Current best value is 0.5426543617180987 with parameters: {'direct_rmse': 0.43620693105558084, 'direct_rmse_ensemble': 0.00035695939630667195, 'direct_wrmse': 0.42979567152384984, 'direct_wrmse_ensemble': 0.8845383929960402, 'base_pred': 0.366715757652114}.\n"
     ]
    },
    {
     "name": "stdout",
     "output_type": "stream",
     "text": [
      "[0.5973964398908251, 0.48775942040184656, 0.5473650719217268]\n"
     ]
    },
    {
     "name": "stderr",
     "output_type": "stream",
     "text": [
      "[I 2020-06-30 00:30:23,089] Finished trial#182 resulted in value: 0.5441736440714662. Current best value is 0.5426543617180987 with parameters: {'direct_rmse': 0.43620693105558084, 'direct_rmse_ensemble': 0.00035695939630667195, 'direct_wrmse': 0.42979567152384984, 'direct_wrmse_ensemble': 0.8845383929960402, 'base_pred': 0.366715757652114}.\n"
     ]
    },
    {
     "name": "stdout",
     "output_type": "stream",
     "text": [
      "[0.5947582540187765, 0.4888156652898623, 0.5458372032329127]\n"
     ]
    },
    {
     "name": "stderr",
     "output_type": "stream",
     "text": [
      "[I 2020-06-30 00:30:35,620] Finished trial#183 resulted in value: 0.543137040847184. Current best value is 0.5426543617180987 with parameters: {'direct_rmse': 0.43620693105558084, 'direct_rmse_ensemble': 0.00035695939630667195, 'direct_wrmse': 0.42979567152384984, 'direct_wrmse_ensemble': 0.8845383929960402, 'base_pred': 0.366715757652114}.\n"
     ]
    },
    {
     "name": "stdout",
     "output_type": "stream",
     "text": [
      "[0.5940659217992154, 0.4909048140424242, 0.5446205114089523]\n"
     ]
    },
    {
     "name": "stderr",
     "output_type": "stream",
     "text": [
      "[I 2020-06-30 00:30:48,138] Finished trial#184 resulted in value: 0.543197082416864. Current best value is 0.5426543617180987 with parameters: {'direct_rmse': 0.43620693105558084, 'direct_rmse_ensemble': 0.00035695939630667195, 'direct_wrmse': 0.42979567152384984, 'direct_wrmse_ensemble': 0.8845383929960402, 'base_pred': 0.366715757652114}.\n"
     ]
    },
    {
     "name": "stdout",
     "output_type": "stream",
     "text": [
      "[0.5944053942874258, 0.4885968587387259, 0.545946949421982]\n"
     ]
    },
    {
     "name": "stderr",
     "output_type": "stream",
     "text": [
      "[I 2020-06-30 00:31:00,432] Finished trial#185 resulted in value: 0.5429830674827112. Current best value is 0.5426543617180987 with parameters: {'direct_rmse': 0.43620693105558084, 'direct_rmse_ensemble': 0.00035695939630667195, 'direct_wrmse': 0.42979567152384984, 'direct_wrmse_ensemble': 0.8845383929960402, 'base_pred': 0.366715757652114}.\n"
     ]
    },
    {
     "name": "stdout",
     "output_type": "stream",
     "text": [
      "[0.592501403401981, 0.49087166814286093, 0.5447738936670768]\n"
     ]
    },
    {
     "name": "stderr",
     "output_type": "stream",
     "text": [
      "[I 2020-06-30 00:31:12,790] Finished trial#186 resulted in value: 0.5427156550706397. Current best value is 0.5426543617180987 with parameters: {'direct_rmse': 0.43620693105558084, 'direct_rmse_ensemble': 0.00035695939630667195, 'direct_wrmse': 0.42979567152384984, 'direct_wrmse_ensemble': 0.8845383929960402, 'base_pred': 0.366715757652114}.\n"
     ]
    },
    {
     "name": "stdout",
     "output_type": "stream",
     "text": [
      "[0.5928154519841354, 0.49208838420720263, 0.5440518338108734]\n"
     ]
    },
    {
     "name": "stderr",
     "output_type": "stream",
     "text": [
      "[I 2020-06-30 00:31:25,241] Finished trial#187 resulted in value: 0.5429852233340705. Current best value is 0.5426543617180987 with parameters: {'direct_rmse': 0.43620693105558084, 'direct_rmse_ensemble': 0.00035695939630667195, 'direct_wrmse': 0.42979567152384984, 'direct_wrmse_ensemble': 0.8845383929960402, 'base_pred': 0.366715757652114}.\n"
     ]
    },
    {
     "name": "stdout",
     "output_type": "stream",
     "text": [
      "[0.5934871860001648, 0.4881121032022355, 0.5465773934722639]\n"
     ]
    },
    {
     "name": "stderr",
     "output_type": "stream",
     "text": [
      "[I 2020-06-30 00:31:37,551] Finished trial#188 resulted in value: 0.5427255608915548. Current best value is 0.5426543617180987 with parameters: {'direct_rmse': 0.43620693105558084, 'direct_rmse_ensemble': 0.00035695939630667195, 'direct_wrmse': 0.42979567152384984, 'direct_wrmse_ensemble': 0.8845383929960402, 'base_pred': 0.366715757652114}.\n"
     ]
    },
    {
     "name": "stdout",
     "output_type": "stream",
     "text": [
      "[0.5950360799476359, 0.4860571716325189, 0.5478690607266262]\n"
     ]
    },
    {
     "name": "stderr",
     "output_type": "stream",
     "text": [
      "[I 2020-06-30 00:31:49,690] Finished trial#189 resulted in value: 0.5429874374355936. Current best value is 0.5426543617180987 with parameters: {'direct_rmse': 0.43620693105558084, 'direct_rmse_ensemble': 0.00035695939630667195, 'direct_wrmse': 0.42979567152384984, 'direct_wrmse_ensemble': 0.8845383929960402, 'base_pred': 0.366715757652114}.\n"
     ]
    },
    {
     "name": "stdout",
     "output_type": "stream",
     "text": [
      "[0.594811591275669, 0.4883635456796105, 0.54610109195784]\n"
     ]
    },
    {
     "name": "stderr",
     "output_type": "stream",
     "text": [
      "[I 2020-06-30 00:32:02,484] Finished trial#190 resulted in value: 0.5430920763043731. Current best value is 0.5426543617180987 with parameters: {'direct_rmse': 0.43620693105558084, 'direct_rmse_ensemble': 0.00035695939630667195, 'direct_wrmse': 0.42979567152384984, 'direct_wrmse_ensemble': 0.8845383929960402, 'base_pred': 0.366715757652114}.\n"
     ]
    },
    {
     "name": "stdout",
     "output_type": "stream",
     "text": [
      "[0.5937280980764397, 0.49278034817392063, 0.54379859797731]\n"
     ]
    },
    {
     "name": "stderr",
     "output_type": "stream",
     "text": [
      "[I 2020-06-30 00:32:14,560] Finished trial#191 resulted in value: 0.5434356814092234. Current best value is 0.5426543617180987 with parameters: {'direct_rmse': 0.43620693105558084, 'direct_rmse_ensemble': 0.00035695939630667195, 'direct_wrmse': 0.42979567152384984, 'direct_wrmse_ensemble': 0.8845383929960402, 'base_pred': 0.366715757652114}.\n"
     ]
    },
    {
     "name": "stdout",
     "output_type": "stream",
     "text": [
      "[0.593266155079793, 0.48902082690748294, 0.5460570335275186]\n"
     ]
    },
    {
     "name": "stderr",
     "output_type": "stream",
     "text": [
      "[I 2020-06-30 00:32:26,930] Finished trial#192 resulted in value: 0.5427813385049315. Current best value is 0.5426543617180987 with parameters: {'direct_rmse': 0.43620693105558084, 'direct_rmse_ensemble': 0.00035695939630667195, 'direct_wrmse': 0.42979567152384984, 'direct_wrmse_ensemble': 0.8845383929960402, 'base_pred': 0.366715757652114}.\n"
     ]
    },
    {
     "name": "stdout",
     "output_type": "stream",
     "text": [
      "[0.5921902025421546, 0.49331089130345024, 0.5434413885667015]\n"
     ]
    },
    {
     "name": "stderr",
     "output_type": "stream",
     "text": [
      "[I 2020-06-30 00:32:39,409] Finished trial#193 resulted in value: 0.5429808274707688. Current best value is 0.5426543617180987 with parameters: {'direct_rmse': 0.43620693105558084, 'direct_rmse_ensemble': 0.00035695939630667195, 'direct_wrmse': 0.42979567152384984, 'direct_wrmse_ensemble': 0.8845383929960402, 'base_pred': 0.366715757652114}.\n"
     ]
    },
    {
     "name": "stdout",
     "output_type": "stream",
     "text": [
      "[0.5947608703605359, 0.4866108022864433, 0.5475117646971742]\n"
     ]
    },
    {
     "name": "stderr",
     "output_type": "stream",
     "text": [
      "[I 2020-06-30 00:32:51,556] Finished trial#194 resulted in value: 0.5429611457813844. Current best value is 0.5426543617180987 with parameters: {'direct_rmse': 0.43620693105558084, 'direct_rmse_ensemble': 0.00035695939630667195, 'direct_wrmse': 0.42979567152384984, 'direct_wrmse_ensemble': 0.8845383929960402, 'base_pred': 0.366715757652114}.\n"
     ]
    },
    {
     "name": "stdout",
     "output_type": "stream",
     "text": [
      "[0.5920650011163395, 0.491051678681205, 0.5453616820874199]\n"
     ]
    },
    {
     "name": "stderr",
     "output_type": "stream",
     "text": [
      "[I 2020-06-30 00:33:03,607] Finished trial#195 resulted in value: 0.5428261206283215. Current best value is 0.5426543617180987 with parameters: {'direct_rmse': 0.43620693105558084, 'direct_rmse_ensemble': 0.00035695939630667195, 'direct_wrmse': 0.42979567152384984, 'direct_wrmse_ensemble': 0.8845383929960402, 'base_pred': 0.366715757652114}.\n"
     ]
    },
    {
     "name": "stdout",
     "output_type": "stream",
     "text": [
      "[0.5939051066153681, 0.4885773355223442, 0.5459735437049028]\n"
     ]
    },
    {
     "name": "stderr",
     "output_type": "stream",
     "text": [
      "[I 2020-06-30 00:33:16,030] Finished trial#196 resulted in value: 0.5428186619475385. Current best value is 0.5426543617180987 with parameters: {'direct_rmse': 0.43620693105558084, 'direct_rmse_ensemble': 0.00035695939630667195, 'direct_wrmse': 0.42979567152384984, 'direct_wrmse_ensemble': 0.8845383929960402, 'base_pred': 0.366715757652114}.\n"
     ]
    },
    {
     "name": "stdout",
     "output_type": "stream",
     "text": [
      "[0.5917022796384, 0.4930170706312182, 0.5438203507537519]\n"
     ]
    },
    {
     "name": "stderr",
     "output_type": "stream",
     "text": [
      "[I 2020-06-30 00:33:28,137] Finished trial#197 resulted in value: 0.54284656700779. Current best value is 0.5426543617180987 with parameters: {'direct_rmse': 0.43620693105558084, 'direct_rmse_ensemble': 0.00035695939630667195, 'direct_wrmse': 0.42979567152384984, 'direct_wrmse_ensemble': 0.8845383929960402, 'base_pred': 0.366715757652114}.\n"
     ]
    },
    {
     "name": "stdout",
     "output_type": "stream",
     "text": [
      "[0.5957968587730765, 0.48803801252225165, 0.5465009869296105]\n"
     ]
    },
    {
     "name": "stderr",
     "output_type": "stream",
     "text": [
      "[I 2020-06-30 00:33:40,368] Finished trial#198 resulted in value: 0.5434452860749795. Current best value is 0.5426543617180987 with parameters: {'direct_rmse': 0.43620693105558084, 'direct_rmse_ensemble': 0.00035695939630667195, 'direct_wrmse': 0.42979567152384984, 'direct_wrmse_ensemble': 0.8845383929960402, 'base_pred': 0.366715757652114}.\n"
     ]
    },
    {
     "name": "stdout",
     "output_type": "stream",
     "text": [
      "[0.5968223379533879, 0.48797992767807113, 0.5467077387657975]\n"
     ]
    },
    {
     "name": "stderr",
     "output_type": "stream",
     "text": [
      "[I 2020-06-30 00:33:52,651] Finished trial#199 resulted in value: 0.5438366681324188. Current best value is 0.5426543617180987 with parameters: {'direct_rmse': 0.43620693105558084, 'direct_rmse_ensemble': 0.00035695939630667195, 'direct_wrmse': 0.42979567152384984, 'direct_wrmse_ensemble': 0.8845383929960402, 'base_pred': 0.366715757652114}.\n"
     ]
    },
    {
     "name": "stdout",
     "output_type": "stream",
     "text": [
      "[0.5958256020844154, 0.48721673010702854, 0.5469638514268017]\n"
     ]
    },
    {
     "name": "stderr",
     "output_type": "stream",
     "text": [
      "[I 2020-06-30 00:34:05,058] Finished trial#200 resulted in value: 0.5433353945394153. Current best value is 0.5426543617180987 with parameters: {'direct_rmse': 0.43620693105558084, 'direct_rmse_ensemble': 0.00035695939630667195, 'direct_wrmse': 0.42979567152384984, 'direct_wrmse_ensemble': 0.8845383929960402, 'base_pred': 0.366715757652114}.\n"
     ]
    },
    {
     "name": "stdout",
     "output_type": "stream",
     "text": [
      "[0.5917285069816768, 0.4928697666175304, 0.5444599243260425]\n"
     ]
    },
    {
     "name": "stderr",
     "output_type": "stream",
     "text": [
      "[I 2020-06-30 00:34:17,453] Finished trial#201 resulted in value: 0.5430193993084166. Current best value is 0.5426543617180987 with parameters: {'direct_rmse': 0.43620693105558084, 'direct_rmse_ensemble': 0.00035695939630667195, 'direct_wrmse': 0.42979567152384984, 'direct_wrmse_ensemble': 0.8845383929960402, 'base_pred': 0.366715757652114}.\n"
     ]
    },
    {
     "name": "stdout",
     "output_type": "stream",
     "text": [
      "[0.5946172956450758, 0.4875817067463706, 0.5467678126337404]\n"
     ]
    },
    {
     "name": "stderr",
     "output_type": "stream",
     "text": [
      "[I 2020-06-30 00:34:30,111] Finished trial#202 resulted in value: 0.5429889383417289. Current best value is 0.5426543617180987 with parameters: {'direct_rmse': 0.43620693105558084, 'direct_rmse_ensemble': 0.00035695939630667195, 'direct_wrmse': 0.42979567152384984, 'direct_wrmse_ensemble': 0.8845383929960402, 'base_pred': 0.366715757652114}.\n"
     ]
    },
    {
     "name": "stdout",
     "output_type": "stream",
     "text": [
      "[0.594364517215128, 0.48855780810640326, 0.5464598392862118]\n"
     ]
    },
    {
     "name": "stderr",
     "output_type": "stream",
     "text": [
      "[I 2020-06-30 00:34:42,165] Finished trial#203 resulted in value: 0.543127388202581. Current best value is 0.5426543617180987 with parameters: {'direct_rmse': 0.43620693105558084, 'direct_rmse_ensemble': 0.00035695939630667195, 'direct_wrmse': 0.42979567152384984, 'direct_wrmse_ensemble': 0.8845383929960402, 'base_pred': 0.366715757652114}.\n"
     ]
    },
    {
     "name": "stdout",
     "output_type": "stream",
     "text": [
      "[0.5970869396809427, 0.48737369943123104, 0.5473392877160884]\n"
     ]
    },
    {
     "name": "stderr",
     "output_type": "stream",
     "text": [
      "[I 2020-06-30 00:34:54,265] Finished trial#204 resulted in value: 0.543933308942754. Current best value is 0.5426543617180987 with parameters: {'direct_rmse': 0.43620693105558084, 'direct_rmse_ensemble': 0.00035695939630667195, 'direct_wrmse': 0.42979567152384984, 'direct_wrmse_ensemble': 0.8845383929960402, 'base_pred': 0.366715757652114}.\n"
     ]
    },
    {
     "name": "stdout",
     "output_type": "stream",
     "text": [
      "[0.5924194542806518, 0.49174291727414815, 0.544562715702064]\n"
     ]
    },
    {
     "name": "stderr",
     "output_type": "stream",
     "text": [
      "[I 2020-06-30 00:35:06,493] Finished trial#205 resulted in value: 0.5429083624189547. Current best value is 0.5426543617180987 with parameters: {'direct_rmse': 0.43620693105558084, 'direct_rmse_ensemble': 0.00035695939630667195, 'direct_wrmse': 0.42979567152384984, 'direct_wrmse_ensemble': 0.8845383929960402, 'base_pred': 0.366715757652114}.\n"
     ]
    },
    {
     "name": "stdout",
     "output_type": "stream",
     "text": [
      "[0.592485585750742, 0.4924868020157848, 0.5438996826110051]\n"
     ]
    },
    {
     "name": "stderr",
     "output_type": "stream",
     "text": [
      "[I 2020-06-30 00:35:18,609] Finished trial#206 resulted in value: 0.5429573567925106. Current best value is 0.5426543617180987 with parameters: {'direct_rmse': 0.43620693105558084, 'direct_rmse_ensemble': 0.00035695939630667195, 'direct_wrmse': 0.42979567152384984, 'direct_wrmse_ensemble': 0.8845383929960402, 'base_pred': 0.366715757652114}.\n"
     ]
    },
    {
     "name": "stdout",
     "output_type": "stream",
     "text": [
      "[0.5919761584731298, 0.4926629887869629, 0.5438638742482534]\n"
     ]
    },
    {
     "name": "stderr",
     "output_type": "stream",
     "text": [
      "[I 2020-06-30 00:35:30,712] Finished trial#207 resulted in value: 0.542834340502782. Current best value is 0.5426543617180987 with parameters: {'direct_rmse': 0.43620693105558084, 'direct_rmse_ensemble': 0.00035695939630667195, 'direct_wrmse': 0.42979567152384984, 'direct_wrmse_ensemble': 0.8845383929960402, 'base_pred': 0.366715757652114}.\n"
     ]
    },
    {
     "name": "stdout",
     "output_type": "stream",
     "text": [
      "[0.5962868736900526, 0.49066591223796113, 0.5452723656418454]\n"
     ]
    },
    {
     "name": "stderr",
     "output_type": "stream",
     "text": [
      "[I 2020-06-30 00:35:42,895] Finished trial#208 resulted in value: 0.5440750505232864. Current best value is 0.5426543617180987 with parameters: {'direct_rmse': 0.43620693105558084, 'direct_rmse_ensemble': 0.00035695939630667195, 'direct_wrmse': 0.42979567152384984, 'direct_wrmse_ensemble': 0.8845383929960402, 'base_pred': 0.366715757652114}.\n"
     ]
    },
    {
     "name": "stdout",
     "output_type": "stream",
     "text": [
      "[0.5946040228252678, 0.48602933240283314, 0.5482915797883333]\n"
     ]
    },
    {
     "name": "stderr",
     "output_type": "stream",
     "text": [
      "[I 2020-06-30 00:35:54,864] Finished trial#209 resulted in value: 0.5429749783388114. Current best value is 0.5426543617180987 with parameters: {'direct_rmse': 0.43620693105558084, 'direct_rmse_ensemble': 0.00035695939630667195, 'direct_wrmse': 0.42979567152384984, 'direct_wrmse_ensemble': 0.8845383929960402, 'base_pred': 0.366715757652114}.\n"
     ]
    },
    {
     "name": "stdout",
     "output_type": "stream",
     "text": [
      "[0.5935935342381202, 0.48977711205681534, 0.5452164090882028]\n"
     ]
    },
    {
     "name": "stderr",
     "output_type": "stream",
     "text": [
      "[I 2020-06-30 00:36:06,970] Finished trial#210 resulted in value: 0.5428623517943795. Current best value is 0.5426543617180987 with parameters: {'direct_rmse': 0.43620693105558084, 'direct_rmse_ensemble': 0.00035695939630667195, 'direct_wrmse': 0.42979567152384984, 'direct_wrmse_ensemble': 0.8845383929960402, 'base_pred': 0.366715757652114}.\n"
     ]
    },
    {
     "name": "stdout",
     "output_type": "stream",
     "text": [
      "[0.5918695152048566, 0.49117954605264796, 0.5464164571728035]\n"
     ]
    },
    {
     "name": "stderr",
     "output_type": "stream",
     "text": [
      "[I 2020-06-30 00:36:19,006] Finished trial#211 resulted in value: 0.5431551728101027. Current best value is 0.5426543617180987 with parameters: {'direct_rmse': 0.43620693105558084, 'direct_rmse_ensemble': 0.00035695939630667195, 'direct_wrmse': 0.42979567152384984, 'direct_wrmse_ensemble': 0.8845383929960402, 'base_pred': 0.366715757652114}.\n"
     ]
    },
    {
     "name": "stdout",
     "output_type": "stream",
     "text": [
      "[0.5946796723979176, 0.4885227609604523, 0.5460703168128134]\n"
     ]
    },
    {
     "name": "stderr",
     "output_type": "stream",
     "text": [
      "[I 2020-06-30 00:36:30,989] Finished trial#212 resulted in value: 0.5430909167237278. Current best value is 0.5426543617180987 with parameters: {'direct_rmse': 0.43620693105558084, 'direct_rmse_ensemble': 0.00035695939630667195, 'direct_wrmse': 0.42979567152384984, 'direct_wrmse_ensemble': 0.8845383929960402, 'base_pred': 0.366715757652114}.\n"
     ]
    },
    {
     "name": "stdout",
     "output_type": "stream",
     "text": [
      "[0.5947849251211595, 0.4881358742318824, 0.5462923249528221]\n"
     ]
    },
    {
     "name": "stderr",
     "output_type": "stream",
     "text": [
      "[I 2020-06-30 00:36:43,422] Finished trial#213 resulted in value: 0.5430710414352881. Current best value is 0.5426543617180987 with parameters: {'direct_rmse': 0.43620693105558084, 'direct_rmse_ensemble': 0.00035695939630667195, 'direct_wrmse': 0.42979567152384984, 'direct_wrmse_ensemble': 0.8845383929960402, 'base_pred': 0.366715757652114}.\n"
     ]
    },
    {
     "name": "stdout",
     "output_type": "stream",
     "text": [
      "[0.5946802874954626, 0.4863537069530724, 0.5481805094896145]\n"
     ]
    },
    {
     "name": "stderr",
     "output_type": "stream",
     "text": [
      "[I 2020-06-30 00:36:55,709] Finished trial#214 resulted in value: 0.5430715013127165. Current best value is 0.5426543617180987 with parameters: {'direct_rmse': 0.43620693105558084, 'direct_rmse_ensemble': 0.00035695939630667195, 'direct_wrmse': 0.42979567152384984, 'direct_wrmse_ensemble': 0.8845383929960402, 'base_pred': 0.366715757652114}.\n"
     ]
    },
    {
     "name": "stdout",
     "output_type": "stream",
     "text": [
      "[0.5937287552398809, 0.48751807524319196, 0.547073024975266]\n"
     ]
    },
    {
     "name": "stderr",
     "output_type": "stream",
     "text": [
      "[I 2020-06-30 00:37:08,057] Finished trial#215 resulted in value: 0.5427732851527797. Current best value is 0.5426543617180987 with parameters: {'direct_rmse': 0.43620693105558084, 'direct_rmse_ensemble': 0.00035695939630667195, 'direct_wrmse': 0.42979567152384984, 'direct_wrmse_ensemble': 0.8845383929960402, 'base_pred': 0.366715757652114}.\n"
     ]
    },
    {
     "name": "stdout",
     "output_type": "stream",
     "text": [
      "[0.5942341781110934, 0.48736248703405183, 0.5470284779819165]\n"
     ]
    },
    {
     "name": "stderr",
     "output_type": "stream",
     "text": [
      "[I 2020-06-30 00:37:20,161] Finished trial#216 resulted in value: 0.5428750477090206. Current best value is 0.5426543617180987 with parameters: {'direct_rmse': 0.43620693105558084, 'direct_rmse_ensemble': 0.00035695939630667195, 'direct_wrmse': 0.42979567152384984, 'direct_wrmse_ensemble': 0.8845383929960402, 'base_pred': 0.366715757652114}.\n"
     ]
    },
    {
     "name": "stdout",
     "output_type": "stream",
     "text": [
      "[0.5923090277035625, 0.491641798165817, 0.5443653635789197]\n"
     ]
    },
    {
     "name": "stderr",
     "output_type": "stream",
     "text": [
      "[I 2020-06-30 00:37:32,459] Finished trial#217 resulted in value: 0.542772063149433. Current best value is 0.5426543617180987 with parameters: {'direct_rmse': 0.43620693105558084, 'direct_rmse_ensemble': 0.00035695939630667195, 'direct_wrmse': 0.42979567152384984, 'direct_wrmse_ensemble': 0.8845383929960402, 'base_pred': 0.366715757652114}.\n"
     ]
    },
    {
     "name": "stdout",
     "output_type": "stream",
     "text": [
      "[0.5940440013854399, 0.48846538226837694, 0.5460640451809075]\n"
     ]
    },
    {
     "name": "stderr",
     "output_type": "stream",
     "text": [
      "[I 2020-06-30 00:37:44,502] Finished trial#218 resulted in value: 0.5428578096115748. Current best value is 0.5426543617180987 with parameters: {'direct_rmse': 0.43620693105558084, 'direct_rmse_ensemble': 0.00035695939630667195, 'direct_wrmse': 0.42979567152384984, 'direct_wrmse_ensemble': 0.8845383929960402, 'base_pred': 0.366715757652114}.\n"
     ]
    },
    {
     "name": "stdout",
     "output_type": "stream",
     "text": [
      "[0.5973866988087179, 0.4865516009263131, 0.5478732265766335]\n"
     ]
    },
    {
     "name": "stderr",
     "output_type": "stream",
     "text": [
      "[I 2020-06-30 00:37:56,674] Finished trial#219 resulted in value: 0.5439371754372214. Current best value is 0.5426543617180987 with parameters: {'direct_rmse': 0.43620693105558084, 'direct_rmse_ensemble': 0.00035695939630667195, 'direct_wrmse': 0.42979567152384984, 'direct_wrmse_ensemble': 0.8845383929960402, 'base_pred': 0.366715757652114}.\n"
     ]
    },
    {
     "name": "stdout",
     "output_type": "stream",
     "text": [
      "[0.5942592066575325, 0.4934484727674349, 0.5438688425307489]\n"
     ]
    },
    {
     "name": "stderr",
     "output_type": "stream",
     "text": [
      "[I 2020-06-30 00:38:08,937] Finished trial#220 resulted in value: 0.5438588406519055. Current best value is 0.5426543617180987 with parameters: {'direct_rmse': 0.43620693105558084, 'direct_rmse_ensemble': 0.00035695939630667195, 'direct_wrmse': 0.42979567152384984, 'direct_wrmse_ensemble': 0.8845383929960402, 'base_pred': 0.366715757652114}.\n"
     ]
    },
    {
     "name": "stdout",
     "output_type": "stream",
     "text": [
      "[0.5910213570143711, 0.4939543986579604, 0.5443877124485815]\n"
     ]
    },
    {
     "name": "stderr",
     "output_type": "stream",
     "text": [
      "[I 2020-06-30 00:38:20,777] Finished trial#221 resulted in value: 0.5431211560403043. Current best value is 0.5426543617180987 with parameters: {'direct_rmse': 0.43620693105558084, 'direct_rmse_ensemble': 0.00035695939630667195, 'direct_wrmse': 0.42979567152384984, 'direct_wrmse_ensemble': 0.8845383929960402, 'base_pred': 0.366715757652114}.\n"
     ]
    },
    {
     "name": "stdout",
     "output_type": "stream",
     "text": [
      "[0.5924565123471373, 0.4932513015277859, 0.5435116865738455]\n"
     ]
    },
    {
     "name": "stderr",
     "output_type": "stream",
     "text": [
      "[I 2020-06-30 00:38:32,756] Finished trial#222 resulted in value: 0.5430731668162562. Current best value is 0.5426543617180987 with parameters: {'direct_rmse': 0.43620693105558084, 'direct_rmse_ensemble': 0.00035695939630667195, 'direct_wrmse': 0.42979567152384984, 'direct_wrmse_ensemble': 0.8845383929960402, 'base_pred': 0.366715757652114}.\n"
     ]
    },
    {
     "name": "stdout",
     "output_type": "stream",
     "text": [
      "[0.5929996177333773, 0.4905298327029129, 0.5448513162133118]\n"
     ]
    },
    {
     "name": "stderr",
     "output_type": "stream",
     "text": [
      "[I 2020-06-30 00:38:45,094] Finished trial#223 resulted in value: 0.5427935888832006. Current best value is 0.5426543617180987 with parameters: {'direct_rmse': 0.43620693105558084, 'direct_rmse_ensemble': 0.00035695939630667195, 'direct_wrmse': 0.42979567152384984, 'direct_wrmse_ensemble': 0.8845383929960402, 'base_pred': 0.366715757652114}.\n"
     ]
    },
    {
     "name": "stdout",
     "output_type": "stream",
     "text": [
      "[0.5939662266262077, 0.4915105677199765, 0.5442914518963557]\n"
     ]
    },
    {
     "name": "stderr",
     "output_type": "stream",
     "text": [
      "[I 2020-06-30 00:38:57,464] Finished trial#224 resulted in value: 0.5432560820808466. Current best value is 0.5426543617180987 with parameters: {'direct_rmse': 0.43620693105558084, 'direct_rmse_ensemble': 0.00035695939630667195, 'direct_wrmse': 0.42979567152384984, 'direct_wrmse_ensemble': 0.8845383929960402, 'base_pred': 0.366715757652114}.\n"
     ]
    },
    {
     "name": "stdout",
     "output_type": "stream",
     "text": [
      "[0.5924022653998772, 0.4920011379598232, 0.5441205659493712]\n"
     ]
    },
    {
     "name": "stderr",
     "output_type": "stream",
     "text": [
      "[I 2020-06-30 00:39:09,652] Finished trial#225 resulted in value: 0.5428413231030239. Current best value is 0.5426543617180987 with parameters: {'direct_rmse': 0.43620693105558084, 'direct_rmse_ensemble': 0.00035695939630667195, 'direct_wrmse': 0.42979567152384984, 'direct_wrmse_ensemble': 0.8845383929960402, 'base_pred': 0.366715757652114}.\n"
     ]
    },
    {
     "name": "stdout",
     "output_type": "stream",
     "text": [
      "[0.5922211015986321, 0.49156504578550386, 0.5445774435351662]\n"
     ]
    },
    {
     "name": "stderr",
     "output_type": "stream",
     "text": [
      "[I 2020-06-30 00:39:21,650] Finished trial#226 resulted in value: 0.5427878636397674. Current best value is 0.5426543617180987 with parameters: {'direct_rmse': 0.43620693105558084, 'direct_rmse_ensemble': 0.00035695939630667195, 'direct_wrmse': 0.42979567152384984, 'direct_wrmse_ensemble': 0.8845383929960402, 'base_pred': 0.366715757652114}.\n"
     ]
    },
    {
     "name": "stdout",
     "output_type": "stream",
     "text": [
      "[0.5923599027595247, 0.4911582669991428, 0.5447348581601447]\n"
     ]
    },
    {
     "name": "stderr",
     "output_type": "stream",
     "text": [
      "[I 2020-06-30 00:39:33,747] Finished trial#227 resulted in value: 0.5427510093062707. Current best value is 0.5426543617180987 with parameters: {'direct_rmse': 0.43620693105558084, 'direct_rmse_ensemble': 0.00035695939630667195, 'direct_wrmse': 0.42979567152384984, 'direct_wrmse_ensemble': 0.8845383929960402, 'base_pred': 0.366715757652114}.\n"
     ]
    },
    {
     "name": "stdout",
     "output_type": "stream",
     "text": [
      "[0.5917740287739841, 0.4925742003871989, 0.544259475383552]\n"
     ]
    },
    {
     "name": "stderr",
     "output_type": "stream",
     "text": [
      "[I 2020-06-30 00:39:45,807] Finished trial#228 resulted in value: 0.542869234848245. Current best value is 0.5426543617180987 with parameters: {'direct_rmse': 0.43620693105558084, 'direct_rmse_ensemble': 0.00035695939630667195, 'direct_wrmse': 0.42979567152384984, 'direct_wrmse_ensemble': 0.8845383929960402, 'base_pred': 0.366715757652114}.\n"
     ]
    },
    {
     "name": "stdout",
     "output_type": "stream",
     "text": [
      "[0.5914803094707636, 0.492319133573109, 0.5453622645400066]\n"
     ]
    },
    {
     "name": "stderr",
     "output_type": "stream",
     "text": [
      "[I 2020-06-30 00:39:57,810] Finished trial#229 resulted in value: 0.5430539025279598. Current best value is 0.5426543617180987 with parameters: {'direct_rmse': 0.43620693105558084, 'direct_rmse_ensemble': 0.00035695939630667195, 'direct_wrmse': 0.42979567152384984, 'direct_wrmse_ensemble': 0.8845383929960402, 'base_pred': 0.366715757652114}.\n"
     ]
    },
    {
     "name": "stdout",
     "output_type": "stream",
     "text": [
      "[0.5959210574198022, 0.48523063252823634, 0.548595314133162]\n"
     ]
    },
    {
     "name": "stderr",
     "output_type": "stream",
     "text": [
      "[I 2020-06-30 00:40:10,313] Finished trial#230 resulted in value: 0.5432490013604001. Current best value is 0.5426543617180987 with parameters: {'direct_rmse': 0.43620693105558084, 'direct_rmse_ensemble': 0.00035695939630667195, 'direct_wrmse': 0.42979567152384984, 'direct_wrmse_ensemble': 0.8845383929960402, 'base_pred': 0.366715757652114}.\n"
     ]
    },
    {
     "name": "stdout",
     "output_type": "stream",
     "text": [
      "[0.5934678463916976, 0.4883517870785632, 0.5466029544871683]\n"
     ]
    },
    {
     "name": "stderr",
     "output_type": "stream",
     "text": [
      "[I 2020-06-30 00:40:22,430] Finished trial#231 resulted in value: 0.542807529319143. Current best value is 0.5426543617180987 with parameters: {'direct_rmse': 0.43620693105558084, 'direct_rmse_ensemble': 0.00035695939630667195, 'direct_wrmse': 0.42979567152384984, 'direct_wrmse_ensemble': 0.8845383929960402, 'base_pred': 0.366715757652114}.\n"
     ]
    },
    {
     "name": "stdout",
     "output_type": "stream",
     "text": [
      "[0.5934595778282474, 0.49009955538475064, 0.5450278332309458]\n"
     ]
    },
    {
     "name": "stderr",
     "output_type": "stream",
     "text": [
      "[I 2020-06-30 00:40:34,764] Finished trial#232 resulted in value: 0.5428623221479812. Current best value is 0.5426543617180987 with parameters: {'direct_rmse': 0.43620693105558084, 'direct_rmse_ensemble': 0.00035695939630667195, 'direct_wrmse': 0.42979567152384984, 'direct_wrmse_ensemble': 0.8845383929960402, 'base_pred': 0.366715757652114}.\n"
     ]
    },
    {
     "name": "stdout",
     "output_type": "stream",
     "text": [
      "[0.5942247341948513, 0.4886824055302689, 0.5460371859553096]\n"
     ]
    },
    {
     "name": "stderr",
     "output_type": "stream",
     "text": [
      "[I 2020-06-30 00:40:46,926] Finished trial#233 resulted in value: 0.5429814418934766. Current best value is 0.5426543617180987 with parameters: {'direct_rmse': 0.43620693105558084, 'direct_rmse_ensemble': 0.00035695939630667195, 'direct_wrmse': 0.42979567152384984, 'direct_wrmse_ensemble': 0.8845383929960402, 'base_pred': 0.366715757652114}.\n"
     ]
    },
    {
     "name": "stdout",
     "output_type": "stream",
     "text": [
      "[0.5965663500833633, 0.48657568389815403, 0.5476150416532091]\n"
     ]
    },
    {
     "name": "stderr",
     "output_type": "stream",
     "text": [
      "[I 2020-06-30 00:40:59,196] Finished trial#234 resulted in value: 0.5435856918782421. Current best value is 0.5426543617180987 with parameters: {'direct_rmse': 0.43620693105558084, 'direct_rmse_ensemble': 0.00035695939630667195, 'direct_wrmse': 0.42979567152384984, 'direct_wrmse_ensemble': 0.8845383929960402, 'base_pred': 0.366715757652114}.\n"
     ]
    },
    {
     "name": "stdout",
     "output_type": "stream",
     "text": [
      "[0.5944923718128807, 0.48807052375550525, 0.5466249551989301]\n"
     ]
    },
    {
     "name": "stderr",
     "output_type": "stream",
     "text": [
      "[I 2020-06-30 00:41:11,326] Finished trial#235 resulted in value: 0.5430626169224387. Current best value is 0.5426543617180987 with parameters: {'direct_rmse': 0.43620693105558084, 'direct_rmse_ensemble': 0.00035695939630667195, 'direct_wrmse': 0.42979567152384984, 'direct_wrmse_ensemble': 0.8845383929960402, 'base_pred': 0.366715757652114}.\n"
     ]
    },
    {
     "name": "stdout",
     "output_type": "stream",
     "text": [
      "[0.5927000992030146, 0.49227540937076103, 0.5438766152258144]\n"
     ]
    },
    {
     "name": "stderr",
     "output_type": "stream",
     "text": [
      "[I 2020-06-30 00:41:23,239] Finished trial#236 resulted in value: 0.5429507079331967. Current best value is 0.5426543617180987 with parameters: {'direct_rmse': 0.43620693105558084, 'direct_rmse_ensemble': 0.00035695939630667195, 'direct_wrmse': 0.42979567152384984, 'direct_wrmse_ensemble': 0.8845383929960402, 'base_pred': 0.366715757652114}.\n"
     ]
    },
    {
     "name": "stdout",
     "output_type": "stream",
     "text": [
      "[0.5928400685720673, 0.4901534770323139, 0.5451471925899793]\n"
     ]
    },
    {
     "name": "stderr",
     "output_type": "stream",
     "text": [
      "[I 2020-06-30 00:41:35,292] Finished trial#237 resulted in value: 0.5427135793981201. Current best value is 0.5426543617180987 with parameters: {'direct_rmse': 0.43620693105558084, 'direct_rmse_ensemble': 0.00035695939630667195, 'direct_wrmse': 0.42979567152384984, 'direct_wrmse_ensemble': 0.8845383929960402, 'base_pred': 0.366715757652114}.\n"
     ]
    },
    {
     "name": "stdout",
     "output_type": "stream",
     "text": [
      "[0.5920800540857242, 0.4919684838129485, 0.5444329722206832]\n"
     ]
    },
    {
     "name": "stderr",
     "output_type": "stream",
     "text": [
      "[I 2020-06-30 00:41:47,193] Finished trial#238 resulted in value: 0.5428271700397853. Current best value is 0.5426543617180987 with parameters: {'direct_rmse': 0.43620693105558084, 'direct_rmse_ensemble': 0.00035695939630667195, 'direct_wrmse': 0.42979567152384984, 'direct_wrmse_ensemble': 0.8845383929960402, 'base_pred': 0.366715757652114}.\n"
     ]
    },
    {
     "name": "stdout",
     "output_type": "stream",
     "text": [
      "[0.5957069260885808, 0.4902894951137337, 0.5452099673065495]\n"
     ]
    },
    {
     "name": "stderr",
     "output_type": "stream",
     "text": [
      "[I 2020-06-30 00:41:59,389] Finished trial#239 resulted in value: 0.5437354628362879. Current best value is 0.5426543617180987 with parameters: {'direct_rmse': 0.43620693105558084, 'direct_rmse_ensemble': 0.00035695939630667195, 'direct_wrmse': 0.42979567152384984, 'direct_wrmse_ensemble': 0.8845383929960402, 'base_pred': 0.366715757652114}.\n"
     ]
    },
    {
     "name": "stdout",
     "output_type": "stream",
     "text": [
      "[0.591588987630839, 0.4998725554978924, 0.5410855893971915]\n"
     ]
    },
    {
     "name": "stderr",
     "output_type": "stream",
     "text": [
      "[I 2020-06-30 00:42:11,690] Finished trial#240 resulted in value: 0.544182377508641. Current best value is 0.5426543617180987 with parameters: {'direct_rmse': 0.43620693105558084, 'direct_rmse_ensemble': 0.00035695939630667195, 'direct_wrmse': 0.42979567152384984, 'direct_wrmse_ensemble': 0.8845383929960402, 'base_pred': 0.366715757652114}.\n"
     ]
    },
    {
     "name": "stdout",
     "output_type": "stream",
     "text": [
      "[0.5925649577835335, 0.4903540834422733, 0.5452432884756214]\n"
     ]
    },
    {
     "name": "stderr",
     "output_type": "stream",
     "text": [
      "[I 2020-06-30 00:42:23,749] Finished trial#241 resulted in value: 0.5427207765671427. Current best value is 0.5426543617180987 with parameters: {'direct_rmse': 0.43620693105558084, 'direct_rmse_ensemble': 0.00035695939630667195, 'direct_wrmse': 0.42979567152384984, 'direct_wrmse_ensemble': 0.8845383929960402, 'base_pred': 0.366715757652114}.\n"
     ]
    },
    {
     "name": "stdout",
     "output_type": "stream",
     "text": [
      "[0.5934259600142983, 0.4894453948687178, 0.5454866945460713]\n"
     ]
    },
    {
     "name": "stderr",
     "output_type": "stream",
     "text": [
      "[I 2020-06-30 00:42:35,667] Finished trial#242 resulted in value: 0.5427860164763625. Current best value is 0.5426543617180987 with parameters: {'direct_rmse': 0.43620693105558084, 'direct_rmse_ensemble': 0.00035695939630667195, 'direct_wrmse': 0.42979567152384984, 'direct_wrmse_ensemble': 0.8845383929960402, 'base_pred': 0.366715757652114}.\n"
     ]
    },
    {
     "name": "stdout",
     "output_type": "stream",
     "text": [
      "[0.5960296002262868, 0.48822269005880653, 0.5464330567805983]\n"
     ]
    },
    {
     "name": "stderr",
     "output_type": "stream",
     "text": [
      "[I 2020-06-30 00:42:47,929] Finished trial#243 resulted in value: 0.5435617823552304. Current best value is 0.5426543617180987 with parameters: {'direct_rmse': 0.43620693105558084, 'direct_rmse_ensemble': 0.00035695939630667195, 'direct_wrmse': 0.42979567152384984, 'direct_wrmse_ensemble': 0.8845383929960402, 'base_pred': 0.366715757652114}.\n"
     ]
    },
    {
     "name": "stdout",
     "output_type": "stream",
     "text": [
      "[0.5953002874187387, 0.4850046516939834, 0.5491726909273696]\n"
     ]
    },
    {
     "name": "stderr",
     "output_type": "stream",
     "text": [
      "[I 2020-06-30 00:43:00,049] Finished trial#244 resulted in value: 0.5431592100133639. Current best value is 0.5426543617180987 with parameters: {'direct_rmse': 0.43620693105558084, 'direct_rmse_ensemble': 0.00035695939630667195, 'direct_wrmse': 0.42979567152384984, 'direct_wrmse_ensemble': 0.8845383929960402, 'base_pred': 0.366715757652114}.\n"
     ]
    },
    {
     "name": "stdout",
     "output_type": "stream",
     "text": [
      "[0.5945689502032285, 0.48710692035031994, 0.5470784385986367]\n"
     ]
    },
    {
     "name": "stderr",
     "output_type": "stream",
     "text": [
      "[I 2020-06-30 00:43:12,169] Finished trial#245 resulted in value: 0.5429181030507284. Current best value is 0.5426543617180987 with parameters: {'direct_rmse': 0.43620693105558084, 'direct_rmse_ensemble': 0.00035695939630667195, 'direct_wrmse': 0.42979567152384984, 'direct_wrmse_ensemble': 0.8845383929960402, 'base_pred': 0.366715757652114}.\n"
     ]
    },
    {
     "name": "stdout",
     "output_type": "stream",
     "text": [
      "[0.5952591131780348, 0.48783210192435583, 0.5464941260195197]\n"
     ]
    },
    {
     "name": "stderr",
     "output_type": "stream",
     "text": [
      "[I 2020-06-30 00:43:24,757] Finished trial#246 resulted in value: 0.5431951137073034. Current best value is 0.5426543617180987 with parameters: {'direct_rmse': 0.43620693105558084, 'direct_rmse_ensemble': 0.00035695939630667195, 'direct_wrmse': 0.42979567152384984, 'direct_wrmse_ensemble': 0.8845383929960402, 'base_pred': 0.366715757652114}.\n"
     ]
    },
    {
     "name": "stdout",
     "output_type": "stream",
     "text": [
      "[0.5929657533563689, 0.49027795252502476, 0.5451779509265802]\n"
     ]
    },
    {
     "name": "stderr",
     "output_type": "stream",
     "text": [
      "[I 2020-06-30 00:43:37,243] Finished trial#247 resulted in value: 0.5428072189359913. Current best value is 0.5426543617180987 with parameters: {'direct_rmse': 0.43620693105558084, 'direct_rmse_ensemble': 0.00035695939630667195, 'direct_wrmse': 0.42979567152384984, 'direct_wrmse_ensemble': 0.8845383929960402, 'base_pred': 0.366715757652114}.\n"
     ]
    },
    {
     "name": "stdout",
     "output_type": "stream",
     "text": [
      "[0.5948537192524169, 0.4880326200430219, 0.546371296151297]\n"
     ]
    },
    {
     "name": "stderr",
     "output_type": "stream",
     "text": [
      "[I 2020-06-30 00:43:49,119] Finished trial#248 resulted in value: 0.5430858784822453. Current best value is 0.5426543617180987 with parameters: {'direct_rmse': 0.43620693105558084, 'direct_rmse_ensemble': 0.00035695939630667195, 'direct_wrmse': 0.42979567152384984, 'direct_wrmse_ensemble': 0.8845383929960402, 'base_pred': 0.366715757652114}.\n"
     ]
    },
    {
     "name": "stdout",
     "output_type": "stream",
     "text": [
      "[0.5951052419273927, 0.4945944382179564, 0.5433119023416421]\n"
     ]
    },
    {
     "name": "stderr",
     "output_type": "stream",
     "text": [
      "[I 2020-06-30 00:44:01,078] Finished trial#249 resulted in value: 0.5443371941623304. Current best value is 0.5426543617180987 with parameters: {'direct_rmse': 0.43620693105558084, 'direct_rmse_ensemble': 0.00035695939630667195, 'direct_wrmse': 0.42979567152384984, 'direct_wrmse_ensemble': 0.8845383929960402, 'base_pred': 0.366715757652114}.\n"
     ]
    },
    {
     "name": "stdout",
     "output_type": "stream",
     "text": [
      "[0.593688786250131, 0.48790899953937766, 0.5466454534600417]\n"
     ]
    },
    {
     "name": "stderr",
     "output_type": "stream",
     "text": [
      "[I 2020-06-30 00:44:13,069] Finished trial#250 resulted in value: 0.5427477464165168. Current best value is 0.5426543617180987 with parameters: {'direct_rmse': 0.43620693105558084, 'direct_rmse_ensemble': 0.00035695939630667195, 'direct_wrmse': 0.42979567152384984, 'direct_wrmse_ensemble': 0.8845383929960402, 'base_pred': 0.366715757652114}.\n"
     ]
    },
    {
     "name": "stdout",
     "output_type": "stream",
     "text": [
      "[0.5942079945217293, 0.4886630995777474, 0.5459929520198094]\n"
     ]
    },
    {
     "name": "stderr",
     "output_type": "stream",
     "text": [
      "[I 2020-06-30 00:44:25,329] Finished trial#251 resulted in value: 0.542954682039762. Current best value is 0.5426543617180987 with parameters: {'direct_rmse': 0.43620693105558084, 'direct_rmse_ensemble': 0.00035695939630667195, 'direct_wrmse': 0.42979567152384984, 'direct_wrmse_ensemble': 0.8845383929960402, 'base_pred': 0.366715757652114}.\n"
     ]
    },
    {
     "name": "stdout",
     "output_type": "stream",
     "text": [
      "[0.5934174842840941, 0.49136018278023547, 0.5443688644790593]\n"
     ]
    },
    {
     "name": "stderr",
     "output_type": "stream",
     "text": [
      "[I 2020-06-30 00:44:37,257] Finished trial#252 resulted in value: 0.5430488438477963. Current best value is 0.5426543617180987 with parameters: {'direct_rmse': 0.43620693105558084, 'direct_rmse_ensemble': 0.00035695939630667195, 'direct_wrmse': 0.42979567152384984, 'direct_wrmse_ensemble': 0.8845383929960402, 'base_pred': 0.366715757652114}.\n"
     ]
    },
    {
     "name": "stdout",
     "output_type": "stream",
     "text": [
      "[0.5923782977056118, 0.4900378999405251, 0.5455878525825949]\n"
     ]
    },
    {
     "name": "stderr",
     "output_type": "stream",
     "text": [
      "[I 2020-06-30 00:44:49,248] Finished trial#253 resulted in value: 0.5426680167429105. Current best value is 0.5426543617180987 with parameters: {'direct_rmse': 0.43620693105558084, 'direct_rmse_ensemble': 0.00035695939630667195, 'direct_wrmse': 0.42979567152384984, 'direct_wrmse_ensemble': 0.8845383929960402, 'base_pred': 0.366715757652114}.\n"
     ]
    },
    {
     "name": "stdout",
     "output_type": "stream",
     "text": [
      "[0.5945424886989681, 0.4874146062003318, 0.5474599583418472]\n"
     ]
    },
    {
     "name": "stderr",
     "output_type": "stream",
     "text": [
      "[I 2020-06-30 00:45:01,794] Finished trial#254 resulted in value: 0.5431390177470491. Current best value is 0.5426543617180987 with parameters: {'direct_rmse': 0.43620693105558084, 'direct_rmse_ensemble': 0.00035695939630667195, 'direct_wrmse': 0.42979567152384984, 'direct_wrmse_ensemble': 0.8845383929960402, 'base_pred': 0.366715757652114}.\n"
     ]
    },
    {
     "name": "stdout",
     "output_type": "stream",
     "text": [
      "[0.5956148200161289, 0.5009996642560637, 0.5415134502385809]\n"
     ]
    },
    {
     "name": "stderr",
     "output_type": "stream",
     "text": [
      "[I 2020-06-30 00:45:13,911] Finished trial#255 resulted in value: 0.5460426448369246. Current best value is 0.5426543617180987 with parameters: {'direct_rmse': 0.43620693105558084, 'direct_rmse_ensemble': 0.00035695939630667195, 'direct_wrmse': 0.42979567152384984, 'direct_wrmse_ensemble': 0.8845383929960402, 'base_pred': 0.366715757652114}.\n"
     ]
    },
    {
     "name": "stdout",
     "output_type": "stream",
     "text": [
      "[0.5926538072820551, 0.4908474701231556, 0.544762039908982]\n"
     ]
    },
    {
     "name": "stderr",
     "output_type": "stream",
     "text": [
      "[I 2020-06-30 00:45:25,997] Finished trial#256 resulted in value: 0.5427544391047309. Current best value is 0.5426543617180987 with parameters: {'direct_rmse': 0.43620693105558084, 'direct_rmse_ensemble': 0.00035695939630667195, 'direct_wrmse': 0.42979567152384984, 'direct_wrmse_ensemble': 0.8845383929960402, 'base_pred': 0.366715757652114}.\n"
     ]
    },
    {
     "name": "stdout",
     "output_type": "stream",
     "text": [
      "[0.5923776818499126, 0.49008589987815343, 0.545541545564751]\n"
     ]
    },
    {
     "name": "stderr",
     "output_type": "stream",
     "text": [
      "[I 2020-06-30 00:45:38,305] Finished trial#257 resulted in value: 0.5426683757642723. Current best value is 0.5426543617180987 with parameters: {'direct_rmse': 0.43620693105558084, 'direct_rmse_ensemble': 0.00035695939630667195, 'direct_wrmse': 0.42979567152384984, 'direct_wrmse_ensemble': 0.8845383929960402, 'base_pred': 0.366715757652114}.\n"
     ]
    },
    {
     "name": "stdout",
     "output_type": "stream",
     "text": [
      "[0.5920627007501565, 0.4912678721974138, 0.5448223784792401]\n"
     ]
    },
    {
     "name": "stderr",
     "output_type": "stream",
     "text": [
      "[I 2020-06-30 00:45:50,154] Finished trial#258 resulted in value: 0.5427176504756035. Current best value is 0.5426543617180987 with parameters: {'direct_rmse': 0.43620693105558084, 'direct_rmse_ensemble': 0.00035695939630667195, 'direct_wrmse': 0.42979567152384984, 'direct_wrmse_ensemble': 0.8845383929960402, 'base_pred': 0.366715757652114}.\n"
     ]
    },
    {
     "name": "stdout",
     "output_type": "stream",
     "text": [
      "[0.5923979825057217, 0.4902022596029189, 0.5453862681701661]\n"
     ]
    },
    {
     "name": "stderr",
     "output_type": "stream",
     "text": [
      "[I 2020-06-30 00:46:02,573] Finished trial#259 resulted in value: 0.5426621700929356. Current best value is 0.5426543617180987 with parameters: {'direct_rmse': 0.43620693105558084, 'direct_rmse_ensemble': 0.00035695939630667195, 'direct_wrmse': 0.42979567152384984, 'direct_wrmse_ensemble': 0.8845383929960402, 'base_pred': 0.366715757652114}.\n"
     ]
    },
    {
     "name": "stdout",
     "output_type": "stream",
     "text": [
      "[0.5923344839912085, 0.4903653391874248, 0.5452768848875404]\n"
     ]
    },
    {
     "name": "stderr",
     "output_type": "stream",
     "text": [
      "[I 2020-06-30 00:46:14,548] Finished trial#260 resulted in value: 0.5426589026887246. Current best value is 0.5426543617180987 with parameters: {'direct_rmse': 0.43620693105558084, 'direct_rmse_ensemble': 0.00035695939630667195, 'direct_wrmse': 0.42979567152384984, 'direct_wrmse_ensemble': 0.8845383929960402, 'base_pred': 0.366715757652114}.\n"
     ]
    },
    {
     "name": "stdout",
     "output_type": "stream",
     "text": [
      "[0.5928343364652116, 0.48959167783821367, 0.5456574401086206]\n"
     ]
    },
    {
     "name": "stderr",
     "output_type": "stream",
     "text": [
      "[I 2020-06-30 00:46:26,330] Finished trial#261 resulted in value: 0.5426944848040153. Current best value is 0.5426543617180987 with parameters: {'direct_rmse': 0.43620693105558084, 'direct_rmse_ensemble': 0.00035695939630667195, 'direct_wrmse': 0.42979567152384984, 'direct_wrmse_ensemble': 0.8845383929960402, 'base_pred': 0.366715757652114}.\n"
     ]
    },
    {
     "name": "stdout",
     "output_type": "stream",
     "text": [
      "[0.592626270621343, 0.4899664451032335, 0.545423207035255]\n"
     ]
    },
    {
     "name": "stderr",
     "output_type": "stream",
     "text": [
      "[I 2020-06-30 00:46:38,752] Finished trial#262 resulted in value: 0.5426719742532772. Current best value is 0.5426543617180987 with parameters: {'direct_rmse': 0.43620693105558084, 'direct_rmse_ensemble': 0.00035695939630667195, 'direct_wrmse': 0.42979567152384984, 'direct_wrmse_ensemble': 0.8845383929960402, 'base_pred': 0.366715757652114}.\n"
     ]
    },
    {
     "name": "stdout",
     "output_type": "stream",
     "text": [
      "[0.592407509792381, 0.49067255864929277, 0.5449607138786218]\n"
     ]
    },
    {
     "name": "stderr",
     "output_type": "stream",
     "text": [
      "[I 2020-06-30 00:46:51,027] Finished trial#263 resulted in value: 0.5426802607734319. Current best value is 0.5426543617180987 with parameters: {'direct_rmse': 0.43620693105558084, 'direct_rmse_ensemble': 0.00035695939630667195, 'direct_wrmse': 0.42979567152384984, 'direct_wrmse_ensemble': 0.8845383929960402, 'base_pred': 0.366715757652114}.\n"
     ]
    },
    {
     "name": "stdout",
     "output_type": "stream",
     "text": [
      "[0.5929341050002422, 0.48922107822001215, 0.5458968946874846]\n"
     ]
    },
    {
     "name": "stderr",
     "output_type": "stream",
     "text": [
      "[I 2020-06-30 00:47:03,344] Finished trial#264 resulted in value: 0.5426840259692463. Current best value is 0.5426543617180987 with parameters: {'direct_rmse': 0.43620693105558084, 'direct_rmse_ensemble': 0.00035695939630667195, 'direct_wrmse': 0.42979567152384984, 'direct_wrmse_ensemble': 0.8845383929960402, 'base_pred': 0.366715757652114}.\n"
     ]
    },
    {
     "name": "stdout",
     "output_type": "stream",
     "text": [
      "[0.5919589349124704, 0.49102429988164403, 0.5450815858691096]\n"
     ]
    },
    {
     "name": "stderr",
     "output_type": "stream",
     "text": [
      "[I 2020-06-30 00:47:15,385] Finished trial#265 resulted in value: 0.542688273554408. Current best value is 0.5426543617180987 with parameters: {'direct_rmse': 0.43620693105558084, 'direct_rmse_ensemble': 0.00035695939630667195, 'direct_wrmse': 0.42979567152384984, 'direct_wrmse_ensemble': 0.8845383929960402, 'base_pred': 0.366715757652114}.\n"
     ]
    },
    {
     "name": "stdout",
     "output_type": "stream",
     "text": [
      "[0.5932982704497723, 0.48825347500609567, 0.5466501297231483]\n"
     ]
    },
    {
     "name": "stderr",
     "output_type": "stream",
     "text": [
      "[I 2020-06-30 00:47:27,498] Finished trial#266 resulted in value: 0.5427339583930054. Current best value is 0.5426543617180987 with parameters: {'direct_rmse': 0.43620693105558084, 'direct_rmse_ensemble': 0.00035695939630667195, 'direct_wrmse': 0.42979567152384984, 'direct_wrmse_ensemble': 0.8845383929960402, 'base_pred': 0.366715757652114}.\n"
     ]
    },
    {
     "name": "stdout",
     "output_type": "stream",
     "text": [
      "[0.5919178671345604, 0.4914710361628329, 0.5447840441591215]\n"
     ]
    },
    {
     "name": "stderr",
     "output_type": "stream",
     "text": [
      "[I 2020-06-30 00:47:39,605] Finished trial#267 resulted in value: 0.5427243158188383. Current best value is 0.5426543617180987 with parameters: {'direct_rmse': 0.43620693105558084, 'direct_rmse_ensemble': 0.00035695939630667195, 'direct_wrmse': 0.42979567152384984, 'direct_wrmse_ensemble': 0.8845383929960402, 'base_pred': 0.366715757652114}.\n"
     ]
    },
    {
     "name": "stdout",
     "output_type": "stream",
     "text": [
      "[0.5936549502478575, 0.48786199133225927, 0.5467927520458468]\n"
     ]
    },
    {
     "name": "stderr",
     "output_type": "stream",
     "text": [
      "[I 2020-06-30 00:47:51,551] Finished trial#268 resulted in value: 0.5427698978753212. Current best value is 0.5426543617180987 with parameters: {'direct_rmse': 0.43620693105558084, 'direct_rmse_ensemble': 0.00035695939630667195, 'direct_wrmse': 0.42979567152384984, 'direct_wrmse_ensemble': 0.8845383929960402, 'base_pred': 0.366715757652114}.\n"
     ]
    },
    {
     "name": "stdout",
     "output_type": "stream",
     "text": [
      "[0.5924738756886396, 0.49065533273766215, 0.5449243787343419]\n"
     ]
    },
    {
     "name": "stderr",
     "output_type": "stream",
     "text": [
      "[I 2020-06-30 00:48:04,074] Finished trial#269 resulted in value: 0.5426845290535479. Current best value is 0.5426543617180987 with parameters: {'direct_rmse': 0.43620693105558084, 'direct_rmse_ensemble': 0.00035695939630667195, 'direct_wrmse': 0.42979567152384984, 'direct_wrmse_ensemble': 0.8845383929960402, 'base_pred': 0.366715757652114}.\n"
     ]
    },
    {
     "name": "stdout",
     "output_type": "stream",
     "text": [
      "[0.592312455767336, 0.4905355587262999, 0.5452828217701636]\n"
     ]
    },
    {
     "name": "stderr",
     "output_type": "stream",
     "text": [
      "[I 2020-06-30 00:48:16,033] Finished trial#270 resulted in value: 0.5427102787545999. Current best value is 0.5426543617180987 with parameters: {'direct_rmse': 0.43620693105558084, 'direct_rmse_ensemble': 0.00035695939630667195, 'direct_wrmse': 0.42979567152384984, 'direct_wrmse_ensemble': 0.8845383929960402, 'base_pred': 0.366715757652114}.\n"
     ]
    },
    {
     "name": "stdout",
     "output_type": "stream",
     "text": [
      "[0.593126293792582, 0.49042545601485804, 0.5449644792849961]\n"
     ]
    },
    {
     "name": "stderr",
     "output_type": "stream",
     "text": [
      "[I 2020-06-30 00:48:28,035] Finished trial#271 resulted in value: 0.542838743030812. Current best value is 0.5426543617180987 with parameters: {'direct_rmse': 0.43620693105558084, 'direct_rmse_ensemble': 0.00035695939630667195, 'direct_wrmse': 0.42979567152384984, 'direct_wrmse_ensemble': 0.8845383929960402, 'base_pred': 0.366715757652114}.\n"
     ]
    },
    {
     "name": "stdout",
     "output_type": "stream",
     "text": [
      "[0.593389718774702, 0.48838190886291094, 0.5463649236902633]\n"
     ]
    },
    {
     "name": "stderr",
     "output_type": "stream",
     "text": [
      "[I 2020-06-30 00:48:40,315] Finished trial#272 resulted in value: 0.5427121837759588. Current best value is 0.5426543617180987 with parameters: {'direct_rmse': 0.43620693105558084, 'direct_rmse_ensemble': 0.00035695939630667195, 'direct_wrmse': 0.42979567152384984, 'direct_wrmse_ensemble': 0.8845383929960402, 'base_pred': 0.366715757652114}.\n"
     ]
    },
    {
     "name": "stdout",
     "output_type": "stream",
     "text": [
      "[0.592482813027334, 0.4898918372091973, 0.5457715045882482]\n"
     ]
    },
    {
     "name": "stderr",
     "output_type": "stream",
     "text": [
      "[I 2020-06-30 00:48:52,277] Finished trial#273 resulted in value: 0.5427153849415931. Current best value is 0.5426543617180987 with parameters: {'direct_rmse': 0.43620693105558084, 'direct_rmse_ensemble': 0.00035695939630667195, 'direct_wrmse': 0.42979567152384984, 'direct_wrmse_ensemble': 0.8845383929960402, 'base_pred': 0.366715757652114}.\n"
     ]
    },
    {
     "name": "stdout",
     "output_type": "stream",
     "text": [
      "[0.5920000879787602, 0.4910880687984329, 0.5451757972936968]\n"
     ]
    },
    {
     "name": "stderr",
     "output_type": "stream",
     "text": [
      "[I 2020-06-30 00:49:04,357] Finished trial#274 resulted in value: 0.5427546513569633. Current best value is 0.5426543617180987 with parameters: {'direct_rmse': 0.43620693105558084, 'direct_rmse_ensemble': 0.00035695939630667195, 'direct_wrmse': 0.42979567152384984, 'direct_wrmse_ensemble': 0.8845383929960402, 'base_pred': 0.366715757652114}.\n"
     ]
    },
    {
     "name": "stdout",
     "output_type": "stream",
     "text": [
      "[0.5933560286825864, 0.4881925196345486, 0.5466118875663858]\n"
     ]
    },
    {
     "name": "stderr",
     "output_type": "stream",
     "text": [
      "[I 2020-06-30 00:49:16,713] Finished trial#275 resulted in value: 0.5427201452945069. Current best value is 0.5426543617180987 with parameters: {'direct_rmse': 0.43620693105558084, 'direct_rmse_ensemble': 0.00035695939630667195, 'direct_wrmse': 0.42979567152384984, 'direct_wrmse_ensemble': 0.8845383929960402, 'base_pred': 0.366715757652114}.\n"
     ]
    },
    {
     "name": "stdout",
     "output_type": "stream",
     "text": [
      "[0.5921936380379296, 0.4906867006528892, 0.5452252782012212]\n"
     ]
    },
    {
     "name": "stderr",
     "output_type": "stream",
     "text": [
      "[I 2020-06-30 00:49:28,864] Finished trial#276 resulted in value: 0.5427018722973467. Current best value is 0.5426543617180987 with parameters: {'direct_rmse': 0.43620693105558084, 'direct_rmse_ensemble': 0.00035695939630667195, 'direct_wrmse': 0.42979567152384984, 'direct_wrmse_ensemble': 0.8845383929960402, 'base_pred': 0.366715757652114}.\n"
     ]
    },
    {
     "name": "stdout",
     "output_type": "stream",
     "text": [
      "[0.5926958530997949, 0.49083523241434435, 0.5447939467760018]\n"
     ]
    },
    {
     "name": "stderr",
     "output_type": "stream",
     "text": [
      "[I 2020-06-30 00:49:41,188] Finished trial#277 resulted in value: 0.5427750107633803. Current best value is 0.5426543617180987 with parameters: {'direct_rmse': 0.43620693105558084, 'direct_rmse_ensemble': 0.00035695939630667195, 'direct_wrmse': 0.42979567152384984, 'direct_wrmse_ensemble': 0.8845383929960402, 'base_pred': 0.366715757652114}.\n"
     ]
    },
    {
     "name": "stdout",
     "output_type": "stream",
     "text": [
      "[0.592002204903815, 0.49202749393215495, 0.544230357708061]\n"
     ]
    },
    {
     "name": "stderr",
     "output_type": "stream",
     "text": [
      "[I 2020-06-30 00:49:53,551] Finished trial#278 resulted in value: 0.5427533521813438. Current best value is 0.5426543617180987 with parameters: {'direct_rmse': 0.43620693105558084, 'direct_rmse_ensemble': 0.00035695939630667195, 'direct_wrmse': 0.42979567152384984, 'direct_wrmse_ensemble': 0.8845383929960402, 'base_pred': 0.366715757652114}.\n"
     ]
    },
    {
     "name": "stdout",
     "output_type": "stream",
     "text": [
      "[0.5930622934174875, 0.48965505194244935, 0.5454629712738448]\n"
     ]
    },
    {
     "name": "stderr",
     "output_type": "stream",
     "text": [
      "[I 2020-06-30 00:50:05,900] Finished trial#279 resulted in value: 0.5427267722112605. Current best value is 0.5426543617180987 with parameters: {'direct_rmse': 0.43620693105558084, 'direct_rmse_ensemble': 0.00035695939630667195, 'direct_wrmse': 0.42979567152384984, 'direct_wrmse_ensemble': 0.8845383929960402, 'base_pred': 0.366715757652114}.\n"
     ]
    },
    {
     "name": "stdout",
     "output_type": "stream",
     "text": [
      "[0.5931740313423844, 0.48871016332392814, 0.5462395715925277]\n"
     ]
    },
    {
     "name": "stderr",
     "output_type": "stream",
     "text": [
      "[I 2020-06-30 00:50:17,899] Finished trial#280 resulted in value: 0.54270792208628. Current best value is 0.5426543617180987 with parameters: {'direct_rmse': 0.43620693105558084, 'direct_rmse_ensemble': 0.00035695939630667195, 'direct_wrmse': 0.42979567152384984, 'direct_wrmse_ensemble': 0.8845383929960402, 'base_pred': 0.366715757652114}.\n"
     ]
    },
    {
     "name": "stdout",
     "output_type": "stream",
     "text": [
      "[0.5921662248161313, 0.49102757224324417, 0.5449105641099143]\n"
     ]
    },
    {
     "name": "stderr",
     "output_type": "stream",
     "text": [
      "[I 2020-06-30 00:50:29,872] Finished trial#281 resulted in value: 0.5427014537230966. Current best value is 0.5426543617180987 with parameters: {'direct_rmse': 0.43620693105558084, 'direct_rmse_ensemble': 0.00035695939630667195, 'direct_wrmse': 0.42979567152384984, 'direct_wrmse_ensemble': 0.8845383929960402, 'base_pred': 0.366715757652114}.\n"
     ]
    },
    {
     "name": "stdout",
     "output_type": "stream",
     "text": [
      "[0.5930602620023012, 0.48891348730243034, 0.5460337510380919]\n"
     ]
    },
    {
     "name": "stderr",
     "output_type": "stream",
     "text": [
      "[I 2020-06-30 00:50:42,117] Finished trial#282 resulted in value: 0.5426691667809412. Current best value is 0.5426543617180987 with parameters: {'direct_rmse': 0.43620693105558084, 'direct_rmse_ensemble': 0.00035695939630667195, 'direct_wrmse': 0.42979567152384984, 'direct_wrmse_ensemble': 0.8845383929960402, 'base_pred': 0.366715757652114}.\n"
     ]
    },
    {
     "name": "stdout",
     "output_type": "stream",
     "text": [
      "[0.5940437022053723, 0.48721334891163, 0.5472855344215705]\n"
     ]
    },
    {
     "name": "stderr",
     "output_type": "stream",
     "text": [
      "[I 2020-06-30 00:50:54,147] Finished trial#283 resulted in value: 0.5428475285128576. Current best value is 0.5426543617180987 with parameters: {'direct_rmse': 0.43620693105558084, 'direct_rmse_ensemble': 0.00035695939630667195, 'direct_wrmse': 0.42979567152384984, 'direct_wrmse_ensemble': 0.8845383929960402, 'base_pred': 0.366715757652114}.\n"
     ]
    },
    {
     "name": "stdout",
     "output_type": "stream",
     "text": [
      "[0.5921035878784436, 0.49102822636025617, 0.5450529724898336]\n"
     ]
    },
    {
     "name": "stderr",
     "output_type": "stream",
     "text": [
      "[I 2020-06-30 00:51:06,539] Finished trial#284 resulted in value: 0.5427282622428445. Current best value is 0.5426543617180987 with parameters: {'direct_rmse': 0.43620693105558084, 'direct_rmse_ensemble': 0.00035695939630667195, 'direct_wrmse': 0.42979567152384984, 'direct_wrmse_ensemble': 0.8845383929960402, 'base_pred': 0.366715757652114}.\n"
     ]
    },
    {
     "name": "stdout",
     "output_type": "stream",
     "text": [
      "[0.5931995847538426, 0.48945251621867175, 0.5455738404814344]\n"
     ]
    },
    {
     "name": "stderr",
     "output_type": "stream",
     "text": [
      "[I 2020-06-30 00:51:18,679] Finished trial#285 resulted in value: 0.5427419804846495. Current best value is 0.5426543617180987 with parameters: {'direct_rmse': 0.43620693105558084, 'direct_rmse_ensemble': 0.00035695939630667195, 'direct_wrmse': 0.42979567152384984, 'direct_wrmse_ensemble': 0.8845383929960402, 'base_pred': 0.366715757652114}.\n"
     ]
    },
    {
     "name": "stdout",
     "output_type": "stream",
     "text": [
      "[0.5935195148373197, 0.49023124777806576, 0.5449892374169473]\n"
     ]
    },
    {
     "name": "stderr",
     "output_type": "stream",
     "text": [
      "[I 2020-06-30 00:51:30,578] Finished trial#286 resulted in value: 0.542913333344111. Current best value is 0.5426543617180987 with parameters: {'direct_rmse': 0.43620693105558084, 'direct_rmse_ensemble': 0.00035695939630667195, 'direct_wrmse': 0.42979567152384984, 'direct_wrmse_ensemble': 0.8845383929960402, 'base_pred': 0.366715757652114}.\n"
     ]
    },
    {
     "name": "stdout",
     "output_type": "stream",
     "text": [
      "[0.5926271690866433, 0.4908735242845894, 0.544732455719266]\n"
     ]
    },
    {
     "name": "stderr",
     "output_type": "stream",
     "text": [
      "[I 2020-06-30 00:51:42,433] Finished trial#287 resulted in value: 0.5427443830301663. Current best value is 0.5426543617180987 with parameters: {'direct_rmse': 0.43620693105558084, 'direct_rmse_ensemble': 0.00035695939630667195, 'direct_wrmse': 0.42979567152384984, 'direct_wrmse_ensemble': 0.8845383929960402, 'base_pred': 0.366715757652114}.\n"
     ]
    },
    {
     "name": "stdout",
     "output_type": "stream",
     "text": [
      "[0.5939918023532776, 0.4888186591962373, 0.5460509888856692]\n"
     ]
    },
    {
     "name": "stderr",
     "output_type": "stream",
     "text": [
      "[I 2020-06-30 00:51:54,583] Finished trial#288 resulted in value: 0.5429538168117279. Current best value is 0.5426543617180987 with parameters: {'direct_rmse': 0.43620693105558084, 'direct_rmse_ensemble': 0.00035695939630667195, 'direct_wrmse': 0.42979567152384984, 'direct_wrmse_ensemble': 0.8845383929960402, 'base_pred': 0.366715757652114}.\n"
     ]
    },
    {
     "name": "stdout",
     "output_type": "stream",
     "text": [
      "[0.5923226218106125, 0.4907535279650717, 0.5449481158291066]\n"
     ]
    },
    {
     "name": "stderr",
     "output_type": "stream",
     "text": [
      "[I 2020-06-30 00:52:06,734] Finished trial#289 resulted in value: 0.542674755201597. Current best value is 0.5426543617180987 with parameters: {'direct_rmse': 0.43620693105558084, 'direct_rmse_ensemble': 0.00035695939630667195, 'direct_wrmse': 0.42979567152384984, 'direct_wrmse_ensemble': 0.8845383929960402, 'base_pred': 0.366715757652114}.\n"
     ]
    },
    {
     "name": "stdout",
     "output_type": "stream",
     "text": [
      "[0.5932826944322077, 0.4893297529561374, 0.5456529752996127]\n"
     ]
    },
    {
     "name": "stderr",
     "output_type": "stream",
     "text": [
      "[I 2020-06-30 00:52:19,122] Finished trial#290 resulted in value: 0.542755140895986. Current best value is 0.5426543617180987 with parameters: {'direct_rmse': 0.43620693105558084, 'direct_rmse_ensemble': 0.00035695939630667195, 'direct_wrmse': 0.42979567152384984, 'direct_wrmse_ensemble': 0.8845383929960402, 'base_pred': 0.366715757652114}.\n"
     ]
    },
    {
     "name": "stdout",
     "output_type": "stream",
     "text": [
      "[0.5932222518471372, 0.49074908369301734, 0.544701384216887]\n"
     ]
    },
    {
     "name": "stderr",
     "output_type": "stream",
     "text": [
      "[I 2020-06-30 00:52:31,073] Finished trial#291 resulted in value: 0.5428909065856805. Current best value is 0.5426543617180987 with parameters: {'direct_rmse': 0.43620693105558084, 'direct_rmse_ensemble': 0.00035695939630667195, 'direct_wrmse': 0.42979567152384984, 'direct_wrmse_ensemble': 0.8845383929960402, 'base_pred': 0.366715757652114}.\n"
     ]
    },
    {
     "name": "stdout",
     "output_type": "stream",
     "text": [
      "[0.5950366530968239, 0.4875998574628671, 0.5467347849166605]\n"
     ]
    },
    {
     "name": "stderr",
     "output_type": "stream",
     "text": [
      "[I 2020-06-30 00:52:43,111] Finished trial#292 resulted in value: 0.5431237651587838. Current best value is 0.5426543617180987 with parameters: {'direct_rmse': 0.43620693105558084, 'direct_rmse_ensemble': 0.00035695939630667195, 'direct_wrmse': 0.42979567152384984, 'direct_wrmse_ensemble': 0.8845383929960402, 'base_pred': 0.366715757652114}.\n"
     ]
    },
    {
     "name": "stdout",
     "output_type": "stream",
     "text": [
      "[0.5941653653974192, 0.49529921862387494, 0.5430170438815437]\n"
     ]
    },
    {
     "name": "stderr",
     "output_type": "stream",
     "text": [
      "[I 2020-06-30 00:52:55,318] Finished trial#293 resulted in value: 0.5441605426342792. Current best value is 0.5426543617180987 with parameters: {'direct_rmse': 0.43620693105558084, 'direct_rmse_ensemble': 0.00035695939630667195, 'direct_wrmse': 0.42979567152384984, 'direct_wrmse_ensemble': 0.8845383929960402, 'base_pred': 0.366715757652114}.\n"
     ]
    },
    {
     "name": "stdout",
     "output_type": "stream",
     "text": [
      "[0.593748232293745, 0.490880385693978, 0.5446968321910924]\n"
     ]
    },
    {
     "name": "stderr",
     "output_type": "stream",
     "text": [
      "[I 2020-06-30 00:53:07,379] Finished trial#294 resulted in value: 0.5431084833929384. Current best value is 0.5426543617180987 with parameters: {'direct_rmse': 0.43620693105558084, 'direct_rmse_ensemble': 0.00035695939630667195, 'direct_wrmse': 0.42979567152384984, 'direct_wrmse_ensemble': 0.8845383929960402, 'base_pred': 0.366715757652114}.\n"
     ]
    },
    {
     "name": "stdout",
     "output_type": "stream",
     "text": [
      "[0.5916869871729882, 0.49218069177836027, 0.5444016703449659]\n"
     ]
    },
    {
     "name": "stderr",
     "output_type": "stream",
     "text": [
      "[I 2020-06-30 00:53:19,862] Finished trial#295 resulted in value: 0.5427564497654381. Current best value is 0.5426543617180987 with parameters: {'direct_rmse': 0.43620693105558084, 'direct_rmse_ensemble': 0.00035695939630667195, 'direct_wrmse': 0.42979567152384984, 'direct_wrmse_ensemble': 0.8845383929960402, 'base_pred': 0.366715757652114}.\n"
     ]
    },
    {
     "name": "stdout",
     "output_type": "stream",
     "text": [
      "[0.5946281285638172, 0.48721744518104515, 0.5470232351401004]\n"
     ]
    },
    {
     "name": "stderr",
     "output_type": "stream",
     "text": [
      "[I 2020-06-30 00:53:31,800] Finished trial#296 resulted in value: 0.5429562696283209. Current best value is 0.5426543617180987 with parameters: {'direct_rmse': 0.43620693105558084, 'direct_rmse_ensemble': 0.00035695939630667195, 'direct_wrmse': 0.42979567152384984, 'direct_wrmse_ensemble': 0.8845383929960402, 'base_pred': 0.366715757652114}.\n"
     ]
    },
    {
     "name": "stdout",
     "output_type": "stream",
     "text": [
      "[0.5957719363296017, 0.48746207017711435, 0.5468601284948936]\n"
     ]
    },
    {
     "name": "stderr",
     "output_type": "stream",
     "text": [
      "[I 2020-06-30 00:53:43,767] Finished trial#297 resulted in value: 0.5433647116672032. Current best value is 0.5426543617180987 with parameters: {'direct_rmse': 0.43620693105558084, 'direct_rmse_ensemble': 0.00035695939630667195, 'direct_wrmse': 0.42979567152384984, 'direct_wrmse_ensemble': 0.8845383929960402, 'base_pred': 0.366715757652114}.\n"
     ]
    },
    {
     "name": "stdout",
     "output_type": "stream",
     "text": [
      "[0.593986009618782, 0.4873291489835079, 0.5471443044470427]\n"
     ]
    },
    {
     "name": "stderr",
     "output_type": "stream",
     "text": [
      "[I 2020-06-30 00:53:55,954] Finished trial#298 resulted in value: 0.5428198210164442. Current best value is 0.5426543617180987 with parameters: {'direct_rmse': 0.43620693105558084, 'direct_rmse_ensemble': 0.00035695939630667195, 'direct_wrmse': 0.42979567152384984, 'direct_wrmse_ensemble': 0.8845383929960402, 'base_pred': 0.366715757652114}.\n"
     ]
    },
    {
     "name": "stdout",
     "output_type": "stream",
     "text": [
      "[0.5919743417144315, 0.49154856297936006, 0.544731224719955]\n"
     ]
    },
    {
     "name": "stderr",
     "output_type": "stream",
     "text": [
      "[I 2020-06-30 00:54:08,640] Finished trial#299 resulted in value: 0.5427513764712488. Current best value is 0.5426543617180987 with parameters: {'direct_rmse': 0.43620693105558084, 'direct_rmse_ensemble': 0.00035695939630667195, 'direct_wrmse': 0.42979567152384984, 'direct_wrmse_ensemble': 0.8845383929960402, 'base_pred': 0.366715757652114}.\n"
     ]
    },
    {
     "name": "stdout",
     "output_type": "stream",
     "text": [
      "[0.5928410114455546, 0.48992931875426043, 0.54537074388199]\n"
     ]
    },
    {
     "name": "stderr",
     "output_type": "stream",
     "text": [
      "[I 2020-06-30 00:54:20,570] Finished trial#300 resulted in value: 0.5427136913606017. Current best value is 0.5426543617180987 with parameters: {'direct_rmse': 0.43620693105558084, 'direct_rmse_ensemble': 0.00035695939630667195, 'direct_wrmse': 0.42979567152384984, 'direct_wrmse_ensemble': 0.8845383929960402, 'base_pred': 0.366715757652114}.\n"
     ]
    },
    {
     "name": "stdout",
     "output_type": "stream",
     "text": [
      "[0.5919560602689055, 0.4914366496547032, 0.5450354138818124]\n"
     ]
    },
    {
     "name": "stderr",
     "output_type": "stream",
     "text": [
      "[I 2020-06-30 00:54:32,918] Finished trial#301 resulted in value: 0.542809374601807. Current best value is 0.5426543617180987 with parameters: {'direct_rmse': 0.43620693105558084, 'direct_rmse_ensemble': 0.00035695939630667195, 'direct_wrmse': 0.42979567152384984, 'direct_wrmse_ensemble': 0.8845383929960402, 'base_pred': 0.366715757652114}.\n"
     ]
    },
    {
     "name": "stdout",
     "output_type": "stream",
     "text": [
      "[0.5933143448906094, 0.49631437153052477, 0.542369506950026]\n"
     ]
    },
    {
     "name": "stderr",
     "output_type": "stream",
     "text": [
      "[I 2020-06-30 00:54:45,553] Finished trial#302 resulted in value: 0.5439994077903867. Current best value is 0.5426543617180987 with parameters: {'direct_rmse': 0.43620693105558084, 'direct_rmse_ensemble': 0.00035695939630667195, 'direct_wrmse': 0.42979567152384984, 'direct_wrmse_ensemble': 0.8845383929960402, 'base_pred': 0.366715757652114}.\n"
     ]
    },
    {
     "name": "stdout",
     "output_type": "stream",
     "text": [
      "[0.5929234635300787, 0.4903046271234168, 0.5450983011527449]\n"
     ]
    },
    {
     "name": "stderr",
     "output_type": "stream",
     "text": [
      "[I 2020-06-30 00:54:57,866] Finished trial#303 resulted in value: 0.5427754639354134. Current best value is 0.5426543617180987 with parameters: {'direct_rmse': 0.43620693105558084, 'direct_rmse_ensemble': 0.00035695939630667195, 'direct_wrmse': 0.42979567152384984, 'direct_wrmse_ensemble': 0.8845383929960402, 'base_pred': 0.366715757652114}.\n"
     ]
    },
    {
     "name": "stdout",
     "output_type": "stream",
     "text": [
      "[0.5921169067239952, 0.49082720599364604, 0.5450872800095127]\n"
     ]
    },
    {
     "name": "stderr",
     "output_type": "stream",
     "text": [
      "[I 2020-06-30 00:55:09,938] Finished trial#304 resulted in value: 0.5426771309090513. Current best value is 0.5426543617180987 with parameters: {'direct_rmse': 0.43620693105558084, 'direct_rmse_ensemble': 0.00035695939630667195, 'direct_wrmse': 0.42979567152384984, 'direct_wrmse_ensemble': 0.8845383929960402, 'base_pred': 0.366715757652114}.\n"
     ]
    },
    {
     "name": "stdout",
     "output_type": "stream",
     "text": [
      "[0.5949354177446294, 0.48745542701588956, 0.546883846713053]\n"
     ]
    },
    {
     "name": "stderr",
     "output_type": "stream",
     "text": [
      "[I 2020-06-30 00:55:21,945] Finished trial#305 resulted in value: 0.5430915638245241. Current best value is 0.5426543617180987 with parameters: {'direct_rmse': 0.43620693105558084, 'direct_rmse_ensemble': 0.00035695939630667195, 'direct_wrmse': 0.42979567152384984, 'direct_wrmse_ensemble': 0.8845383929960402, 'base_pred': 0.366715757652114}.\n"
     ]
    },
    {
     "name": "stdout",
     "output_type": "stream",
     "text": [
      "[0.5921163329820983, 0.4908066751718725, 0.5453003774657859]\n"
     ]
    },
    {
     "name": "stderr",
     "output_type": "stream",
     "text": [
      "[I 2020-06-30 00:55:34,362] Finished trial#306 resulted in value: 0.542741128539919. Current best value is 0.5426543617180987 with parameters: {'direct_rmse': 0.43620693105558084, 'direct_rmse_ensemble': 0.00035695939630667195, 'direct_wrmse': 0.42979567152384984, 'direct_wrmse_ensemble': 0.8845383929960402, 'base_pred': 0.366715757652114}.\n"
     ]
    },
    {
     "name": "stdout",
     "output_type": "stream",
     "text": [
      "[0.5942089738673436, 0.48666064113707136, 0.5478957994437369]\n"
     ]
    },
    {
     "name": "stderr",
     "output_type": "stream",
     "text": [
      "[I 2020-06-30 00:55:46,695] Finished trial#307 resulted in value: 0.5429218048160506. Current best value is 0.5426543617180987 with parameters: {'direct_rmse': 0.43620693105558084, 'direct_rmse_ensemble': 0.00035695939630667195, 'direct_wrmse': 0.42979567152384984, 'direct_wrmse_ensemble': 0.8845383929960402, 'base_pred': 0.366715757652114}.\n"
     ]
    },
    {
     "name": "stdout",
     "output_type": "stream",
     "text": [
      "[0.5928910433647653, 0.4925137835061168, 0.5438051181627654]\n"
     ]
    },
    {
     "name": "stderr",
     "output_type": "stream",
     "text": [
      "[I 2020-06-30 00:55:58,581] Finished trial#308 resulted in value: 0.5430699816778825. Current best value is 0.5426543617180987 with parameters: {'direct_rmse': 0.43620693105558084, 'direct_rmse_ensemble': 0.00035695939630667195, 'direct_wrmse': 0.42979567152384984, 'direct_wrmse_ensemble': 0.8845383929960402, 'base_pred': 0.366715757652114}.\n"
     ]
    },
    {
     "name": "stdout",
     "output_type": "stream",
     "text": [
      "[0.5925540217011457, 0.49114407106599645, 0.5445756855216782]\n"
     ]
    },
    {
     "name": "stderr",
     "output_type": "stream",
     "text": [
      "[I 2020-06-30 00:56:10,639] Finished trial#309 resulted in value: 0.5427579260962734. Current best value is 0.5426543617180987 with parameters: {'direct_rmse': 0.43620693105558084, 'direct_rmse_ensemble': 0.00035695939630667195, 'direct_wrmse': 0.42979567152384984, 'direct_wrmse_ensemble': 0.8845383929960402, 'base_pred': 0.366715757652114}.\n"
     ]
    },
    {
     "name": "stdout",
     "output_type": "stream",
     "text": [
      "[0.592872521117348, 0.48936635779332044, 0.5460405417702673]\n"
     ]
    },
    {
     "name": "stderr",
     "output_type": "stream",
     "text": [
      "[I 2020-06-30 00:56:22,624] Finished trial#310 resulted in value: 0.5427598068936453. Current best value is 0.5426543617180987 with parameters: {'direct_rmse': 0.43620693105558084, 'direct_rmse_ensemble': 0.00035695939630667195, 'direct_wrmse': 0.42979567152384984, 'direct_wrmse_ensemble': 0.8845383929960402, 'base_pred': 0.366715757652114}.\n"
     ]
    },
    {
     "name": "stdout",
     "output_type": "stream",
     "text": [
      "[0.5945061926438765, 0.48962660352689075, 0.5453864781188443]\n"
     ]
    },
    {
     "name": "stderr",
     "output_type": "stream",
     "text": [
      "[I 2020-06-30 00:56:34,978] Finished trial#311 resulted in value: 0.5431730914298706. Current best value is 0.5426543617180987 with parameters: {'direct_rmse': 0.43620693105558084, 'direct_rmse_ensemble': 0.00035695939630667195, 'direct_wrmse': 0.42979567152384984, 'direct_wrmse_ensemble': 0.8845383929960402, 'base_pred': 0.366715757652114}.\n"
     ]
    },
    {
     "name": "stdout",
     "output_type": "stream",
     "text": [
      "[0.5928291119449824, 0.4896606402457544, 0.545726451265491]\n"
     ]
    },
    {
     "name": "stderr",
     "output_type": "stream",
     "text": [
      "[I 2020-06-30 00:56:46,929] Finished trial#312 resulted in value: 0.5427387344854093. Current best value is 0.5426543617180987 with parameters: {'direct_rmse': 0.43620693105558084, 'direct_rmse_ensemble': 0.00035695939630667195, 'direct_wrmse': 0.42979567152384984, 'direct_wrmse_ensemble': 0.8845383929960402, 'base_pred': 0.366715757652114}.\n"
     ]
    },
    {
     "name": "stdout",
     "output_type": "stream",
     "text": [
      "[0.5922229994490266, 0.49074219078720943, 0.5450594695246571]\n"
     ]
    },
    {
     "name": "stderr",
     "output_type": "stream",
     "text": [
      "[I 2020-06-30 00:56:59,221] Finished trial#313 resulted in value: 0.5426748865869644. Current best value is 0.5426543617180987 with parameters: {'direct_rmse': 0.43620693105558084, 'direct_rmse_ensemble': 0.00035695939630667195, 'direct_wrmse': 0.42979567152384984, 'direct_wrmse_ensemble': 0.8845383929960402, 'base_pred': 0.366715757652114}.\n"
     ]
    },
    {
     "name": "stdout",
     "output_type": "stream",
     "text": [
      "[0.5957387812446155, 0.4870126978890197, 0.5473675777412196]\n"
     ]
    },
    {
     "name": "stderr",
     "output_type": "stream",
     "text": [
      "[I 2020-06-30 00:57:11,157] Finished trial#314 resulted in value: 0.5433730189582849. Current best value is 0.5426543617180987 with parameters: {'direct_rmse': 0.43620693105558084, 'direct_rmse_ensemble': 0.00035695939630667195, 'direct_wrmse': 0.42979567152384984, 'direct_wrmse_ensemble': 0.8845383929960402, 'base_pred': 0.366715757652114}.\n"
     ]
    },
    {
     "name": "stdout",
     "output_type": "stream",
     "text": [
      "[0.5945422860663997, 0.49324511900335793, 0.54382004706486]\n"
     ]
    },
    {
     "name": "stderr",
     "output_type": "stream",
     "text": [
      "[I 2020-06-30 00:57:23,016] Finished trial#315 resulted in value: 0.5438691507115392. Current best value is 0.5426543617180987 with parameters: {'direct_rmse': 0.43620693105558084, 'direct_rmse_ensemble': 0.00035695939630667195, 'direct_wrmse': 0.42979567152384984, 'direct_wrmse_ensemble': 0.8845383929960402, 'base_pred': 0.366715757652114}.\n"
     ]
    },
    {
     "name": "stdout",
     "output_type": "stream",
     "text": [
      "[0.5922189233939014, 0.4904455447256066, 0.5456037010669234]\n"
     ]
    },
    {
     "name": "stderr",
     "output_type": "stream",
     "text": [
      "[I 2020-06-30 00:57:35,152] Finished trial#316 resulted in value: 0.5427560563954771. Current best value is 0.5426543617180987 with parameters: {'direct_rmse': 0.43620693105558084, 'direct_rmse_ensemble': 0.00035695939630667195, 'direct_wrmse': 0.42979567152384984, 'direct_wrmse_ensemble': 0.8845383929960402, 'base_pred': 0.366715757652114}.\n"
     ]
    },
    {
     "name": "stdout",
     "output_type": "stream",
     "text": [
      "[0.5956857060042671, 0.4920445159068077, 0.5446579459786042]\n"
     ]
    },
    {
     "name": "stderr",
     "output_type": "stream",
     "text": [
      "[I 2020-06-30 00:57:46,971] Finished trial#317 resulted in value: 0.5441293892965596. Current best value is 0.5426543617180987 with parameters: {'direct_rmse': 0.43620693105558084, 'direct_rmse_ensemble': 0.00035695939630667195, 'direct_wrmse': 0.42979567152384984, 'direct_wrmse_ensemble': 0.8845383929960402, 'base_pred': 0.366715757652114}.\n"
     ]
    },
    {
     "name": "stdout",
     "output_type": "stream",
     "text": [
      "[0.5928174564133093, 0.4908962062467417, 0.5447245822487609]\n"
     ]
    },
    {
     "name": "stderr",
     "output_type": "stream",
     "text": [
      "[I 2020-06-30 00:57:59,131] Finished trial#318 resulted in value: 0.5428127483029374. Current best value is 0.5426543617180987 with parameters: {'direct_rmse': 0.43620693105558084, 'direct_rmse_ensemble': 0.00035695939630667195, 'direct_wrmse': 0.42979567152384984, 'direct_wrmse_ensemble': 0.8845383929960402, 'base_pred': 0.366715757652114}.\n"
     ]
    },
    {
     "name": "stdout",
     "output_type": "stream",
     "text": [
      "[0.5932536070667439, 0.4904072231523533, 0.544909756281875]\n"
     ]
    },
    {
     "name": "stderr",
     "output_type": "stream",
     "text": [
      "[I 2020-06-30 00:58:11,063] Finished trial#319 resulted in value: 0.5428568621669907. Current best value is 0.5426543617180987 with parameters: {'direct_rmse': 0.43620693105558084, 'direct_rmse_ensemble': 0.00035695939630667195, 'direct_wrmse': 0.42979567152384984, 'direct_wrmse_ensemble': 0.8845383929960402, 'base_pred': 0.366715757652114}.\n"
     ]
    },
    {
     "name": "stdout",
     "output_type": "stream",
     "text": [
      "[0.592915822438379, 0.48862306030715336, 0.5469202805042319]\n"
     ]
    },
    {
     "name": "stderr",
     "output_type": "stream",
     "text": [
      "[I 2020-06-30 00:58:23,272] Finished trial#320 resulted in value: 0.5428197210832547. Current best value is 0.5426543617180987 with parameters: {'direct_rmse': 0.43620693105558084, 'direct_rmse_ensemble': 0.00035695939630667195, 'direct_wrmse': 0.42979567152384984, 'direct_wrmse_ensemble': 0.8845383929960402, 'base_pred': 0.366715757652114}.\n"
     ]
    },
    {
     "name": "stdout",
     "output_type": "stream",
     "text": [
      "[0.5950097057800146, 0.48872301480460784, 0.5461314006440104]\n"
     ]
    },
    {
     "name": "stderr",
     "output_type": "stream",
     "text": [
      "[I 2020-06-30 00:58:35,316] Finished trial#321 resulted in value: 0.5432880404095443. Current best value is 0.5426543617180987 with parameters: {'direct_rmse': 0.43620693105558084, 'direct_rmse_ensemble': 0.00035695939630667195, 'direct_wrmse': 0.42979567152384984, 'direct_wrmse_ensemble': 0.8845383929960402, 'base_pred': 0.366715757652114}.\n"
     ]
    },
    {
     "name": "stdout",
     "output_type": "stream",
     "text": [
      "[0.5924294617650272, 0.49138643543896987, 0.5444717625888881]\n"
     ]
    },
    {
     "name": "stderr",
     "output_type": "stream",
     "text": [
      "[I 2020-06-30 00:58:47,873] Finished trial#322 resulted in value: 0.542762553264295. Current best value is 0.5426543617180987 with parameters: {'direct_rmse': 0.43620693105558084, 'direct_rmse_ensemble': 0.00035695939630667195, 'direct_wrmse': 0.42979567152384984, 'direct_wrmse_ensemble': 0.8845383929960402, 'base_pred': 0.366715757652114}.\n"
     ]
    },
    {
     "name": "stdout",
     "output_type": "stream",
     "text": [
      "[0.5932734164569547, 0.48819416531126153, 0.5466510127839714]\n"
     ]
    },
    {
     "name": "stderr",
     "output_type": "stream",
     "text": [
      "[I 2020-06-30 00:59:00,067] Finished trial#323 resulted in value: 0.5427061981840625. Current best value is 0.5426543617180987 with parameters: {'direct_rmse': 0.43620693105558084, 'direct_rmse_ensemble': 0.00035695939630667195, 'direct_wrmse': 0.42979567152384984, 'direct_wrmse_ensemble': 0.8845383929960402, 'base_pred': 0.366715757652114}.\n"
     ]
    },
    {
     "name": "stdout",
     "output_type": "stream",
     "text": [
      "[0.5923425508017867, 0.491277401585076, 0.5447551732166929]\n"
     ]
    },
    {
     "name": "stderr",
     "output_type": "stream",
     "text": [
      "[I 2020-06-30 00:59:12,405] Finished trial#324 resulted in value: 0.5427917085345185. Current best value is 0.5426543617180987 with parameters: {'direct_rmse': 0.43620693105558084, 'direct_rmse_ensemble': 0.00035695939630667195, 'direct_wrmse': 0.42979567152384984, 'direct_wrmse_ensemble': 0.8845383929960402, 'base_pred': 0.366715757652114}.\n"
     ]
    },
    {
     "name": "stdout",
     "output_type": "stream",
     "text": [
      "[0.5933097578824978, 0.4890462812701417, 0.5458918653180134]\n"
     ]
    },
    {
     "name": "stderr",
     "output_type": "stream",
     "text": [
      "[I 2020-06-30 00:59:24,703] Finished trial#325 resulted in value: 0.5427493014902177. Current best value is 0.5426543617180987 with parameters: {'direct_rmse': 0.43620693105558084, 'direct_rmse_ensemble': 0.00035695939630667195, 'direct_wrmse': 0.42979567152384984, 'direct_wrmse_ensemble': 0.8845383929960402, 'base_pred': 0.366715757652114}.\n"
     ]
    },
    {
     "name": "stdout",
     "output_type": "stream",
     "text": [
      "[0.5943711192628615, 0.4887190213100238, 0.5458988851124309]\n"
     ]
    },
    {
     "name": "stderr",
     "output_type": "stream",
     "text": [
      "[I 2020-06-30 00:59:36,941] Finished trial#326 resulted in value: 0.5429963418951054. Current best value is 0.5426543617180987 with parameters: {'direct_rmse': 0.43620693105558084, 'direct_rmse_ensemble': 0.00035695939630667195, 'direct_wrmse': 0.42979567152384984, 'direct_wrmse_ensemble': 0.8845383929960402, 'base_pred': 0.366715757652114}.\n"
     ]
    },
    {
     "name": "stdout",
     "output_type": "stream",
     "text": [
      "[0.592106443330248, 0.4928245391234775, 0.5437472247169709]\n"
     ]
    },
    {
     "name": "stderr",
     "output_type": "stream",
     "text": [
      "[I 2020-06-30 00:59:48,832] Finished trial#327 resulted in value: 0.5428927357235654. Current best value is 0.5426543617180987 with parameters: {'direct_rmse': 0.43620693105558084, 'direct_rmse_ensemble': 0.00035695939630667195, 'direct_wrmse': 0.42979567152384984, 'direct_wrmse_ensemble': 0.8845383929960402, 'base_pred': 0.366715757652114}.\n"
     ]
    },
    {
     "name": "stdout",
     "output_type": "stream",
     "text": [
      "[0.5922223144303952, 0.49070681126811966, 0.5455649223646072]\n"
     ]
    },
    {
     "name": "stderr",
     "output_type": "stream",
     "text": [
      "[I 2020-06-30 01:00:00,865] Finished trial#328 resulted in value: 0.5428313493543739. Current best value is 0.5426543617180987 with parameters: {'direct_rmse': 0.43620693105558084, 'direct_rmse_ensemble': 0.00035695939630667195, 'direct_wrmse': 0.42979567152384984, 'direct_wrmse_ensemble': 0.8845383929960402, 'base_pred': 0.366715757652114}.\n"
     ]
    },
    {
     "name": "stdout",
     "output_type": "stream",
     "text": [
      "[0.5937546808047378, 0.4894991420927468, 0.545389621888814]\n"
     ]
    },
    {
     "name": "stderr",
     "output_type": "stream",
     "text": [
      "[I 2020-06-30 01:00:13,371] Finished trial#329 resulted in value: 0.5428811482620995. Current best value is 0.5426543617180987 with parameters: {'direct_rmse': 0.43620693105558084, 'direct_rmse_ensemble': 0.00035695939630667195, 'direct_wrmse': 0.42979567152384984, 'direct_wrmse_ensemble': 0.8845383929960402, 'base_pred': 0.366715757652114}.\n"
     ]
    },
    {
     "name": "stdout",
     "output_type": "stream",
     "text": [
      "[0.5951851852649305, 0.4879599510137214, 0.5466809507191005]\n"
     ]
    },
    {
     "name": "stderr",
     "output_type": "stream",
     "text": [
      "[I 2020-06-30 01:00:25,154] Finished trial#330 resulted in value: 0.5432753623325842. Current best value is 0.5426543617180987 with parameters: {'direct_rmse': 0.43620693105558084, 'direct_rmse_ensemble': 0.00035695939630667195, 'direct_wrmse': 0.42979567152384984, 'direct_wrmse_ensemble': 0.8845383929960402, 'base_pred': 0.366715757652114}.\n"
     ]
    },
    {
     "name": "stdout",
     "output_type": "stream",
     "text": [
      "[0.5940161495899766, 0.48780682296687244, 0.5468461750489787]\n"
     ]
    },
    {
     "name": "stderr",
     "output_type": "stream",
     "text": [
      "[I 2020-06-30 01:00:37,271] Finished trial#331 resulted in value: 0.5428897158686093. Current best value is 0.5426543617180987 with parameters: {'direct_rmse': 0.43620693105558084, 'direct_rmse_ensemble': 0.00035695939630667195, 'direct_wrmse': 0.42979567152384984, 'direct_wrmse_ensemble': 0.8845383929960402, 'base_pred': 0.366715757652114}.\n"
     ]
    },
    {
     "name": "stdout",
     "output_type": "stream",
     "text": [
      "[0.5917585902616477, 0.4922055173046425, 0.5444534488680747]\n"
     ]
    },
    {
     "name": "stderr",
     "output_type": "stream",
     "text": [
      "[I 2020-06-30 01:00:49,262] Finished trial#332 resulted in value: 0.5428058521447884. Current best value is 0.5426543617180987 with parameters: {'direct_rmse': 0.43620693105558084, 'direct_rmse_ensemble': 0.00035695939630667195, 'direct_wrmse': 0.42979567152384984, 'direct_wrmse_ensemble': 0.8845383929960402, 'base_pred': 0.366715757652114}.\n"
     ]
    },
    {
     "name": "stdout",
     "output_type": "stream",
     "text": [
      "[0.592691328547373, 0.48955716156556767, 0.5457218970321883]\n"
     ]
    },
    {
     "name": "stderr",
     "output_type": "stream",
     "text": [
      "[I 2020-06-30 01:01:01,278] Finished trial#333 resulted in value: 0.5426567957150431. Current best value is 0.5426543617180987 with parameters: {'direct_rmse': 0.43620693105558084, 'direct_rmse_ensemble': 0.00035695939630667195, 'direct_wrmse': 0.42979567152384984, 'direct_wrmse_ensemble': 0.8845383929960402, 'base_pred': 0.366715757652114}.\n"
     ]
    },
    {
     "name": "stdout",
     "output_type": "stream",
     "text": [
      "[0.5922499875168415, 0.49012202192973336, 0.5458068331482309]\n"
     ]
    },
    {
     "name": "stderr",
     "output_type": "stream",
     "text": [
      "[I 2020-06-30 01:01:13,651] Finished trial#334 resulted in value: 0.5427262808649352. Current best value is 0.5426543617180987 with parameters: {'direct_rmse': 0.43620693105558084, 'direct_rmse_ensemble': 0.00035695939630667195, 'direct_wrmse': 0.42979567152384984, 'direct_wrmse_ensemble': 0.8845383929960402, 'base_pred': 0.366715757652114}.\n"
     ]
    },
    {
     "name": "stdout",
     "output_type": "stream",
     "text": [
      "[0.5927166674865874, 0.4899970886329321, 0.5455870056169901]\n"
     ]
    },
    {
     "name": "stderr",
     "output_type": "stream",
     "text": [
      "[I 2020-06-30 01:01:25,568] Finished trial#335 resulted in value: 0.5427669205788366. Current best value is 0.5426543617180987 with parameters: {'direct_rmse': 0.43620693105558084, 'direct_rmse_ensemble': 0.00035695939630667195, 'direct_wrmse': 0.42979567152384984, 'direct_wrmse_ensemble': 0.8845383929960402, 'base_pred': 0.366715757652114}.\n"
     ]
    },
    {
     "name": "stdout",
     "output_type": "stream",
     "text": [
      "[0.5947641650315657, 0.4863426312651278, 0.5481589026721457]\n"
     ]
    },
    {
     "name": "stderr",
     "output_type": "stream",
     "text": [
      "[I 2020-06-30 01:01:37,748] Finished trial#336 resulted in value: 0.5430885663229464. Current best value is 0.5426543617180987 with parameters: {'direct_rmse': 0.43620693105558084, 'direct_rmse_ensemble': 0.00035695939630667195, 'direct_wrmse': 0.42979567152384984, 'direct_wrmse_ensemble': 0.8845383929960402, 'base_pred': 0.366715757652114}.\n"
     ]
    },
    {
     "name": "stdout",
     "output_type": "stream",
     "text": [
      "[0.5949440589527982, 0.48848318111253985, 0.5461834416150846]\n"
     ]
    },
    {
     "name": "stderr",
     "output_type": "stream",
     "text": [
      "[I 2020-06-30 01:01:50,072] Finished trial#337 resulted in value: 0.543203560560141. Current best value is 0.5426543617180987 with parameters: {'direct_rmse': 0.43620693105558084, 'direct_rmse_ensemble': 0.00035695939630667195, 'direct_wrmse': 0.42979567152384984, 'direct_wrmse_ensemble': 0.8845383929960402, 'base_pred': 0.366715757652114}.\n"
     ]
    },
    {
     "name": "stdout",
     "output_type": "stream",
     "text": [
      "[0.5951079566497917, 0.48606878235527523, 0.5480277313096192]\n"
     ]
    },
    {
     "name": "stderr",
     "output_type": "stream",
     "text": [
      "[I 2020-06-30 01:02:02,031] Finished trial#338 resulted in value: 0.543068156771562. Current best value is 0.5426543617180987 with parameters: {'direct_rmse': 0.43620693105558084, 'direct_rmse_ensemble': 0.00035695939630667195, 'direct_wrmse': 0.42979567152384984, 'direct_wrmse_ensemble': 0.8845383929960402, 'base_pred': 0.366715757652114}.\n"
     ]
    },
    {
     "name": "stdout",
     "output_type": "stream",
     "text": [
      "[0.5939229543162509, 0.488561584534933, 0.5460589987537489]\n"
     ]
    },
    {
     "name": "stderr",
     "output_type": "stream",
     "text": [
      "[I 2020-06-30 01:02:14,345] Finished trial#339 resulted in value: 0.5428478458683109. Current best value is 0.5426543617180987 with parameters: {'direct_rmse': 0.43620693105558084, 'direct_rmse_ensemble': 0.00035695939630667195, 'direct_wrmse': 0.42979567152384984, 'direct_wrmse_ensemble': 0.8845383929960402, 'base_pred': 0.366715757652114}.\n"
     ]
    },
    {
     "name": "stdout",
     "output_type": "stream",
     "text": [
      "[0.5942743883870816, 0.48834255644843755, 0.5462373525739977]\n"
     ]
    },
    {
     "name": "stderr",
     "output_type": "stream",
     "text": [
      "[I 2020-06-30 01:02:26,561] Finished trial#340 resulted in value: 0.542951432469839. Current best value is 0.5426543617180987 with parameters: {'direct_rmse': 0.43620693105558084, 'direct_rmse_ensemble': 0.00035695939630667195, 'direct_wrmse': 0.42979567152384984, 'direct_wrmse_ensemble': 0.8845383929960402, 'base_pred': 0.366715757652114}.\n"
     ]
    },
    {
     "name": "stdout",
     "output_type": "stream",
     "text": [
      "[0.5933871347952981, 0.4882836440639385, 0.546640354508135]\n"
     ]
    },
    {
     "name": "stderr",
     "output_type": "stream",
     "text": [
      "[I 2020-06-30 01:02:38,904] Finished trial#341 resulted in value: 0.5427703777891238. Current best value is 0.5426543617180987 with parameters: {'direct_rmse': 0.43620693105558084, 'direct_rmse_ensemble': 0.00035695939630667195, 'direct_wrmse': 0.42979567152384984, 'direct_wrmse_ensemble': 0.8845383929960402, 'base_pred': 0.366715757652114}.\n"
     ]
    },
    {
     "name": "stdout",
     "output_type": "stream",
     "text": [
      "[0.5937261786782021, 0.4885725315082609, 0.5460594462848773]\n"
     ]
    },
    {
     "name": "stderr",
     "output_type": "stream",
     "text": [
      "[I 2020-06-30 01:02:51,292] Finished trial#342 resulted in value: 0.5427860521571134. Current best value is 0.5426543617180987 with parameters: {'direct_rmse': 0.43620693105558084, 'direct_rmse_ensemble': 0.00035695939630667195, 'direct_wrmse': 0.42979567152384984, 'direct_wrmse_ensemble': 0.8845383929960402, 'base_pred': 0.366715757652114}.\n"
     ]
    },
    {
     "name": "stdout",
     "output_type": "stream",
     "text": [
      "[0.5946713731718257, 0.4893563828143998, 0.5456136638996724]\n"
     ]
    },
    {
     "name": "stderr",
     "output_type": "stream",
     "text": [
      "[I 2020-06-30 01:03:03,436] Finished trial#343 resulted in value: 0.5432138066286326. Current best value is 0.5426543617180987 with parameters: {'direct_rmse': 0.43620693105558084, 'direct_rmse_ensemble': 0.00035695939630667195, 'direct_wrmse': 0.42979567152384984, 'direct_wrmse_ensemble': 0.8845383929960402, 'base_pred': 0.366715757652114}.\n"
     ]
    },
    {
     "name": "stdout",
     "output_type": "stream",
     "text": [
      "[0.5933321644369781, 0.4898622501031622, 0.5452081736231942]\n"
     ]
    },
    {
     "name": "stderr",
     "output_type": "stream",
     "text": [
      "[I 2020-06-30 01:03:15,408] Finished trial#344 resulted in value: 0.5428008627211115. Current best value is 0.5426543617180987 with parameters: {'direct_rmse': 0.43620693105558084, 'direct_rmse_ensemble': 0.00035695939630667195, 'direct_wrmse': 0.42979567152384984, 'direct_wrmse_ensemble': 0.8845383929960402, 'base_pred': 0.366715757652114}.\n"
     ]
    },
    {
     "name": "stdout",
     "output_type": "stream",
     "text": [
      "[0.594348606945989, 0.4891986069481952, 0.5456634565933111]\n"
     ]
    },
    {
     "name": "stderr",
     "output_type": "stream",
     "text": [
      "[I 2020-06-30 01:03:27,513] Finished trial#345 resulted in value: 0.5430702234958318. Current best value is 0.5426543617180987 with parameters: {'direct_rmse': 0.43620693105558084, 'direct_rmse_ensemble': 0.00035695939630667195, 'direct_wrmse': 0.42979567152384984, 'direct_wrmse_ensemble': 0.8845383929960402, 'base_pred': 0.366715757652114}.\n"
     ]
    },
    {
     "name": "stdout",
     "output_type": "stream",
     "text": [
      "[0.5934034570679411, 0.48848429896683415, 0.5465005461015904]\n"
     ]
    },
    {
     "name": "stderr",
     "output_type": "stream",
     "text": [
      "[I 2020-06-30 01:03:39,344] Finished trial#346 resulted in value: 0.5427961007121219. Current best value is 0.5426543617180987 with parameters: {'direct_rmse': 0.43620693105558084, 'direct_rmse_ensemble': 0.00035695939630667195, 'direct_wrmse': 0.42979567152384984, 'direct_wrmse_ensemble': 0.8845383929960402, 'base_pred': 0.366715757652114}.\n"
     ]
    },
    {
     "name": "stdout",
     "output_type": "stream",
     "text": [
      "[0.593513848073843, 0.48749438931208755, 0.5479002791521584]\n"
     ]
    },
    {
     "name": "stderr",
     "output_type": "stream",
     "text": [
      "[I 2020-06-30 01:03:51,679] Finished trial#347 resulted in value: 0.5429695055126964. Current best value is 0.5426543617180987 with parameters: {'direct_rmse': 0.43620693105558084, 'direct_rmse_ensemble': 0.00035695939630667195, 'direct_wrmse': 0.42979567152384984, 'direct_wrmse_ensemble': 0.8845383929960402, 'base_pred': 0.366715757652114}.\n"
     ]
    },
    {
     "name": "stdout",
     "output_type": "stream",
     "text": [
      "[0.5926947211857703, 0.4900291172949925, 0.5453908878411845]\n"
     ]
    },
    {
     "name": "stderr",
     "output_type": "stream",
     "text": [
      "[I 2020-06-30 01:04:03,512] Finished trial#348 resulted in value: 0.5427049087739824. Current best value is 0.5426543617180987 with parameters: {'direct_rmse': 0.43620693105558084, 'direct_rmse_ensemble': 0.00035695939630667195, 'direct_wrmse': 0.42979567152384984, 'direct_wrmse_ensemble': 0.8845383929960402, 'base_pred': 0.366715757652114}.\n"
     ]
    },
    {
     "name": "stdout",
     "output_type": "stream",
     "text": [
      "[0.5931273405529659, 0.48955646660249025, 0.5455020727957111]\n"
     ]
    },
    {
     "name": "stderr",
     "output_type": "stream",
     "text": [
      "[I 2020-06-30 01:04:15,490] Finished trial#349 resulted in value: 0.5427286266503891. Current best value is 0.5426543617180987 with parameters: {'direct_rmse': 0.43620693105558084, 'direct_rmse_ensemble': 0.00035695939630667195, 'direct_wrmse': 0.42979567152384984, 'direct_wrmse_ensemble': 0.8845383929960402, 'base_pred': 0.366715757652114}.\n"
     ]
    },
    {
     "name": "stdout",
     "output_type": "stream",
     "text": [
      "[0.5936994689393343, 0.487561247405255, 0.5469994649609973]\n"
     ]
    },
    {
     "name": "stderr",
     "output_type": "stream",
     "text": [
      "[I 2020-06-30 01:04:27,727] Finished trial#350 resulted in value: 0.5427533937685288. Current best value is 0.5426543617180987 with parameters: {'direct_rmse': 0.43620693105558084, 'direct_rmse_ensemble': 0.00035695939630667195, 'direct_wrmse': 0.42979567152384984, 'direct_wrmse_ensemble': 0.8845383929960402, 'base_pred': 0.366715757652114}.\n"
     ]
    },
    {
     "name": "stdout",
     "output_type": "stream",
     "text": [
      "[0.592467069630387, 0.4895968511600635, 0.5462084745361909]\n"
     ]
    },
    {
     "name": "stderr",
     "output_type": "stream",
     "text": [
      "[I 2020-06-30 01:04:39,677] Finished trial#351 resulted in value: 0.5427574651088806. Current best value is 0.5426543617180987 with parameters: {'direct_rmse': 0.43620693105558084, 'direct_rmse_ensemble': 0.00035695939630667195, 'direct_wrmse': 0.42979567152384984, 'direct_wrmse_ensemble': 0.8845383929960402, 'base_pred': 0.366715757652114}.\n"
     ]
    },
    {
     "name": "stdout",
     "output_type": "stream",
     "text": [
      "[0.5938157438865036, 0.4887093904232705, 0.54596280806668]\n"
     ]
    },
    {
     "name": "stderr",
     "output_type": "stream",
     "text": [
      "[I 2020-06-30 01:04:51,861] Finished trial#352 resulted in value: 0.5428293141254846. Current best value is 0.5426543617180987 with parameters: {'direct_rmse': 0.43620693105558084, 'direct_rmse_ensemble': 0.00035695939630667195, 'direct_wrmse': 0.42979567152384984, 'direct_wrmse_ensemble': 0.8845383929960402, 'base_pred': 0.366715757652114}.\n"
     ]
    },
    {
     "name": "stdout",
     "output_type": "stream",
     "text": [
      "[0.5929867148927032, 0.4901505033125279, 0.5451098807636287]\n"
     ]
    },
    {
     "name": "stderr",
     "output_type": "stream",
     "text": [
      "[I 2020-06-30 01:05:03,991] Finished trial#353 resulted in value: 0.54274903298962. Current best value is 0.5426543617180987 with parameters: {'direct_rmse': 0.43620693105558084, 'direct_rmse_ensemble': 0.00035695939630667195, 'direct_wrmse': 0.42979567152384984, 'direct_wrmse_ensemble': 0.8845383929960402, 'base_pred': 0.366715757652114}.\n"
     ]
    },
    {
     "name": "stdout",
     "output_type": "stream",
     "text": [
      "[0.5964470645529687, 0.48582033468366875, 0.5482396706097878]\n"
     ]
    },
    {
     "name": "stderr",
     "output_type": "stream",
     "text": [
      "[I 2020-06-30 01:05:16,598] Finished trial#354 resulted in value: 0.5435023566154751. Current best value is 0.5426543617180987 with parameters: {'direct_rmse': 0.43620693105558084, 'direct_rmse_ensemble': 0.00035695939630667195, 'direct_wrmse': 0.42979567152384984, 'direct_wrmse_ensemble': 0.8845383929960402, 'base_pred': 0.366715757652114}.\n"
     ]
    },
    {
     "name": "stdout",
     "output_type": "stream",
     "text": [
      "[0.593533366788796, 0.4888235521149736, 0.5458682900968512]\n"
     ]
    },
    {
     "name": "stderr",
     "output_type": "stream",
     "text": [
      "[I 2020-06-30 01:05:28,636] Finished trial#355 resulted in value: 0.5427417363335403. Current best value is 0.5426543617180987 with parameters: {'direct_rmse': 0.43620693105558084, 'direct_rmse_ensemble': 0.00035695939630667195, 'direct_wrmse': 0.42979567152384984, 'direct_wrmse_ensemble': 0.8845383929960402, 'base_pred': 0.366715757652114}.\n"
     ]
    },
    {
     "name": "stdout",
     "output_type": "stream",
     "text": [
      "[0.5913881141861251, 0.49258437129524485, 0.5446214993660575]\n"
     ]
    },
    {
     "name": "stderr",
     "output_type": "stream",
     "text": [
      "[I 2020-06-30 01:05:40,700] Finished trial#356 resulted in value: 0.5428646616158092. Current best value is 0.5426543617180987 with parameters: {'direct_rmse': 0.43620693105558084, 'direct_rmse_ensemble': 0.00035695939630667195, 'direct_wrmse': 0.42979567152384984, 'direct_wrmse_ensemble': 0.8845383929960402, 'base_pred': 0.366715757652114}.\n"
     ]
    },
    {
     "name": "stdout",
     "output_type": "stream",
     "text": [
      "[0.593162528613525, 0.4884408097714094, 0.5467588130575275]\n"
     ]
    },
    {
     "name": "stderr",
     "output_type": "stream",
     "text": [
      "[I 2020-06-30 01:05:52,494] Finished trial#357 resulted in value: 0.5427873838141539. Current best value is 0.5426543617180987 with parameters: {'direct_rmse': 0.43620693105558084, 'direct_rmse_ensemble': 0.00035695939630667195, 'direct_wrmse': 0.42979567152384984, 'direct_wrmse_ensemble': 0.8845383929960402, 'base_pred': 0.366715757652114}.\n"
     ]
    },
    {
     "name": "stdout",
     "output_type": "stream",
     "text": [
      "[0.5921083146437501, 0.49056255250372754, 0.5453915898712832]\n"
     ]
    },
    {
     "name": "stderr",
     "output_type": "stream",
     "text": [
      "[I 2020-06-30 01:06:04,476] Finished trial#358 resulted in value: 0.5426874856729204. Current best value is 0.5426543617180987 with parameters: {'direct_rmse': 0.43620693105558084, 'direct_rmse_ensemble': 0.00035695939630667195, 'direct_wrmse': 0.42979567152384984, 'direct_wrmse_ensemble': 0.8845383929960402, 'base_pred': 0.366715757652114}.\n"
     ]
    },
    {
     "name": "stdout",
     "output_type": "stream",
     "text": [
      "[0.5952298323742565, 0.4862831889625492, 0.5480276701561194]\n"
     ]
    },
    {
     "name": "stderr",
     "output_type": "stream",
     "text": [
      "[I 2020-06-30 01:06:16,446] Finished trial#359 resulted in value: 0.5431802304976417. Current best value is 0.5426543617180987 with parameters: {'direct_rmse': 0.43620693105558084, 'direct_rmse_ensemble': 0.00035695939630667195, 'direct_wrmse': 0.42979567152384984, 'direct_wrmse_ensemble': 0.8845383929960402, 'base_pred': 0.366715757652114}.\n"
     ]
    },
    {
     "name": "stdout",
     "output_type": "stream",
     "text": [
      "[0.5972864612103337, 0.48419943610257493, 0.5497461543069737]\n"
     ]
    },
    {
     "name": "stderr",
     "output_type": "stream",
     "text": [
      "[I 2020-06-30 01:06:28,940] Finished trial#360 resulted in value: 0.5437440172066275. Current best value is 0.5426543617180987 with parameters: {'direct_rmse': 0.43620693105558084, 'direct_rmse_ensemble': 0.00035695939630667195, 'direct_wrmse': 0.42979567152384984, 'direct_wrmse_ensemble': 0.8845383929960402, 'base_pred': 0.366715757652114}.\n"
     ]
    },
    {
     "name": "stdout",
     "output_type": "stream",
     "text": [
      "[0.5946652183021056, 0.4871669389472489, 0.5469795194705945]\n"
     ]
    },
    {
     "name": "stderr",
     "output_type": "stream",
     "text": [
      "[I 2020-06-30 01:06:41,482] Finished trial#361 resulted in value: 0.5429372255733164. Current best value is 0.5426543617180987 with parameters: {'direct_rmse': 0.43620693105558084, 'direct_rmse_ensemble': 0.00035695939630667195, 'direct_wrmse': 0.42979567152384984, 'direct_wrmse_ensemble': 0.8845383929960402, 'base_pred': 0.366715757652114}.\n"
     ]
    },
    {
     "name": "stdout",
     "output_type": "stream",
     "text": [
      "[0.5932863678318159, 0.4941350432228331, 0.5432213527176074]\n"
     ]
    },
    {
     "name": "stderr",
     "output_type": "stream",
     "text": [
      "[I 2020-06-30 01:06:53,604] Finished trial#362 resulted in value: 0.5435475879240855. Current best value is 0.5426543617180987 with parameters: {'direct_rmse': 0.43620693105558084, 'direct_rmse_ensemble': 0.00035695939630667195, 'direct_wrmse': 0.42979567152384984, 'direct_wrmse_ensemble': 0.8845383929960402, 'base_pred': 0.366715757652114}.\n"
     ]
    },
    {
     "name": "stdout",
     "output_type": "stream",
     "text": [
      "[0.5950578885944435, 0.49030878617488444, 0.5452079237865817]\n"
     ]
    },
    {
     "name": "stderr",
     "output_type": "stream",
     "text": [
      "[I 2020-06-30 01:07:05,845] Finished trial#363 resulted in value: 0.5435248661853033. Current best value is 0.5426543617180987 with parameters: {'direct_rmse': 0.43620693105558084, 'direct_rmse_ensemble': 0.00035695939630667195, 'direct_wrmse': 0.42979567152384984, 'direct_wrmse_ensemble': 0.8845383929960402, 'base_pred': 0.366715757652114}.\n"
     ]
    },
    {
     "name": "stdout",
     "output_type": "stream",
     "text": [
      "[0.5921577478547877, 0.49137337554760774, 0.5447524443345191]\n"
     ]
    },
    {
     "name": "stderr",
     "output_type": "stream",
     "text": [
      "[I 2020-06-30 01:07:17,940] Finished trial#364 resulted in value: 0.5427611892456382. Current best value is 0.5426543617180987 with parameters: {'direct_rmse': 0.43620693105558084, 'direct_rmse_ensemble': 0.00035695939630667195, 'direct_wrmse': 0.42979567152384984, 'direct_wrmse_ensemble': 0.8845383929960402, 'base_pred': 0.366715757652114}.\n"
     ]
    },
    {
     "name": "stdout",
     "output_type": "stream",
     "text": [
      "[0.5937448545848439, 0.4882423344885128, 0.5462868557278151]\n"
     ]
    },
    {
     "name": "stderr",
     "output_type": "stream",
     "text": [
      "[I 2020-06-30 01:07:30,141] Finished trial#365 resulted in value: 0.542758014933724. Current best value is 0.5426543617180987 with parameters: {'direct_rmse': 0.43620693105558084, 'direct_rmse_ensemble': 0.00035695939630667195, 'direct_wrmse': 0.42979567152384984, 'direct_wrmse_ensemble': 0.8845383929960402, 'base_pred': 0.366715757652114}.\n"
     ]
    },
    {
     "name": "stdout",
     "output_type": "stream",
     "text": [
      "[0.5934743006203421, 0.49005183499830274, 0.5451244686841943]\n"
     ]
    },
    {
     "name": "stderr",
     "output_type": "stream",
     "text": [
      "[I 2020-06-30 01:07:42,115] Finished trial#366 resulted in value: 0.542883534767613. Current best value is 0.5426543617180987 with parameters: {'direct_rmse': 0.43620693105558084, 'direct_rmse_ensemble': 0.00035695939630667195, 'direct_wrmse': 0.42979567152384984, 'direct_wrmse_ensemble': 0.8845383929960402, 'base_pred': 0.366715757652114}.\n"
     ]
    },
    {
     "name": "stdout",
     "output_type": "stream",
     "text": [
      "[0.5936329020360355, 0.4884556197205614, 0.5462059723290863]\n"
     ]
    },
    {
     "name": "stderr",
     "output_type": "stream",
     "text": [
      "[I 2020-06-30 01:07:54,017] Finished trial#367 resulted in value: 0.5427648313618944. Current best value is 0.5426543617180987 with parameters: {'direct_rmse': 0.43620693105558084, 'direct_rmse_ensemble': 0.00035695939630667195, 'direct_wrmse': 0.42979567152384984, 'direct_wrmse_ensemble': 0.8845383929960402, 'base_pred': 0.366715757652114}.\n"
     ]
    },
    {
     "name": "stdout",
     "output_type": "stream",
     "text": [
      "[0.595507748302102, 0.4871979540502431, 0.5473131253802518]\n"
     ]
    },
    {
     "name": "stderr",
     "output_type": "stream",
     "text": [
      "[I 2020-06-30 01:08:05,863] Finished trial#368 resulted in value: 0.543339609244199. Current best value is 0.5426543617180987 with parameters: {'direct_rmse': 0.43620693105558084, 'direct_rmse_ensemble': 0.00035695939630667195, 'direct_wrmse': 0.42979567152384984, 'direct_wrmse_ensemble': 0.8845383929960402, 'base_pred': 0.366715757652114}.\n"
     ]
    },
    {
     "name": "stdout",
     "output_type": "stream",
     "text": [
      "[0.5961150535617209, 0.48752760113308585, 0.546869561876765]\n"
     ]
    },
    {
     "name": "stderr",
     "output_type": "stream",
     "text": [
      "[I 2020-06-30 01:08:17,942] Finished trial#369 resulted in value: 0.5435040721905239. Current best value is 0.5426543617180987 with parameters: {'direct_rmse': 0.43620693105558084, 'direct_rmse_ensemble': 0.00035695939630667195, 'direct_wrmse': 0.42979567152384984, 'direct_wrmse_ensemble': 0.8845383929960402, 'base_pred': 0.366715757652114}.\n"
     ]
    },
    {
     "name": "stdout",
     "output_type": "stream",
     "text": [
      "[0.5945576312564353, 0.4896705926006346, 0.5453240828470135]\n"
     ]
    },
    {
     "name": "stderr",
     "output_type": "stream",
     "text": [
      "[I 2020-06-30 01:08:30,098] Finished trial#370 resulted in value: 0.5431841022346945. Current best value is 0.5426543617180987 with parameters: {'direct_rmse': 0.43620693105558084, 'direct_rmse_ensemble': 0.00035695939630667195, 'direct_wrmse': 0.42979567152384984, 'direct_wrmse_ensemble': 0.8845383929960402, 'base_pred': 0.366715757652114}.\n"
     ]
    },
    {
     "name": "stdout",
     "output_type": "stream",
     "text": [
      "[0.5937383603661316, 0.4894745432631012, 0.5455463122167195]\n"
     ]
    },
    {
     "name": "stderr",
     "output_type": "stream",
     "text": [
      "[I 2020-06-30 01:08:42,414] Finished trial#371 resulted in value: 0.5429197386153174. Current best value is 0.5426543617180987 with parameters: {'direct_rmse': 0.43620693105558084, 'direct_rmse_ensemble': 0.00035695939630667195, 'direct_wrmse': 0.42979567152384984, 'direct_wrmse_ensemble': 0.8845383929960402, 'base_pred': 0.366715757652114}.\n"
     ]
    },
    {
     "name": "stdout",
     "output_type": "stream",
     "text": [
      "[0.5956190116337293, 0.4863530258528819, 0.5475940742721409]\n"
     ]
    },
    {
     "name": "stderr",
     "output_type": "stream",
     "text": [
      "[I 2020-06-30 01:08:54,584] Finished trial#372 resulted in value: 0.5431887039195841. Current best value is 0.5426543617180987 with parameters: {'direct_rmse': 0.43620693105558084, 'direct_rmse_ensemble': 0.00035695939630667195, 'direct_wrmse': 0.42979567152384984, 'direct_wrmse_ensemble': 0.8845383929960402, 'base_pred': 0.366715757652114}.\n"
     ]
    },
    {
     "name": "stdout",
     "output_type": "stream",
     "text": [
      "[0.5932947255475962, 0.4905460137314657, 0.544843426627607]\n"
     ]
    },
    {
     "name": "stderr",
     "output_type": "stream",
     "text": [
      "[I 2020-06-30 01:09:06,819] Finished trial#373 resulted in value: 0.5428947219688897. Current best value is 0.5426543617180987 with parameters: {'direct_rmse': 0.43620693105558084, 'direct_rmse_ensemble': 0.00035695939630667195, 'direct_wrmse': 0.42979567152384984, 'direct_wrmse_ensemble': 0.8845383929960402, 'base_pred': 0.366715757652114}.\n"
     ]
    },
    {
     "name": "stdout",
     "output_type": "stream",
     "text": [
      "[0.5923604805451755, 0.4911586835612196, 0.5447758315232517]\n"
     ]
    },
    {
     "name": "stderr",
     "output_type": "stream",
     "text": [
      "[I 2020-06-30 01:09:18,914] Finished trial#374 resulted in value: 0.5427649985432156. Current best value is 0.5426543617180987 with parameters: {'direct_rmse': 0.43620693105558084, 'direct_rmse_ensemble': 0.00035695939630667195, 'direct_wrmse': 0.42979567152384984, 'direct_wrmse_ensemble': 0.8845383929960402, 'base_pred': 0.366715757652114}.\n"
     ]
    },
    {
     "name": "stdout",
     "output_type": "stream",
     "text": [
      "[0.5927569890048069, 0.48971609806980476, 0.5455650548070016]\n"
     ]
    },
    {
     "name": "stderr",
     "output_type": "stream",
     "text": [
      "[I 2020-06-30 01:09:31,199] Finished trial#375 resulted in value: 0.5426793806272044. Current best value is 0.5426543617180987 with parameters: {'direct_rmse': 0.43620693105558084, 'direct_rmse_ensemble': 0.00035695939630667195, 'direct_wrmse': 0.42979567152384984, 'direct_wrmse_ensemble': 0.8845383929960402, 'base_pred': 0.366715757652114}.\n"
     ]
    },
    {
     "name": "stdout",
     "output_type": "stream",
     "text": [
      "[0.5954337070411349, 0.4934100583606144, 0.5440152447375344]\n"
     ]
    },
    {
     "name": "stderr",
     "output_type": "stream",
     "text": [
      "[I 2020-06-30 01:09:43,675] Finished trial#376 resulted in value: 0.5442863367130946. Current best value is 0.5426543617180987 with parameters: {'direct_rmse': 0.43620693105558084, 'direct_rmse_ensemble': 0.00035695939630667195, 'direct_wrmse': 0.42979567152384984, 'direct_wrmse_ensemble': 0.8845383929960402, 'base_pred': 0.366715757652114}.\n"
     ]
    },
    {
     "name": "stdout",
     "output_type": "stream",
     "text": [
      "[0.5935225066598132, 0.48921949508106205, 0.5456254090160627]\n"
     ]
    },
    {
     "name": "stderr",
     "output_type": "stream",
     "text": [
      "[I 2020-06-30 01:09:55,618] Finished trial#377 resulted in value: 0.5427891369189793. Current best value is 0.5426543617180987 with parameters: {'direct_rmse': 0.43620693105558084, 'direct_rmse_ensemble': 0.00035695939630667195, 'direct_wrmse': 0.42979567152384984, 'direct_wrmse_ensemble': 0.8845383929960402, 'base_pred': 0.366715757652114}.\n"
     ]
    },
    {
     "name": "stdout",
     "output_type": "stream",
     "text": [
      "[0.5949921723340111, 0.486989425730525, 0.5472278607886428]\n"
     ]
    },
    {
     "name": "stderr",
     "output_type": "stream",
     "text": [
      "[I 2020-06-30 01:10:07,707] Finished trial#378 resulted in value: 0.5430698196177263. Current best value is 0.5426543617180987 with parameters: {'direct_rmse': 0.43620693105558084, 'direct_rmse_ensemble': 0.00035695939630667195, 'direct_wrmse': 0.42979567152384984, 'direct_wrmse_ensemble': 0.8845383929960402, 'base_pred': 0.366715757652114}.\n"
     ]
    },
    {
     "name": "stdout",
     "output_type": "stream",
     "text": [
      "[0.5915126264453799, 0.49259580434729267, 0.5447439204585864]\n"
     ]
    },
    {
     "name": "stderr",
     "output_type": "stream",
     "text": [
      "[I 2020-06-30 01:10:19,799] Finished trial#379 resulted in value: 0.5429507837504197. Current best value is 0.5426543617180987 with parameters: {'direct_rmse': 0.43620693105558084, 'direct_rmse_ensemble': 0.00035695939630667195, 'direct_wrmse': 0.42979567152384984, 'direct_wrmse_ensemble': 0.8845383929960402, 'base_pred': 0.366715757652114}.\n"
     ]
    },
    {
     "name": "stdout",
     "output_type": "stream",
     "text": [
      "[0.5932758646871276, 0.4901640867187929, 0.5450793580942894]\n"
     ]
    },
    {
     "name": "stderr",
     "output_type": "stream",
     "text": [
      "[I 2020-06-30 01:10:32,021] Finished trial#380 resulted in value: 0.5428397698334033. Current best value is 0.5426543617180987 with parameters: {'direct_rmse': 0.43620693105558084, 'direct_rmse_ensemble': 0.00035695939630667195, 'direct_wrmse': 0.42979567152384984, 'direct_wrmse_ensemble': 0.8845383929960402, 'base_pred': 0.366715757652114}.\n"
     ]
    },
    {
     "name": "stdout",
     "output_type": "stream",
     "text": [
      "[0.5922314333307761, 0.4900934383815056, 0.5457418052160367]\n"
     ]
    },
    {
     "name": "stderr",
     "output_type": "stream",
     "text": [
      "[I 2020-06-30 01:10:44,155] Finished trial#381 resulted in value: 0.5426888923094394. Current best value is 0.5426543617180987 with parameters: {'direct_rmse': 0.43620693105558084, 'direct_rmse_ensemble': 0.00035695939630667195, 'direct_wrmse': 0.42979567152384984, 'direct_wrmse_ensemble': 0.8845383929960402, 'base_pred': 0.366715757652114}.\n"
     ]
    },
    {
     "name": "stdout",
     "output_type": "stream",
     "text": [
      "[0.5921533023872388, 0.492039851986047, 0.5442439754490973]\n"
     ]
    },
    {
     "name": "stderr",
     "output_type": "stream",
     "text": [
      "[I 2020-06-30 01:10:56,477] Finished trial#382 resulted in value: 0.5428123766074611. Current best value is 0.5426543617180987 with parameters: {'direct_rmse': 0.43620693105558084, 'direct_rmse_ensemble': 0.00035695939630667195, 'direct_wrmse': 0.42979567152384984, 'direct_wrmse_ensemble': 0.8845383929960402, 'base_pred': 0.366715757652114}.\n"
     ]
    },
    {
     "name": "stdout",
     "output_type": "stream",
     "text": [
      "[0.5940736188711812, 0.48928407341479924, 0.5455147813923819]\n"
     ]
    },
    {
     "name": "stderr",
     "output_type": "stream",
     "text": [
      "[I 2020-06-30 01:11:08,609] Finished trial#383 resulted in value: 0.5429574912261207. Current best value is 0.5426543617180987 with parameters: {'direct_rmse': 0.43620693105558084, 'direct_rmse_ensemble': 0.00035695939630667195, 'direct_wrmse': 0.42979567152384984, 'direct_wrmse_ensemble': 0.8845383929960402, 'base_pred': 0.366715757652114}.\n"
     ]
    },
    {
     "name": "stdout",
     "output_type": "stream",
     "text": [
      "[0.5933894128760293, 0.4892133384147482, 0.5456768101804716]\n"
     ]
    },
    {
     "name": "stderr",
     "output_type": "stream",
     "text": [
      "[I 2020-06-30 01:11:21,042] Finished trial#384 resulted in value: 0.5427598538237497. Current best value is 0.5426543617180987 with parameters: {'direct_rmse': 0.43620693105558084, 'direct_rmse_ensemble': 0.00035695939630667195, 'direct_wrmse': 0.42979567152384984, 'direct_wrmse_ensemble': 0.8845383929960402, 'base_pred': 0.366715757652114}.\n"
     ]
    },
    {
     "name": "stdout",
     "output_type": "stream",
     "text": [
      "[0.5934306636544503, 0.4881033758388394, 0.5468929120427761]\n"
     ]
    },
    {
     "name": "stderr",
     "output_type": "stream",
     "text": [
      "[I 2020-06-30 01:11:33,045] Finished trial#385 resulted in value: 0.5428089838453553. Current best value is 0.5426543617180987 with parameters: {'direct_rmse': 0.43620693105558084, 'direct_rmse_ensemble': 0.00035695939630667195, 'direct_wrmse': 0.42979567152384984, 'direct_wrmse_ensemble': 0.8845383929960402, 'base_pred': 0.366715757652114}.\n"
     ]
    },
    {
     "name": "stdout",
     "output_type": "stream",
     "text": [
      "[0.5920154026454627, 0.4917196797093301, 0.5444639590821888]\n"
     ]
    },
    {
     "name": "stderr",
     "output_type": "stream",
     "text": [
      "[I 2020-06-30 01:11:45,217] Finished trial#386 resulted in value: 0.5427330138123273. Current best value is 0.5426543617180987 with parameters: {'direct_rmse': 0.43620693105558084, 'direct_rmse_ensemble': 0.00035695939630667195, 'direct_wrmse': 0.42979567152384984, 'direct_wrmse_ensemble': 0.8845383929960402, 'base_pred': 0.366715757652114}.\n"
     ]
    },
    {
     "name": "stdout",
     "output_type": "stream",
     "text": [
      "[0.5925198911136371, 0.49843796439321575, 0.5415177587440604]\n"
     ]
    },
    {
     "name": "stderr",
     "output_type": "stream",
     "text": [
      "[I 2020-06-30 01:11:57,423] Finished trial#387 resulted in value: 0.5441585380836377. Current best value is 0.5426543617180987 with parameters: {'direct_rmse': 0.43620693105558084, 'direct_rmse_ensemble': 0.00035695939630667195, 'direct_wrmse': 0.42979567152384984, 'direct_wrmse_ensemble': 0.8845383929960402, 'base_pred': 0.366715757652114}.\n"
     ]
    },
    {
     "name": "stdout",
     "output_type": "stream",
     "text": [
      "[0.5945393968607463, 0.4868265344174952, 0.547362729309374]\n"
     ]
    },
    {
     "name": "stderr",
     "output_type": "stream",
     "text": [
      "[I 2020-06-30 01:12:09,662] Finished trial#388 resulted in value: 0.5429095535292051. Current best value is 0.5426543617180987 with parameters: {'direct_rmse': 0.43620693105558084, 'direct_rmse_ensemble': 0.00035695939630667195, 'direct_wrmse': 0.42979567152384984, 'direct_wrmse_ensemble': 0.8845383929960402, 'base_pred': 0.366715757652114}.\n"
     ]
    },
    {
     "name": "stdout",
     "output_type": "stream",
     "text": [
      "[0.5932641699879173, 0.48893760806471853, 0.546146174151353]\n"
     ]
    },
    {
     "name": "stderr",
     "output_type": "stream",
     "text": [
      "[I 2020-06-30 01:12:21,791] Finished trial#389 resulted in value: 0.5427826507346629. Current best value is 0.5426543617180987 with parameters: {'direct_rmse': 0.43620693105558084, 'direct_rmse_ensemble': 0.00035695939630667195, 'direct_wrmse': 0.42979567152384984, 'direct_wrmse_ensemble': 0.8845383929960402, 'base_pred': 0.366715757652114}.\n"
     ]
    },
    {
     "name": "stdout",
     "output_type": "stream",
     "text": [
      "[0.5928955334941252, 0.49130353111447594, 0.5445811180762884]\n"
     ]
    },
    {
     "name": "stderr",
     "output_type": "stream",
     "text": [
      "[I 2020-06-30 01:12:34,099] Finished trial#390 resulted in value: 0.5429267275616297. Current best value is 0.5426543617180987 with parameters: {'direct_rmse': 0.43620693105558084, 'direct_rmse_ensemble': 0.00035695939630667195, 'direct_wrmse': 0.42979567152384984, 'direct_wrmse_ensemble': 0.8845383929960402, 'base_pred': 0.366715757652114}.\n"
     ]
    },
    {
     "name": "stdout",
     "output_type": "stream",
     "text": [
      "[0.5927980900793339, 0.4926601286394974, 0.5441127421817112]\n"
     ]
    },
    {
     "name": "stderr",
     "output_type": "stream",
     "text": [
      "[I 2020-06-30 01:12:46,360] Finished trial#391 resulted in value: 0.5431903203001808. Current best value is 0.5426543617180987 with parameters: {'direct_rmse': 0.43620693105558084, 'direct_rmse_ensemble': 0.00035695939630667195, 'direct_wrmse': 0.42979567152384984, 'direct_wrmse_ensemble': 0.8845383929960402, 'base_pred': 0.366715757652114}.\n"
     ]
    },
    {
     "name": "stdout",
     "output_type": "stream",
     "text": [
      "[0.5941993169444854, 0.4891293081414046, 0.545764907534967]\n"
     ]
    },
    {
     "name": "stderr",
     "output_type": "stream",
     "text": [
      "[I 2020-06-30 01:12:58,601] Finished trial#392 resulted in value: 0.5430311775402856. Current best value is 0.5426543617180987 with parameters: {'direct_rmse': 0.43620693105558084, 'direct_rmse_ensemble': 0.00035695939630667195, 'direct_wrmse': 0.42979567152384984, 'direct_wrmse_ensemble': 0.8845383929960402, 'base_pred': 0.366715757652114}.\n"
     ]
    },
    {
     "name": "stdout",
     "output_type": "stream",
     "text": [
      "[0.5921244022425997, 0.49185866180134036, 0.544425043270944]\n"
     ]
    },
    {
     "name": "stderr",
     "output_type": "stream",
     "text": [
      "[I 2020-06-30 01:13:10,519] Finished trial#393 resulted in value: 0.5428027024382946. Current best value is 0.5426543617180987 with parameters: {'direct_rmse': 0.43620693105558084, 'direct_rmse_ensemble': 0.00035695939630667195, 'direct_wrmse': 0.42979567152384984, 'direct_wrmse_ensemble': 0.8845383929960402, 'base_pred': 0.366715757652114}.\n"
     ]
    },
    {
     "name": "stdout",
     "output_type": "stream",
     "text": [
      "[0.5928350473652606, 0.4905340183239217, 0.5448900166231276]\n"
     ]
    },
    {
     "name": "stderr",
     "output_type": "stream",
     "text": [
      "[I 2020-06-30 01:13:22,488] Finished trial#394 resulted in value: 0.5427530274374367. Current best value is 0.5426543617180987 with parameters: {'direct_rmse': 0.43620693105558084, 'direct_rmse_ensemble': 0.00035695939630667195, 'direct_wrmse': 0.42979567152384984, 'direct_wrmse_ensemble': 0.8845383929960402, 'base_pred': 0.366715757652114}.\n"
     ]
    },
    {
     "name": "stdout",
     "output_type": "stream",
     "text": [
      "[0.5919678595148675, 0.49098817409758216, 0.5452471165035309]\n"
     ]
    },
    {
     "name": "stderr",
     "output_type": "stream",
     "text": [
      "[I 2020-06-30 01:13:34,361] Finished trial#395 resulted in value: 0.5427343833719935. Current best value is 0.5426543617180987 with parameters: {'direct_rmse': 0.43620693105558084, 'direct_rmse_ensemble': 0.00035695939630667195, 'direct_wrmse': 0.42979567152384984, 'direct_wrmse_ensemble': 0.8845383929960402, 'base_pred': 0.366715757652114}.\n"
     ]
    },
    {
     "name": "stdout",
     "output_type": "stream",
     "text": [
      "[0.594217343470295, 0.48704834257595353, 0.5472408509519291]\n"
     ]
    },
    {
     "name": "stderr",
     "output_type": "stream",
     "text": [
      "[I 2020-06-30 01:13:46,350] Finished trial#396 resulted in value: 0.5428355123327259. Current best value is 0.5426543617180987 with parameters: {'direct_rmse': 0.43620693105558084, 'direct_rmse_ensemble': 0.00035695939630667195, 'direct_wrmse': 0.42979567152384984, 'direct_wrmse_ensemble': 0.8845383929960402, 'base_pred': 0.366715757652114}.\n"
     ]
    },
    {
     "name": "stdout",
     "output_type": "stream",
     "text": [
      "[0.5951646363999815, 0.4891272211561599, 0.5457063301497148]\n"
     ]
    },
    {
     "name": "stderr",
     "output_type": "stream",
     "text": [
      "[I 2020-06-30 01:13:58,436] Finished trial#397 resulted in value: 0.5433327292352854. Current best value is 0.5426543617180987 with parameters: {'direct_rmse': 0.43620693105558084, 'direct_rmse_ensemble': 0.00035695939630667195, 'direct_wrmse': 0.42979567152384984, 'direct_wrmse_ensemble': 0.8845383929960402, 'base_pred': 0.366715757652114}.\n"
     ]
    },
    {
     "name": "stdout",
     "output_type": "stream",
     "text": [
      "[0.5945067454026438, 0.4891106805189151, 0.5457617979310905]\n"
     ]
    },
    {
     "name": "stderr",
     "output_type": "stream",
     "text": [
      "[I 2020-06-30 01:14:10,725] Finished trial#398 resulted in value: 0.5431264079508832. Current best value is 0.5426543617180987 with parameters: {'direct_rmse': 0.43620693105558084, 'direct_rmse_ensemble': 0.00035695939630667195, 'direct_wrmse': 0.42979567152384984, 'direct_wrmse_ensemble': 0.8845383929960402, 'base_pred': 0.366715757652114}.\n"
     ]
    },
    {
     "name": "stdout",
     "output_type": "stream",
     "text": [
      "[0.5919520092729547, 0.49317961882133926, 0.543639495508518]\n"
     ]
    },
    {
     "name": "stderr",
     "output_type": "stream",
     "text": [
      "[I 2020-06-30 01:14:22,721] Finished trial#399 resulted in value: 0.542923707867604. Current best value is 0.5426543617180987 with parameters: {'direct_rmse': 0.43620693105558084, 'direct_rmse_ensemble': 0.00035695939630667195, 'direct_wrmse': 0.42979567152384984, 'direct_wrmse_ensemble': 0.8845383929960402, 'base_pred': 0.366715757652114}.\n"
     ]
    },
    {
     "name": "stdout",
     "output_type": "stream",
     "text": [
      "[0.5919882799060409, 0.49160169553505595, 0.5445870642158237]\n"
     ]
    },
    {
     "name": "stderr",
     "output_type": "stream",
     "text": [
      "[I 2020-06-30 01:14:35,064] Finished trial#400 resulted in value: 0.5427256798856401. Current best value is 0.5426543617180987 with parameters: {'direct_rmse': 0.43620693105558084, 'direct_rmse_ensemble': 0.00035695939630667195, 'direct_wrmse': 0.42979567152384984, 'direct_wrmse_ensemble': 0.8845383929960402, 'base_pred': 0.366715757652114}.\n"
     ]
    },
    {
     "name": "stdout",
     "output_type": "stream",
     "text": [
      "[0.5924473062224297, 0.4900615868077794, 0.5454716880203992]\n"
     ]
    },
    {
     "name": "stderr",
     "output_type": "stream",
     "text": [
      "[I 2020-06-30 01:14:47,789] Finished trial#401 resulted in value: 0.5426601936835361. Current best value is 0.5426543617180987 with parameters: {'direct_rmse': 0.43620693105558084, 'direct_rmse_ensemble': 0.00035695939630667195, 'direct_wrmse': 0.42979567152384984, 'direct_wrmse_ensemble': 0.8845383929960402, 'base_pred': 0.366715757652114}.\n"
     ]
    },
    {
     "name": "stdout",
     "output_type": "stream",
     "text": [
      "[0.5923268745412862, 0.4905420275208027, 0.5451253635947785]\n"
     ]
    },
    {
     "name": "stderr",
     "output_type": "stream",
     "text": [
      "[I 2020-06-30 01:15:00,152] Finished trial#402 resulted in value: 0.5426647552189557. Current best value is 0.5426543617180987 with parameters: {'direct_rmse': 0.43620693105558084, 'direct_rmse_ensemble': 0.00035695939630667195, 'direct_wrmse': 0.42979567152384984, 'direct_wrmse_ensemble': 0.8845383929960402, 'base_pred': 0.366715757652114}.\n"
     ]
    },
    {
     "name": "stdout",
     "output_type": "stream",
     "text": [
      "[0.5925537628228202, 0.48986816147616086, 0.5455635307681294]\n"
     ]
    },
    {
     "name": "stderr",
     "output_type": "stream",
     "text": [
      "[I 2020-06-30 01:15:12,345] Finished trial#403 resulted in value: 0.5426618183557035. Current best value is 0.5426543617180987 with parameters: {'direct_rmse': 0.43620693105558084, 'direct_rmse_ensemble': 0.00035695939630667195, 'direct_wrmse': 0.42979567152384984, 'direct_wrmse_ensemble': 0.8845383929960402, 'base_pred': 0.366715757652114}.\n"
     ]
    },
    {
     "name": "stdout",
     "output_type": "stream",
     "text": [
      "[0.5927293197392295, 0.48950106473067145, 0.5458027178436589]\n"
     ]
    },
    {
     "name": "stderr",
     "output_type": "stream",
     "text": [
      "[I 2020-06-30 01:15:24,597] Finished trial#404 resulted in value: 0.5426777007711866. Current best value is 0.5426543617180987 with parameters: {'direct_rmse': 0.43620693105558084, 'direct_rmse_ensemble': 0.00035695939630667195, 'direct_wrmse': 0.42979567152384984, 'direct_wrmse_ensemble': 0.8845383929960402, 'base_pred': 0.366715757652114}.\n"
     ]
    },
    {
     "name": "stdout",
     "output_type": "stream",
     "text": [
      "[0.5926172688621653, 0.49012874428410597, 0.5452943870653154]\n"
     ]
    },
    {
     "name": "stderr",
     "output_type": "stream",
     "text": [
      "[I 2020-06-30 01:15:36,595] Finished trial#405 resulted in value: 0.5426801334038621. Current best value is 0.5426543617180987 with parameters: {'direct_rmse': 0.43620693105558084, 'direct_rmse_ensemble': 0.00035695939630667195, 'direct_wrmse': 0.42979567152384984, 'direct_wrmse_ensemble': 0.8845383929960402, 'base_pred': 0.366715757652114}.\n"
     ]
    },
    {
     "name": "stdout",
     "output_type": "stream",
     "text": [
      "[0.593138276163142, 0.48906149578334585, 0.5458455298489013]\n"
     ]
    },
    {
     "name": "stderr",
     "output_type": "stream",
     "text": [
      "[I 2020-06-30 01:15:48,936] Finished trial#406 resulted in value: 0.5426817672651297. Current best value is 0.5426543617180987 with parameters: {'direct_rmse': 0.43620693105558084, 'direct_rmse_ensemble': 0.00035695939630667195, 'direct_wrmse': 0.42979567152384984, 'direct_wrmse_ensemble': 0.8845383929960402, 'base_pred': 0.366715757652114}.\n"
     ]
    },
    {
     "name": "stdout",
     "output_type": "stream",
     "text": [
      "[0.5924581323196668, 0.4895703840290007, 0.546039127212164]\n"
     ]
    },
    {
     "name": "stderr",
     "output_type": "stream",
     "text": [
      "[I 2020-06-30 01:16:02,286] Finished trial#407 resulted in value: 0.5426892145202772. Current best value is 0.5426543617180987 with parameters: {'direct_rmse': 0.43620693105558084, 'direct_rmse_ensemble': 0.00035695939630667195, 'direct_wrmse': 0.42979567152384984, 'direct_wrmse_ensemble': 0.8845383929960402, 'base_pred': 0.366715757652114}.\n"
     ]
    },
    {
     "name": "stdout",
     "output_type": "stream",
     "text": [
      "[0.5929508093589925, 0.48994793623166016, 0.5452566703176519]\n"
     ]
    },
    {
     "name": "stderr",
     "output_type": "stream",
     "text": [
      "[I 2020-06-30 01:16:14,602] Finished trial#408 resulted in value: 0.5427184719694349. Current best value is 0.5426543617180987 with parameters: {'direct_rmse': 0.43620693105558084, 'direct_rmse_ensemble': 0.00035695939630667195, 'direct_wrmse': 0.42979567152384984, 'direct_wrmse_ensemble': 0.8845383929960402, 'base_pred': 0.366715757652114}.\n"
     ]
    },
    {
     "name": "stdout",
     "output_type": "stream",
     "text": [
      "[0.5929588146820809, 0.4891192475599411, 0.5459147073066318]\n"
     ]
    },
    {
     "name": "stderr",
     "output_type": "stream",
     "text": [
      "[I 2020-06-30 01:16:26,721] Finished trial#409 resulted in value: 0.5426642565162179. Current best value is 0.5426543617180987 with parameters: {'direct_rmse': 0.43620693105558084, 'direct_rmse_ensemble': 0.00035695939630667195, 'direct_wrmse': 0.42979567152384984, 'direct_wrmse_ensemble': 0.8845383929960402, 'base_pred': 0.366715757652114}.\n"
     ]
    },
    {
     "name": "stdout",
     "output_type": "stream",
     "text": [
      "[0.5927406556232867, 0.48981669449751325, 0.5454745285485]\n"
     ]
    },
    {
     "name": "stderr",
     "output_type": "stream",
     "text": [
      "[I 2020-06-30 01:16:39,072] Finished trial#410 resulted in value: 0.5426772928897666. Current best value is 0.5426543617180987 with parameters: {'direct_rmse': 0.43620693105558084, 'direct_rmse_ensemble': 0.00035695939630667195, 'direct_wrmse': 0.42979567152384984, 'direct_wrmse_ensemble': 0.8845383929960402, 'base_pred': 0.366715757652114}.\n"
     ]
    },
    {
     "name": "stdout",
     "output_type": "stream",
     "text": [
      "[0.593102525480694, 0.48994598189507926, 0.5452222410335231]\n"
     ]
    },
    {
     "name": "stderr",
     "output_type": "stream",
     "text": [
      "[I 2020-06-30 01:16:51,436] Finished trial#411 resulted in value: 0.5427569161364322. Current best value is 0.5426543617180987 with parameters: {'direct_rmse': 0.43620693105558084, 'direct_rmse_ensemble': 0.00035695939630667195, 'direct_wrmse': 0.42979567152384984, 'direct_wrmse_ensemble': 0.8845383929960402, 'base_pred': 0.366715757652114}.\n"
     ]
    },
    {
     "name": "stdout",
     "output_type": "stream",
     "text": [
      "[0.5918081964509537, 0.49137495332243813, 0.54508552530645]\n"
     ]
    },
    {
     "name": "stderr",
     "output_type": "stream",
     "text": [
      "[I 2020-06-30 01:17:03,713] Finished trial#412 resulted in value: 0.542756225026614. Current best value is 0.5426543617180987 with parameters: {'direct_rmse': 0.43620693105558084, 'direct_rmse_ensemble': 0.00035695939630667195, 'direct_wrmse': 0.42979567152384984, 'direct_wrmse_ensemble': 0.8845383929960402, 'base_pred': 0.366715757652114}.\n"
     ]
    },
    {
     "name": "stdout",
     "output_type": "stream",
     "text": [
      "[0.5921652944582275, 0.490071311764071, 0.546006521371808]\n"
     ]
    },
    {
     "name": "stderr",
     "output_type": "stream",
     "text": [
      "[I 2020-06-30 01:17:16,124] Finished trial#413 resulted in value: 0.5427477091980356. Current best value is 0.5426543617180987 with parameters: {'direct_rmse': 0.43620693105558084, 'direct_rmse_ensemble': 0.00035695939630667195, 'direct_wrmse': 0.42979567152384984, 'direct_wrmse_ensemble': 0.8845383929960402, 'base_pred': 0.366715757652114}.\n"
     ]
    },
    {
     "name": "stdout",
     "output_type": "stream",
     "text": [
      "[0.5926729605562533, 0.4902154506045444, 0.5452100204613474]\n"
     ]
    },
    {
     "name": "stderr",
     "output_type": "stream",
     "text": [
      "[I 2020-06-30 01:17:28,375] Finished trial#414 resulted in value: 0.5426994772073818. Current best value is 0.5426543617180987 with parameters: {'direct_rmse': 0.43620693105558084, 'direct_rmse_ensemble': 0.00035695939630667195, 'direct_wrmse': 0.42979567152384984, 'direct_wrmse_ensemble': 0.8845383929960402, 'base_pred': 0.366715757652114}.\n"
     ]
    },
    {
     "name": "stdout",
     "output_type": "stream",
     "text": [
      "[0.5928461433625922, 0.4892893121731466, 0.5458536165199098]\n"
     ]
    },
    {
     "name": "stderr",
     "output_type": "stream",
     "text": [
      "[I 2020-06-30 01:17:40,637] Finished trial#415 resulted in value: 0.5426630240185495. Current best value is 0.5426543617180987 with parameters: {'direct_rmse': 0.43620693105558084, 'direct_rmse_ensemble': 0.00035695939630667195, 'direct_wrmse': 0.42979567152384984, 'direct_wrmse_ensemble': 0.8845383929960402, 'base_pred': 0.366715757652114}.\n"
     ]
    },
    {
     "name": "stdout",
     "output_type": "stream",
     "text": [
      "[0.5924273886431307, 0.48956732854861756, 0.5461647407537075]\n"
     ]
    },
    {
     "name": "stderr",
     "output_type": "stream",
     "text": [
      "[I 2020-06-30 01:17:53,077] Finished trial#416 resulted in value: 0.542719819315152. Current best value is 0.5426543617180987 with parameters: {'direct_rmse': 0.43620693105558084, 'direct_rmse_ensemble': 0.00035695939630667195, 'direct_wrmse': 0.42979567152384984, 'direct_wrmse_ensemble': 0.8845383929960402, 'base_pred': 0.366715757652114}.\n"
     ]
    },
    {
     "name": "stdout",
     "output_type": "stream",
     "text": [
      "[0.5932589934113325, 0.48823138531597987, 0.5467492940360169]\n"
     ]
    },
    {
     "name": "stderr",
     "output_type": "stream",
     "text": [
      "[I 2020-06-30 01:18:05,128] Finished trial#417 resulted in value: 0.5427465575877765. Current best value is 0.5426543617180987 with parameters: {'direct_rmse': 0.43620693105558084, 'direct_rmse_ensemble': 0.00035695939630667195, 'direct_wrmse': 0.42979567152384984, 'direct_wrmse_ensemble': 0.8845383929960402, 'base_pred': 0.366715757652114}.\n"
     ]
    },
    {
     "name": "stdout",
     "output_type": "stream",
     "text": [
      "[0.5926236657455565, 0.49064084627472465, 0.54488190623662]\n"
     ]
    },
    {
     "name": "stderr",
     "output_type": "stream",
     "text": [
      "[I 2020-06-30 01:18:17,405] Finished trial#418 resulted in value: 0.5427154727523004. Current best value is 0.5426543617180987 with parameters: {'direct_rmse': 0.43620693105558084, 'direct_rmse_ensemble': 0.00035695939630667195, 'direct_wrmse': 0.42979567152384984, 'direct_wrmse_ensemble': 0.8845383929960402, 'base_pred': 0.366715757652114}.\n"
     ]
    },
    {
     "name": "stdout",
     "output_type": "stream",
     "text": [
      "[0.5922051236505795, 0.49063687542116036, 0.545266994445607]\n"
     ]
    },
    {
     "name": "stderr",
     "output_type": "stream",
     "text": [
      "[I 2020-06-30 01:18:29,194] Finished trial#419 resulted in value: 0.5427029978391157. Current best value is 0.5426543617180987 with parameters: {'direct_rmse': 0.43620693105558084, 'direct_rmse_ensemble': 0.00035695939630667195, 'direct_wrmse': 0.42979567152384984, 'direct_wrmse_ensemble': 0.8845383929960402, 'base_pred': 0.366715757652114}.\n"
     ]
    },
    {
     "name": "stdout",
     "output_type": "stream",
     "text": [
      "[0.5938214855559845, 0.48759321597160277, 0.5468989848330147]\n"
     ]
    },
    {
     "name": "stderr",
     "output_type": "stream",
     "text": [
      "[I 2020-06-30 01:18:41,251] Finished trial#420 resulted in value: 0.5427712287868673. Current best value is 0.5426543617180987 with parameters: {'direct_rmse': 0.43620693105558084, 'direct_rmse_ensemble': 0.00035695939630667195, 'direct_wrmse': 0.42979567152384984, 'direct_wrmse_ensemble': 0.8845383929960402, 'base_pred': 0.366715757652114}.\n"
     ]
    },
    {
     "name": "stdout",
     "output_type": "stream",
     "text": [
      "[0.5940335830929556, 0.48867886550867157, 0.5459071974302803]\n"
     ]
    },
    {
     "name": "stderr",
     "output_type": "stream",
     "text": [
      "[I 2020-06-30 01:18:53,236] Finished trial#421 resulted in value: 0.5428732153439692. Current best value is 0.5426543617180987 with parameters: {'direct_rmse': 0.43620693105558084, 'direct_rmse_ensemble': 0.00035695939630667195, 'direct_wrmse': 0.42979567152384984, 'direct_wrmse_ensemble': 0.8845383929960402, 'base_pred': 0.366715757652114}.\n"
     ]
    },
    {
     "name": "stdout",
     "output_type": "stream",
     "text": [
      "[0.5926180661440342, 0.4896971964324955, 0.5456518567751086]\n"
     ]
    },
    {
     "name": "stderr",
     "output_type": "stream",
     "text": [
      "[I 2020-06-30 01:19:05,516] Finished trial#422 resulted in value: 0.5426557064505461. Current best value is 0.5426543617180987 with parameters: {'direct_rmse': 0.43620693105558084, 'direct_rmse_ensemble': 0.00035695939630667195, 'direct_wrmse': 0.42979567152384984, 'direct_wrmse_ensemble': 0.8845383929960402, 'base_pred': 0.366715757652114}.\n"
     ]
    },
    {
     "name": "stdout",
     "output_type": "stream",
     "text": [
      "[0.5921703591440852, 0.4902837368377015, 0.5457384171491864]\n"
     ]
    },
    {
     "name": "stderr",
     "output_type": "stream",
     "text": [
      "[I 2020-06-30 01:19:17,845] Finished trial#423 resulted in value: 0.5427308377103244. Current best value is 0.5426543617180987 with parameters: {'direct_rmse': 0.43620693105558084, 'direct_rmse_ensemble': 0.00035695939630667195, 'direct_wrmse': 0.42979567152384984, 'direct_wrmse_ensemble': 0.8845383929960402, 'base_pred': 0.366715757652114}.\n"
     ]
    },
    {
     "name": "stdout",
     "output_type": "stream",
     "text": [
      "[0.5925706631334292, 0.48958840196761905, 0.5459195058005634]\n"
     ]
    },
    {
     "name": "stderr",
     "output_type": "stream",
     "text": [
      "[I 2020-06-30 01:19:29,833] Finished trial#424 resulted in value: 0.5426928569672039. Current best value is 0.5426543617180987 with parameters: {'direct_rmse': 0.43620693105558084, 'direct_rmse_ensemble': 0.00035695939630667195, 'direct_wrmse': 0.42979567152384984, 'direct_wrmse_ensemble': 0.8845383929960402, 'base_pred': 0.366715757652114}.\n"
     ]
    },
    {
     "name": "stdout",
     "output_type": "stream",
     "text": [
      "[0.5931545184917618, 0.48892960931391566, 0.546008696735946]\n"
     ]
    },
    {
     "name": "stderr",
     "output_type": "stream",
     "text": [
      "[I 2020-06-30 01:19:42,100] Finished trial#425 resulted in value: 0.5426976081805411. Current best value is 0.5426543617180987 with parameters: {'direct_rmse': 0.43620693105558084, 'direct_rmse_ensemble': 0.00035695939630667195, 'direct_wrmse': 0.42979567152384984, 'direct_wrmse_ensemble': 0.8845383929960402, 'base_pred': 0.366715757652114}.\n"
     ]
    },
    {
     "name": "stdout",
     "output_type": "stream",
     "text": [
      "[0.5954278555767901, 0.48770954629662144, 0.5466395027547762]\n"
     ]
    },
    {
     "name": "stderr",
     "output_type": "stream",
     "text": [
      "[I 2020-06-30 01:19:54,373] Finished trial#426 resulted in value: 0.543258968209396. Current best value is 0.5426543617180987 with parameters: {'direct_rmse': 0.43620693105558084, 'direct_rmse_ensemble': 0.00035695939630667195, 'direct_wrmse': 0.42979567152384984, 'direct_wrmse_ensemble': 0.8845383929960402, 'base_pred': 0.366715757652114}.\n"
     ]
    },
    {
     "name": "stdout",
     "output_type": "stream",
     "text": [
      "[0.5922437971676758, 0.49038390210951993, 0.5453622390947974]\n"
     ]
    },
    {
     "name": "stderr",
     "output_type": "stream",
     "text": [
      "[I 2020-06-30 01:20:07,725] Finished trial#427 resulted in value: 0.5426633127906644. Current best value is 0.5426543617180987 with parameters: {'direct_rmse': 0.43620693105558084, 'direct_rmse_ensemble': 0.00035695939630667195, 'direct_wrmse': 0.42979567152384984, 'direct_wrmse_ensemble': 0.8845383929960402, 'base_pred': 0.366715757652114}.\n"
     ]
    },
    {
     "name": "stdout",
     "output_type": "stream",
     "text": [
      "[0.5930705995037843, 0.4894910052084788, 0.5455569993716268]\n"
     ]
    },
    {
     "name": "stderr",
     "output_type": "stream",
     "text": [
      "[I 2020-06-30 01:20:21,071] Finished trial#428 resulted in value: 0.5427062013612965. Current best value is 0.5426543617180987 with parameters: {'direct_rmse': 0.43620693105558084, 'direct_rmse_ensemble': 0.00035695939630667195, 'direct_wrmse': 0.42979567152384984, 'direct_wrmse_ensemble': 0.8845383929960402, 'base_pred': 0.366715757652114}.\n"
     ]
    },
    {
     "name": "stdout",
     "output_type": "stream",
     "text": [
      "[0.5937523414372976, 0.4885977356006998, 0.5460127922427187]\n"
     ]
    },
    {
     "name": "stderr",
     "output_type": "stream",
     "text": [
      "[I 2020-06-30 01:20:33,627] Finished trial#429 resulted in value: 0.5427876230935721. Current best value is 0.5426543617180987 with parameters: {'direct_rmse': 0.43620693105558084, 'direct_rmse_ensemble': 0.00035695939630667195, 'direct_wrmse': 0.42979567152384984, 'direct_wrmse_ensemble': 0.8845383929960402, 'base_pred': 0.366715757652114}.\n"
     ]
    },
    {
     "name": "stdout",
     "output_type": "stream",
     "text": [
      "[0.5923878010696059, 0.4897564931833367, 0.5464458656346746]\n"
     ]
    },
    {
     "name": "stderr",
     "output_type": "stream",
     "text": [
      "[I 2020-06-30 01:20:46,732] Finished trial#430 resulted in value: 0.5428633866292056. Current best value is 0.5426543617180987 with parameters: {'direct_rmse': 0.43620693105558084, 'direct_rmse_ensemble': 0.00035695939630667195, 'direct_wrmse': 0.42979567152384984, 'direct_wrmse_ensemble': 0.8845383929960402, 'base_pred': 0.366715757652114}.\n"
     ]
    },
    {
     "name": "stdout",
     "output_type": "stream",
     "text": [
      "[0.5930037175178864, 0.4886711787053355, 0.5465241820971675]\n"
     ]
    },
    {
     "name": "stderr",
     "output_type": "stream",
     "text": [
      "[I 2020-06-30 01:20:59,386] Finished trial#431 resulted in value: 0.5427330261067964. Current best value is 0.5426543617180987 with parameters: {'direct_rmse': 0.43620693105558084, 'direct_rmse_ensemble': 0.00035695939630667195, 'direct_wrmse': 0.42979567152384984, 'direct_wrmse_ensemble': 0.8845383929960402, 'base_pred': 0.366715757652114}.\n"
     ]
    },
    {
     "name": "stdout",
     "output_type": "stream",
     "text": [
      "[0.5925657708098764, 0.48935839476901827, 0.5461679516805957]\n"
     ]
    },
    {
     "name": "stderr",
     "output_type": "stream",
     "text": [
      "[I 2020-06-30 01:21:11,617] Finished trial#432 resulted in value: 0.5426973724198302. Current best value is 0.5426543617180987 with parameters: {'direct_rmse': 0.43620693105558084, 'direct_rmse_ensemble': 0.00035695939630667195, 'direct_wrmse': 0.42979567152384984, 'direct_wrmse_ensemble': 0.8845383929960402, 'base_pred': 0.366715757652114}.\n"
     ]
    },
    {
     "name": "stdout",
     "output_type": "stream",
     "text": [
      "[0.592884449889569, 0.48942810729095504, 0.5458464930280471]\n"
     ]
    },
    {
     "name": "stderr",
     "output_type": "stream",
     "text": [
      "[I 2020-06-30 01:21:24,170] Finished trial#433 resulted in value: 0.542719683402857. Current best value is 0.5426543617180987 with parameters: {'direct_rmse': 0.43620693105558084, 'direct_rmse_ensemble': 0.00035695939630667195, 'direct_wrmse': 0.42979567152384984, 'direct_wrmse_ensemble': 0.8845383929960402, 'base_pred': 0.366715757652114}.\n"
     ]
    },
    {
     "name": "stdout",
     "output_type": "stream",
     "text": [
      "[0.5928292561798802, 0.4906991031338758, 0.5448410379500538]\n"
     ]
    },
    {
     "name": "stderr",
     "output_type": "stream",
     "text": [
      "[I 2020-06-30 01:21:36,948] Finished trial#434 resulted in value: 0.5427897990879367. Current best value is 0.5426543617180987 with parameters: {'direct_rmse': 0.43620693105558084, 'direct_rmse_ensemble': 0.00035695939630667195, 'direct_wrmse': 0.42979567152384984, 'direct_wrmse_ensemble': 0.8845383929960402, 'base_pred': 0.366715757652114}.\n"
     ]
    },
    {
     "name": "stdout",
     "output_type": "stream",
     "text": [
      "[0.5933501357521801, 0.4895750208324565, 0.5453985300933764]\n"
     ]
    },
    {
     "name": "stderr",
     "output_type": "stream",
     "text": [
      "[I 2020-06-30 01:21:50,071] Finished trial#435 resulted in value: 0.5427745622260044. Current best value is 0.5426543617180987 with parameters: {'direct_rmse': 0.43620693105558084, 'direct_rmse_ensemble': 0.00035695939630667195, 'direct_wrmse': 0.42979567152384984, 'direct_wrmse_ensemble': 0.8845383929960402, 'base_pred': 0.366715757652114}.\n"
     ]
    },
    {
     "name": "stdout",
     "output_type": "stream",
     "text": [
      "[0.593139681354096, 0.489572347955787, 0.5454606748273495]\n"
     ]
    },
    {
     "name": "stderr",
     "output_type": "stream",
     "text": [
      "[I 2020-06-30 01:22:02,836] Finished trial#436 resulted in value: 0.5427242347124109. Current best value is 0.5426543617180987 with parameters: {'direct_rmse': 0.43620693105558084, 'direct_rmse_ensemble': 0.00035695939630667195, 'direct_wrmse': 0.42979567152384984, 'direct_wrmse_ensemble': 0.8845383929960402, 'base_pred': 0.366715757652114}.\n"
     ]
    },
    {
     "name": "stdout",
     "output_type": "stream",
     "text": [
      "[0.5932876774307648, 0.4892178089428076, 0.5456892672224855]\n"
     ]
    },
    {
     "name": "stderr",
     "output_type": "stream",
     "text": [
      "[I 2020-06-30 01:22:15,546] Finished trial#437 resulted in value: 0.5427315845320192. Current best value is 0.5426543617180987 with parameters: {'direct_rmse': 0.43620693105558084, 'direct_rmse_ensemble': 0.00035695939630667195, 'direct_wrmse': 0.42979567152384984, 'direct_wrmse_ensemble': 0.8845383929960402, 'base_pred': 0.366715757652114}.\n"
     ]
    },
    {
     "name": "stdout",
     "output_type": "stream",
     "text": [
      "[0.5931264148540576, 0.48845414642418944, 0.5464733027366082]\n"
     ]
    },
    {
     "name": "stderr",
     "output_type": "stream",
     "text": [
      "[I 2020-06-30 01:22:28,494] Finished trial#438 resulted in value: 0.5426846213382851. Current best value is 0.5426543617180987 with parameters: {'direct_rmse': 0.43620693105558084, 'direct_rmse_ensemble': 0.00035695939630667195, 'direct_wrmse': 0.42979567152384984, 'direct_wrmse_ensemble': 0.8845383929960402, 'base_pred': 0.366715757652114}.\n"
     ]
    },
    {
     "name": "stdout",
     "output_type": "stream",
     "text": [
      "[0.5931986637299381, 0.48886264677796726, 0.5461788850523245]\n"
     ]
    },
    {
     "name": "stderr",
     "output_type": "stream",
     "text": [
      "[I 2020-06-30 01:22:40,843] Finished trial#439 resulted in value: 0.5427467318534099. Current best value is 0.5426543617180987 with parameters: {'direct_rmse': 0.43620693105558084, 'direct_rmse_ensemble': 0.00035695939630667195, 'direct_wrmse': 0.42979567152384984, 'direct_wrmse_ensemble': 0.8845383929960402, 'base_pred': 0.366715757652114}.\n"
     ]
    },
    {
     "name": "stdout",
     "output_type": "stream",
     "text": [
      "[0.5928493258631563, 0.48967340855657576, 0.5455446821187359]\n"
     ]
    },
    {
     "name": "stderr",
     "output_type": "stream",
     "text": [
      "[I 2020-06-30 01:22:53,429] Finished trial#440 resulted in value: 0.542689138846156. Current best value is 0.5426543617180987 with parameters: {'direct_rmse': 0.43620693105558084, 'direct_rmse_ensemble': 0.00035695939630667195, 'direct_wrmse': 0.42979567152384984, 'direct_wrmse_ensemble': 0.8845383929960402, 'base_pred': 0.366715757652114}.\n"
     ]
    },
    {
     "name": "stdout",
     "output_type": "stream",
     "text": [
      "[0.5935714971816234, 0.48797166085745064, 0.5467032498909863]\n"
     ]
    },
    {
     "name": "stderr",
     "output_type": "stream",
     "text": [
      "[I 2020-06-30 01:23:05,670] Finished trial#441 resulted in value: 0.5427488026433535. Current best value is 0.5426543617180987 with parameters: {'direct_rmse': 0.43620693105558084, 'direct_rmse_ensemble': 0.00035695939630667195, 'direct_wrmse': 0.42979567152384984, 'direct_wrmse_ensemble': 0.8845383929960402, 'base_pred': 0.366715757652114}.\n"
     ]
    },
    {
     "name": "stdout",
     "output_type": "stream",
     "text": [
      "[0.5920376796751166, 0.4917297309325345, 0.5444516364609179]\n"
     ]
    },
    {
     "name": "stderr",
     "output_type": "stream",
     "text": [
      "[I 2020-06-30 01:23:17,989] Finished trial#442 resulted in value: 0.5427396823561897. Current best value is 0.5426543617180987 with parameters: {'direct_rmse': 0.43620693105558084, 'direct_rmse_ensemble': 0.00035695939630667195, 'direct_wrmse': 0.42979567152384984, 'direct_wrmse_ensemble': 0.8845383929960402, 'base_pred': 0.366715757652114}.\n"
     ]
    },
    {
     "name": "stdout",
     "output_type": "stream",
     "text": [
      "[0.593246865386999, 0.49077760299751677, 0.5446639754672299]\n"
     ]
    },
    {
     "name": "stderr",
     "output_type": "stream",
     "text": [
      "[I 2020-06-30 01:23:30,886] Finished trial#443 resulted in value: 0.5428961479505818. Current best value is 0.5426543617180987 with parameters: {'direct_rmse': 0.43620693105558084, 'direct_rmse_ensemble': 0.00035695939630667195, 'direct_wrmse': 0.42979567152384984, 'direct_wrmse_ensemble': 0.8845383929960402, 'base_pred': 0.366715757652114}.\n"
     ]
    },
    {
     "name": "stdout",
     "output_type": "stream",
     "text": [
      "[0.59239282816582, 0.49018655589882804, 0.5454271249261996]\n"
     ]
    },
    {
     "name": "stderr",
     "output_type": "stream",
     "text": [
      "[I 2020-06-30 01:23:43,352] Finished trial#444 resulted in value: 0.5426688363302826. Current best value is 0.5426543617180987 with parameters: {'direct_rmse': 0.43620693105558084, 'direct_rmse_ensemble': 0.00035695939630667195, 'direct_wrmse': 0.42979567152384984, 'direct_wrmse_ensemble': 0.8845383929960402, 'base_pred': 0.366715757652114}.\n"
     ]
    },
    {
     "name": "stdout",
     "output_type": "stream",
     "text": [
      "[0.5940955941502969, 0.48692028015541755, 0.5475584079005721]\n"
     ]
    },
    {
     "name": "stderr",
     "output_type": "stream",
     "text": [
      "[I 2020-06-30 01:23:55,810] Finished trial#445 resulted in value: 0.5428580940687621. Current best value is 0.5426543617180987 with parameters: {'direct_rmse': 0.43620693105558084, 'direct_rmse_ensemble': 0.00035695939630667195, 'direct_wrmse': 0.42979567152384984, 'direct_wrmse_ensemble': 0.8845383929960402, 'base_pred': 0.366715757652114}.\n"
     ]
    },
    {
     "name": "stdout",
     "output_type": "stream",
     "text": [
      "[0.5929389895875322, 0.48849023458339275, 0.5472105586044271]\n"
     ]
    },
    {
     "name": "stderr",
     "output_type": "stream",
     "text": [
      "[I 2020-06-30 01:24:08,173] Finished trial#446 resulted in value: 0.542879927591784. Current best value is 0.5426543617180987 with parameters: {'direct_rmse': 0.43620693105558084, 'direct_rmse_ensemble': 0.00035695939630667195, 'direct_wrmse': 0.42979567152384984, 'direct_wrmse_ensemble': 0.8845383929960402, 'base_pred': 0.366715757652114}.\n"
     ]
    },
    {
     "name": "stdout",
     "output_type": "stream",
     "text": [
      "[0.5926996652526981, 0.49047002262253075, 0.5449875340859501]\n"
     ]
    },
    {
     "name": "stderr",
     "output_type": "stream",
     "text": [
      "[I 2020-06-30 01:24:20,799] Finished trial#447 resulted in value: 0.5427190739870597. Current best value is 0.5426543617180987 with parameters: {'direct_rmse': 0.43620693105558084, 'direct_rmse_ensemble': 0.00035695939630667195, 'direct_wrmse': 0.42979567152384984, 'direct_wrmse_ensemble': 0.8845383929960402, 'base_pred': 0.366715757652114}.\n"
     ]
    },
    {
     "name": "stdout",
     "output_type": "stream",
     "text": [
      "[0.593113793350935, 0.48824841264223107, 0.5468156607033898]\n"
     ]
    },
    {
     "name": "stderr",
     "output_type": "stream",
     "text": [
      "[I 2020-06-30 01:24:33,662] Finished trial#448 resulted in value: 0.5427259555655186. Current best value is 0.5426543617180987 with parameters: {'direct_rmse': 0.43620693105558084, 'direct_rmse_ensemble': 0.00035695939630667195, 'direct_wrmse': 0.42979567152384984, 'direct_wrmse_ensemble': 0.8845383929960402, 'base_pred': 0.366715757652114}.\n"
     ]
    },
    {
     "name": "stdout",
     "output_type": "stream",
     "text": [
      "[0.5919790600678665, 0.4923566118107927, 0.5440426376847088]\n"
     ]
    },
    {
     "name": "stderr",
     "output_type": "stream",
     "text": [
      "[I 2020-06-30 01:24:45,858] Finished trial#449 resulted in value: 0.542792769854456. Current best value is 0.5426543617180987 with parameters: {'direct_rmse': 0.43620693105558084, 'direct_rmse_ensemble': 0.00035695939630667195, 'direct_wrmse': 0.42979567152384984, 'direct_wrmse_ensemble': 0.8845383929960402, 'base_pred': 0.366715757652114}.\n"
     ]
    },
    {
     "name": "stdout",
     "output_type": "stream",
     "text": [
      "[0.5933797480142342, 0.4879757122115016, 0.5472029659053238]\n"
     ]
    },
    {
     "name": "stderr",
     "output_type": "stream",
     "text": [
      "[I 2020-06-30 01:24:58,028] Finished trial#450 resulted in value: 0.5428528087103532. Current best value is 0.5426543617180987 with parameters: {'direct_rmse': 0.43620693105558084, 'direct_rmse_ensemble': 0.00035695939630667195, 'direct_wrmse': 0.42979567152384984, 'direct_wrmse_ensemble': 0.8845383929960402, 'base_pred': 0.366715757652114}.\n"
     ]
    },
    {
     "name": "stdout",
     "output_type": "stream",
     "text": [
      "[0.594263235970809, 0.4881050542021401, 0.5463047431740397]\n"
     ]
    },
    {
     "name": "stderr",
     "output_type": "stream",
     "text": [
      "[I 2020-06-30 01:25:10,594] Finished trial#451 resulted in value: 0.542891011115663. Current best value is 0.5426543617180987 with parameters: {'direct_rmse': 0.43620693105558084, 'direct_rmse_ensemble': 0.00035695939630667195, 'direct_wrmse': 0.42979567152384984, 'direct_wrmse_ensemble': 0.8845383929960402, 'base_pred': 0.366715757652114}.\n"
     ]
    },
    {
     "name": "stdout",
     "output_type": "stream",
     "text": [
      "[0.5932134448853337, 0.4902988260344281, 0.5450114159090508]\n"
     ]
    },
    {
     "name": "stderr",
     "output_type": "stream",
     "text": [
      "[I 2020-06-30 01:25:22,776] Finished trial#452 resulted in value: 0.5428412289429375. Current best value is 0.5426543617180987 with parameters: {'direct_rmse': 0.43620693105558084, 'direct_rmse_ensemble': 0.00035695939630667195, 'direct_wrmse': 0.42979567152384984, 'direct_wrmse_ensemble': 0.8845383929960402, 'base_pred': 0.366715757652114}.\n"
     ]
    },
    {
     "name": "stdout",
     "output_type": "stream",
     "text": [
      "[0.5929539671014707, 0.48910310353465797, 0.5460178689342695]\n"
     ]
    },
    {
     "name": "stderr",
     "output_type": "stream",
     "text": [
      "[I 2020-06-30 01:25:35,495] Finished trial#453 resulted in value: 0.542691646523466. Current best value is 0.5426543617180987 with parameters: {'direct_rmse': 0.43620693105558084, 'direct_rmse_ensemble': 0.00035695939630667195, 'direct_wrmse': 0.42979567152384984, 'direct_wrmse_ensemble': 0.8845383929960402, 'base_pred': 0.366715757652114}.\n"
     ]
    },
    {
     "name": "stdout",
     "output_type": "stream",
     "text": [
      "[0.5922429192010717, 0.49011361661866903, 0.545836064263104]\n"
     ]
    },
    {
     "name": "stderr",
     "output_type": "stream",
     "text": [
      "[I 2020-06-30 01:25:47,636] Finished trial#454 resulted in value: 0.5427308666942817. Current best value is 0.5426543617180987 with parameters: {'direct_rmse': 0.43620693105558084, 'direct_rmse_ensemble': 0.00035695939630667195, 'direct_wrmse': 0.42979567152384984, 'direct_wrmse_ensemble': 0.8845383929960402, 'base_pred': 0.366715757652114}.\n"
     ]
    },
    {
     "name": "stdout",
     "output_type": "stream",
     "text": [
      "[0.5936039102691947, 0.48899403338347125, 0.5457580831759664]\n"
     ]
    },
    {
     "name": "stderr",
     "output_type": "stream",
     "text": [
      "[I 2020-06-30 01:25:59,944] Finished trial#455 resulted in value: 0.5427853422762108. Current best value is 0.5426543617180987 with parameters: {'direct_rmse': 0.43620693105558084, 'direct_rmse_ensemble': 0.00035695939630667195, 'direct_wrmse': 0.42979567152384984, 'direct_wrmse_ensemble': 0.8845383929960402, 'base_pred': 0.366715757652114}.\n"
     ]
    },
    {
     "name": "stdout",
     "output_type": "stream",
     "text": [
      "[0.5932269285921975, 0.4888898208580838, 0.5460586173001307]\n"
     ]
    },
    {
     "name": "stderr",
     "output_type": "stream",
     "text": [
      "[I 2020-06-30 01:26:12,567] Finished trial#456 resulted in value: 0.5427251222501374. Current best value is 0.5426543617180987 with parameters: {'direct_rmse': 0.43620693105558084, 'direct_rmse_ensemble': 0.00035695939630667195, 'direct_wrmse': 0.42979567152384984, 'direct_wrmse_ensemble': 0.8845383929960402, 'base_pred': 0.366715757652114}.\n"
     ]
    },
    {
     "name": "stdout",
     "output_type": "stream",
     "text": [
      "[0.593216786733412, 0.48967276522314057, 0.5456826153606962]\n"
     ]
    },
    {
     "name": "stderr",
     "output_type": "stream",
     "text": [
      "[I 2020-06-30 01:26:24,921] Finished trial#457 resulted in value: 0.5428573891057497. Current best value is 0.5426543617180987 with parameters: {'direct_rmse': 0.43620693105558084, 'direct_rmse_ensemble': 0.00035695939630667195, 'direct_wrmse': 0.42979567152384984, 'direct_wrmse_ensemble': 0.8845383929960402, 'base_pred': 0.366715757652114}.\n"
     ]
    },
    {
     "name": "stdout",
     "output_type": "stream",
     "text": [
      "[0.5931010868309634, 0.48846065891687435, 0.5465511282593671]\n"
     ]
    },
    {
     "name": "stderr",
     "output_type": "stream",
     "text": [
      "[I 2020-06-30 01:26:37,280] Finished trial#458 resulted in value: 0.542704291335735. Current best value is 0.5426543617180987 with parameters: {'direct_rmse': 0.43620693105558084, 'direct_rmse_ensemble': 0.00035695939630667195, 'direct_wrmse': 0.42979567152384984, 'direct_wrmse_ensemble': 0.8845383929960402, 'base_pred': 0.366715757652114}.\n"
     ]
    },
    {
     "name": "stdout",
     "output_type": "stream",
     "text": [
      "[0.5967365596527869, 0.487870442389506, 0.5469250718838569]\n"
     ]
    },
    {
     "name": "stderr",
     "output_type": "stream",
     "text": [
      "[I 2020-06-30 01:26:49,731] Finished trial#459 resulted in value: 0.5438440246420498. Current best value is 0.5426543617180987 with parameters: {'direct_rmse': 0.43620693105558084, 'direct_rmse_ensemble': 0.00035695939630667195, 'direct_wrmse': 0.42979567152384984, 'direct_wrmse_ensemble': 0.8845383929960402, 'base_pred': 0.366715757652114}.\n"
     ]
    },
    {
     "name": "stdout",
     "output_type": "stream",
     "text": [
      "[0.5922618943606569, 0.49033306683834305, 0.5454833915490159]\n"
     ]
    },
    {
     "name": "stderr",
     "output_type": "stream",
     "text": [
      "[I 2020-06-30 01:27:02,073] Finished trial#460 resulted in value: 0.5426927842493386. Current best value is 0.5426543617180987 with parameters: {'direct_rmse': 0.43620693105558084, 'direct_rmse_ensemble': 0.00035695939630667195, 'direct_wrmse': 0.42979567152384984, 'direct_wrmse_ensemble': 0.8845383929960402, 'base_pred': 0.366715757652114}.\n"
     ]
    },
    {
     "name": "stdout",
     "output_type": "stream",
     "text": [
      "[0.5933610926529082, 0.4894958373356575, 0.5454632728797387]\n"
     ]
    },
    {
     "name": "stderr",
     "output_type": "stream",
     "text": [
      "[I 2020-06-30 01:27:14,454] Finished trial#461 resulted in value: 0.5427734009561015. Current best value is 0.5426543617180987 with parameters: {'direct_rmse': 0.43620693105558084, 'direct_rmse_ensemble': 0.00035695939630667195, 'direct_wrmse': 0.42979567152384984, 'direct_wrmse_ensemble': 0.8845383929960402, 'base_pred': 0.366715757652114}.\n"
     ]
    },
    {
     "name": "stdout",
     "output_type": "stream",
     "text": [
      "[0.5915567798758942, 0.4918301786397837, 0.5449528834223268]\n"
     ]
    },
    {
     "name": "stderr",
     "output_type": "stream",
     "text": [
      "[I 2020-06-30 01:27:26,858] Finished trial#462 resulted in value: 0.5427799473126682. Current best value is 0.5426543617180987 with parameters: {'direct_rmse': 0.43620693105558084, 'direct_rmse_ensemble': 0.00035695939630667195, 'direct_wrmse': 0.42979567152384984, 'direct_wrmse_ensemble': 0.8845383929960402, 'base_pred': 0.366715757652114}.\n"
     ]
    },
    {
     "name": "stdout",
     "output_type": "stream",
     "text": [
      "[0.5928488360054159, 0.49181238039818415, 0.544142330223581]\n"
     ]
    },
    {
     "name": "stderr",
     "output_type": "stream",
     "text": [
      "[I 2020-06-30 01:27:39,452] Finished trial#463 resulted in value: 0.5429345155423937. Current best value is 0.5426543617180987 with parameters: {'direct_rmse': 0.43620693105558084, 'direct_rmse_ensemble': 0.00035695939630667195, 'direct_wrmse': 0.42979567152384984, 'direct_wrmse_ensemble': 0.8845383929960402, 'base_pred': 0.366715757652114}.\n"
     ]
    },
    {
     "name": "stdout",
     "output_type": "stream",
     "text": [
      "[0.5932218332590721, 0.49060536648657754, 0.5447924110297687]\n"
     ]
    },
    {
     "name": "stderr",
     "output_type": "stream",
     "text": [
      "[I 2020-06-30 01:27:52,367] Finished trial#464 resulted in value: 0.5428732035918061. Current best value is 0.5426543617180987 with parameters: {'direct_rmse': 0.43620693105558084, 'direct_rmse_ensemble': 0.00035695939630667195, 'direct_wrmse': 0.42979567152384984, 'direct_wrmse_ensemble': 0.8845383929960402, 'base_pred': 0.366715757652114}.\n"
     ]
    },
    {
     "name": "stdout",
     "output_type": "stream",
     "text": [
      "[0.5922095413442071, 0.49096931502070795, 0.5451234187845119]\n"
     ]
    },
    {
     "name": "stderr",
     "output_type": "stream",
     "text": [
      "[I 2020-06-30 01:28:05,393] Finished trial#465 resulted in value: 0.542767425049809. Current best value is 0.5426543617180987 with parameters: {'direct_rmse': 0.43620693105558084, 'direct_rmse_ensemble': 0.00035695939630667195, 'direct_wrmse': 0.42979567152384984, 'direct_wrmse_ensemble': 0.8845383929960402, 'base_pred': 0.366715757652114}.\n"
     ]
    },
    {
     "name": "stdout",
     "output_type": "stream",
     "text": [
      "[0.5931193439920027, 0.489214544887601, 0.5457749738391643]\n"
     ]
    },
    {
     "name": "stderr",
     "output_type": "stream",
     "text": [
      "[I 2020-06-30 01:28:17,859] Finished trial#466 resulted in value: 0.5427029542395894. Current best value is 0.5426543617180987 with parameters: {'direct_rmse': 0.43620693105558084, 'direct_rmse_ensemble': 0.00035695939630667195, 'direct_wrmse': 0.42979567152384984, 'direct_wrmse_ensemble': 0.8845383929960402, 'base_pred': 0.366715757652114}.\n"
     ]
    },
    {
     "name": "stdout",
     "output_type": "stream",
     "text": [
      "[0.5971817429969449, 0.4862992870218807, 0.5479983799569604]\n"
     ]
    },
    {
     "name": "stderr",
     "output_type": "stream",
     "text": [
      "[I 2020-06-30 01:28:29,945] Finished trial#467 resulted in value: 0.5438264699919286. Current best value is 0.5426543617180987 with parameters: {'direct_rmse': 0.43620693105558084, 'direct_rmse_ensemble': 0.00035695939630667195, 'direct_wrmse': 0.42979567152384984, 'direct_wrmse_ensemble': 0.8845383929960402, 'base_pred': 0.366715757652114}.\n"
     ]
    },
    {
     "name": "stdout",
     "output_type": "stream",
     "text": [
      "[0.5932273226381429, 0.49148581064850977, 0.5443693504116417]\n"
     ]
    },
    {
     "name": "stderr",
     "output_type": "stream",
     "text": [
      "[I 2020-06-30 01:28:42,789] Finished trial#468 resulted in value: 0.5430274945660981. Current best value is 0.5426543617180987 with parameters: {'direct_rmse': 0.43620693105558084, 'direct_rmse_ensemble': 0.00035695939630667195, 'direct_wrmse': 0.42979567152384984, 'direct_wrmse_ensemble': 0.8845383929960402, 'base_pred': 0.366715757652114}.\n"
     ]
    },
    {
     "name": "stdout",
     "output_type": "stream",
     "text": [
      "[0.5936323775422316, 0.490415753915858, 0.5449309557031643]\n"
     ]
    },
    {
     "name": "stderr",
     "output_type": "stream",
     "text": [
      "[I 2020-06-30 01:28:55,504] Finished trial#469 resulted in value: 0.5429930290537514. Current best value is 0.5426543617180987 with parameters: {'direct_rmse': 0.43620693105558084, 'direct_rmse_ensemble': 0.00035695939630667195, 'direct_wrmse': 0.42979567152384984, 'direct_wrmse_ensemble': 0.8845383929960402, 'base_pred': 0.366715757652114}.\n"
     ]
    },
    {
     "name": "stdout",
     "output_type": "stream",
     "text": [
      "[0.5938659931088107, 0.48929906628463066, 0.545532581201688]\n"
     ]
    },
    {
     "name": "stderr",
     "output_type": "stream",
     "text": [
      "[I 2020-06-30 01:29:07,818] Finished trial#470 resulted in value: 0.5428992135317098. Current best value is 0.5426543617180987 with parameters: {'direct_rmse': 0.43620693105558084, 'direct_rmse_ensemble': 0.00035695939630667195, 'direct_wrmse': 0.42979567152384984, 'direct_wrmse_ensemble': 0.8845383929960402, 'base_pred': 0.366715757652114}.\n"
     ]
    },
    {
     "name": "stdout",
     "output_type": "stream",
     "text": [
      "[0.5925870398019529, 0.4897202548983041, 0.5459344171890718]\n"
     ]
    },
    {
     "name": "stderr",
     "output_type": "stream",
     "text": [
      "[I 2020-06-30 01:29:20,278] Finished trial#471 resulted in value: 0.5427472372964429. Current best value is 0.5426543617180987 with parameters: {'direct_rmse': 0.43620693105558084, 'direct_rmse_ensemble': 0.00035695939630667195, 'direct_wrmse': 0.42979567152384984, 'direct_wrmse_ensemble': 0.8845383929960402, 'base_pred': 0.366715757652114}.\n"
     ]
    },
    {
     "name": "stdout",
     "output_type": "stream",
     "text": [
      "[0.5937067267071429, 0.4880545706065997, 0.5465599852875073]\n"
     ]
    },
    {
     "name": "stderr",
     "output_type": "stream",
     "text": [
      "[I 2020-06-30 01:29:32,545] Finished trial#472 resulted in value: 0.5427737608670832. Current best value is 0.5426543617180987 with parameters: {'direct_rmse': 0.43620693105558084, 'direct_rmse_ensemble': 0.00035695939630667195, 'direct_wrmse': 0.42979567152384984, 'direct_wrmse_ensemble': 0.8845383929960402, 'base_pred': 0.366715757652114}.\n"
     ]
    },
    {
     "name": "stdout",
     "output_type": "stream",
     "text": [
      "[0.5923728769512664, 0.4920574807751335, 0.5441251019925167]\n"
     ]
    },
    {
     "name": "stderr",
     "output_type": "stream",
     "text": [
      "[I 2020-06-30 01:29:44,678] Finished trial#473 resulted in value: 0.5428518199063056. Current best value is 0.5426543617180987 with parameters: {'direct_rmse': 0.43620693105558084, 'direct_rmse_ensemble': 0.00035695939630667195, 'direct_wrmse': 0.42979567152384984, 'direct_wrmse_ensemble': 0.8845383929960402, 'base_pred': 0.366715757652114}.\n"
     ]
    },
    {
     "name": "stdout",
     "output_type": "stream",
     "text": [
      "[0.5920400038832321, 0.49112085080684625, 0.54491323269863]\n"
     ]
    },
    {
     "name": "stderr",
     "output_type": "stream",
     "text": [
      "[I 2020-06-30 01:29:57,286] Finished trial#474 resulted in value: 0.5426913624629028. Current best value is 0.5426543617180987 with parameters: {'direct_rmse': 0.43620693105558084, 'direct_rmse_ensemble': 0.00035695939630667195, 'direct_wrmse': 0.42979567152384984, 'direct_wrmse_ensemble': 0.8845383929960402, 'base_pred': 0.366715757652114}.\n"
     ]
    },
    {
     "name": "stdout",
     "output_type": "stream",
     "text": [
      "[0.5937021444741737, 0.4880267495478033, 0.5465263114948483]\n"
     ]
    },
    {
     "name": "stderr",
     "output_type": "stream",
     "text": [
      "[I 2020-06-30 01:30:10,193] Finished trial#475 resulted in value: 0.542751735172275. Current best value is 0.5426543617180987 with parameters: {'direct_rmse': 0.43620693105558084, 'direct_rmse_ensemble': 0.00035695939630667195, 'direct_wrmse': 0.42979567152384984, 'direct_wrmse_ensemble': 0.8845383929960402, 'base_pred': 0.366715757652114}.\n"
     ]
    },
    {
     "name": "stdout",
     "output_type": "stream",
     "text": [
      "[0.5944245791821419, 0.48691952817371603, 0.547334205449067]\n"
     ]
    },
    {
     "name": "stderr",
     "output_type": "stream",
     "text": [
      "[I 2020-06-30 01:30:22,624] Finished trial#476 resulted in value: 0.542892770934975. Current best value is 0.5426543617180987 with parameters: {'direct_rmse': 0.43620693105558084, 'direct_rmse_ensemble': 0.00035695939630667195, 'direct_wrmse': 0.42979567152384984, 'direct_wrmse_ensemble': 0.8845383929960402, 'base_pred': 0.366715757652114}.\n"
     ]
    },
    {
     "name": "stdout",
     "output_type": "stream",
     "text": [
      "[0.5929312797509293, 0.48998008920705277, 0.545299166461383]\n"
     ]
    },
    {
     "name": "stderr",
     "output_type": "stream",
     "text": [
      "[I 2020-06-30 01:30:35,042] Finished trial#477 resulted in value: 0.5427368451397884. Current best value is 0.5426543617180987 with parameters: {'direct_rmse': 0.43620693105558084, 'direct_rmse_ensemble': 0.00035695939630667195, 'direct_wrmse': 0.42979567152384984, 'direct_wrmse_ensemble': 0.8845383929960402, 'base_pred': 0.366715757652114}.\n"
     ]
    },
    {
     "name": "stdout",
     "output_type": "stream",
     "text": [
      "[0.5933309312006384, 0.4880710733661788, 0.5468150941885713]\n"
     ]
    },
    {
     "name": "stderr",
     "output_type": "stream",
     "text": [
      "[I 2020-06-30 01:30:47,496] Finished trial#478 resulted in value: 0.5427390329184628. Current best value is 0.5426543617180987 with parameters: {'direct_rmse': 0.43620693105558084, 'direct_rmse_ensemble': 0.00035695939630667195, 'direct_wrmse': 0.42979567152384984, 'direct_wrmse_ensemble': 0.8845383929960402, 'base_pred': 0.366715757652114}.\n"
     ]
    },
    {
     "name": "stdout",
     "output_type": "stream",
     "text": [
      "[0.5913236201150049, 0.49351927311712135, 0.5438863179046778]\n"
     ]
    },
    {
     "name": "stderr",
     "output_type": "stream",
     "text": [
      "[I 2020-06-30 01:30:59,783] Finished trial#479 resulted in value: 0.5429097370456014. Current best value is 0.5426543617180987 with parameters: {'direct_rmse': 0.43620693105558084, 'direct_rmse_ensemble': 0.00035695939630667195, 'direct_wrmse': 0.42979567152384984, 'direct_wrmse_ensemble': 0.8845383929960402, 'base_pred': 0.366715757652114}.\n"
     ]
    },
    {
     "name": "stdout",
     "output_type": "stream",
     "text": [
      "[0.5934911446514157, 0.49958468238583104, 0.5414879944201703]\n"
     ]
    },
    {
     "name": "stderr",
     "output_type": "stream",
     "text": [
      "[I 2020-06-30 01:31:12,033] Finished trial#480 resulted in value: 0.5448546071524724. Current best value is 0.5426543617180987 with parameters: {'direct_rmse': 0.43620693105558084, 'direct_rmse_ensemble': 0.00035695939630667195, 'direct_wrmse': 0.42979567152384984, 'direct_wrmse_ensemble': 0.8845383929960402, 'base_pred': 0.366715757652114}.\n"
     ]
    },
    {
     "name": "stdout",
     "output_type": "stream",
     "text": [
      "[0.5934310400674495, 0.4898231031858515, 0.54526814232007]\n"
     ]
    },
    {
     "name": "stderr",
     "output_type": "stream",
     "text": [
      "[I 2020-06-30 01:31:24,446] Finished trial#481 resulted in value: 0.5428407618577903. Current best value is 0.5426543617180987 with parameters: {'direct_rmse': 0.43620693105558084, 'direct_rmse_ensemble': 0.00035695939630667195, 'direct_wrmse': 0.42979567152384984, 'direct_wrmse_ensemble': 0.8845383929960402, 'base_pred': 0.366715757652114}.\n"
     ]
    },
    {
     "name": "stdout",
     "output_type": "stream",
     "text": [
      "[0.5919141651984116, 0.49225675849567946, 0.5442053291104055]\n"
     ]
    },
    {
     "name": "stderr",
     "output_type": "stream",
     "text": [
      "[I 2020-06-30 01:31:36,801] Finished trial#482 resulted in value: 0.5427920842681656. Current best value is 0.5426543617180987 with parameters: {'direct_rmse': 0.43620693105558084, 'direct_rmse_ensemble': 0.00035695939630667195, 'direct_wrmse': 0.42979567152384984, 'direct_wrmse_ensemble': 0.8845383929960402, 'base_pred': 0.366715757652114}.\n"
     ]
    },
    {
     "name": "stdout",
     "output_type": "stream",
     "text": [
      "[0.5929221064574453, 0.48902243719521993, 0.5460376552886196]\n"
     ]
    },
    {
     "name": "stderr",
     "output_type": "stream",
     "text": [
      "[I 2020-06-30 01:31:49,170] Finished trial#483 resulted in value: 0.5426607329804282. Current best value is 0.5426543617180987 with parameters: {'direct_rmse': 0.43620693105558084, 'direct_rmse_ensemble': 0.00035695939630667195, 'direct_wrmse': 0.42979567152384984, 'direct_wrmse_ensemble': 0.8845383929960402, 'base_pred': 0.366715757652114}.\n"
     ]
    },
    {
     "name": "stdout",
     "output_type": "stream",
     "text": [
      "[0.5927218268248832, 0.48955553508456795, 0.5457246728872754]\n"
     ]
    },
    {
     "name": "stderr",
     "output_type": "stream",
     "text": [
      "[I 2020-06-30 01:32:01,451] Finished trial#484 resulted in value: 0.5426673449322422. Current best value is 0.5426543617180987 with parameters: {'direct_rmse': 0.43620693105558084, 'direct_rmse_ensemble': 0.00035695939630667195, 'direct_wrmse': 0.42979567152384984, 'direct_wrmse_ensemble': 0.8845383929960402, 'base_pred': 0.366715757652114}.\n"
     ]
    },
    {
     "name": "stdout",
     "output_type": "stream",
     "text": [
      "[0.5946045751233101, 0.4879772204535647, 0.546391585593554]\n"
     ]
    },
    {
     "name": "stderr",
     "output_type": "stream",
     "text": [
      "[I 2020-06-30 01:32:14,190] Finished trial#485 resulted in value: 0.5429911270568096. Current best value is 0.5426543617180987 with parameters: {'direct_rmse': 0.43620693105558084, 'direct_rmse_ensemble': 0.00035695939630667195, 'direct_wrmse': 0.42979567152384984, 'direct_wrmse_ensemble': 0.8845383929960402, 'base_pred': 0.366715757652114}.\n"
     ]
    },
    {
     "name": "stdout",
     "output_type": "stream",
     "text": [
      "[0.5955353081302809, 0.4875820591084976, 0.5467513857200943]\n"
     ]
    },
    {
     "name": "stderr",
     "output_type": "stream",
     "text": [
      "[I 2020-06-30 01:32:27,080] Finished trial#486 resulted in value: 0.5432895843196243. Current best value is 0.5426543617180987 with parameters: {'direct_rmse': 0.43620693105558084, 'direct_rmse_ensemble': 0.00035695939630667195, 'direct_wrmse': 0.42979567152384984, 'direct_wrmse_ensemble': 0.8845383929960402, 'base_pred': 0.366715757652114}.\n"
     ]
    },
    {
     "name": "stdout",
     "output_type": "stream",
     "text": [
      "[0.5950097333309651, 0.4883250268541639, 0.546242287003739]\n"
     ]
    },
    {
     "name": "stderr",
     "output_type": "stream",
     "text": [
      "[I 2020-06-30 01:32:39,523] Finished trial#487 resulted in value: 0.5431923490629559. Current best value is 0.5426543617180987 with parameters: {'direct_rmse': 0.43620693105558084, 'direct_rmse_ensemble': 0.00035695939630667195, 'direct_wrmse': 0.42979567152384984, 'direct_wrmse_ensemble': 0.8845383929960402, 'base_pred': 0.366715757652114}.\n"
     ]
    },
    {
     "name": "stdout",
     "output_type": "stream",
     "text": [
      "[0.593655104047842, 0.4874726328575068, 0.548933644569179]\n"
     ]
    },
    {
     "name": "stderr",
     "output_type": "stream",
     "text": [
      "[I 2020-06-30 01:32:51,967] Finished trial#488 resulted in value: 0.5433537938248426. Current best value is 0.5426543617180987 with parameters: {'direct_rmse': 0.43620693105558084, 'direct_rmse_ensemble': 0.00035695939630667195, 'direct_wrmse': 0.42979567152384984, 'direct_wrmse_ensemble': 0.8845383929960402, 'base_pred': 0.366715757652114}.\n"
     ]
    },
    {
     "name": "stdout",
     "output_type": "stream",
     "text": [
      "[0.5936478216945995, 0.4883400484688576, 0.5463311843532165]\n"
     ]
    },
    {
     "name": "stderr",
     "output_type": "stream",
     "text": [
      "[I 2020-06-30 01:33:04,060] Finished trial#489 resulted in value: 0.5427730181722246. Current best value is 0.5426543617180987 with parameters: {'direct_rmse': 0.43620693105558084, 'direct_rmse_ensemble': 0.00035695939630667195, 'direct_wrmse': 0.42979567152384984, 'direct_wrmse_ensemble': 0.8845383929960402, 'base_pred': 0.366715757652114}.\n"
     ]
    },
    {
     "name": "stdout",
     "output_type": "stream",
     "text": [
      "[0.5938393864901735, 0.48788480401016954, 0.5465801281423458]\n"
     ]
    },
    {
     "name": "stderr",
     "output_type": "stream",
     "text": [
      "[I 2020-06-30 01:33:16,612] Finished trial#490 resulted in value: 0.5427681062142296. Current best value is 0.5426543617180987 with parameters: {'direct_rmse': 0.43620693105558084, 'direct_rmse_ensemble': 0.00035695939630667195, 'direct_wrmse': 0.42979567152384984, 'direct_wrmse_ensemble': 0.8845383929960402, 'base_pred': 0.366715757652114}.\n"
     ]
    },
    {
     "name": "stdout",
     "output_type": "stream",
     "text": [
      "[0.5937154218402584, 0.48802959501890925, 0.5465946569024216]\n"
     ]
    },
    {
     "name": "stderr",
     "output_type": "stream",
     "text": [
      "[I 2020-06-30 01:33:29,174] Finished trial#491 resulted in value: 0.5427798912538631. Current best value is 0.5426543617180987 with parameters: {'direct_rmse': 0.43620693105558084, 'direct_rmse_ensemble': 0.00035695939630667195, 'direct_wrmse': 0.42979567152384984, 'direct_wrmse_ensemble': 0.8845383929960402, 'base_pred': 0.366715757652114}.\n"
     ]
    },
    {
     "name": "stdout",
     "output_type": "stream",
     "text": [
      "[0.5924719641237316, 0.49067671546889535, 0.5449565227324679]\n"
     ]
    },
    {
     "name": "stderr",
     "output_type": "stream",
     "text": [
      "[I 2020-06-30 01:33:41,444] Finished trial#492 resulted in value: 0.542701734108365. Current best value is 0.5426543617180987 with parameters: {'direct_rmse': 0.43620693105558084, 'direct_rmse_ensemble': 0.00035695939630667195, 'direct_wrmse': 0.42979567152384984, 'direct_wrmse_ensemble': 0.8845383929960402, 'base_pred': 0.366715757652114}.\n"
     ]
    },
    {
     "name": "stdout",
     "output_type": "stream",
     "text": [
      "[0.5923866293105505, 0.48966820285233975, 0.546859543562552]\n"
     ]
    },
    {
     "name": "stderr",
     "output_type": "stream",
     "text": [
      "[I 2020-06-30 01:33:54,021] Finished trial#493 resulted in value: 0.5429714585751474. Current best value is 0.5426543617180987 with parameters: {'direct_rmse': 0.43620693105558084, 'direct_rmse_ensemble': 0.00035695939630667195, 'direct_wrmse': 0.42979567152384984, 'direct_wrmse_ensemble': 0.8845383929960402, 'base_pred': 0.366715757652114}.\n"
     ]
    },
    {
     "name": "stdout",
     "output_type": "stream",
     "text": [
      "[0.5921701140018127, 0.49123625461843806, 0.5449593306313747]\n"
     ]
    },
    {
     "name": "stderr",
     "output_type": "stream",
     "text": [
      "[I 2020-06-30 01:34:06,275] Finished trial#494 resulted in value: 0.5427885664172085. Current best value is 0.5426543617180987 with parameters: {'direct_rmse': 0.43620693105558084, 'direct_rmse_ensemble': 0.00035695939630667195, 'direct_wrmse': 0.42979567152384984, 'direct_wrmse_ensemble': 0.8845383929960402, 'base_pred': 0.366715757652114}.\n"
     ]
    },
    {
     "name": "stdout",
     "output_type": "stream",
     "text": [
      "[0.5937337764312512, 0.48869196462190034, 0.5461414721746657]\n"
     ]
    },
    {
     "name": "stderr",
     "output_type": "stream",
     "text": [
      "[I 2020-06-30 01:34:19,008] Finished trial#495 resulted in value: 0.5428557377426056. Current best value is 0.5426543617180987 with parameters: {'direct_rmse': 0.43620693105558084, 'direct_rmse_ensemble': 0.00035695939630667195, 'direct_wrmse': 0.42979567152384984, 'direct_wrmse_ensemble': 0.8845383929960402, 'base_pred': 0.366715757652114}.\n"
     ]
    },
    {
     "name": "stdout",
     "output_type": "stream",
     "text": [
      "[0.5929190415802975, 0.4887097989615488, 0.5465274855372447]\n"
     ]
    },
    {
     "name": "stderr",
     "output_type": "stream",
     "text": [
      "[I 2020-06-30 01:34:32,000] Finished trial#496 resulted in value: 0.542718775359697. Current best value is 0.5426543617180987 with parameters: {'direct_rmse': 0.43620693105558084, 'direct_rmse_ensemble': 0.00035695939630667195, 'direct_wrmse': 0.42979567152384984, 'direct_wrmse_ensemble': 0.8845383929960402, 'base_pred': 0.366715757652114}.\n"
     ]
    },
    {
     "name": "stdout",
     "output_type": "stream",
     "text": [
      "[0.5918865956371221, 0.492492558771384, 0.5440262013328386]\n"
     ]
    },
    {
     "name": "stderr",
     "output_type": "stream",
     "text": [
      "[I 2020-06-30 01:34:44,370] Finished trial#497 resulted in value: 0.5428017852471149. Current best value is 0.5426543617180987 with parameters: {'direct_rmse': 0.43620693105558084, 'direct_rmse_ensemble': 0.00035695939630667195, 'direct_wrmse': 0.42979567152384984, 'direct_wrmse_ensemble': 0.8845383929960402, 'base_pred': 0.366715757652114}.\n"
     ]
    },
    {
     "name": "stdout",
     "output_type": "stream",
     "text": [
      "[0.5945378150190164, 0.488253816265962, 0.5461779447792969]\n"
     ]
    },
    {
     "name": "stderr",
     "output_type": "stream",
     "text": [
      "[I 2020-06-30 01:34:57,326] Finished trial#498 resulted in value: 0.5429898586880918. Current best value is 0.5426543617180987 with parameters: {'direct_rmse': 0.43620693105558084, 'direct_rmse_ensemble': 0.00035695939630667195, 'direct_wrmse': 0.42979567152384984, 'direct_wrmse_ensemble': 0.8845383929960402, 'base_pred': 0.366715757652114}.\n"
     ]
    },
    {
     "name": "stdout",
     "output_type": "stream",
     "text": [
      "[0.5947245205062281, 0.4901949470782818, 0.5452098755725205]\n"
     ]
    },
    {
     "name": "stderr",
     "output_type": "stream",
     "text": [
      "[I 2020-06-30 01:35:10,210] Finished trial#499 resulted in value: 0.5433764477190102. Current best value is 0.5426543617180987 with parameters: {'direct_rmse': 0.43620693105558084, 'direct_rmse_ensemble': 0.00035695939630667195, 'direct_wrmse': 0.42979567152384984, 'direct_wrmse_ensemble': 0.8845383929960402, 'base_pred': 0.366715757652114}.\n"
     ]
    }
   ],
   "source": [
    "study = optuna.create_study()\n",
    "study.optimize(objective, n_trials=500)"
   ]
  },
  {
   "cell_type": "code",
   "execution_count": 12,
   "metadata": {},
   "outputs": [],
   "source": [
    "sub = pd.read_csv(SAMPLE_CSV)"
   ]
  },
  {
   "cell_type": "code",
   "execution_count": 13,
   "metadata": {},
   "outputs": [
    {
     "data": {
      "text/html": [
       "<div>\n",
       "<style scoped>\n",
       "    .dataframe tbody tr th:only-of-type {\n",
       "        vertical-align: middle;\n",
       "    }\n",
       "\n",
       "    .dataframe tbody tr th {\n",
       "        vertical-align: top;\n",
       "    }\n",
       "\n",
       "    .dataframe thead th {\n",
       "        text-align: right;\n",
       "    }\n",
       "</style>\n",
       "<table border=\"1\" class=\"dataframe\">\n",
       "  <thead>\n",
       "    <tr style=\"text-align: right;\">\n",
       "      <th></th>\n",
       "      <th>id</th>\n",
       "      <th>F1</th>\n",
       "      <th>F2</th>\n",
       "      <th>F3</th>\n",
       "      <th>F4</th>\n",
       "      <th>F5</th>\n",
       "      <th>F6</th>\n",
       "      <th>F7</th>\n",
       "      <th>F8</th>\n",
       "      <th>F9</th>\n",
       "      <th>...</th>\n",
       "      <th>F19</th>\n",
       "      <th>F20</th>\n",
       "      <th>F21</th>\n",
       "      <th>F22</th>\n",
       "      <th>F23</th>\n",
       "      <th>F24</th>\n",
       "      <th>F25</th>\n",
       "      <th>F26</th>\n",
       "      <th>F27</th>\n",
       "      <th>F28</th>\n",
       "    </tr>\n",
       "  </thead>\n",
       "  <tbody>\n",
       "    <tr>\n",
       "      <th>0</th>\n",
       "      <td>HOBBIES_1_001_CA_1_validation</td>\n",
       "      <td>0</td>\n",
       "      <td>0</td>\n",
       "      <td>0</td>\n",
       "      <td>0</td>\n",
       "      <td>0</td>\n",
       "      <td>0</td>\n",
       "      <td>0</td>\n",
       "      <td>0</td>\n",
       "      <td>0</td>\n",
       "      <td>...</td>\n",
       "      <td>0</td>\n",
       "      <td>0</td>\n",
       "      <td>0</td>\n",
       "      <td>0</td>\n",
       "      <td>0</td>\n",
       "      <td>0</td>\n",
       "      <td>0</td>\n",
       "      <td>0</td>\n",
       "      <td>0</td>\n",
       "      <td>0</td>\n",
       "    </tr>\n",
       "    <tr>\n",
       "      <th>1</th>\n",
       "      <td>HOBBIES_1_002_CA_1_validation</td>\n",
       "      <td>0</td>\n",
       "      <td>0</td>\n",
       "      <td>0</td>\n",
       "      <td>0</td>\n",
       "      <td>0</td>\n",
       "      <td>0</td>\n",
       "      <td>0</td>\n",
       "      <td>0</td>\n",
       "      <td>0</td>\n",
       "      <td>...</td>\n",
       "      <td>0</td>\n",
       "      <td>0</td>\n",
       "      <td>0</td>\n",
       "      <td>0</td>\n",
       "      <td>0</td>\n",
       "      <td>0</td>\n",
       "      <td>0</td>\n",
       "      <td>0</td>\n",
       "      <td>0</td>\n",
       "      <td>0</td>\n",
       "    </tr>\n",
       "    <tr>\n",
       "      <th>2</th>\n",
       "      <td>HOBBIES_1_003_CA_1_validation</td>\n",
       "      <td>0</td>\n",
       "      <td>0</td>\n",
       "      <td>0</td>\n",
       "      <td>0</td>\n",
       "      <td>0</td>\n",
       "      <td>0</td>\n",
       "      <td>0</td>\n",
       "      <td>0</td>\n",
       "      <td>0</td>\n",
       "      <td>...</td>\n",
       "      <td>0</td>\n",
       "      <td>0</td>\n",
       "      <td>0</td>\n",
       "      <td>0</td>\n",
       "      <td>0</td>\n",
       "      <td>0</td>\n",
       "      <td>0</td>\n",
       "      <td>0</td>\n",
       "      <td>0</td>\n",
       "      <td>0</td>\n",
       "    </tr>\n",
       "    <tr>\n",
       "      <th>3</th>\n",
       "      <td>HOBBIES_1_004_CA_1_validation</td>\n",
       "      <td>0</td>\n",
       "      <td>0</td>\n",
       "      <td>0</td>\n",
       "      <td>0</td>\n",
       "      <td>0</td>\n",
       "      <td>0</td>\n",
       "      <td>0</td>\n",
       "      <td>0</td>\n",
       "      <td>0</td>\n",
       "      <td>...</td>\n",
       "      <td>0</td>\n",
       "      <td>0</td>\n",
       "      <td>0</td>\n",
       "      <td>0</td>\n",
       "      <td>0</td>\n",
       "      <td>0</td>\n",
       "      <td>0</td>\n",
       "      <td>0</td>\n",
       "      <td>0</td>\n",
       "      <td>0</td>\n",
       "    </tr>\n",
       "    <tr>\n",
       "      <th>4</th>\n",
       "      <td>HOBBIES_1_005_CA_1_validation</td>\n",
       "      <td>0</td>\n",
       "      <td>0</td>\n",
       "      <td>0</td>\n",
       "      <td>0</td>\n",
       "      <td>0</td>\n",
       "      <td>0</td>\n",
       "      <td>0</td>\n",
       "      <td>0</td>\n",
       "      <td>0</td>\n",
       "      <td>...</td>\n",
       "      <td>0</td>\n",
       "      <td>0</td>\n",
       "      <td>0</td>\n",
       "      <td>0</td>\n",
       "      <td>0</td>\n",
       "      <td>0</td>\n",
       "      <td>0</td>\n",
       "      <td>0</td>\n",
       "      <td>0</td>\n",
       "      <td>0</td>\n",
       "    </tr>\n",
       "    <tr>\n",
       "      <th>...</th>\n",
       "      <td>...</td>\n",
       "      <td>...</td>\n",
       "      <td>...</td>\n",
       "      <td>...</td>\n",
       "      <td>...</td>\n",
       "      <td>...</td>\n",
       "      <td>...</td>\n",
       "      <td>...</td>\n",
       "      <td>...</td>\n",
       "      <td>...</td>\n",
       "      <td>...</td>\n",
       "      <td>...</td>\n",
       "      <td>...</td>\n",
       "      <td>...</td>\n",
       "      <td>...</td>\n",
       "      <td>...</td>\n",
       "      <td>...</td>\n",
       "      <td>...</td>\n",
       "      <td>...</td>\n",
       "      <td>...</td>\n",
       "      <td>...</td>\n",
       "    </tr>\n",
       "    <tr>\n",
       "      <th>60975</th>\n",
       "      <td>FOODS_3_823_WI_3_evaluation</td>\n",
       "      <td>0</td>\n",
       "      <td>0</td>\n",
       "      <td>0</td>\n",
       "      <td>0</td>\n",
       "      <td>0</td>\n",
       "      <td>0</td>\n",
       "      <td>0</td>\n",
       "      <td>0</td>\n",
       "      <td>0</td>\n",
       "      <td>...</td>\n",
       "      <td>0</td>\n",
       "      <td>0</td>\n",
       "      <td>0</td>\n",
       "      <td>0</td>\n",
       "      <td>0</td>\n",
       "      <td>0</td>\n",
       "      <td>0</td>\n",
       "      <td>0</td>\n",
       "      <td>0</td>\n",
       "      <td>0</td>\n",
       "    </tr>\n",
       "    <tr>\n",
       "      <th>60976</th>\n",
       "      <td>FOODS_3_824_WI_3_evaluation</td>\n",
       "      <td>0</td>\n",
       "      <td>0</td>\n",
       "      <td>0</td>\n",
       "      <td>0</td>\n",
       "      <td>0</td>\n",
       "      <td>0</td>\n",
       "      <td>0</td>\n",
       "      <td>0</td>\n",
       "      <td>0</td>\n",
       "      <td>...</td>\n",
       "      <td>0</td>\n",
       "      <td>0</td>\n",
       "      <td>0</td>\n",
       "      <td>0</td>\n",
       "      <td>0</td>\n",
       "      <td>0</td>\n",
       "      <td>0</td>\n",
       "      <td>0</td>\n",
       "      <td>0</td>\n",
       "      <td>0</td>\n",
       "    </tr>\n",
       "    <tr>\n",
       "      <th>60977</th>\n",
       "      <td>FOODS_3_825_WI_3_evaluation</td>\n",
       "      <td>0</td>\n",
       "      <td>0</td>\n",
       "      <td>0</td>\n",
       "      <td>0</td>\n",
       "      <td>0</td>\n",
       "      <td>0</td>\n",
       "      <td>0</td>\n",
       "      <td>0</td>\n",
       "      <td>0</td>\n",
       "      <td>...</td>\n",
       "      <td>0</td>\n",
       "      <td>0</td>\n",
       "      <td>0</td>\n",
       "      <td>0</td>\n",
       "      <td>0</td>\n",
       "      <td>0</td>\n",
       "      <td>0</td>\n",
       "      <td>0</td>\n",
       "      <td>0</td>\n",
       "      <td>0</td>\n",
       "    </tr>\n",
       "    <tr>\n",
       "      <th>60978</th>\n",
       "      <td>FOODS_3_826_WI_3_evaluation</td>\n",
       "      <td>0</td>\n",
       "      <td>0</td>\n",
       "      <td>0</td>\n",
       "      <td>0</td>\n",
       "      <td>0</td>\n",
       "      <td>0</td>\n",
       "      <td>0</td>\n",
       "      <td>0</td>\n",
       "      <td>0</td>\n",
       "      <td>...</td>\n",
       "      <td>0</td>\n",
       "      <td>0</td>\n",
       "      <td>0</td>\n",
       "      <td>0</td>\n",
       "      <td>0</td>\n",
       "      <td>0</td>\n",
       "      <td>0</td>\n",
       "      <td>0</td>\n",
       "      <td>0</td>\n",
       "      <td>0</td>\n",
       "    </tr>\n",
       "    <tr>\n",
       "      <th>60979</th>\n",
       "      <td>FOODS_3_827_WI_3_evaluation</td>\n",
       "      <td>0</td>\n",
       "      <td>0</td>\n",
       "      <td>0</td>\n",
       "      <td>0</td>\n",
       "      <td>0</td>\n",
       "      <td>0</td>\n",
       "      <td>0</td>\n",
       "      <td>0</td>\n",
       "      <td>0</td>\n",
       "      <td>...</td>\n",
       "      <td>0</td>\n",
       "      <td>0</td>\n",
       "      <td>0</td>\n",
       "      <td>0</td>\n",
       "      <td>0</td>\n",
       "      <td>0</td>\n",
       "      <td>0</td>\n",
       "      <td>0</td>\n",
       "      <td>0</td>\n",
       "      <td>0</td>\n",
       "    </tr>\n",
       "  </tbody>\n",
       "</table>\n",
       "<p>60980 rows × 29 columns</p>\n",
       "</div>"
      ],
      "text/plain": [
       "                                  id  F1  F2  F3  F4  F5  F6  F7  F8  F9  ...  \\\n",
       "0      HOBBIES_1_001_CA_1_validation   0   0   0   0   0   0   0   0   0  ...   \n",
       "1      HOBBIES_1_002_CA_1_validation   0   0   0   0   0   0   0   0   0  ...   \n",
       "2      HOBBIES_1_003_CA_1_validation   0   0   0   0   0   0   0   0   0  ...   \n",
       "3      HOBBIES_1_004_CA_1_validation   0   0   0   0   0   0   0   0   0  ...   \n",
       "4      HOBBIES_1_005_CA_1_validation   0   0   0   0   0   0   0   0   0  ...   \n",
       "...                              ...  ..  ..  ..  ..  ..  ..  ..  ..  ..  ...   \n",
       "60975    FOODS_3_823_WI_3_evaluation   0   0   0   0   0   0   0   0   0  ...   \n",
       "60976    FOODS_3_824_WI_3_evaluation   0   0   0   0   0   0   0   0   0  ...   \n",
       "60977    FOODS_3_825_WI_3_evaluation   0   0   0   0   0   0   0   0   0  ...   \n",
       "60978    FOODS_3_826_WI_3_evaluation   0   0   0   0   0   0   0   0   0  ...   \n",
       "60979    FOODS_3_827_WI_3_evaluation   0   0   0   0   0   0   0   0   0  ...   \n",
       "\n",
       "       F19  F20  F21  F22  F23  F24  F25  F26  F27  F28  \n",
       "0        0    0    0    0    0    0    0    0    0    0  \n",
       "1        0    0    0    0    0    0    0    0    0    0  \n",
       "2        0    0    0    0    0    0    0    0    0    0  \n",
       "3        0    0    0    0    0    0    0    0    0    0  \n",
       "4        0    0    0    0    0    0    0    0    0    0  \n",
       "...    ...  ...  ...  ...  ...  ...  ...  ...  ...  ...  \n",
       "60975    0    0    0    0    0    0    0    0    0    0  \n",
       "60976    0    0    0    0    0    0    0    0    0    0  \n",
       "60977    0    0    0    0    0    0    0    0    0    0  \n",
       "60978    0    0    0    0    0    0    0    0    0    0  \n",
       "60979    0    0    0    0    0    0    0    0    0    0  \n",
       "\n",
       "[60980 rows x 29 columns]"
      ]
     },
     "execution_count": 13,
     "metadata": {},
     "output_type": "execute_result"
    }
   ],
   "source": [
    "sub"
   ]
  },
  {
   "cell_type": "code",
   "execution_count": 17,
   "metadata": {},
   "outputs": [],
   "source": [
    "weight_dic = {'direct_rmse': 0.43620693105558084, 'direct_rmse_ensemble': 0.00035695939630667195, 'direct_wrmse': 0.42979567152384984, 'direct_wrmse_ensemble': 0.8845383929960402, 'base_pred': 0.366715757652114}\n",
    "sum_weight = np.sum(list(weight_dic.values()))\n",
    "for key in weight_dic.keys():\n",
    "    weight_dic[key] = weight_dic[key]/sum_weight"
   ]
  },
  {
   "cell_type": "code",
   "execution_count": 18,
   "metadata": {},
   "outputs": [
    {
     "data": {
      "text/plain": [
       "{'direct_rmse': 0.20598985001617023,\n",
       " 'direct_rmse_ensemble': 0.00016856681375772306,\n",
       " 'direct_wrmse': 0.20296226311799753,\n",
       " 'direct_wrmse_ensemble': 0.4177052631095909,\n",
       " 'base_pred': 0.17317405694248367}"
      ]
     },
     "execution_count": 18,
     "metadata": {},
     "output_type": "execute_result"
    }
   ],
   "source": [
    "weight_dic"
   ]
  },
  {
   "cell_type": "markdown",
   "metadata": {},
   "source": [
    "## create submit"
   ]
  },
  {
   "cell_type": "code",
   "execution_count": 34,
   "metadata": {},
   "outputs": [],
   "source": [
    "DIRECT_RMSE = \"../data/submit/Direct_rmse-20200628T030335Z-001/Direct_rmse/submit/20200625_day_by_day_28model_rmse_submit.csv\"\n",
    "DIRECT_RMSE_ENSEMBLE = \"../data/submit/Direct_rmse-20200628T030335Z-001/Direct_rmse/submit/20200625_day_by_day_ensemble_28model_rmse_submit.csv\"\n",
    "DIRECT_WRMSE = \"../data/submit/Direct_wrmsse-20200628T030424Z-001/Direct_wrmsse/submit/20200628_day_by_day_28model_wrmsse_submit.csv\"\n",
    "DIRECT_WRMSE_ENSEMBLE = \"../data/submit/Direct_wrmsse-20200628T030424Z-001/Direct_wrmsse/submit/20200628_day_by_day_ensemble_28model_wrmsse_submit.csv\"\n",
    "BASE_PRED = \"../data/submit/Base/20200627_base_model_predict_rmse_submit.csv\"\n",
    "\n",
    "SW_DF    = '../data/master_data/sw_df_update.pkl'\n",
    "ROLL_MAT = '../data/master_data/roll_mat_df_update.pkl'\n",
    "EVALUATION   = '../data/raw/sales_train_evaluation.csv'\n",
    "CALENDAR_CSV = '../data/raw/calendar.csv'\n",
    "PRICE_CSV    = '../data/raw/sell_prices.csv'\n",
    "SAMPLE_CSV   = '../data/raw/sample_submission.csv'"
   ]
  },
  {
   "cell_type": "code",
   "execution_count": 35,
   "metadata": {},
   "outputs": [],
   "source": [
    "path_list = [DIRECT_RMSE, DIRECT_RMSE_ENSEMBLE, DIRECT_WRMSE, DIRECT_WRMSE_ENSEMBLE, BASE_PRED]"
   ]
  },
  {
   "cell_type": "code",
   "execution_count": 37,
   "metadata": {},
   "outputs": [
    {
     "name": "stdout",
     "output_type": "stream",
     "text": [
      "direct_rmse, ../data/submit/Direct_rmse-20200628T030335Z-001/Direct_rmse/submit/20200625_day_by_day_28model_rmse_submit.csv\n",
      "                              id        F1        F2        F3        F4  \\\n",
      "0  HOBBIES_1_001_CA_1_validation  0.793877  0.747731  0.783910  0.817366   \n",
      "1  HOBBIES_1_002_CA_1_validation  0.293176  0.275680  0.249223  0.240530   \n",
      "2  HOBBIES_1_003_CA_1_validation  0.475781  0.412732  0.414113  0.432541   \n",
      "3  HOBBIES_1_004_CA_1_validation  1.631193  1.340382  1.376494  1.368842   \n",
      "4  HOBBIES_1_005_CA_1_validation  1.064908  0.916209  0.988002  1.026198   \n",
      "\n",
      "         F5        F6        F7        F8        F9  ...       F19       F20  \\\n",
      "0  0.975276  1.282243  1.164445  0.977888  0.884113  ...  0.915187  1.088486   \n",
      "1  0.261211  0.305128  0.323074  0.208948  0.232060  ...  0.286546  0.370702   \n",
      "2  0.572805  0.774625  0.747049  0.437051  0.470890  ...  0.561403  0.724256   \n",
      "3  1.907489  2.636012  3.299511  1.823796  1.474890  ...  1.658987  2.681150   \n",
      "4  1.227318  1.496321  1.572897  1.318595  1.218297  ...  1.225196  1.429625   \n",
      "\n",
      "        F21       F22       F23       F24       F25       F26       F27  \\\n",
      "0  1.008392  0.923145  0.729736  0.775895  0.796517  0.923264  1.003750   \n",
      "1  0.375089  0.267513  0.195921  0.236790  0.234878  0.276099  0.345153   \n",
      "2  0.738335  0.537874  0.492867  0.467662  0.484097  0.545662  0.711785   \n",
      "3  3.363057  1.886732  1.488391  1.449341  1.385049  1.814707  2.936432   \n",
      "4  1.710407  1.173649  1.053207  1.060555  1.017695  1.152914  1.391641   \n",
      "\n",
      "        F28  \n",
      "0  0.978838  \n",
      "1  0.357989  \n",
      "2  0.741483  \n",
      "3  3.072670  \n",
      "4  1.516309  \n",
      "\n",
      "[5 rows x 29 columns]\n",
      "direct_rmse_ensemble, ../data/submit/Direct_rmse-20200628T030335Z-001/Direct_rmse/submit/20200625_day_by_day_ensemble_28model_rmse_submit.csv\n",
      "                              id        F1        F2        F3        F4  \\\n",
      "0  HOBBIES_1_001_CA_1_validation  0.810273  0.729916  0.733052  0.766523   \n",
      "1  HOBBIES_1_002_CA_1_validation  0.273704  0.247727  0.239025  0.226434   \n",
      "2  HOBBIES_1_003_CA_1_validation  0.438019  0.378222  0.384912  0.392702   \n",
      "3  HOBBIES_1_004_CA_1_validation  1.684387  1.339116  1.312237  1.344107   \n",
      "4  HOBBIES_1_005_CA_1_validation  1.139230  0.975208  0.988828  1.002735   \n",
      "\n",
      "         F5        F6        F7        F8        F9  ...       F19       F20  \\\n",
      "0  0.903870  1.096432  1.200532  0.948471  0.907227  ...  0.894345  1.087929   \n",
      "1  0.270131  0.324853  0.347951  0.234752  0.232599  ...  0.270883  0.361372   \n",
      "2  0.491298  0.648309  0.650302  0.454567  0.418799  ...  0.542045  0.689520   \n",
      "3  1.758297  2.450033  3.107584  1.841743  1.503902  ...  1.648356  2.513749   \n",
      "4  1.141363  1.453240  1.584292  1.224111  1.172162  ...  1.153361  1.449580   \n",
      "\n",
      "        F21       F22       F23       F24       F25       F26       F27  \\\n",
      "0  1.016510  0.851923  0.773971  0.778284  0.845441  0.892108  1.027392   \n",
      "1  0.371185  0.251448  0.221814  0.230082  0.252259  0.289213  0.350138   \n",
      "2  0.708672  0.515351  0.453129  0.453700  0.453965  0.523773  0.717882   \n",
      "3  3.144231  1.878564  1.461915  1.408493  1.356839  1.841009  2.939607   \n",
      "4  1.532477  1.149679  0.995559  0.997047  1.028514  1.155727  1.406795   \n",
      "\n",
      "        F28  \n",
      "0  0.978838  \n",
      "1  0.357989  \n",
      "2  0.741483  \n",
      "3  3.072670  \n",
      "4  1.516309  \n",
      "\n",
      "[5 rows x 29 columns]\n",
      "direct_wrmse, ../data/submit/Direct_wrmsse-20200628T030424Z-001/Direct_wrmsse/submit/20200628_day_by_day_28model_wrmsse_submit.csv\n",
      "                              id        F1        F2        F3        F4  \\\n",
      "0  HOBBIES_1_001_CA_1_validation  0.833370  0.784384  0.747474  0.796730   \n",
      "1  HOBBIES_1_002_CA_1_validation  0.241901  0.248092  0.229996  0.214149   \n",
      "2  HOBBIES_1_003_CA_1_validation  0.493959  0.398325  0.458775  0.444446   \n",
      "3  HOBBIES_1_004_CA_1_validation  1.607442  1.348164  1.348207  1.467114   \n",
      "4  HOBBIES_1_005_CA_1_validation  1.121843  0.943145  0.890978  0.921064   \n",
      "\n",
      "         F5        F6        F7        F8        F9  ...       F19       F20  \\\n",
      "0  0.965834  1.125244  1.326425  1.021001  0.909908  ...  0.970229  1.089263   \n",
      "1  0.290391  0.317366  0.324787  0.213089  0.229988  ...  0.270988  0.341849   \n",
      "2  0.537709  0.729340  0.738107  0.552178  0.463175  ...  0.590765  0.735313   \n",
      "3  1.832810  2.772777  3.194412  1.864711  1.680174  ...  1.650046  2.724551   \n",
      "4  1.265422  1.447817  1.513039  1.324501  1.169075  ...  1.167598  1.506029   \n",
      "\n",
      "        F21       F22       F23       F24       F25       F26       F27  \\\n",
      "0  1.066133  0.884309  0.787002  0.751901  0.771277  0.813090  0.993008   \n",
      "1  0.323395  0.215555  0.216879  0.231915  0.219487  0.280840  0.313693   \n",
      "2  0.780416  0.531473  0.479280  0.479796  0.467125  0.544676  0.723989   \n",
      "3  3.125214  1.867080  1.440470  1.453088  1.378166  1.861335  3.064103   \n",
      "4  1.542484  1.199943  1.003152  1.040847  1.051469  1.224276  1.365966   \n",
      "\n",
      "        F28  \n",
      "0  1.025042  \n",
      "1  0.316661  \n",
      "2  0.769561  \n",
      "3  3.335912  \n",
      "4  1.402722  \n",
      "\n",
      "[5 rows x 29 columns]\n",
      "direct_wrmse_ensemble, ../data/submit/Direct_wrmsse-20200628T030424Z-001/Direct_wrmsse/submit/20200628_day_by_day_ensemble_28model_wrmsse_submit.csv\n",
      "                              id        F1        F2        F3        F4  \\\n",
      "0  HOBBIES_1_001_CA_1_validation  0.809889  0.717604  0.724907  0.759056   \n",
      "1  HOBBIES_1_002_CA_1_validation  0.256913  0.237307  0.229631  0.222192   \n",
      "2  HOBBIES_1_003_CA_1_validation  0.427858  0.373141  0.382550  0.390829   \n",
      "3  HOBBIES_1_004_CA_1_validation  1.697669  1.378896  1.346467  1.385535   \n",
      "4  HOBBIES_1_005_CA_1_validation  1.098445  0.947974  0.951641  0.966793   \n",
      "\n",
      "         F5        F6        F7        F8        F9  ...       F19       F20  \\\n",
      "0  0.877112  1.058431  1.208005  0.941649  0.904530  ...  0.896484  1.072883   \n",
      "1  0.267421  0.325806  0.338662  0.235136  0.231797  ...  0.254299  0.327748   \n",
      "2  0.491154  0.647971  0.662384  0.459857  0.420882  ...  0.558804  0.711157   \n",
      "3  1.752926  2.483065  3.049255  1.856408  1.557873  ...  1.692273  2.568071   \n",
      "4  1.122410  1.385010  1.523487  1.201291  1.124667  ...  1.138412  1.424173   \n",
      "\n",
      "        F21       F22       F23       F24       F25       F26       F27  \\\n",
      "0  1.026835  0.825078  0.769655  0.756270  0.804137  0.851534  1.022860   \n",
      "1  0.337721  0.235714  0.222665  0.229886  0.226755  0.270179  0.320633   \n",
      "2  0.740698  0.529217  0.464262  0.466611  0.467220  0.552656  0.723147   \n",
      "3  3.050314  1.874799  1.452488  1.412608  1.346719  1.838936  3.017599   \n",
      "4  1.461285  1.131633  0.982556  0.996325  0.998414  1.180018  1.344199   \n",
      "\n",
      "        F28  \n",
      "0  1.025042  \n",
      "1  0.316661  \n",
      "2  0.769561  \n",
      "3  3.335912  \n",
      "4  1.402722  \n",
      "\n",
      "[5 rows x 29 columns]\n",
      "base_pred, ../data/submit/Base/20200627_base_model_predict_rmse_submit.csv\n",
      "                              id        F1        F2        F3        F4  \\\n",
      "0  HOBBIES_1_001_CA_1_validation  0.789096  0.742376  0.762379  0.746616   \n",
      "1  HOBBIES_1_002_CA_1_validation  0.323356  0.263550  0.263097  0.261158   \n",
      "2  HOBBIES_1_003_CA_1_validation  0.466059  0.416424  0.412733  0.421939   \n",
      "3  HOBBIES_1_004_CA_1_validation  1.590999  1.308670  1.279728  1.426567   \n",
      "4  HOBBIES_1_005_CA_1_validation  1.143579  0.933047  1.044568  1.115213   \n",
      "\n",
      "         F5        F6        F7        F8        F9  ...       F19       F20  \\\n",
      "0  0.842263  1.026544  1.136298  0.789335  0.844205  ...  0.875216  1.083197   \n",
      "1  0.314990  0.368953  0.393002  0.277537  0.243486  ...  0.244863  0.310016   \n",
      "2  0.507395  0.670041  0.668633  0.435316  0.391850  ...  0.598740  0.650242   \n",
      "3  1.752733  2.387937  2.978499  1.856665  1.577866  ...  1.731952  2.257772   \n",
      "4  1.197513  1.615469  1.694487  1.218904  1.192785  ...  1.176191  1.549638   \n",
      "\n",
      "        F21       F22       F23       F24       F25       F26       F27  \\\n",
      "0  0.988669  0.848333  0.787749  0.737811  0.887014  0.841651  1.051034   \n",
      "1  0.330425  0.233436  0.197450  0.266103  0.261158  0.286029  0.355123   \n",
      "2  0.728048  0.523462  0.461593  0.478030  0.448232  0.505943  0.723979   \n",
      "3  3.020675  1.834424  1.486186  1.433992  1.400115  1.729980  2.942782   \n",
      "4  1.561064  1.162093  1.027351  0.981553  1.057619  1.174310  1.421948   \n",
      "\n",
      "        F28  \n",
      "0  0.978838  \n",
      "1  0.357989  \n",
      "2  0.741483  \n",
      "3  3.072670  \n",
      "4  1.516309  \n",
      "\n",
      "[5 rows x 29 columns]\n"
     ]
    }
   ],
   "source": [
    "grid_df = pd.read_csv(SAMPLE_CSV)\n",
    "F_columns = grid_df.columns[1:]\n",
    "for key, path in zip(weight_dic.keys(), path_list):\n",
    "    print(f'{key}, {path}')\n",
    "    print(pd.read_csv(path).head())\n",
    "    grid_df.loc[:, F_columns] = grid_df.loc[:, F_columns] + pd.read_csv(path)[F_columns] * weight_dic[key]"
   ]
  },
  {
   "cell_type": "code",
   "execution_count": 38,
   "metadata": {},
   "outputs": [
    {
     "data": {
      "text/html": [
       "<div>\n",
       "<style scoped>\n",
       "    .dataframe tbody tr th:only-of-type {\n",
       "        vertical-align: middle;\n",
       "    }\n",
       "\n",
       "    .dataframe tbody tr th {\n",
       "        vertical-align: top;\n",
       "    }\n",
       "\n",
       "    .dataframe thead th {\n",
       "        text-align: right;\n",
       "    }\n",
       "</style>\n",
       "<table border=\"1\" class=\"dataframe\">\n",
       "  <thead>\n",
       "    <tr style=\"text-align: right;\">\n",
       "      <th></th>\n",
       "      <th>id</th>\n",
       "      <th>F1</th>\n",
       "      <th>F2</th>\n",
       "      <th>F3</th>\n",
       "      <th>F4</th>\n",
       "      <th>F5</th>\n",
       "      <th>F6</th>\n",
       "      <th>F7</th>\n",
       "      <th>F8</th>\n",
       "      <th>F9</th>\n",
       "      <th>...</th>\n",
       "      <th>F19</th>\n",
       "      <th>F20</th>\n",
       "      <th>F21</th>\n",
       "      <th>F22</th>\n",
       "      <th>F23</th>\n",
       "      <th>F24</th>\n",
       "      <th>F25</th>\n",
       "      <th>F26</th>\n",
       "      <th>F27</th>\n",
       "      <th>F28</th>\n",
       "    </tr>\n",
       "  </thead>\n",
       "  <tbody>\n",
       "    <tr>\n",
       "      <th>0</th>\n",
       "      <td>HOBBIES_1_001_CA_1_validation</td>\n",
       "      <td>0.807756</td>\n",
       "      <td>0.741655</td>\n",
       "      <td>0.748132</td>\n",
       "      <td>0.776561</td>\n",
       "      <td>0.909310</td>\n",
       "      <td>1.112579</td>\n",
       "      <td>1.210648</td>\n",
       "      <td>0.938844</td>\n",
       "      <td>0.890970</td>\n",
       "      <td>...</td>\n",
       "      <td>0.911621</td>\n",
       "      <td>1.081210</td>\n",
       "      <td>1.024401</td>\n",
       "      <td>0.861332</td>\n",
       "      <td>0.768087</td>\n",
       "      <td>0.756233</td>\n",
       "      <td>0.810257</td>\n",
       "      <td>0.856802</td>\n",
       "      <td>1.017744</td>\n",
       "      <td>1.007515</td>\n",
       "    </tr>\n",
       "    <tr>\n",
       "      <th>1</th>\n",
       "      <td>HOBBIES_1_002_CA_1_validation</td>\n",
       "      <td>0.272845</td>\n",
       "      <td>0.251947</td>\n",
       "      <td>0.239538</td>\n",
       "      <td>0.231086</td>\n",
       "      <td>0.279042</td>\n",
       "      <td>0.327305</td>\n",
       "      <td>0.342047</td>\n",
       "      <td>0.232609</td>\n",
       "      <td>0.233508</td>\n",
       "      <td>...</td>\n",
       "      <td>0.262698</td>\n",
       "      <td>0.336393</td>\n",
       "      <td>0.341253</td>\n",
       "      <td>0.237781</td>\n",
       "      <td>0.211615</td>\n",
       "      <td>0.237992</td>\n",
       "      <td>0.232915</td>\n",
       "      <td>0.276310</td>\n",
       "      <td>0.330253</td>\n",
       "      <td>0.332338</td>\n",
       "    </tr>\n",
       "    <tr>\n",
       "      <th>2</th>\n",
       "      <td>HOBBIES_1_003_CA_1_validation</td>\n",
       "      <td>0.457763</td>\n",
       "      <td>0.393904</td>\n",
       "      <td>0.409750</td>\n",
       "      <td>0.415691</td>\n",
       "      <td>0.520235</td>\n",
       "      <td>0.694397</td>\n",
       "      <td>0.696273</td>\n",
       "      <td>0.469646</td>\n",
       "      <td>0.434739</td>\n",
       "      <td>...</td>\n",
       "      <td>0.572739</td>\n",
       "      <td>0.708206</td>\n",
       "      <td>0.746077</td>\n",
       "      <td>0.530459</td>\n",
       "      <td>0.472738</td>\n",
       "      <td>0.471479</td>\n",
       "      <td>0.467387</td>\n",
       "      <td>0.541501</td>\n",
       "      <td>0.721121</td>\n",
       "      <td>0.758910</td>\n",
       "    </tr>\n",
       "    <tr>\n",
       "      <th>3</th>\n",
       "      <td>HOBBIES_1_004_CA_1_validation</td>\n",
       "      <td>1.647189</td>\n",
       "      <td>1.352557</td>\n",
       "      <td>1.341442</td>\n",
       "      <td>1.405752</td>\n",
       "      <td>1.800945</td>\n",
       "      <td>2.556892</td>\n",
       "      <td>3.118023</td>\n",
       "      <td>1.851418</td>\n",
       "      <td>1.569055</td>\n",
       "      <td>...</td>\n",
       "      <td>1.683710</td>\n",
       "      <td>2.569379</td>\n",
       "      <td>3.124821</td>\n",
       "      <td>1.868699</td>\n",
       "      <td>1.463282</td>\n",
       "      <td>1.432093</td>\n",
       "      <td>1.370246</td>\n",
       "      <td>1.819624</td>\n",
       "      <td>2.997349</td>\n",
       "      <td>3.236056</td>\n",
       "    </tr>\n",
       "    <tr>\n",
       "      <th>4</th>\n",
       "      <td>HOBBIES_1_005_CA_1_validation</td>\n",
       "      <td>1.104109</td>\n",
       "      <td>0.937870</td>\n",
       "      <td>0.962918</td>\n",
       "      <td>0.995457</td>\n",
       "      <td>1.186055</td>\n",
       "      <td>1.460608</td>\n",
       "      <td>1.561167</td>\n",
       "      <td>1.253515</td>\n",
       "      <td>1.164771</td>\n",
       "      <td>...</td>\n",
       "      <td>1.168757</td>\n",
       "      <td>1.463641</td>\n",
       "      <td>1.546373</td>\n",
       "      <td>1.159430</td>\n",
       "      <td>1.009049</td>\n",
       "      <td>1.016034</td>\n",
       "      <td>1.023412</td>\n",
       "      <td>1.182425</td>\n",
       "      <td>1.371864</td>\n",
       "      <td>1.445809</td>\n",
       "    </tr>\n",
       "  </tbody>\n",
       "</table>\n",
       "<p>5 rows × 29 columns</p>\n",
       "</div>"
      ],
      "text/plain": [
       "                              id        F1        F2        F3        F4  \\\n",
       "0  HOBBIES_1_001_CA_1_validation  0.807756  0.741655  0.748132  0.776561   \n",
       "1  HOBBIES_1_002_CA_1_validation  0.272845  0.251947  0.239538  0.231086   \n",
       "2  HOBBIES_1_003_CA_1_validation  0.457763  0.393904  0.409750  0.415691   \n",
       "3  HOBBIES_1_004_CA_1_validation  1.647189  1.352557  1.341442  1.405752   \n",
       "4  HOBBIES_1_005_CA_1_validation  1.104109  0.937870  0.962918  0.995457   \n",
       "\n",
       "         F5        F6        F7        F8        F9  ...       F19       F20  \\\n",
       "0  0.909310  1.112579  1.210648  0.938844  0.890970  ...  0.911621  1.081210   \n",
       "1  0.279042  0.327305  0.342047  0.232609  0.233508  ...  0.262698  0.336393   \n",
       "2  0.520235  0.694397  0.696273  0.469646  0.434739  ...  0.572739  0.708206   \n",
       "3  1.800945  2.556892  3.118023  1.851418  1.569055  ...  1.683710  2.569379   \n",
       "4  1.186055  1.460608  1.561167  1.253515  1.164771  ...  1.168757  1.463641   \n",
       "\n",
       "        F21       F22       F23       F24       F25       F26       F27  \\\n",
       "0  1.024401  0.861332  0.768087  0.756233  0.810257  0.856802  1.017744   \n",
       "1  0.341253  0.237781  0.211615  0.237992  0.232915  0.276310  0.330253   \n",
       "2  0.746077  0.530459  0.472738  0.471479  0.467387  0.541501  0.721121   \n",
       "3  3.124821  1.868699  1.463282  1.432093  1.370246  1.819624  2.997349   \n",
       "4  1.546373  1.159430  1.009049  1.016034  1.023412  1.182425  1.371864   \n",
       "\n",
       "        F28  \n",
       "0  1.007515  \n",
       "1  0.332338  \n",
       "2  0.758910  \n",
       "3  3.236056  \n",
       "4  1.445809  \n",
       "\n",
       "[5 rows x 29 columns]"
      ]
     },
     "execution_count": 38,
     "metadata": {},
     "output_type": "execute_result"
    }
   ],
   "source": [
    "grid_df.head()"
   ]
  },
  {
   "cell_type": "code",
   "execution_count": 39,
   "metadata": {},
   "outputs": [
    {
     "data": {
      "text/html": [
       "<div>\n",
       "<style scoped>\n",
       "    .dataframe tbody tr th:only-of-type {\n",
       "        vertical-align: middle;\n",
       "    }\n",
       "\n",
       "    .dataframe tbody tr th {\n",
       "        vertical-align: top;\n",
       "    }\n",
       "\n",
       "    .dataframe thead th {\n",
       "        text-align: right;\n",
       "    }\n",
       "</style>\n",
       "<table border=\"1\" class=\"dataframe\">\n",
       "  <thead>\n",
       "    <tr style=\"text-align: right;\">\n",
       "      <th></th>\n",
       "      <th>id</th>\n",
       "      <th>F1</th>\n",
       "      <th>F2</th>\n",
       "      <th>F3</th>\n",
       "      <th>F4</th>\n",
       "      <th>F5</th>\n",
       "      <th>F6</th>\n",
       "      <th>F7</th>\n",
       "      <th>F8</th>\n",
       "      <th>F9</th>\n",
       "      <th>...</th>\n",
       "      <th>F19</th>\n",
       "      <th>F20</th>\n",
       "      <th>F21</th>\n",
       "      <th>F22</th>\n",
       "      <th>F23</th>\n",
       "      <th>F24</th>\n",
       "      <th>F25</th>\n",
       "      <th>F26</th>\n",
       "      <th>F27</th>\n",
       "      <th>F28</th>\n",
       "    </tr>\n",
       "  </thead>\n",
       "  <tbody>\n",
       "    <tr>\n",
       "      <th>60975</th>\n",
       "      <td>FOODS_3_823_WI_3_evaluation</td>\n",
       "      <td>0.483718</td>\n",
       "      <td>0.451253</td>\n",
       "      <td>0.403633</td>\n",
       "      <td>0.395878</td>\n",
       "      <td>0.467109</td>\n",
       "      <td>0.521447</td>\n",
       "      <td>0.499351</td>\n",
       "      <td>0.448230</td>\n",
       "      <td>0.431303</td>\n",
       "      <td>...</td>\n",
       "      <td>0.559999</td>\n",
       "      <td>0.751798</td>\n",
       "      <td>0.820120</td>\n",
       "      <td>0.594436</td>\n",
       "      <td>0.636918</td>\n",
       "      <td>0.640537</td>\n",
       "      <td>0.532880</td>\n",
       "      <td>0.571344</td>\n",
       "      <td>0.676817</td>\n",
       "      <td>0.678207</td>\n",
       "    </tr>\n",
       "    <tr>\n",
       "      <th>60976</th>\n",
       "      <td>FOODS_3_824_WI_3_evaluation</td>\n",
       "      <td>0.266085</td>\n",
       "      <td>0.263589</td>\n",
       "      <td>0.264205</td>\n",
       "      <td>0.263389</td>\n",
       "      <td>0.298943</td>\n",
       "      <td>0.329521</td>\n",
       "      <td>0.302944</td>\n",
       "      <td>0.258298</td>\n",
       "      <td>0.274054</td>\n",
       "      <td>...</td>\n",
       "      <td>0.304207</td>\n",
       "      <td>0.363225</td>\n",
       "      <td>0.355742</td>\n",
       "      <td>0.278842</td>\n",
       "      <td>0.287542</td>\n",
       "      <td>0.291085</td>\n",
       "      <td>0.278467</td>\n",
       "      <td>0.278774</td>\n",
       "      <td>0.354066</td>\n",
       "      <td>0.325234</td>\n",
       "    </tr>\n",
       "    <tr>\n",
       "      <th>60977</th>\n",
       "      <td>FOODS_3_825_WI_3_evaluation</td>\n",
       "      <td>0.655374</td>\n",
       "      <td>0.575464</td>\n",
       "      <td>0.550755</td>\n",
       "      <td>0.553673</td>\n",
       "      <td>0.634670</td>\n",
       "      <td>0.767969</td>\n",
       "      <td>0.720578</td>\n",
       "      <td>0.685792</td>\n",
       "      <td>0.565882</td>\n",
       "      <td>...</td>\n",
       "      <td>0.781769</td>\n",
       "      <td>0.999173</td>\n",
       "      <td>1.119172</td>\n",
       "      <td>0.817423</td>\n",
       "      <td>0.857576</td>\n",
       "      <td>0.832742</td>\n",
       "      <td>0.694843</td>\n",
       "      <td>0.738320</td>\n",
       "      <td>0.824017</td>\n",
       "      <td>0.872887</td>\n",
       "    </tr>\n",
       "    <tr>\n",
       "      <th>60978</th>\n",
       "      <td>FOODS_3_826_WI_3_evaluation</td>\n",
       "      <td>1.016921</td>\n",
       "      <td>1.016179</td>\n",
       "      <td>0.928760</td>\n",
       "      <td>0.958401</td>\n",
       "      <td>1.141144</td>\n",
       "      <td>1.223409</td>\n",
       "      <td>1.113270</td>\n",
       "      <td>1.051579</td>\n",
       "      <td>0.954005</td>\n",
       "      <td>...</td>\n",
       "      <td>1.130687</td>\n",
       "      <td>1.334400</td>\n",
       "      <td>1.308524</td>\n",
       "      <td>1.056466</td>\n",
       "      <td>1.122652</td>\n",
       "      <td>1.040590</td>\n",
       "      <td>0.988834</td>\n",
       "      <td>1.157301</td>\n",
       "      <td>1.283711</td>\n",
       "      <td>1.190524</td>\n",
       "    </tr>\n",
       "    <tr>\n",
       "      <th>60979</th>\n",
       "      <td>FOODS_3_827_WI_3_evaluation</td>\n",
       "      <td>1.298568</td>\n",
       "      <td>1.260714</td>\n",
       "      <td>1.193358</td>\n",
       "      <td>1.226066</td>\n",
       "      <td>1.511079</td>\n",
       "      <td>1.758615</td>\n",
       "      <td>1.432493</td>\n",
       "      <td>1.384550</td>\n",
       "      <td>1.277536</td>\n",
       "      <td>...</td>\n",
       "      <td>1.443503</td>\n",
       "      <td>1.784770</td>\n",
       "      <td>1.671093</td>\n",
       "      <td>1.312866</td>\n",
       "      <td>1.410163</td>\n",
       "      <td>1.378999</td>\n",
       "      <td>1.276329</td>\n",
       "      <td>1.574857</td>\n",
       "      <td>1.897890</td>\n",
       "      <td>1.706503</td>\n",
       "    </tr>\n",
       "  </tbody>\n",
       "</table>\n",
       "<p>5 rows × 29 columns</p>\n",
       "</div>"
      ],
      "text/plain": [
       "                                id        F1        F2        F3        F4  \\\n",
       "60975  FOODS_3_823_WI_3_evaluation  0.483718  0.451253  0.403633  0.395878   \n",
       "60976  FOODS_3_824_WI_3_evaluation  0.266085  0.263589  0.264205  0.263389   \n",
       "60977  FOODS_3_825_WI_3_evaluation  0.655374  0.575464  0.550755  0.553673   \n",
       "60978  FOODS_3_826_WI_3_evaluation  1.016921  1.016179  0.928760  0.958401   \n",
       "60979  FOODS_3_827_WI_3_evaluation  1.298568  1.260714  1.193358  1.226066   \n",
       "\n",
       "             F5        F6        F7        F8        F9  ...       F19  \\\n",
       "60975  0.467109  0.521447  0.499351  0.448230  0.431303  ...  0.559999   \n",
       "60976  0.298943  0.329521  0.302944  0.258298  0.274054  ...  0.304207   \n",
       "60977  0.634670  0.767969  0.720578  0.685792  0.565882  ...  0.781769   \n",
       "60978  1.141144  1.223409  1.113270  1.051579  0.954005  ...  1.130687   \n",
       "60979  1.511079  1.758615  1.432493  1.384550  1.277536  ...  1.443503   \n",
       "\n",
       "            F20       F21       F22       F23       F24       F25       F26  \\\n",
       "60975  0.751798  0.820120  0.594436  0.636918  0.640537  0.532880  0.571344   \n",
       "60976  0.363225  0.355742  0.278842  0.287542  0.291085  0.278467  0.278774   \n",
       "60977  0.999173  1.119172  0.817423  0.857576  0.832742  0.694843  0.738320   \n",
       "60978  1.334400  1.308524  1.056466  1.122652  1.040590  0.988834  1.157301   \n",
       "60979  1.784770  1.671093  1.312866  1.410163  1.378999  1.276329  1.574857   \n",
       "\n",
       "            F27       F28  \n",
       "60975  0.676817  0.678207  \n",
       "60976  0.354066  0.325234  \n",
       "60977  0.824017  0.872887  \n",
       "60978  1.283711  1.190524  \n",
       "60979  1.897890  1.706503  \n",
       "\n",
       "[5 rows x 29 columns]"
      ]
     },
     "execution_count": 39,
     "metadata": {},
     "output_type": "execute_result"
    }
   ],
   "source": [
    "grid_df.tail()"
   ]
  },
  {
   "cell_type": "code",
   "execution_count": null,
   "metadata": {},
   "outputs": [],
   "source": [
    "grid_df.to_csv(\"../data/submit/ensemble_5model_weight_by_optuna.csv\" ,index=False)"
   ]
  }
 ],
 "metadata": {
  "kernelspec": {
   "display_name": "Python 3",
   "language": "python",
   "name": "python3"
  },
  "language_info": {
   "codemirror_mode": {
    "name": "ipython",
    "version": 3
   },
   "file_extension": ".py",
   "mimetype": "text/x-python",
   "name": "python",
   "nbconvert_exporter": "python",
   "pygments_lexer": "ipython3",
   "version": "3.7.3"
  }
 },
 "nbformat": 4,
 "nbformat_minor": 2
}

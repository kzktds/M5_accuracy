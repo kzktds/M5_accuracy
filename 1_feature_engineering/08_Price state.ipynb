{
 "cells": [
  {
   "cell_type": "markdown",
   "metadata": {},
   "source": [
    "## ライブラリ読み込み"
   ]
  },
  {
   "cell_type": "code",
   "execution_count": 1,
   "metadata": {
    "_cell_guid": "b1076dfc-b9ad-4769-8c92-a6c4dae69d19",
    "_uuid": "8f2839f25d086af736a60e9eeb907d3b93b6e0e5"
   },
   "outputs": [],
   "source": [
    "import numpy as np\n",
    "import pandas as pd\n",
    "import lightgbm as lgb\n",
    "import os, sys, gc, time, warnings, pickle, psutil, random\n",
    "from sklearn.metrics import mean_squared_error\n",
    "from scipy.sparse import csr_matrix\n",
    "from multiprocessing import Pool\n",
    "\n",
    "warnings.filterwarnings('ignore')"
   ]
  },
  {
   "cell_type": "markdown",
   "metadata": {},
   "source": [
    "## 各種パラメータ設定"
   ]
  },
  {
   "cell_type": "code",
   "execution_count": 2,
   "metadata": {},
   "outputs": [],
   "source": [
    "def seed_everything(seed=0):\n",
    "    random.seed(seed)\n",
    "    np.random.seed(seed)"
   ]
  },
  {
   "cell_type": "code",
   "execution_count": 3,
   "metadata": {},
   "outputs": [],
   "source": [
    "########################### Vars\n",
    "#################################################################################\n",
    "VER = 207                        # Or model version\n",
    "SEED = 1224                      # We want all things\n",
    "seed_everything(SEED)            # to be as deterministic \n",
    "N_CORES = psutil.cpu_count()     # Available CPU cores\n",
    "\n",
    "\n",
    "#LIMITS and const\n",
    "TARGET      = 'sales'            # Our target\n",
    "START_TRAIN = 0                  # We can skip some rows (Nans/faster training)\n",
    "END_TRAIN   = 1913+28            # End day of our train set\n",
    "P_HORIZON   = 28                 # Prediction horizon\n",
    "USE_AUX     = False              # Use or not pretrained models <- 一旦Falseに変えてます\n",
    "\n",
    "# FEATURES to remove\n",
    "## These features lead to overfit\n",
    "## or values not present in test set\n",
    "remove_features = ['id','state_id','store_id',\n",
    "                   'date','wm_yr_wk','d',TARGET]\n",
    "mean_features   = ['enc_cat_id_mean','enc_cat_id_std',\n",
    "                   'enc_dept_id_mean','enc_dept_id_std',\n",
    "                   'enc_item_id_mean','enc_item_id_std'] \n",
    "\n",
    "#PATHS for Features\n",
    "ORIGINAL = '../../input_update/m5-forecasting-accuracy/'\n",
    "BASE     = './grid_part_1_update.pkl'\n",
    "PRICE    = './grid_part_2_update.pkl'\n",
    "CALENDAR = './grid_part_3_update.pkl'\n",
    "LAGS     = './lags_df_28_update_base.pkl'\n",
    "MEAN_ENC = './mean_encoding_df_update.pkl'\n",
    "\n",
    "EVALUATION = './sales_train_evaluation.csv'\n",
    "CALENDAR_CSV = '../data/calendar.csv'\n",
    "PRICE_CSV    = '../data/sell_prices.csv'\n",
    "SAMPLE_CSV   = '../data/sample_submission.csv'\n",
    "\n",
    "\n",
    "VALIDATION_START_1 = 1830+28\n",
    "VALIDATION_END_1   = 1857+28\n",
    "VALIDATION_START_2 = 1858+28\n",
    "VALIDATION_END_2   = 1885+28\n",
    "VALIDATION_START_3 = 1886+28\n",
    "VALIDATION_END_3   = 1913+28\n",
    "\n",
    "remove_features = ['id','state_id','store_id',\n",
    "                   'date','wm_yr_wk','d',TARGET]\n",
    "mean_features   = ['enc_cat_id_mean','enc_cat_id_std',\n",
    "                   'enc_dept_id_mean','enc_dept_id_std',\n",
    "                   'enc_item_id_mean','enc_item_id_std'] "
   ]
  },
  {
   "cell_type": "code",
   "execution_count": 4,
   "metadata": {},
   "outputs": [],
   "source": [
    "lgb_params = {\n",
    "                    'boosting_type': 'gbdt',\n",
    "                    'objective': 'poisson',\n",
    "                    'tweedie_variance_power': 1.1,\n",
    "                    'metric': 'rmse',\n",
    "                    'subsample': 0.5,\n",
    "                    'subsample_freq': 1,\n",
    "                    'learning_rate': 0.03,\n",
    "                    'num_leaves': 2**11-1,\n",
    "                    'min_data_in_leaf': 2**12-1,\n",
    "                    'feature_fraction': 0.5,\n",
    "                    'max_bin': 100,\n",
    "                    'n_estimators': 3000,\n",
    "                    'boost_from_average': False,\n",
    "                    'verbose': -1,\n",
    "                } "
   ]
  },
  {
   "cell_type": "code",
   "execution_count": 5,
   "metadata": {},
   "outputs": [],
   "source": [
    "SPLIT_LIST = [[VALIDATION_START_1, VALIDATION_END_1],\n",
    "              [VALIDATION_START_2, VALIDATION_END_2],\n",
    "              [VALIDATION_START_3, VALIDATION_END_3]]"
   ]
  },
  {
   "cell_type": "code",
   "execution_count": 6,
   "metadata": {},
   "outputs": [
    {
     "data": {
      "text/plain": [
       "[[1858, 1885], [1886, 1913], [1914, 1941]]"
      ]
     },
     "execution_count": 6,
     "metadata": {},
     "output_type": "execute_result"
    }
   ],
   "source": [
    "SPLIT_LIST"
   ]
  },
  {
   "cell_type": "markdown",
   "metadata": {},
   "source": [
    "## 学習用関数定義"
   ]
  },
  {
   "cell_type": "code",
   "execution_count": 7,
   "metadata": {},
   "outputs": [],
   "source": [
    "def get_data_by_store(store):\n",
    "    \"\"\"\n",
    "    store_idを指定して、必要なデータフレームを取得する\n",
    "    \"\"\"\n",
    "    \n",
    "    # 3つのcsvファイルを読み込んで結合する\n",
    "    df = pd.concat([pd.read_pickle(BASE),\n",
    "                    pd.read_pickle(PRICE).iloc[:,2:],\n",
    "                    pd.read_pickle(CALENDAR).iloc[:,2:]],\n",
    "                    axis=1)\n",
    "    \n",
    "    # store_id(店のID)で絞り込み\n",
    "    # df = df[df['store_id']==store]\n",
    "    \n",
    "    # 平均エンコードした特徴\n",
    "    df2 = pd.read_pickle(MEAN_ENC)[mean_features]\n",
    "    df2 = df2[df2.index.isin(df.index)]\n",
    "    \n",
    "    # ラグ変数\n",
    "    df3 = pd.read_pickle(LAGS).iloc[:,3:]\n",
    "    df3 = df3[df3.index.isin(df.index)]\n",
    "    \n",
    "    df = pd.concat([df, df2], axis=1)\n",
    "    del df2 \n",
    "    \n",
    "    df = pd.concat([df, df3], axis=1)\n",
    "    del df3 \n",
    "    \n",
    "    df = make_sell_price_state(df)\n",
    "    \n",
    "    # ローリング特徴の削除\n",
    "    delete_columns = ['rolling_mean_tmp_1_7', 'rolling_mean_tmp_1_14',\n",
    "        'rolling_mean_tmp_1_30', 'rolling_mean_tmp_1_60',\n",
    "        'rolling_mean_tmp_7_7', 'rolling_mean_tmp_7_14',\n",
    "        'rolling_mean_tmp_7_30', 'rolling_mean_tmp_7_60',\n",
    "        'rolling_mean_tmp_14_7', 'rolling_mean_tmp_14_14',\n",
    "        'rolling_mean_tmp_14_30', 'rolling_mean_tmp_14_60']\n",
    "    \n",
    "    df = df.drop(delete_columns, axis=1)\n",
    "    \n",
    "    # 特徴リストの生成\n",
    "    features = [col for col in list(df) if col not in remove_features]\n",
    "    df = df[['id','d',TARGET]+features]\n",
    "    \n",
    "    # START_TRAINの値を元に、前半のデータを取り除く\n",
    "    df = df[df['d']>=START_TRAIN].reset_index(drop=True)\n",
    "    \n",
    "    return df, features\n",
    "\n",
    "\n",
    "def make_sell_price_state(df):\n",
    "    calendar_df = pd.read_csv(CALENDAR_CSV)\n",
    "    calendar_df[\"d\"] = calendar_df[\"d\"].apply(lambda x: x[2:]).astype(np.int16)\n",
    "    df = df.merge(calendar_df[[\"d\", \"wm_yr_wk\"]], how=\"left\", on=\"d\")\n",
    "    del calendar_df\n",
    "    \n",
    "    prices_df = pd.read_csv(os.path.join(PRICE_CSV))\n",
    "    prices_df[\"sell_price_raw\"] = prices_df[\"sell_price\"].copy()\n",
    "    prices_df.drop(\"sell_price\", axis=1, inplace=True)\n",
    "    \n",
    "    df = df.merge(prices_df, how=\"left\", on=[\"store_id\", \"item_id\", \"wm_yr_wk\"])\n",
    "    df[\"sell_price_state\"] = df[\"sell_price_raw\"].astype(str).apply(lambda x: x[-1])\n",
    "    df[\"sell_price_state\"] = df[\"sell_price_state\"].astype('category')\n",
    "    df.drop(\"sell_price_raw\", axis=1, inplace=True)\n",
    "    df.drop(\"wm_yr_wk\", axis=1, inplace=True)\n",
    "    del prices_df\n",
    "    \n",
    "    df[\"store_id\"] = df[\"store_id\"].astype('category')\n",
    "    df[\"item_id\"] = df[\"item_id\"].astype('category')\n",
    "    \n",
    "    return df"
   ]
  },
  {
   "cell_type": "code",
   "execution_count": 8,
   "metadata": {},
   "outputs": [],
   "source": [
    "def get_separate_data(grid_df, feature_columns, val_start, val_end):\n",
    "    \n",
    "    train_mask = ((grid_df['d']>=START_TRAIN) & (grid_df['d']<=val_start-1)) \n",
    "    valid_mask = ((grid_df['d']>val_start-1) & (grid_df[\"d\"]<=val_end))\n",
    "    \n",
    "    df_train = grid_df[train_mask][feature_columns]\n",
    "    df_valid = grid_df[valid_mask][feature_columns]\n",
    "    # train_data = lgb.Dataset(df_train, label=grid_df[train_mask][TARGET],weight=grid_df[train_mask][\"w_mean\"])\n",
    "    # valid_data = lgb.Dataset(df_valid, label=grid_df[valid_mask][TARGET],weight=grid_df[valid_mask][\"w_mean\"])\n",
    "    train_data = lgb.Dataset(df_train, label=grid_df[train_mask][TARGET])\n",
    "    valid_data = lgb.Dataset(df_valid, label=grid_df[valid_mask][TARGET])\n",
    "    print(df_train.shape)\n",
    "    print(df_valid.shape)\n",
    "    \n",
    "    return train_data, valid_data"
   ]
  },
  {
   "cell_type": "code",
   "execution_count": 9,
   "metadata": {},
   "outputs": [],
   "source": [
    "def save_checkpoint(store_id, VER, period=100):\n",
    "    def _callback(env):\n",
    "        if period > 0 and env.iteration > 0 and env.iteration % period == 0:\n",
    "            model_name = 'lgb_model_' + str(store_id) + '_v' + str(VER) + '_' + str(env.iteration) +  '.bin'\n",
    "            print(\"saving model {} ...\".format(model_name))\n",
    "            pickle.dump(env.model, open(model_name, 'wb'))\n",
    "            print(\"model save completed!\")\n",
    "    return _callback"
   ]
  },
  {
   "cell_type": "code",
   "execution_count": 10,
   "metadata": {},
   "outputs": [],
   "source": [
    "def sum_weight(x):\n",
    "    sum_w = 1/12\n",
    "    for i in range(2, 13):\n",
    "        # sum_w += x[\"w_Level_\"+str(i)]/12\n",
    "        sum_w += x[\"w_Level_\"+str(i)]\n",
    "    return sum_w"
   ]
  },
  {
   "cell_type": "markdown",
   "metadata": {},
   "source": [
    "## 値段の状態を保存する"
   ]
  },
  {
   "cell_type": "code",
   "execution_count": 11,
   "metadata": {},
   "outputs": [],
   "source": [
    "www, f = get_data_by_store(\"CA_1\")"
   ]
  },
  {
   "cell_type": "code",
   "execution_count": 12,
   "metadata": {},
   "outputs": [],
   "source": [
    "www = www[[\"id\", \"d\", \"sell_price_state\"]]"
   ]
  },
  {
   "cell_type": "code",
   "execution_count": 14,
   "metadata": {},
   "outputs": [
    {
     "data": {
      "text/plain": [
       "(47735397, 3)"
      ]
     },
     "execution_count": 14,
     "metadata": {},
     "output_type": "execute_result"
    }
   ],
   "source": [
    "www.shape"
   ]
  },
  {
   "cell_type": "code",
   "execution_count": 14,
   "metadata": {},
   "outputs": [],
   "source": [
    "www.to_pickle(\"sell_price_state.pkl\")"
   ]
  },
  {
   "cell_type": "code",
   "execution_count": 15,
   "metadata": {},
   "outputs": [
    {
     "data": {
      "text/plain": [
       "(47735397, 3)"
      ]
     },
     "execution_count": 15,
     "metadata": {},
     "output_type": "execute_result"
    }
   ],
   "source": [
    "www.shape"
   ]
  },
  {
   "cell_type": "code",
   "execution_count": 15,
   "metadata": {},
   "outputs": [
    {
     "data": {
      "text/html": [
       "<div>\n",
       "<style scoped>\n",
       "    .dataframe tbody tr th:only-of-type {\n",
       "        vertical-align: middle;\n",
       "    }\n",
       "\n",
       "    .dataframe tbody tr th {\n",
       "        vertical-align: top;\n",
       "    }\n",
       "\n",
       "    .dataframe thead th {\n",
       "        text-align: right;\n",
       "    }\n",
       "</style>\n",
       "<table border=\"1\" class=\"dataframe\">\n",
       "  <thead>\n",
       "    <tr style=\"text-align: right;\">\n",
       "      <th></th>\n",
       "      <th>id</th>\n",
       "      <th>d</th>\n",
       "      <th>sell_price_state</th>\n",
       "    </tr>\n",
       "  </thead>\n",
       "  <tbody>\n",
       "    <tr>\n",
       "      <th>47735392</th>\n",
       "      <td>FOODS_3_823_WI_3_evaluation</td>\n",
       "      <td>1969</td>\n",
       "      <td>8</td>\n",
       "    </tr>\n",
       "    <tr>\n",
       "      <th>47735393</th>\n",
       "      <td>FOODS_3_824_WI_3_evaluation</td>\n",
       "      <td>1969</td>\n",
       "      <td>8</td>\n",
       "    </tr>\n",
       "    <tr>\n",
       "      <th>47735394</th>\n",
       "      <td>FOODS_3_825_WI_3_evaluation</td>\n",
       "      <td>1969</td>\n",
       "      <td>8</td>\n",
       "    </tr>\n",
       "    <tr>\n",
       "      <th>47735395</th>\n",
       "      <td>FOODS_3_826_WI_3_evaluation</td>\n",
       "      <td>1969</td>\n",
       "      <td>8</td>\n",
       "    </tr>\n",
       "    <tr>\n",
       "      <th>47735396</th>\n",
       "      <td>FOODS_3_827_WI_3_evaluation</td>\n",
       "      <td>1969</td>\n",
       "      <td>0</td>\n",
       "    </tr>\n",
       "  </tbody>\n",
       "</table>\n",
       "</div>"
      ],
      "text/plain": [
       "                                   id     d sell_price_state\n",
       "47735392  FOODS_3_823_WI_3_evaluation  1969                8\n",
       "47735393  FOODS_3_824_WI_3_evaluation  1969                8\n",
       "47735394  FOODS_3_825_WI_3_evaluation  1969                8\n",
       "47735395  FOODS_3_826_WI_3_evaluation  1969                8\n",
       "47735396  FOODS_3_827_WI_3_evaluation  1969                0"
      ]
     },
     "execution_count": 15,
     "metadata": {},
     "output_type": "execute_result"
    }
   ],
   "source": [
    "www.tail()"
   ]
  }
 ],
 "metadata": {
  "kernelspec": {
   "display_name": "Python 3",
   "language": "python",
   "name": "python3"
  },
  "language_info": {
   "codemirror_mode": {
    "name": "ipython",
    "version": 3
   },
   "file_extension": ".py",
   "mimetype": "text/x-python",
   "name": "python",
   "nbconvert_exporter": "python",
   "pygments_lexer": "ipython3",
   "version": "3.6.8"
  }
 },
 "nbformat": 4,
 "nbformat_minor": 4
}

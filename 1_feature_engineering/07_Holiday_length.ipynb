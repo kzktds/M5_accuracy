{
 "cells": [
  {
   "cell_type": "markdown",
   "metadata": {},
   "source": [
    "## ライブラリ読み込み"
   ]
  },
  {
   "cell_type": "code",
   "execution_count": 1,
   "metadata": {
    "_cell_guid": "b1076dfc-b9ad-4769-8c92-a6c4dae69d19",
    "_uuid": "8f2839f25d086af736a60e9eeb907d3b93b6e0e5"
   },
   "outputs": [],
   "source": [
    "import numpy as np\n",
    "import pandas as pd\n",
    "import lightgbm as lgb\n",
    "import os, sys, gc, time, warnings, pickle, psutil, random\n",
    "from sklearn.metrics import mean_squared_error\n",
    "from scipy.sparse import csr_matrix\n",
    "from multiprocessing import Pool\n",
    "\n",
    "warnings.filterwarnings('ignore')"
   ]
  },
  {
   "cell_type": "code",
   "execution_count": 2,
   "metadata": {},
   "outputs": [],
   "source": [
    "from workalendar.usa import California\n",
    "from workalendar.usa import Texas\n",
    "from workalendar.usa import Wisconsin\n",
    "from  datetime import datetime, timedelta\n",
    "from datetime import date"
   ]
  },
  {
   "cell_type": "markdown",
   "metadata": {},
   "source": [
    "## 各種パラメータ設定"
   ]
  },
  {
   "cell_type": "code",
   "execution_count": 3,
   "metadata": {},
   "outputs": [],
   "source": [
    "def seed_everything(seed=0):\n",
    "    random.seed(seed)\n",
    "    np.random.seed(seed)"
   ]
  },
  {
   "cell_type": "code",
   "execution_count": 4,
   "metadata": {},
   "outputs": [],
   "source": [
    "########################### Vars\n",
    "#################################################################################\n",
    "VER = 207                        # Or model version\n",
    "SEED = 1224                      # We want all things\n",
    "seed_everything(SEED)            # to be as deterministic \n",
    "N_CORES = psutil.cpu_count()     # Available CPU cores\n",
    "\n",
    "\n",
    "#LIMITS and const\n",
    "TARGET      = 'sales'            # Our target\n",
    "START_TRAIN = 0                  # We can skip some rows (Nans/faster training)\n",
    "END_TRAIN   = 1913+28            # End day of our train set\n",
    "P_HORIZON   = 28                 # Prediction horizon\n",
    "USE_AUX     = False              # Use or not pretrained models <- 一旦Falseに変えてます\n",
    "\n",
    "# FEATURES to remove\n",
    "## These features lead to overfit\n",
    "## or values not present in test set\n",
    "remove_features = ['id','state_id','store_id',\n",
    "                   'date','wm_yr_wk','d',TARGET]\n",
    "mean_features   = ['enc_cat_id_mean','enc_cat_id_std',\n",
    "                   'enc_dept_id_mean','enc_dept_id_std',\n",
    "                   'enc_item_id_mean','enc_item_id_std'] \n",
    "\n",
    "#PATHS for Features\n",
    "ORIGINAL = '../data/'\n",
    "BASE     = './grid_part_1_update.pkl'\n",
    "PRICE    = './grid_part_2_update.pkl'\n",
    "CALENDAR = './grid_part_3_update.pkl'\n",
    "LAGS     = './lags_df_28_update_base.pkl'\n",
    "MEAN_ENC = './mean_encoding_df_update.pkl'\n",
    "\n",
    "EVALUATION = './sales_train_evaluation.csv'\n",
    "CALENDAR_CSV = '../data/calendar.csv'\n",
    "PRICE_CSV    = '../data/sell_prices.csv'\n",
    "SAMPLE_CSV   = '../data/sample_submission.csv'\n",
    "\n",
    "\n",
    "VALIDATION_START_1 = 1830+28\n",
    "VALIDATION_END_1   = 1857+28\n",
    "VALIDATION_START_2 = 1858+28\n",
    "VALIDATION_END_2   = 1885+28\n",
    "VALIDATION_START_3 = 1886+28\n",
    "VALIDATION_END_3   = 1913+28\n",
    "\n",
    "remove_features = ['id','state_id','store_id',\n",
    "                   'date','wm_yr_wk','d',TARGET]\n",
    "mean_features   = ['enc_cat_id_mean','enc_cat_id_std',\n",
    "                   'enc_dept_id_mean','enc_dept_id_std',\n",
    "                   'enc_item_id_mean','enc_item_id_std'] "
   ]
  },
  {
   "cell_type": "code",
   "execution_count": 5,
   "metadata": {},
   "outputs": [],
   "source": [
    "lgb_params = {\n",
    "                    'boosting_type': 'gbdt',\n",
    "                    'objective': 'poisson',\n",
    "                    'tweedie_variance_power': 1.1,\n",
    "                    'metric': 'rmse',\n",
    "                    'subsample': 0.5,\n",
    "                    'subsample_freq': 1,\n",
    "                    'learning_rate': 0.03,\n",
    "                    'num_leaves': 2**11-1,\n",
    "                    'min_data_in_leaf': 2**12-1,\n",
    "                    'feature_fraction': 0.5,\n",
    "                    'max_bin': 100,\n",
    "                    'n_estimators': 3000,\n",
    "                    'boost_from_average': False,\n",
    "                    'verbose': -1,\n",
    "                } "
   ]
  },
  {
   "cell_type": "code",
   "execution_count": 6,
   "metadata": {},
   "outputs": [],
   "source": [
    "SPLIT_LIST = [[VALIDATION_START_1, VALIDATION_END_1],\n",
    "              [VALIDATION_START_2, VALIDATION_END_2],\n",
    "              [VALIDATION_START_3, VALIDATION_END_3]]"
   ]
  },
  {
   "cell_type": "code",
   "execution_count": 7,
   "metadata": {},
   "outputs": [
    {
     "data": {
      "text/plain": [
       "[[1858, 1885], [1886, 1913], [1914, 1941]]"
      ]
     },
     "execution_count": 7,
     "metadata": {},
     "output_type": "execute_result"
    }
   ],
   "source": [
    "SPLIT_LIST"
   ]
  },
  {
   "cell_type": "markdown",
   "metadata": {},
   "source": [
    "## 休日系の情報を取得するための関数を定義"
   ]
  },
  {
   "cell_type": "code",
   "execution_count": 8,
   "metadata": {},
   "outputs": [],
   "source": [
    "def get_working_day(year, month, day, store):\n",
    "    if store in [\"CA_1\", \"CA_2\", \"CA_3\", \"CA_4\"]:\n",
    "        return 1 if California().is_working_day(date(year+2011, month, day)) else 0\n",
    "    elif store in [\"TX_1\", \"TX_2\", \"TX_3\"]:\n",
    "        return 1 if Texas().is_working_day(date(year+2011, month, day)) else 0\n",
    "    elif store in [\"WI_1\", \"WI_2\", \"WI_3\"]:\n",
    "        return 1 if Wisconsin().is_working_day(date(year+2011, month, day)) else 0\n",
    "    else:\n",
    "        return 0"
   ]
  },
  {
   "cell_type": "code",
   "execution_count": 9,
   "metadata": {},
   "outputs": [],
   "source": [
    "def get_holiday(year, month, day, store):\n",
    "    if store in [\"CA_1\", \"CA_2\", \"CA_3\", \"CA_4\"]:\n",
    "        return 1 if California().is_holiday(date(year+2011, month, day)) else 0\n",
    "    elif store in [\"TX_1\", \"TX_2\", \"TX_3\"]:\n",
    "        return 1 if Texas().is_holiday(date(year+2011, month, day)) else 0\n",
    "    elif store in [\"WI_1\", \"WI_2\", \"WI_3\"]:\n",
    "        return 1 if Wisconsin().is_holiday(date(year+2011, month, day)) else 0\n",
    "    else:\n",
    "        return 0"
   ]
  },
  {
   "cell_type": "code",
   "execution_count": 10,
   "metadata": {},
   "outputs": [],
   "source": [
    "def get_holiday_length(tmp_XX):\n",
    "    holiday_length = [] \n",
    "    stock = 0\n",
    "    holiday_continue_count = 0\n",
    "\n",
    "    working_list = tmp_XX[\"is_workingday\"].to_list()\n",
    "\n",
    "    for j in range(len(working_list)):\n",
    "\n",
    "        # 勤労日が来た場合の挙動\n",
    "        if working_list[j] == 1:\n",
    "            if stock > 0:\n",
    "                for k in range(stock):\n",
    "                    holiday_length.append(holiday_continue_count)\n",
    "                stock = 0\n",
    "                holiday_continue_count = 0\n",
    "                holiday_length.append(0)\n",
    "            else:\n",
    "                holiday_length.append(0)\n",
    "        elif working_list[j] == 0:\n",
    "            stock += 1\n",
    "            holiday_continue_count += 1\n",
    "            if j == len(working_list)-1:\n",
    "                for k in range(stock):\n",
    "                    holiday_length.append(holiday_continue_count)\n",
    "\n",
    "    return holiday_length"
   ]
  },
  {
   "cell_type": "code",
   "execution_count": 15,
   "metadata": {},
   "outputs": [],
   "source": [
    "ccc = pd.read_pickle(CALENDAR)"
   ]
  },
  {
   "cell_type": "code",
   "execution_count": 16,
   "metadata": {},
   "outputs": [],
   "source": [
    "tmp = ccc.drop_duplicates(subset=[\"tm_y\", \"tm_m\", \"tm_d\"])\n",
    "years  = tmp[\"tm_y\"].to_list()\n",
    "months = tmp[\"tm_m\"].to_list()\n",
    "days   = tmp[\"tm_d\"].to_list()"
   ]
  },
  {
   "cell_type": "code",
   "execution_count": 17,
   "metadata": {},
   "outputs": [],
   "source": [
    "CA_workingdays = []\n",
    "TX_workingdays = []\n",
    "WI_workingdays = []\n",
    "for i in range(len(years)):\n",
    "    CA_workingdays.append(get_working_day(years[i], months[i], days[i], \"CA_1\"))\n",
    "    TX_workingdays.append(get_working_day(years[i], months[i], days[i], \"TX_1\"))\n",
    "    WI_workingdays.append(get_working_day(years[i], months[i], days[i], \"WI_1\"))"
   ]
  },
  {
   "cell_type": "code",
   "execution_count": 18,
   "metadata": {},
   "outputs": [],
   "source": [
    "CA_holidays = []\n",
    "TX_holidays = []\n",
    "WI_holidays = []\n",
    "for i in range(len(years)):\n",
    "    CA_holidays.append(get_holiday(years[i], months[i], days[i], \"CA_1\"))\n",
    "    TX_holidays.append(get_holiday(years[i], months[i], days[i], \"TX_1\"))\n",
    "    WI_holidays.append(get_holiday(years[i], months[i], days[i], \"WI_1\"))"
   ]
  },
  {
   "cell_type": "code",
   "execution_count": 19,
   "metadata": {},
   "outputs": [],
   "source": [
    "tmp_CA = tmp.copy()\n",
    "tmp_CA[\"state_id\"] = \"CA\"\n",
    "tmp_CA[\"is_workingday\"] = CA_workingdays\n",
    "tmp_CA[\"is_holiday\"] = CA_holidays\n",
    "tmp_CA[\"holiday_length\"] = get_holiday_length(tmp_CA)"
   ]
  },
  {
   "cell_type": "code",
   "execution_count": 20,
   "metadata": {},
   "outputs": [],
   "source": [
    "tmp_TX = tmp.copy()\n",
    "tmp_TX[\"state_id\"] = \"TX\"\n",
    "tmp_TX[\"is_workingday\"] = TX_workingdays\n",
    "tmp_TX[\"is_holiday\"] = TX_holidays\n",
    "tmp_TX[\"holiday_length\"] = get_holiday_length(tmp_TX)"
   ]
  },
  {
   "cell_type": "code",
   "execution_count": 21,
   "metadata": {},
   "outputs": [],
   "source": [
    "tmp_WI = tmp.copy()\n",
    "tmp_WI[\"state_id\"] = \"WI\"\n",
    "tmp_WI[\"is_workingday\"] = WI_workingdays\n",
    "tmp_WI[\"is_holiday\"] = WI_holidays\n",
    "tmp_WI[\"holiday_length\"] = get_holiday_length(tmp_WI)"
   ]
  },
  {
   "cell_type": "code",
   "execution_count": 22,
   "metadata": {},
   "outputs": [],
   "source": [
    "tmp_CA[\"d\"] = tmp_CA.apply(lambda x: int(x[\"d\"][2:]), axis=1)\n",
    "tmp_TX[\"d\"] = tmp_TX.apply(lambda x: int(x[\"d\"][2:]), axis=1)\n",
    "tmp_WI[\"d\"] = tmp_WI.apply(lambda x: int(x[\"d\"][2:]), axis=1)"
   ]
  },
  {
   "cell_type": "code",
   "execution_count": 23,
   "metadata": {},
   "outputs": [],
   "source": [
    "tmp = pd.concat([tmp_CA, tmp_TX, tmp_WI])"
   ]
  },
  {
   "cell_type": "code",
   "execution_count": 24,
   "metadata": {},
   "outputs": [
    {
     "data": {
      "text/plain": [
       "(5907, 20)"
      ]
     },
     "execution_count": 24,
     "metadata": {},
     "output_type": "execute_result"
    }
   ],
   "source": [
    "tmp.shape"
   ]
  },
  {
   "cell_type": "code",
   "execution_count": 25,
   "metadata": {},
   "outputs": [],
   "source": [
    "for_merge = tmp[[\"d\", \"state_id\", \"is_workingday\", \"is_holiday\", \"holiday_length\"]]"
   ]
  },
  {
   "cell_type": "code",
   "execution_count": 26,
   "metadata": {},
   "outputs": [
    {
     "data": {
      "text/html": [
       "<div>\n",
       "<style scoped>\n",
       "    .dataframe tbody tr th:only-of-type {\n",
       "        vertical-align: middle;\n",
       "    }\n",
       "\n",
       "    .dataframe tbody tr th {\n",
       "        vertical-align: top;\n",
       "    }\n",
       "\n",
       "    .dataframe thead th {\n",
       "        text-align: right;\n",
       "    }\n",
       "</style>\n",
       "<table border=\"1\" class=\"dataframe\">\n",
       "  <thead>\n",
       "    <tr style=\"text-align: right;\">\n",
       "      <th></th>\n",
       "      <th>d</th>\n",
       "      <th>state_id</th>\n",
       "      <th>is_workingday</th>\n",
       "      <th>is_holiday</th>\n",
       "      <th>holiday_length</th>\n",
       "    </tr>\n",
       "  </thead>\n",
       "  <tbody>\n",
       "    <tr>\n",
       "      <th>0</th>\n",
       "      <td>1</td>\n",
       "      <td>CA</td>\n",
       "      <td>0</td>\n",
       "      <td>0</td>\n",
       "      <td>2</td>\n",
       "    </tr>\n",
       "    <tr>\n",
       "      <th>10932</th>\n",
       "      <td>2</td>\n",
       "      <td>CA</td>\n",
       "      <td>0</td>\n",
       "      <td>0</td>\n",
       "      <td>2</td>\n",
       "    </tr>\n",
       "    <tr>\n",
       "      <th>21864</th>\n",
       "      <td>3</td>\n",
       "      <td>CA</td>\n",
       "      <td>1</td>\n",
       "      <td>0</td>\n",
       "      <td>0</td>\n",
       "    </tr>\n",
       "    <tr>\n",
       "      <th>32796</th>\n",
       "      <td>4</td>\n",
       "      <td>CA</td>\n",
       "      <td>1</td>\n",
       "      <td>0</td>\n",
       "      <td>0</td>\n",
       "    </tr>\n",
       "    <tr>\n",
       "      <th>43728</th>\n",
       "      <td>5</td>\n",
       "      <td>CA</td>\n",
       "      <td>1</td>\n",
       "      <td>0</td>\n",
       "      <td>0</td>\n",
       "    </tr>\n",
       "    <tr>\n",
       "      <th>...</th>\n",
       "      <td>...</td>\n",
       "      <td>...</td>\n",
       "      <td>...</td>\n",
       "      <td>...</td>\n",
       "      <td>...</td>\n",
       "    </tr>\n",
       "    <tr>\n",
       "      <th>47582947</th>\n",
       "      <td>1965</td>\n",
       "      <td>WI</td>\n",
       "      <td>1</td>\n",
       "      <td>0</td>\n",
       "      <td>0</td>\n",
       "    </tr>\n",
       "    <tr>\n",
       "      <th>47613437</th>\n",
       "      <td>1966</td>\n",
       "      <td>WI</td>\n",
       "      <td>1</td>\n",
       "      <td>0</td>\n",
       "      <td>0</td>\n",
       "    </tr>\n",
       "    <tr>\n",
       "      <th>47643927</th>\n",
       "      <td>1967</td>\n",
       "      <td>WI</td>\n",
       "      <td>1</td>\n",
       "      <td>0</td>\n",
       "      <td>0</td>\n",
       "    </tr>\n",
       "    <tr>\n",
       "      <th>47674417</th>\n",
       "      <td>1968</td>\n",
       "      <td>WI</td>\n",
       "      <td>0</td>\n",
       "      <td>0</td>\n",
       "      <td>2</td>\n",
       "    </tr>\n",
       "    <tr>\n",
       "      <th>47704907</th>\n",
       "      <td>1969</td>\n",
       "      <td>WI</td>\n",
       "      <td>0</td>\n",
       "      <td>0</td>\n",
       "      <td>2</td>\n",
       "    </tr>\n",
       "  </tbody>\n",
       "</table>\n",
       "<p>5907 rows × 5 columns</p>\n",
       "</div>"
      ],
      "text/plain": [
       "             d state_id  is_workingday  is_holiday  holiday_length\n",
       "0            1       CA              0           0               2\n",
       "10932        2       CA              0           0               2\n",
       "21864        3       CA              1           0               0\n",
       "32796        4       CA              1           0               0\n",
       "43728        5       CA              1           0               0\n",
       "...        ...      ...            ...         ...             ...\n",
       "47582947  1965       WI              1           0               0\n",
       "47613437  1966       WI              1           0               0\n",
       "47643927  1967       WI              1           0               0\n",
       "47674417  1968       WI              0           0               2\n",
       "47704907  1969       WI              0           0               2\n",
       "\n",
       "[5907 rows x 5 columns]"
      ]
     },
     "execution_count": 26,
     "metadata": {},
     "output_type": "execute_result"
    }
   ],
   "source": [
    "for_merge"
   ]
  },
  {
   "cell_type": "code",
   "execution_count": 58,
   "metadata": {},
   "outputs": [],
   "source": [
    "for_merge.to_pickle(\"holiday_workingday_holidayLength.pkl\")"
   ]
  }
 ],
 "metadata": {
  "kernelspec": {
   "display_name": "Python 3",
   "language": "python",
   "name": "python3"
  },
  "language_info": {
   "codemirror_mode": {
    "name": "ipython",
    "version": 3
   },
   "file_extension": ".py",
   "mimetype": "text/x-python",
   "name": "python",
   "nbconvert_exporter": "python",
   "pygments_lexer": "ipython3",
   "version": "3.6.8"
  }
 },
 "nbformat": 4,
 "nbformat_minor": 4
}
